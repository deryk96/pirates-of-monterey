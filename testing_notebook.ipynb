{
 "cells": [
  {
   "cell_type": "markdown",
   "source": [
    "# Notebook for testing different functions and methods."
   ],
   "metadata": {
    "collapsed": false
   },
   "id": "97688ad3726de55a"
  },
  {
   "cell_type": "markdown",
   "source": [
    "### Testing pandas dataframe to see if it will be better than our current object-oriented construct"
   ],
   "metadata": {
    "collapsed": false
   },
   "id": "899672881a220af5"
  },
  {
   "cell_type": "code",
   "outputs": [
    {
     "data": {
      "text/plain": "'/Users/derykclary/Documents/College/NPS/3. Q3/Comp_Methods_2/Final_Project'"
     },
     "execution_count": 2,
     "metadata": {},
     "output_type": "execute_result"
    }
   ],
   "source": [
    "# Made sure you're in the right working directory (parent folder)\n",
    "import os\n",
    "\n",
    "os.getcwd()"
   ],
   "metadata": {
    "collapsed": false,
    "ExecuteTime": {
     "end_time": "2024-02-05T21:27:58.545781Z",
     "start_time": "2024-02-05T21:27:58.536380Z"
    }
   },
   "id": "2fec90665beee92d",
   "execution_count": 2
  },
  {
   "cell_type": "code",
   "outputs": [],
   "source": [
    "import numpy as np\n",
    "import pandas as pd"
   ],
   "metadata": {
    "collapsed": false,
    "ExecuteTime": {
     "end_time": "2024-02-05T21:26:17.190849Z",
     "start_time": "2024-02-05T21:26:16.903859Z"
    }
   },
   "id": "d48c5bbac1194f91",
   "execution_count": 1
  },
  {
   "cell_type": "code",
   "outputs": [
    {
     "data": {
      "text/plain": "     Incident Date      Ship Name            Ship Flag           Ship Type  \\\n0        3/18/2010       AL-ASA'A                Yemen                Dhow   \n1        5/25/2010       AL JAWAT                Yemen                Dhow   \n2        2/13/2011     AL FARDOUS                Yemen      Fishing vessel   \n3        4/16/2011      ABDI KHAN                Yemen      Fishing vessel   \n4        1/14/2012       AL WASIL                Yemen                Dhow   \n...            ...            ...                  ...                 ...   \n4809    12/30/2009      GULF ELAN              Bahamas     Chemical tanker   \n4810     11/7/2008     CEC FUTURE              Bahamas  General cargo ship   \n4811     2/13/2006    ASPEN ARROW              Bahamas  General cargo ship   \n4812    10/24/2009        ELLEN S  Antigua and Barbuda      Container ship   \n4813      6/5/2006  PRINCESS MARY  Antigua and Barbuda  General cargo ship   \n\n                         Area   Latitude   Longitude  \\\n0     In international waters        NaN         NaN   \n1     In international waters        NaN         NaN   \n2       In territorial waters        NaN         NaN   \n3     In international waters  11.900000   54.083333   \n4     In international waters        NaN         NaN   \n...                       ...        ...         ...   \n4809             In port area  22.690000  113.696667   \n4810  In international waters  12.766667   45.933333   \n4811             In port area        NaN         NaN   \n4812    In territorial waters  20.641667  106.880000   \n4813             In port area  -5.888000  106.088167   \n\n                 Consequences to Crew Part of Ship Raided Ship Status  \\\n0                       Ship Hijacked          Not Stated  Not Stated   \n1                       Ship Hijacked          Not Stated    Steaming   \n2                       Ship Hijacked          Not Stated    Steaming   \n3                       Ship Hijacked          Not Stated    Steaming   \n4                       Ship Hijacked          Not Stated    Steaming   \n...                               ...                 ...         ...   \n4809    No Consequences or Not Stated         Engine Room   At Anchor   \n4810                    Ship Hijacked         Engine Room    Steaming   \n4811    No Consequences or Not Stated         Engine Room   At Anchor   \n4812                     Not Reported         Engine Room   At Anchor   \n4813  Threat of Violence Against Crew         Engine Room   At Anchor   \n\n              Weapons Used  Flag - Crew Injuries  Flag - Crew Held Hostage  \\\n0     None or Not Reported                 False                      True   \n1     None or Not Reported                 False                     False   \n2     None or Not Reported                 False                     False   \n3     None or Not Reported                 False                      True   \n4     None or Not Reported                 False                      True   \n...                    ...                   ...                       ...   \n4809  None or Not Reported                 False                     False   \n4810  None or Not Reported                 False                      True   \n4811  None or Not Reported                 False                     False   \n4812  None or Not Reported                 False                     False   \n4813                Knives                 False                     False   \n\n      Flag - Crew Missing  Flag - Crew Deaths  Flag - Crew Assaulted  \n0                   False               False                  False  \n1                   False               False                  False  \n2                   False               False                  False  \n3                   False               False                  False  \n4                   False               False                  False  \n...                   ...                 ...                    ...  \n4809                False               False                  False  \n4810                False               False                  False  \n4811                False               False                  False  \n4812                False               False                  False  \n4813                False               False                  False  \n\n[4814 rows x 16 columns]",
      "text/html": "<div>\n<style scoped>\n    .dataframe tbody tr th:only-of-type {\n        vertical-align: middle;\n    }\n\n    .dataframe tbody tr th {\n        vertical-align: top;\n    }\n\n    .dataframe thead th {\n        text-align: right;\n    }\n</style>\n<table border=\"1\" class=\"dataframe\">\n  <thead>\n    <tr style=\"text-align: right;\">\n      <th></th>\n      <th>Incident Date</th>\n      <th>Ship Name</th>\n      <th>Ship Flag</th>\n      <th>Ship Type</th>\n      <th>Area</th>\n      <th>Latitude</th>\n      <th>Longitude</th>\n      <th>Consequences to Crew</th>\n      <th>Part of Ship Raided</th>\n      <th>Ship Status</th>\n      <th>Weapons Used</th>\n      <th>Flag - Crew Injuries</th>\n      <th>Flag - Crew Held Hostage</th>\n      <th>Flag - Crew Missing</th>\n      <th>Flag - Crew Deaths</th>\n      <th>Flag - Crew Assaulted</th>\n    </tr>\n  </thead>\n  <tbody>\n    <tr>\n      <th>0</th>\n      <td>3/18/2010</td>\n      <td>AL-ASA'A</td>\n      <td>Yemen</td>\n      <td>Dhow</td>\n      <td>In international waters</td>\n      <td>NaN</td>\n      <td>NaN</td>\n      <td>Ship Hijacked</td>\n      <td>Not Stated</td>\n      <td>Not Stated</td>\n      <td>None or Not Reported</td>\n      <td>False</td>\n      <td>True</td>\n      <td>False</td>\n      <td>False</td>\n      <td>False</td>\n    </tr>\n    <tr>\n      <th>1</th>\n      <td>5/25/2010</td>\n      <td>AL JAWAT</td>\n      <td>Yemen</td>\n      <td>Dhow</td>\n      <td>In international waters</td>\n      <td>NaN</td>\n      <td>NaN</td>\n      <td>Ship Hijacked</td>\n      <td>Not Stated</td>\n      <td>Steaming</td>\n      <td>None or Not Reported</td>\n      <td>False</td>\n      <td>False</td>\n      <td>False</td>\n      <td>False</td>\n      <td>False</td>\n    </tr>\n    <tr>\n      <th>2</th>\n      <td>2/13/2011</td>\n      <td>AL FARDOUS</td>\n      <td>Yemen</td>\n      <td>Fishing vessel</td>\n      <td>In territorial waters</td>\n      <td>NaN</td>\n      <td>NaN</td>\n      <td>Ship Hijacked</td>\n      <td>Not Stated</td>\n      <td>Steaming</td>\n      <td>None or Not Reported</td>\n      <td>False</td>\n      <td>False</td>\n      <td>False</td>\n      <td>False</td>\n      <td>False</td>\n    </tr>\n    <tr>\n      <th>3</th>\n      <td>4/16/2011</td>\n      <td>ABDI KHAN</td>\n      <td>Yemen</td>\n      <td>Fishing vessel</td>\n      <td>In international waters</td>\n      <td>11.900000</td>\n      <td>54.083333</td>\n      <td>Ship Hijacked</td>\n      <td>Not Stated</td>\n      <td>Steaming</td>\n      <td>None or Not Reported</td>\n      <td>False</td>\n      <td>True</td>\n      <td>False</td>\n      <td>False</td>\n      <td>False</td>\n    </tr>\n    <tr>\n      <th>4</th>\n      <td>1/14/2012</td>\n      <td>AL WASIL</td>\n      <td>Yemen</td>\n      <td>Dhow</td>\n      <td>In international waters</td>\n      <td>NaN</td>\n      <td>NaN</td>\n      <td>Ship Hijacked</td>\n      <td>Not Stated</td>\n      <td>Steaming</td>\n      <td>None or Not Reported</td>\n      <td>False</td>\n      <td>True</td>\n      <td>False</td>\n      <td>False</td>\n      <td>False</td>\n    </tr>\n    <tr>\n      <th>...</th>\n      <td>...</td>\n      <td>...</td>\n      <td>...</td>\n      <td>...</td>\n      <td>...</td>\n      <td>...</td>\n      <td>...</td>\n      <td>...</td>\n      <td>...</td>\n      <td>...</td>\n      <td>...</td>\n      <td>...</td>\n      <td>...</td>\n      <td>...</td>\n      <td>...</td>\n      <td>...</td>\n    </tr>\n    <tr>\n      <th>4809</th>\n      <td>12/30/2009</td>\n      <td>GULF ELAN</td>\n      <td>Bahamas</td>\n      <td>Chemical tanker</td>\n      <td>In port area</td>\n      <td>22.690000</td>\n      <td>113.696667</td>\n      <td>No Consequences or Not Stated</td>\n      <td>Engine Room</td>\n      <td>At Anchor</td>\n      <td>None or Not Reported</td>\n      <td>False</td>\n      <td>False</td>\n      <td>False</td>\n      <td>False</td>\n      <td>False</td>\n    </tr>\n    <tr>\n      <th>4810</th>\n      <td>11/7/2008</td>\n      <td>CEC FUTURE</td>\n      <td>Bahamas</td>\n      <td>General cargo ship</td>\n      <td>In international waters</td>\n      <td>12.766667</td>\n      <td>45.933333</td>\n      <td>Ship Hijacked</td>\n      <td>Engine Room</td>\n      <td>Steaming</td>\n      <td>None or Not Reported</td>\n      <td>False</td>\n      <td>True</td>\n      <td>False</td>\n      <td>False</td>\n      <td>False</td>\n    </tr>\n    <tr>\n      <th>4811</th>\n      <td>2/13/2006</td>\n      <td>ASPEN ARROW</td>\n      <td>Bahamas</td>\n      <td>General cargo ship</td>\n      <td>In port area</td>\n      <td>NaN</td>\n      <td>NaN</td>\n      <td>No Consequences or Not Stated</td>\n      <td>Engine Room</td>\n      <td>At Anchor</td>\n      <td>None or Not Reported</td>\n      <td>False</td>\n      <td>False</td>\n      <td>False</td>\n      <td>False</td>\n      <td>False</td>\n    </tr>\n    <tr>\n      <th>4812</th>\n      <td>10/24/2009</td>\n      <td>ELLEN S</td>\n      <td>Antigua and Barbuda</td>\n      <td>Container ship</td>\n      <td>In territorial waters</td>\n      <td>20.641667</td>\n      <td>106.880000</td>\n      <td>Not Reported</td>\n      <td>Engine Room</td>\n      <td>At Anchor</td>\n      <td>None or Not Reported</td>\n      <td>False</td>\n      <td>False</td>\n      <td>False</td>\n      <td>False</td>\n      <td>False</td>\n    </tr>\n    <tr>\n      <th>4813</th>\n      <td>6/5/2006</td>\n      <td>PRINCESS MARY</td>\n      <td>Antigua and Barbuda</td>\n      <td>General cargo ship</td>\n      <td>In port area</td>\n      <td>-5.888000</td>\n      <td>106.088167</td>\n      <td>Threat of Violence Against Crew</td>\n      <td>Engine Room</td>\n      <td>At Anchor</td>\n      <td>Knives</td>\n      <td>False</td>\n      <td>False</td>\n      <td>False</td>\n      <td>False</td>\n      <td>False</td>\n    </tr>\n  </tbody>\n</table>\n<p>4814 rows × 16 columns</p>\n</div>"
     },
     "execution_count": 4,
     "metadata": {},
     "output_type": "execute_result"
    }
   ],
   "source": [
    "# Read the IMO CSV\n",
    "df_piracy = pd.read_csv('Data_Files/IMO Piracy - 2000 to 2022 (PDV 01-2023).csv')\n",
    "df_piracy"
   ],
   "metadata": {
    "collapsed": false,
    "ExecuteTime": {
     "end_time": "2024-02-05T21:28:33.387091Z",
     "start_time": "2024-02-05T21:28:33.366971Z"
    }
   },
   "id": "d8540992854a068",
   "execution_count": 4
  },
  {
   "cell_type": "code",
   "outputs": [
    {
     "name": "stdout",
     "output_type": "stream",
     "text": [
      "<class 'pandas.core.frame.DataFrame'>\n",
      "RangeIndex: 4814 entries, 0 to 4813\n",
      "Data columns (total 16 columns):\n",
      " #   Column                    Non-Null Count  Dtype  \n",
      "---  ------                    --------------  -----  \n",
      " 0   Incident Date             4814 non-null   object \n",
      " 1   Ship Name                 4748 non-null   object \n",
      " 2   Ship Flag                 4814 non-null   object \n",
      " 3   Ship Type                 4814 non-null   object \n",
      " 4   Area                      4814 non-null   object \n",
      " 5   Latitude                  2819 non-null   float64\n",
      " 6   Longitude                 2830 non-null   float64\n",
      " 7   Consequences to Crew      4814 non-null   object \n",
      " 8   Part of Ship Raided       4814 non-null   object \n",
      " 9   Ship Status               4814 non-null   object \n",
      " 10  Weapons Used              4814 non-null   object \n",
      " 11  Flag - Crew Injuries      4814 non-null   bool   \n",
      " 12  Flag - Crew Held Hostage  4814 non-null   bool   \n",
      " 13  Flag - Crew Missing       4814 non-null   bool   \n",
      " 14  Flag - Crew Deaths        4814 non-null   bool   \n",
      " 15  Flag - Crew Assaulted     4814 non-null   bool   \n",
      "dtypes: bool(5), float64(2), object(9)\n",
      "memory usage: 437.3+ KB\n"
     ]
    }
   ],
   "source": [
    "df_piracy.info()"
   ],
   "metadata": {
    "collapsed": false,
    "ExecuteTime": {
     "end_time": "2024-02-05T21:29:34.310471Z",
     "start_time": "2024-02-05T21:29:34.289536Z"
    }
   },
   "id": "aea77e01b4959806",
   "execution_count": 5
  },
  {
   "cell_type": "code",
   "outputs": [
    {
     "data": {
      "text/plain": "          Latitude    Longitude\ncount  2819.000000  2830.000000\nmean      5.306160    61.519350\nstd       9.509120    60.750161\nmin     -34.350000  -107.301000\n25%       1.100000     7.899583\n50%       3.386667    98.756167\n75%      10.256667   104.598833\nmax      45.524833   152.186667",
      "text/html": "<div>\n<style scoped>\n    .dataframe tbody tr th:only-of-type {\n        vertical-align: middle;\n    }\n\n    .dataframe tbody tr th {\n        vertical-align: top;\n    }\n\n    .dataframe thead th {\n        text-align: right;\n    }\n</style>\n<table border=\"1\" class=\"dataframe\">\n  <thead>\n    <tr style=\"text-align: right;\">\n      <th></th>\n      <th>Latitude</th>\n      <th>Longitude</th>\n    </tr>\n  </thead>\n  <tbody>\n    <tr>\n      <th>count</th>\n      <td>2819.000000</td>\n      <td>2830.000000</td>\n    </tr>\n    <tr>\n      <th>mean</th>\n      <td>5.306160</td>\n      <td>61.519350</td>\n    </tr>\n    <tr>\n      <th>std</th>\n      <td>9.509120</td>\n      <td>60.750161</td>\n    </tr>\n    <tr>\n      <th>min</th>\n      <td>-34.350000</td>\n      <td>-107.301000</td>\n    </tr>\n    <tr>\n      <th>25%</th>\n      <td>1.100000</td>\n      <td>7.899583</td>\n    </tr>\n    <tr>\n      <th>50%</th>\n      <td>3.386667</td>\n      <td>98.756167</td>\n    </tr>\n    <tr>\n      <th>75%</th>\n      <td>10.256667</td>\n      <td>104.598833</td>\n    </tr>\n    <tr>\n      <th>max</th>\n      <td>45.524833</td>\n      <td>152.186667</td>\n    </tr>\n  </tbody>\n</table>\n</div>"
     },
     "execution_count": 6,
     "metadata": {},
     "output_type": "execute_result"
    }
   ],
   "source": [
    "df_piracy.describe()"
   ],
   "metadata": {
    "collapsed": false,
    "ExecuteTime": {
     "end_time": "2024-02-05T21:30:24.750159Z",
     "start_time": "2024-02-05T21:30:24.741933Z"
    }
   },
   "id": "e6ec5d21885de46f",
   "execution_count": 6
  },
  {
   "cell_type": "code",
   "outputs": [
    {
     "data": {
      "text/plain": "Ship Flag\nPanama              719\nSingapore           634\nLiberia             527\nMarshall Islands    415\nMalaysia            245\n                   ... \nHaiti                 1\nGrenada               1\nJamaica               1\nMozambique            1\nEthiopia              1\nName: count, Length: 122, dtype: int64"
     },
     "execution_count": 9,
     "metadata": {},
     "output_type": "execute_result"
    }
   ],
   "source": [
    "df_piracy['Ship Flag'].value_counts()"
   ],
   "metadata": {
    "collapsed": false,
    "ExecuteTime": {
     "end_time": "2024-02-05T21:32:37.107030Z",
     "start_time": "2024-02-05T21:32:37.102502Z"
    }
   },
   "id": "4b6817e0e5070e7d",
   "execution_count": 9
  },
  {
   "cell_type": "code",
   "outputs": [],
   "source": [],
   "metadata": {
    "collapsed": false
   },
   "id": "9110110fdd0d9e8b"
  }
 ],
 "metadata": {
  "kernelspec": {
   "display_name": "Python 3",
   "language": "python",
   "name": "python3"
  },
  "language_info": {
   "codemirror_mode": {
    "name": "ipython",
    "version": 2
   },
   "file_extension": ".py",
   "mimetype": "text/x-python",
   "name": "python",
   "nbconvert_exporter": "python",
   "pygments_lexer": "ipython2",
   "version": "2.7.6"
  }
 },
 "nbformat": 4,
 "nbformat_minor": 5
}

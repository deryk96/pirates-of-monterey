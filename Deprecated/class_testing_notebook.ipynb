{
 "cells": [
  {
   "cell_type": "markdown",
   "source": [
    "# Notebook for creating static and interactive maps.\n",
    "This notebook was initially used to make products for the final presentation, but we didn't end up using them.\n",
    "See data_analysis_plotting.ipnyb for the functions used to conduct our analysis."
   ],
   "metadata": {
    "collapsed": false
   },
   "id": "97688ad3726de55a"
  },
  {
   "cell_type": "code",
   "outputs": [],
   "source": [
    "# Import modules\n",
    "import geopandas as gpd\n",
    "import pandas as pd\n",
    "import matplotlib.pyplot as plt\n",
    "from shapely.geometry import Point\n",
    "import geodatasets\n",
    "import folium\n",
    "from pathlib import Path"
   ],
   "metadata": {
    "collapsed": false
   },
   "id": "6f258777c81c2ef1",
   "execution_count": null
  },
  {
   "cell_type": "markdown",
   "source": [
    "### Plot points according to oceanic region\n",
    "Reference 1: https://www.matecdev.com/posts/point-in-polygon.html\n",
    "Reference 2: https://geopandas.org/en/stable/gallery/plotting_with_folium.html"
   ],
   "metadata": {
    "collapsed": false
   },
   "id": "555aa04f30a13f3e"
  },
  {
   "cell_type": "code",
   "outputs": [],
   "source": [
    "# Open the shapefile\n",
    "oceans_shp = Path('Map_Files/Oceans_shpfile_GOaS_v1_20211214/goas_v01.shp')\n",
    "oceans = gpd.GeoDataFrame.from_file(oceans_shp)\n",
    "\n",
    "# Get dataframe with lat/lon points\n",
    "piracy_file_clean = Path('Data_Files/[Clean] IMO Piracy - 2000 to 2022 (PDV 01-2023).csv')\n",
    "piracy_df_original = pd.read_csv(piracy_file_clean)"
   ],
   "metadata": {
    "collapsed": false
   },
   "id": "58ceb42175e605fe",
   "execution_count": null
  },
  {
   "cell_type": "code",
   "outputs": [],
   "source": [
    "# Zip coordinate points together into their own row\n",
    "piracy_df_original['coord'] = list(zip(piracy_df_original['Longitude'], piracy_df_original['Latitude']))\n",
    "piracy_df_original = piracy_df_original.dropna(axis=0, subset=['Latitude', 'Longitude'])\n",
    "piracy_df_original['coord'] = piracy_df_original['coord'].apply(Point)\n",
    "points = gpd.GeoDataFrame(piracy_df_original, geometry='coord', crs=oceans.crs)\n",
    "\n",
    "# Spacial join to match points and polygons\n",
    "pointInPolys = gpd.tools.sjoin(points, oceans, predicate='within', how='left')\n",
    "\n",
    "# Generate geometry (points to plot) and geo_df to prepare for mapping\n",
    "geometry = gpd.points_from_xy(piracy_df_original.Longitude, piracy_df_original.Latitude)\n",
    "geo_df = gpd.GeoDataFrame(pointInPolys, geometry=geometry)\n",
    "\n",
    "# Initialize figure and axis\n",
    "fig, ax = plt.subplots(figsize=(24, 18))\n",
    "world = gpd.read_file(geodatasets.get_path(\"naturalearth.land\"))\n",
    "\n",
    "# Plot base map\n",
    "world.plot(ax=ax, alpha=0.4, color=\"grey\")\n",
    "\n",
    "# Plot \n",
    "geo_df.plot(column='name', ax=ax, markersize=12, legend=True)\n",
    "plt.title('Piracy Incidents (2000-2022)')\n",
    "plt.show()"
   ],
   "metadata": {
    "collapsed": false
   },
   "id": "788605faad164604",
   "execution_count": null
  },
  {
   "cell_type": "markdown",
   "source": [
    "### Create interactive map with Folium\n",
    "Reference: https://geopandas.org/en/stable/gallery/plotting_with_folium.html"
   ],
   "metadata": {
    "collapsed": false
   },
   "id": "77094ba7786be81a"
  },
  {
   "cell_type": "code",
   "outputs": [],
   "source": [
    "# Start map\n",
    "map = folium.Map(tiles=\"CartoDB Positron\", zoom_start=9)\n",
    "\n",
    "# Create a geometry list from the GeoDataFrame (uses geo_df from above)\n",
    "geo_df_mask = geo_df[~geo_df.is_empty]  # Constrain out empty points\n",
    "geo_df_list = [[point.xy[1][0], point.xy[0][0]] for point in geo_df_mask.geometry]\n",
    "\n",
    "# Iterate through list and add a marker for each volcano, color-coded by its type.\n",
    "for i, coordinates in enumerate(geo_df_list):\n",
    "    # assign a color marker for the location\n",
    "    if geo_df_mask['name'].iloc[i] == \"South China and Easter Archipelagic Seas\":\n",
    "        type_color = \"green\"\n",
    "    elif geo_df_mask['name'].iloc[i] == \"Indian Ocean\":\n",
    "        type_color = \"blue\"\n",
    "    elif geo_df_mask['name'].iloc[i] == \"South Pacific Ocean\":\n",
    "        type_color = \"orange\"\n",
    "    elif geo_df_mask['name'].iloc[i] == \"North Pacific Ocean\":\n",
    "        type_color = \"pink\"\n",
    "    else:\n",
    "        type_color = \"purple\"\n",
    "\n",
    "    # Place the markers with the popup labels and data\n",
    "    map.add_child(\n",
    "        folium.Marker(\n",
    "            location=coordinates,\n",
    "            popup=\"- Date: \"\n",
    "                  + str(getattr(geo_df_mask.iloc[i], 'Incident Date'))\n",
    "                  + \"<br>\"\n",
    "                  + \"- Ship Name: \"\n",
    "                  + str(getattr(geo_df_mask.iloc[i], 'Ship Name'))\n",
    "                  + \"<br>\"\n",
    "                  + \"- Ship Flag: \"\n",
    "                  + str(getattr(geo_df_mask.iloc[i], 'Ship Flag'))\n",
    "                  + \"<br>\"\n",
    "                  + \"- Ship Type: \"\n",
    "                  + str(getattr(geo_df_mask.iloc[i], 'Ship Type'))\n",
    "                  + \"<br>\"\n",
    "                  + \"- Coordinates: \"\n",
    "                  + str(geo_df_list[i]),\n",
    "            icon=folium.Icon(color=\"%s\" % type_color),\n",
    "        )\n",
    "    )\n",
    "\n",
    "# Save map\n",
    "output_path = Path('Data_Files/Results/InteractiveMap.html')\n",
    "map.save(output_path)\n",
    "\n",
    "# Show map\n",
    "map"
   ],
   "metadata": {
    "collapsed": false
   },
   "id": "ceb318e53f25909f",
   "execution_count": null
  }
 ],
 "metadata": {
  "kernelspec": {
   "display_name": "Python 3",
   "language": "python",
   "name": "python3"
  },
  "language_info": {
   "codemirror_mode": {
    "name": "ipython",
    "version": 2
   },
   "file_extension": ".py",
   "mimetype": "text/x-python",
   "name": "python",
   "nbconvert_exporter": "python",
   "pygments_lexer": "ipython2",
   "version": "2.7.6"
  }
 },
 "nbformat": 4,
 "nbformat_minor": 5
}

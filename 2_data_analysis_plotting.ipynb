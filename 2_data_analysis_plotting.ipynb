{
 "cells": [
  {
   "cell_type": "code",
   "outputs": [],
   "source": [
    "# Install dependencies\n",
    "# !pip install streamlit-folium"
   ],
   "metadata": {
    "collapsed": false
   },
   "id": "4cf977f880fc0586"
  },
  {
   "cell_type": "code",
   "execution_count": null,
   "id": "534490a7-66d0-4761-b688-dcd96aa84ccc",
   "metadata": {},
   "outputs": [],
   "source": [
    "# Import statements\n",
    "import pandas as pd\n",
    "import numpy as np\n",
    "import matplotlib.pyplot as plt\n",
    "from bokeh.io import output_file, show, save\n",
    "from bokeh.plotting import figure\n",
    "from bokeh.models import ColumnDataSource\n",
    "from bokeh.models import TabPanel, Tabs\n",
    "import re\n",
    "import matplotlib.dates as mdates\n",
    "import folium\n",
    "from pathlib import Path"
   ]
  },
  {
   "cell_type": "code",
   "execution_count": null,
   "id": "580b3820-890d-45eb-825a-2ec3760ed9dc",
   "metadata": {},
   "outputs": [],
   "source": [
    "# Read in clean data file - from data.world\n",
    "clean_data_path = Path('Data_Files/[Clean] IMO Piracy - 2000 to 2022 (PDV 01-2023).csv')\n",
    "piracy_df_original = pd.read_csv(clean_data_path)"
   ]
  },
  {
   "cell_type": "code",
   "execution_count": null,
   "id": "d8f65364-e439-4943-9b96-d8a3797c1bd7",
   "metadata": {},
   "outputs": [],
   "source": [
    "# Drop null lat/long values for mapping data\n",
    "piracy_df_map = piracy_df_original.dropna(subset=['Latitude','Longitude'])\n",
    "piracy_df_map.head(10)"
   ]
  },
  {
   "cell_type": "markdown",
   "id": "05f1be26-438b-4402-a891-e307cd8250f7",
   "metadata": {
    "collapsed": false
   },
   "source": [
    "### Adding severity column to piracy_df_original and piracy_df_map"
   ]
  },
  {
   "cell_type": "code",
   "execution_count": null,
   "id": "aaab6268-4afa-4f1d-a800-bdf23c4ab281",
   "metadata": {},
   "outputs": [],
   "source": [
    "severe_df_1 = piracy_df_original[(piracy_df_original['Flag - Crew Deaths'] == True) | (piracy_df_original['Flag - Crew Missing'] == True)]\n",
    "severe_df_1.loc[: , 'severity'] = 'high' \n",
    "#includes deaths and or missing crew members "
   ]
  },
  {
   "cell_type": "code",
   "execution_count": null,
   "id": "829b2df6-8aad-4c0f-a3b6-a96b3dd429ad",
   "metadata": {},
   "outputs": [],
   "source": [
    "medium_df_1 = piracy_df_original[(piracy_df_original['Flag - Crew Assaulted'] == True) | (piracy_df_original['Flag - Crew Injuries'] == True) \n",
    "| (piracy_df_original['Flag - Crew Held Hostage'] == True)]\n",
    "medium_df_1.loc[: , 'severity'] = 'medium'\n",
    "#assaulted, injuries, and or held hostage"
   ]
  },
  {
   "cell_type": "code",
   "execution_count": null,
   "id": "8fc6f422-1f30-4765-aa6f-14d52ee0f4c3",
   "metadata": {},
   "outputs": [],
   "source": [
    "low_df_1 = piracy_df_original[(piracy_df_original['Flag - Crew Assaulted'] == False) & (piracy_df_original['Flag - Crew Injuries'] == False) \n",
    "& (piracy_df_original['Flag - Crew Held Hostage'] == False) & (piracy_df_original['Flag - Crew Deaths'] == False) \n",
    "& (piracy_df_original['Flag - Crew Missing'] == False)]\n",
    "low_df_1.loc[: , 'severity'] = 'low'\n",
    "#simply an incident no incidents to the crew "
   ]
  },
  {
   "cell_type": "code",
   "execution_count": null,
   "id": "9bbede16-9349-4369-aa94-f6f8096c6b75",
   "metadata": {},
   "outputs": [],
   "source": [
    "dfs1 = [ low_df_1, medium_df_1, severe_df_1]"
   ]
  },
  {
   "cell_type": "code",
   "execution_count": null,
   "id": "19fe3d57-b641-40af-adf9-4c75897e802f",
   "metadata": {},
   "outputs": [],
   "source": [
    "piracy_df_original = pd.concat(dfs1).reset_index(drop=True) "
   ]
  },
  {
   "cell_type": "code",
   "execution_count": null,
   "id": "cf5cd5b7-2a4e-4f79-aab6-da8c8d0dae98",
   "metadata": {},
   "outputs": [],
   "source": [
    "piracy_df_original.head(10)"
   ]
  },
  {
   "cell_type": "code",
   "execution_count": null,
   "id": "bc28c712-0bc7-4a06-b67e-c4e4938381f5",
   "metadata": {},
   "outputs": [],
   "source": [
    "severe_df = piracy_df_map[(piracy_df_map['Flag - Crew Deaths'] == True) | (piracy_df_map['Flag - Crew Missing'] == True)]"
   ]
  },
  {
   "cell_type": "code",
   "execution_count": null,
   "id": "e6146f0b-a06e-4552-82e6-0ef692649037",
   "metadata": {},
   "outputs": [],
   "source": [
    "severe_df.loc[: ,'severity'] = 'high'"
   ]
  },
  {
   "cell_type": "code",
   "execution_count": null,
   "id": "d32196c3-43a4-4e9e-a09e-639acd711eec",
   "metadata": {},
   "outputs": [],
   "source": [
    "medium_df = piracy_df_map[(piracy_df_map['Flag - Crew Assaulted'] == True) | (piracy_df_map['Flag - Crew Injuries'] == True) | (piracy_df_map['Flag - Crew Held Hostage'] == True)]"
   ]
  },
  {
   "cell_type": "code",
   "execution_count": null,
   "id": "6b823dc7-55ec-402f-a42a-53fbccae7bdb",
   "metadata": {},
   "outputs": [],
   "source": [
    "medium_df.loc[: , 'severity'] = 'medium'"
   ]
  },
  {
   "cell_type": "code",
   "execution_count": null,
   "id": "e79f6f71-244d-47b4-b0d7-f4f59b38fa48",
   "metadata": {},
   "outputs": [],
   "source": [
    "low_df = piracy_df_map[(piracy_df_map['Flag - Crew Assaulted'] == False) & (piracy_df_map['Flag - Crew Injuries'] == False) & (piracy_df_map['Flag - Crew Held Hostage'] == False) & (piracy_df_map['Flag - Crew Deaths'] == False) & (piracy_df_map['Flag - Crew Missing'] == False)]"
   ]
  },
  {
   "cell_type": "code",
   "execution_count": null,
   "id": "0be983c8-c814-4aea-b71d-6359f02602f9",
   "metadata": {},
   "outputs": [],
   "source": [
    "low_df.loc[: , 'severity'] = 'low'"
   ]
  },
  {
   "cell_type": "code",
   "execution_count": null,
   "id": "e69c8725-73b2-4ac0-b580-4206b0013513",
   "metadata": {},
   "outputs": [],
   "source": [
    "dfs = [ low_df, medium_df, severe_df]"
   ]
  },
  {
   "cell_type": "code",
   "execution_count": null,
   "id": "c1ada605-6870-449c-8509-92014c8b8b4f",
   "metadata": {},
   "outputs": [],
   "source": [
    "piracy_df_map = pd.concat(dfs).reset_index(drop=True) #combine all three map to create the mappable dataframe "
   ]
  },
  {
   "cell_type": "code",
   "execution_count": null,
   "id": "9b7fac0e-8f0e-411a-b790-0971ed28b23f",
   "metadata": {},
   "outputs": [],
   "source": [
    "piracy_df_map.head(10)"
   ]
  },
  {
   "cell_type": "markdown",
   "id": "0e36b834-2094-4bd4-98f1-4fc287f49152",
   "metadata": {
    "collapsed": false
   },
   "source": [
    "### Folium map of severity levels "
   ]
  },
  {
   "cell_type": "code",
   "execution_count": null,
   "id": "42edaaa6-753a-4d58-b3d8-6fa4321419d4",
   "metadata": {},
   "outputs": [],
   "source": [
    "# Create a map using Folium\n",
    "map_center = [piracy_df_original['Latitude'].mean(), piracy_df_original['Longitude'].mean()]\n",
    "m = folium.Map(location=map_center, zoom_start=4)\n",
    "\n",
    "# Add markers for vessel type, ship status, and country\n",
    "for index, row in severe_df.iterrows():\n",
    "    popup_text = f\"Vessel Type: {row['Ship Type']}<br>Ship Status: {row['Ship Status']}<br>Ship Origin: {row['Ship Flag']}<br>Latitude:{row['Latitude']}<br>Longitude: {row['Longitude']}\"\n",
    "    folium.CircleMarker(location=[row['Latitude'], row['Longitude']], radius=5, color='black', fill=True, fill_color='black', popup=popup_text).add_to(m)\n",
    "\n",
    "for index, row in medium_df.iterrows():\n",
    "    popup_text = f\"Vessel Type: {row['Ship Type']}<br>Ship Status: {row['Ship Status']}<br>Ship Origin: {row['Ship Flag']}<br>Latitude:{row['Latitude']}<br>Longitude: {row['Longitude']}\"\n",
    "    folium.CircleMarker(location=[row['Latitude'], row['Longitude']], radius=5, color='red', fill=True, fill_color='red', popup=popup_text).add_to(m)\n",
    "\n",
    "for index, row in low_df.iterrows():\n",
    "    popup_text = f\"Vessel Type: {row['Ship Type']}<br>Ship Status: {row['Ship Status']}<br>Ship Origin: {row['Ship Flag']}<br>Latitude:{row['Latitude']}<br>Longitude: {row['Longitude']}\"\n",
    "    folium.CircleMarker(location=[row['Latitude'], row['Longitude']], radius=5, color='yellow', fill=True, fill_color='yellow', popup=popup_text).add_to(m)\n",
    "\n",
    "# Example box need to figure out exact area to investigate\n",
    "\n",
    "top_left1 = [7, -1]  # west neg \n",
    "bottom_right1 = [-2,10]  # south eng \n",
    "Gulf_Guinea = folium.Rectangle(bounds=[top_left1, bottom_right1], color='black', fill=False)\n",
    "Gulf_Guinea.add_to(m)\n",
    "\n",
    "top_left2 = [20, 40] #west neg \n",
    "bottom_right2 = [10, 55.17] #south neg \n",
    "Gulf_Aden = folium.Rectangle(bounds=[top_left2, bottom_right2], color='black', fill=False)\n",
    "Gulf_Aden.add_to(m)\n",
    "\n",
    "top_left3 = [10, 93] #west neg \n",
    "bottom_right3 = [-10, 110] #south neg \n",
    "Strait_Malacca = folium.Rectangle(bounds=[top_left3, bottom_right3], color='black', fill=False)\n",
    "Strait_Malacca.add_to(m)\n",
    "\n",
    "# Legend\n",
    "legend_html = '''\n",
    "     <div style=\"position: fixed; bottom: 50px; left: 50px; width: 200px; height: 120px; background-color: white; border:2px solid grey; z-index:9999; font-size:14px;\">\n",
    "     <p><strong>Legend</strong></p>\n",
    "     <p><i class=\"fa fa-circle fa-1x\" style=\"color:black\"></i> Severe</p>\n",
    "     <p><i class=\"fa fa-circle fa-1x\" style=\"color:red\"></i> Medium</p>\n",
    "     <p><i class=\"fa fa-circle fa-1x\" style=\"color:yellow\"></i> Low</p>\n",
    "     </div>\n",
    "     '''\n",
    "m.get_root().html.add_child(folium.Element(legend_html))\n",
    "\n",
    "# Save the map\n",
    "# m.save(Path('./Data_Files/piracy_map.html'))"
   ]
  },
  {
   "cell_type": "code",
   "execution_count": null,
   "id": "e1d37fb1-b156-4d90-85c5-67cd89ce1ca6",
   "metadata": {},
   "outputs": [],
   "source": [
    "# Show map\n",
    "m"
   ]
  },
  {
   "cell_type": "code",
   "execution_count": null,
   "id": "6d4ad675-5d48-4524-8340-ad48aedfe3b1",
   "metadata": {},
   "outputs": [],
   "source": [
    "# Big picture \n",
    "\n",
    "# Assuming piracy_original_df is your DataFrame containing the piracy incidents data\n",
    "# Group the data by severity level and vessel type, and count the occurrences\n",
    "severity_vessel_counts = piracy_df_original.groupby(['Consequences to Crew', 'Ship Type']).size().unstack(fill_value=0)\n",
    "\n",
    "# Plot the bar graph\n",
    "severity_vessel_counts.plot(kind='bar', stacked=True)\n",
    "plt.xlabel('Severity Level')\n",
    "plt.ylabel('Count')\n",
    "plt.title('Piracy Incidents by Severity Level and Vessel Type')\n",
    "plt.legend(title='Vessel Type')\n",
    "#plt.show()\n",
    "#Can see this is not feasible for analysis "
   ]
  },
  {
   "cell_type": "code",
   "execution_count": null,
   "id": "a9608da1-d394-4dc9-bbd4-091d50ea925a",
   "metadata": {},
   "outputs": [],
   "source": [
    "vessel_type_mapping = {\n",
    "    'Cargo Ship': ['General cargo ship', 'Container ship', 'Container', 'General dry cargo ship', 'Bulk carrier', 'Bulk Carrier', \n",
    "                    'Vehicle carrier', 'Ro-ro-cargo ship','Ro-Ro-cargo ship', 'Refrigerated cargo carrier', \n",
    "                    'Livestock carrier', 'Reefer', 'Cable-Layer', 'Ore/bulk/oil carrier', \n",
    "                    'Ore/bulk/oil Carrier',  'Cellular Container ship', 'Cargo ship', 'Ro-Ro cargo ship',\n",
    "                    'Cargo Ship', 'Log carrier', 'Unitised vessel','Cement carrier','Heavy load carrier'\n",
    "                   'Barge carrier', 'Supply ship', 'Supply ship', 'Offshore tug/Supply ship', 'Wood chip carrier',\n",
    "                  'Bulk and container carrier', 'Multipurpose cargo ship', 'Feeder container', 'Container Ship', 'Combination carrier',\n",
    "                  'Steel-Bulk Carrier', 'Flush-tween/3 decker', 'Dry bulk carrier', 'Freighter/Log carrier', 'Dry cargo ship', 'Refrigerated cargo ship',\n",
    "                  'Container/General cargo ship', 'Multipurpose tweendecker', 'Reefer/Container ship', 'Log/Bulk carrier', \n",
    "                  'General cargo', 'Car carrier', 'Flat-top cargo barge', 'Ro-ro ship', 'Offshore Supply ship'],\n",
    "    \n",
    "    'Fishing': ['Fishing vessel', 'Fishing trawler', 'Fishing vessels', 'Fishing boat'],\n",
    "\n",
    "    'Non Commercial Ship': ['Research ship','Rescue/standby ship', 'Factory ship'],\n",
    "\n",
    "    'Passenger Ship': ['Dhow','Ro-ro passenger vessel', 'Ferry', 'Passenger ship', 'Yacht', 'Ro-Ro ferry passenger ship'],\n",
    "\n",
    "    'Service Ship': ['Salvage tug', 'Tug', 'Tug/lighter', 'Towing tug', 'Offshore Support Vessel'],\n",
    "\n",
    "    'Tanker': ['Tanker', 'Tanker ship', 'Chemical tanker', 'Chemical Tanker', 'Oil product tanker', 'Product tanker', 'Product Tanker', \n",
    "                'LPG tanker', 'Oil tanker', 'Oil Tanker','Gas carrier-LPG', 'Gas carrier - LPG', 'LPG', 'Gas carrier - LNG','Gas carrier - non-specified',\n",
    "                'Crude Oil tanker', 'Ore/Bulk/oil carrier', 'Gas carrier', 'Liquefied gas carrier', 'Gas carrier/tanker',\n",
    "              'Chemical carrier', 'Gas/Oil tanker', 'Ore/Bulk/Oil carrier', 'Barge oil', 'Motor tanker', 'Liquefied Gas/Oil tanker', \n",
    "              'Oil/Chemical tanker', 'Product /Motor tanker', 'Product/Motor tanker', 'Chemical/oil tanker', \n",
    "              'VLCC', 'Tanker VLCC', 'Tanker (VLCC)', 'Oil Products Tanker'],\n",
    "\n",
    "    'Other': ['Cutter/dredger', 'Barge', 'Mobile offshore drilling unit', 'Refrigerated ship', 'Reefer', 'Boat', 'Barter Trade Boat', \n",
    "                    'Multi purpose ship','Multipurpose','Special purpose ship', 'Landing craft', 'Motor yacht', 'Hopper/Dregger', 'Dredger',\n",
    "             'Navy ship', 'Coast Guard ship', 'Coaster', 'Trading ship', 'Warship', 'Speedboat', 'Catamaran', 'Offshore Barge carrier'],\n",
    "\n",
    "    'Unknown': ['Not Reported', 'Unknown', 'Panama', None]}"
   ]
  },
  {
   "cell_type": "code",
   "execution_count": null,
   "id": "8fb09363-beeb-45da-bc4b-2d7ec5d0e303",
   "metadata": {},
   "outputs": [],
   "source": [
    "# Function to map vessel types to categories\n",
    "def map_vessel_type(vessel_type):\n",
    "    for category, types in vessel_type_mapping.items():\n",
    "        if vessel_type in types:\n",
    "            return category"
   ]
  },
  {
   "cell_type": "code",
   "execution_count": null,
   "id": "8ea44a3e-12f2-414a-959b-85c19e030b0a",
   "metadata": {},
   "outputs": [],
   "source": [
    "# Map the categories to the new types \n",
    "piracy_df_original['Vessel Category'] = piracy_df_original['Ship Type'].map(map_vessel_type)"
   ]
  },
  {
   "cell_type": "code",
   "execution_count": null,
   "id": "0a51f315-e32a-4892-bed7-13973390adcb",
   "metadata": {},
   "outputs": [],
   "source": [
    "#strait of malacca \n",
    "min_lat = -10\n",
    "max_lat = 10\n",
    "min_lon = 93\n",
    "max_lon = 150.0\n",
    "strait_malacca_df = piracy_df_map[(piracy_df_map['Latitude'] >= min_lat) & (piracy_df_map['Latitude'] <= max_lat) &\n",
    "                                  (piracy_df_map['Longitude'] >= min_lon) & (piracy_df_map['Longitude'] <= max_lon)]"
   ]
  },
  {
   "cell_type": "code",
   "execution_count": null,
   "id": "38b7ba07-966b-4a1a-b108-4a3d3fcff494",
   "metadata": {},
   "outputs": [],
   "source": [
    "strait_malacca_df.loc[ : , 'Vessel Category'] = strait_malacca_df['Ship Type'].map(map_vessel_type)\n"
   ]
  },
  {
   "cell_type": "code",
   "execution_count": null,
   "id": "d2a33bf4-4f31-4b13-8bbb-9dea03d0ce67",
   "metadata": {},
   "outputs": [],
   "source": [
    "#Gulf Aden  \n",
    "min_lat = 10\n",
    "max_lat = 20\n",
    "min_lon = 93\n",
    "max_lon = 110.0\n",
    "gulf_of_eden_df = piracy_df_map[(piracy_df_map['Latitude'] >= min_lat) & (piracy_df_map['Latitude'] <= max_lat) &\n",
    "                                  (piracy_df_map['Longitude'] >= min_lon) & (piracy_df_map['Longitude'] <= max_lon)]"
   ]
  },
  {
   "cell_type": "code",
   "execution_count": null,
   "id": "50383c9f-5589-496e-9ab0-422ce45593f8",
   "metadata": {},
   "outputs": [],
   "source": [
    "gulf_of_eden_df.loc[ : , 'Vessel Category'] = gulf_of_eden_df['Ship Type'].map(map_vessel_type)"
   ]
  },
  {
   "cell_type": "code",
   "execution_count": null,
   "id": "4078e379-63b8-460c-bc51-ab18ef22c7fd",
   "metadata": {},
   "outputs": [],
   "source": [
    "#Gulf of Guinea\n",
    "min_lat = -2\n",
    "max_lat = 7\n",
    "min_lon = -1\n",
    "max_lon = 10\n",
    "gulf_of_guinea_df = piracy_df_map[(piracy_df_map['Latitude'] >= min_lat) & (piracy_df_map['Latitude'] <= max_lat) &\n",
    "                                  (piracy_df_map['Longitude'] >= min_lon) & (piracy_df_map['Longitude'] <= max_lon)]"
   ]
  },
  {
   "cell_type": "code",
   "execution_count": null,
   "id": "4148f0e3-2696-44e7-8796-ff8fe6de4570",
   "metadata": {},
   "outputs": [],
   "source": [
    "gulf_of_guinea_df.loc[ : , 'Vessel Category'] = gulf_of_guinea_df['Ship Type'].map(map_vessel_type)"
   ]
  },
  {
   "cell_type": "markdown",
   "id": "72f92a23-85ed-423b-a1f7-49821ea84e11",
   "metadata": {
    "collapsed": false
   },
   "source": [
    "### All DataFrames created:"
   ]
  },
  {
   "cell_type": "code",
   "execution_count": null,
   "id": "8ba75f39-5356-4a7b-89fc-f455fc3c0ba1",
   "metadata": {},
   "outputs": [],
   "source": [
    "###The specific dataframes for our box areas.\n",
    "#piracy_df_original \n",
    "# original dataframe that includes all events regardless of whether lat/longs are available\n",
    "#piracy_df_map\n",
    "#contains only data that includes lat/long in order to plot on map\n",
    "#strait_malacca_df\n",
    "#gulf_of_eden_df\n",
    "#gulf_of_guinea_df"
   ]
  },
  {
   "cell_type": "markdown",
   "id": "05a1fcf7-e666-4140-a398-7fcc492d7403",
   "metadata": {
    "collapsed": false
   },
   "source": [
    "### Big Picture "
   ]
  },
  {
   "cell_type": "code",
   "execution_count": null,
   "id": "e4047186-ac00-47f1-a8c1-0027b40d903c",
   "metadata": {},
   "outputs": [],
   "source": [
    "#Bid picture across the globe. \n",
    "\n",
    "C_Crew_vessel_cat = piracy_df_original.groupby(['Consequences to Crew', 'Vessel Category']).size().unstack(fill_value=0)\n",
    "\n",
    "# Plot the bar graph\n",
    "C_Crew_vessel_cat.plot(kind='bar', stacked=True)\n",
    "plt.xlabel('Consequences to Crew')\n",
    "plt.ylabel('Count')\n",
    "plt.title('Piracy Incidents by Consequences to Crew and Vessel Category')\n",
    "plt.legend(title='Vessel Category')\n",
    "plt.show()"
   ]
  },
  {
   "cell_type": "code",
   "execution_count": null,
   "id": "68bd22ac-e9f3-46a5-90d1-ecb981e6aa45",
   "metadata": {},
   "outputs": [],
   "source": [
    "C_Crew_wpns_used = piracy_df_original.groupby(['Consequences to Crew', 'Weapons Used']).size().unstack(fill_value=0)\n",
    "\n",
    "# Plot the bar graph\n",
    "C_Crew_wpns_used.plot(kind='bar', stacked=True)\n",
    "plt.xlabel('Consequences to Crew')\n",
    "plt.ylabel('Count')\n",
    "plt.title('Piracy Incidents by Consequences to Crew and Weapons Used')\n",
    "plt.legend(title='Weapons used')\n",
    "plt.show()"
   ]
  },
  {
   "cell_type": "code",
   "execution_count": null,
   "id": "3d5a1541-7c2c-4853-8d5b-ee1ff66a7d30",
   "metadata": {},
   "outputs": [],
   "source": [
    "#Bid picture across the globe. \n",
    "severity_vessel_counts = piracy_df_original.groupby(['Consequences to Crew', 'Vessel Category']).size().unstack(fill_value=0)\n",
    "\n",
    "# Plot the bar graph\n",
    "severity_vessel_counts.plot(kind='bar', stacked=True)\n",
    "plt.xlabel('Consequences to Crew')\n",
    "plt.ylabel('Count')\n",
    "plt.title('Piracy Incidents by Consequences to Crew and Vessel Category')\n",
    "plt.legend(title='Vessel Category')\n",
    "plt.show()"
   ]
  },
  {
   "cell_type": "markdown",
   "id": "f81a7de1-ce2a-4585-a8b4-78f639606263",
   "metadata": {
    "collapsed": false
   },
   "source": [
    "### By vessel category Bokeh"
   ]
  },
  {
   "cell_type": "code",
   "execution_count": null,
   "id": "77c987d2-c7f2-4a22-a6c9-366a2da7a3b2",
   "metadata": {},
   "outputs": [],
   "source": [
    "SM_vessel_counts = strait_malacca_df.groupby(['Consequences to Crew', 'Vessel Category']).size().unstack(fill_value=0)\n",
    "\n",
    "# Plot the bar graph\n",
    "SM_vessel_counts.plot(kind='bar', stacked=True)\n",
    "plt.xlabel('Consequences to Crew')\n",
    "plt.ylabel('Count')\n",
    "plt.title('Piracy Incidents by Consequences to Crew and Vessel Type in the Strait of Malacca ')\n",
    "plt.legend(title='Vessel Category')\n",
    "plt.show()"
   ]
  },
  {
   "cell_type": "code",
   "execution_count": null,
   "id": "7fed8712-12e6-4e5c-b25e-9cc1398c93bf",
   "metadata": {},
   "outputs": [],
   "source": [
    "GE_vessel_counts = gulf_of_eden_df.groupby(['Consequences to Crew', 'Vessel Category']).size().unstack(fill_value=0)\n",
    "\n",
    "# Plot the bar graph\n",
    "GE_vessel_counts.plot(kind='bar', stacked=True)\n",
    "plt.xlabel('Consequences to Crew')\n",
    "plt.ylabel('Count')\n",
    "plt.title('Piracy Incidents by Consequences to Crew and Vessel Type in the Gulf of Aden ')\n",
    "plt.legend(title='Vessel Category')\n",
    "plt.show()"
   ]
  },
  {
   "cell_type": "code",
   "execution_count": null,
   "id": "f4a33f8c-f1cd-4aca-87eb-cc6616d96fe2",
   "metadata": {},
   "outputs": [],
   "source": [
    "GG_vessel_counts = gulf_of_guinea_df.groupby(['Consequences to Crew', 'Vessel Category']).size().unstack(fill_value=0)\n",
    "\n",
    "# Plot the bar graph\n",
    "GG_vessel_counts.plot(kind='bar', stacked=True)\n",
    "plt.xlabel('Consequences to Crew')\n",
    "plt.ylabel('Count')\n",
    "plt.title('Piracy Incidents by Consequences to Crew and Vessel Type in the Gulf of Guinea')\n",
    "plt.legend(title='Vessel Category')\n",
    "plt.show()"
   ]
  },
  {
   "cell_type": "code",
   "execution_count": null,
   "id": "343ecb96-41b2-400a-bb92-a02aa0164c9f",
   "metadata": {},
   "outputs": [],
   "source": [
    "###GG\n",
    "gulf_of_guinea_source = ColumnDataSource(data=dict(\n",
    "    x=GG_vessel_counts.index.tolist(),\n",
    "    Service_ships=GG_vessel_counts['Service Ship'].tolist(),\n",
    "    Cargo_ships=GG_vessel_counts['Cargo Ship'].tolist(),\n",
    "    Tankers=GG_vessel_counts['Tanker'].tolist(),\n",
    "    Unknown=GG_vessel_counts['Unknown'].tolist(),\n",
    "    Fishing=GG_vessel_counts['Fishing'].tolist(),\n",
    "    All_others=GG_vessel_counts['Other'].tolist()\n",
    "))\n",
    "v1 = figure(x_range=GG_vessel_counts.index.tolist(), title=\"Piracy Incidents by Consequences to Crew and Vessel Category in the Gulf of Guinea\", height=800, width=800)\n",
    "\n",
    "v1.vbar_stack(['Service_ships', 'Cargo_ships', 'Tankers', 'Unknown', 'Fishing',\n",
    "       'All others'], x='x', color=['blue', 'green', 'red', 'purple', 'orange', 'yellow'], width=0.5, source=gulf_of_guinea_source, legend_label=['Service ships', 'Cargo ships', 'Tankers', 'Unknown', 'Fishing',\n",
    "       'All others'])\n",
    "v1.xaxis.major_label_orientation = \"vertical\"\n",
    "\n",
    "####GE\n",
    "gulf_of_eden_source = ColumnDataSource(data=dict(\n",
    "    x=GE_vessel_counts.index.tolist(),\n",
    "    Service_ships=GE_vessel_counts['Service Ship'].tolist(),\n",
    "    Cargo_ships=GE_vessel_counts['Cargo Ship'].tolist(),\n",
    "    Tankers=GE_vessel_counts['Tanker'].tolist(),\n",
    "    Unknown=GE_vessel_counts['Unknown'].tolist(),\n",
    "    All_others=GE_vessel_counts['Other'].tolist()\n",
    ")) #no fishing vessels to account for \n",
    "v2 = figure(x_range=GE_vessel_counts.index.tolist(), title=\"Piracy Incidents by Consequences to Crew and Vessel Category in the Gulf of Aden\", height=800, width=800)\n",
    "\n",
    "v2.vbar_stack(['Service_ships', 'Cargo_ships', 'Tankers', 'Unknown', 'Fishing',\n",
    "       'All others'], x='x', width=0.5, color=['blue', 'green', 'red', 'purple', 'orange', 'yellow'],source=gulf_of_eden_source, legend_label=['Service ships', 'Cargo ships', 'Tankers', 'Unknown', 'Fishing','All others'])\n",
    "v2.xaxis.major_label_orientation = \"vertical\"\n",
    "#######SM\n",
    "strait_malacca_source = ColumnDataSource(data=dict(\n",
    "    x=SM_vessel_counts.index.tolist(),\n",
    "    Service_ships=SM_vessel_counts['Service Ship'].tolist(),\n",
    "    Cargo_ships=SM_vessel_counts['Cargo Ship'].tolist(),\n",
    "    Tankers=SM_vessel_counts['Tanker'].tolist(),\n",
    "    Unknown=SM_vessel_counts['Unknown'].tolist(),\n",
    "    Fishing=SM_vessel_counts['Fishing'].tolist(),\n",
    "    All_others=SM_vessel_counts['Other'].tolist()\n",
    "))\n",
    "v3 = figure(x_range=SM_vessel_counts.index.tolist(), title=\"Piracy Incidents by Consequences to Crew and Vessel Category in the Strait of Malacca\", height=800, width=800)\n",
    "\n",
    "v3.vbar_stack(['Service_ships', 'Cargo_ships', 'Tankers', 'Unknown', 'Fishing',\n",
    "       'All_others'], x='x', width=0.5, color=['blue', 'green', 'red', 'purple', 'orange', 'yellow'],source=strait_malacca_source, legend_label=['Service Ships', 'Cargo Ships', 'Tankers', 'Unknown', 'Fishing', 'Others'])\n",
    "v3.xaxis.major_label_orientation = \"vertical\"\n",
    "#MAKE TABS \n",
    "tab_1 = TabPanel(child=v1, title=\"Gulf of Guinea\")\n",
    "tab_2= TabPanel(child=v2, title=\"Gulf of Aden\")\n",
    "tab_3= TabPanel(child=v3, title=\"Strait of Malacca\")\n",
    "tabs_vessel= Tabs(tabs=[tab_1, tab_2, tab_3])\n",
    "show(tabs_vessel)\n",
    "\n",
    "# Save to file\n",
    "# output_file(Path(\"./Results/vessel_cat_tabs.html\"))\n",
    "#save(tabs_vessel, filename=Path(\"./Results/vessel_cat_tabs.html\"))"
   ]
  },
  {
   "cell_type": "markdown",
   "id": "27060455-8487-465d-b7fa-da92d4d6f29a",
   "metadata": {
    "collapsed": false
   },
   "source": [
    "### By Wpns Used  Bokeh"
   ]
  },
  {
   "cell_type": "code",
   "execution_count": null,
   "id": "a7666c81-fb30-4d20-be25-2f5dd3a6e42f",
   "metadata": {},
   "outputs": [],
   "source": [
    "SM_wpns = strait_malacca_df.groupby(['Consequences to Crew', 'Weapons Used']).size().unstack(fill_value=0)\n",
    "#add better color scheme \n",
    "\n",
    "# Plot the bar graph\n",
    "SM_wpns.plot(kind='bar', stacked=True)\n",
    "plt.xlabel('Consequences to Crew')\n",
    "plt.ylabel('Count')\n",
    "plt.title('Piracy Incidents by Consequences to Crew and Weapons Used in the Strait of Malacca ')\n",
    "plt.legend(title='Weapons Used')\n",
    "plt.show()"
   ]
  },
  {
   "cell_type": "code",
   "execution_count": null,
   "id": "a933c737-00cc-4cdc-a57b-22ce2829ef4e",
   "metadata": {},
   "outputs": [],
   "source": [
    "GG_wpns = gulf_of_guinea_df.groupby(['Consequences to Crew', 'Weapons Used']).size().unstack(fill_value=0)\n",
    "\n",
    "# Plot the bar graph\n",
    "GG_wpns.plot(kind='bar', stacked=True)\n",
    "plt.xlabel('Consequences to Crew')\n",
    "plt.ylabel('Count')\n",
    "plt.title('Piracy Incidents by Consequences to Crew and Weapons Used in the GG ')\n",
    "plt.legend(title='Weapons Used')\n",
    "plt.show()"
   ]
  },
  {
   "cell_type": "code",
   "execution_count": null,
   "id": "5733a8cd-2c49-4760-b66d-6272589479b4",
   "metadata": {},
   "outputs": [],
   "source": [
    "GE_wpns = gulf_of_eden_df.groupby(['Consequences to Crew', 'Weapons Used']).size().unstack(fill_value=0)\n",
    "\n",
    "# Plot the bar graph\n",
    "GE_wpns.plot(kind='bar', stacked=True)\n",
    "plt.xlabel('Consequences to Crew')\n",
    "plt.ylabel('Count')\n",
    "plt.title('Piracy Incidents by Consequences to Crew and Weapons Used in the GE ')\n",
    "plt.legend(title='Weapons Used')\n",
    "plt.show()"
   ]
  },
  {
   "cell_type": "code",
   "execution_count": null,
   "id": "5fc779d3-d2b5-43ba-bcf2-6e795eb76857",
   "metadata": {},
   "outputs": [],
   "source": [
    "gulf_of_eden_df['Weapons Used'].unique()"
   ]
  },
  {
   "cell_type": "code",
   "execution_count": null,
   "id": "a5c96d73-7904-4a98-bcf3-c71ff1b1dc4c",
   "metadata": {},
   "outputs": [],
   "source": [
    "###GG\n",
    "gulf_of_guinea_source = ColumnDataSource(data=dict(\n",
    "    x=GG_wpns.index.tolist(),\n",
    "    Other_Weapon=GG_wpns['Other Weapon'].tolist(),\n",
    "    None_or_Not_Reported=GG_wpns['None or Not Reported'].tolist(),\n",
    "    Knives=GG_wpns['Knives'].tolist(),\n",
    "    Firearms=GG_wpns['Firearms'].tolist(),\n",
    ")) \n",
    "a1 = figure(x_range=GG_wpns.index.tolist(), title=\"Piracy Incidents by Consequences to Crew and Weapons Used in the Gulf of Guinea\", height=800, width=800)\n",
    "\n",
    "a1.vbar_stack(['Other_Weapon', 'None_or_Not_Reported', 'Knives', 'Firearms'], x='x', color=['blue', 'green', 'red', 'purple'], width=0.5, source=gulf_of_guinea_source, \n",
    "              legend_label=['Other Weapon', 'None or Not Reported', 'Knives', 'Firearms'])\n",
    "a1.xaxis.major_label_orientation = \"vertical\"\n",
    "\n",
    "####GE\n",
    "gulf_of_eden_source = ColumnDataSource(data=dict(\n",
    "    x=GE_wpns.index.tolist(),\n",
    "    Other_Weapon=GE_wpns['Other Weapon'].tolist(),\n",
    "    None_or_Not_Reported=GE_wpns['None or Not Reported'].tolist(),\n",
    "    Knives=GE_wpns['Knives'].tolist(),\n",
    "    Firearms=GE_wpns['Firearms'].tolist(),\n",
    ")) \n",
    "a2 = figure(x_range=GE_wpns.index.tolist(), title=\"Piracy Incidents by Consequences to Crew and Weapons Used in the Gulf of Aden\", height=800, width=800)\n",
    "\n",
    "a2.vbar_stack(['Other_Weapon', 'None_or_Not_Reported', 'Knives', 'Firearms'], x='x', color=['blue', 'green', 'red', 'purple'], width=0.5, source=gulf_of_eden_source, \n",
    "              legend_label=['Other Weapon', 'None or Not Reported', 'Knives', 'Firearms'])\n",
    "a2.xaxis.major_label_orientation = \"vertical\"\n",
    "\n",
    "#######SM\n",
    "strait_malacca_source = ColumnDataSource(data=dict(\n",
    "    x=SM_wpns.index.tolist(),\n",
    "    Other_Weapon=SM_wpns['Other Weapon'].tolist(),\n",
    "    None_or_Not_Reported=SM_wpns['None or Not Reported'].tolist(),\n",
    "    Knives=SM_wpns['Knives'].tolist(),\n",
    "    Firearms=SM_wpns['Firearms'].tolist(),\n",
    ")) \n",
    "a3 = figure(x_range=SM_wpns.index.tolist(), title=\"Piracy Incidents by Consequences to Crew and Weapons Used in the Strait of Malacca\", height=800, width=800)\n",
    "\n",
    "a3.vbar_stack(['Other_Weapon', 'None_or_Not_Reported', 'Knives', 'Firearms'], x='x', color=['blue', 'green', 'red', 'purple'], width=0.5, source=strait_malacca_source, \n",
    "              legend_label=['Other Weapon', 'None or Not Reported', 'Knives', 'Firearms'])\n",
    "a3.xaxis.major_label_orientation = \"vertical\"\n",
    "\n",
    "\n",
    "#tabs\n",
    "tab_1_ = TabPanel(child=a1, title=\"Gulf of Guinea\")\n",
    "tab_2_= TabPanel(child=a2, title=\"Gulf of Aden\")\n",
    "tab_3_= TabPanel(child=a3, title=\"Strait of Malacca\")\n",
    "tabs_wpns= Tabs(tabs=[tab_1_, tab_2_, tab_3_])\n",
    "show(tabs_wpns)\n",
    "output_file(Path(\"./Results/wpns_tabs.html\"))\n",
    "# save(tabs_wpns, filename=Path(\"./Results/wpns_tabs.html\"))"
   ]
  },
  {
   "cell_type": "markdown",
   "id": "8cd112c3-b885-414d-9651-0a98bbbf6c6e",
   "metadata": {
    "collapsed": false
   },
   "source": [
    "### Bokeh Severity by Ship Flag "
   ]
  },
  {
   "cell_type": "code",
   "execution_count": null,
   "id": "81828e3b-51fc-4907-9a66-ffcb6bfa7c01",
   "metadata": {},
   "outputs": [],
   "source": [
    "strait_malacca_SF_severity = strait_malacca_df.groupby(['Ship Flag', 'severity']).size().unstack(fill_value=0)\n",
    "\n",
    "\n",
    "colors = {'high': 'black', 'medium': 'red', 'low': 'yellow'}\n",
    "\n",
    "# Plot the bar graph with custom colors\n",
    "ax1 = strait_malacca_SF_severity.plot(kind='bar', figsize = (10,5), stacked=True, color=[colors[col] for col in strait_malacca_SF_severity.columns])\n",
    "\n",
    "plt.xlabel('Severity Level')\n",
    "plt.ylabel('Count')\n",
    "plt.title('Piracy Incidents by Ship Flag and Severity Level Used in the Strait of Malacca ')\n",
    "high_patch = plt.Line2D([0], [0], color='black', lw=4)\n",
    "medium_patch = plt.Line2D([0], [0], color='red', lw=4)\n",
    "low_patch = plt.Line2D([0], [0], color='yellow', lw=4)\n",
    "\n",
    "plt.legend([high_patch, medium_patch, low_patch], ['High', 'Medium', 'Low'], title='Severity Level')\n",
    "\n",
    "#plt.legend(title='Severity Level')\n",
    "plt.show()"
   ]
  },
  {
   "cell_type": "code",
   "execution_count": null,
   "id": "0ccfbedb-ae57-4a67-981f-a7460696dd91",
   "metadata": {},
   "outputs": [],
   "source": [
    "gulf_of_eden_SF_severity = gulf_of_eden_df.groupby(['Ship Flag', 'severity']).size().unstack(fill_value=0)\n",
    "\n",
    "#severity_vessel_counts.plot(kind='bar', stacked=True)\n",
    "colors = {'high': 'black', 'medium': 'red', 'low': 'yellow'}\n",
    "\n",
    "# Plot the bar graph with custom colors\n",
    "ax2 = gulf_of_eden_SF_severity.plot(kind='bar', stacked=True, color=[colors[col] for col in gulf_of_eden_SF_severity.columns])\n",
    "\n",
    "plt.xlabel('Severity Level')\n",
    "plt.ylabel('Count')\n",
    "plt.title('Piracy Incidents by Ship Flag and Severity Level Used in the Gulf of Aden ')\n",
    "plt.legend(title='Severity Level')\n",
    "plt.show()"
   ]
  },
  {
   "cell_type": "code",
   "execution_count": null,
   "id": "46b4b06a-2cdd-413b-b825-96e2b19fbcc9",
   "metadata": {},
   "outputs": [],
   "source": [
    "gulf_of_guinea_SF_severity = gulf_of_guinea_df.groupby(['Ship Flag', 'severity']).size().unstack(fill_value=0)\n",
    "\n",
    "#severity_vessel_counts.plot(kind='bar', stacked=True)\n",
    "colors = {'high': 'black', 'medium': 'red', 'low': 'yellow'}\n",
    "\n",
    "# Plot the bar graph with custom colors\n",
    "ax3 = gulf_of_guinea_SF_severity.plot(kind='bar', figsize = (10,5), stacked=True, color=[colors[col] for col in gulf_of_guinea_SF_severity.columns])\n",
    "\n",
    "# Plot the bars again to add black borders\n",
    "\n",
    "plt.xlabel('Severity Level')\n",
    "plt.ylabel('Count')\n",
    "plt.title('Piracy Incidents by Ship Flag and Severity Level in the Gulf of Guinea')\n",
    "plt.legend(title='Severity Level')\n",
    "plt.show()"
   ]
  },
  {
   "cell_type": "code",
   "execution_count": null,
   "id": "ef7c1549-59c6-40a4-a5d6-b089d32aba58",
   "metadata": {},
   "outputs": [],
   "source": [
    "gulf_of_guinea_source = ColumnDataSource(data=dict(\n",
    "    x=gulf_of_guinea_SF_severity.index.tolist(),\n",
    "    high=gulf_of_guinea_SF_severity['high'].tolist(),\n",
    "    medium=gulf_of_guinea_SF_severity['medium'].tolist(),\n",
    "    low=gulf_of_guinea_SF_severity['low'].tolist()\n",
    "))\n",
    "p1 = figure(x_range=gulf_of_guinea_SF_severity.index.tolist(), title=\"Piracy Incidents by Ship Flag and Severity Level in the Gulf of Guinea\", height=350, width=1000)\n",
    "p1.vbar_stack(['high', 'medium', 'low'], x='x', width=0.5, color=['black', 'red', 'yellow'], source=gulf_of_guinea_source, legend_label=['High', 'Medium', 'Low'])\n",
    "p1.xaxis.major_label_orientation = \"vertical\"\n",
    "\n",
    "gulf_of_eden_source = ColumnDataSource(data=dict(\n",
    "    x=gulf_of_eden_SF_severity.index.tolist(),\n",
    "    medium=gulf_of_eden_SF_severity['medium'].tolist(),\n",
    "    low=gulf_of_eden_SF_severity['low'].tolist()\n",
    "))\n",
    "\n",
    "p2 = figure(x_range=gulf_of_eden_SF_severity.index.tolist(), title=\"Piracy Incidents by Ship Flag and Severity Level in the Gulf of Aden\", height=350, width=1000)\n",
    "p2.vbar_stack(['high', 'medium', 'low'], x='x', width=0.5, color=['black', 'red', 'yellow'], source=gulf_of_eden_source, legend_label=['High', 'Medium', 'Low'])\n",
    "p2.xaxis.major_label_orientation = \"vertical\"\n",
    "\n",
    "strait_malacca_source = ColumnDataSource(data=dict(\n",
    "    x=strait_malacca_SF_severity.index.tolist(),\n",
    "    high=strait_malacca_SF_severity['high'].tolist(),\n",
    "    medium=strait_malacca_SF_severity['medium'].tolist(),\n",
    "    low=strait_malacca_SF_severity['low'].tolist()\n",
    "))\n",
    "\n",
    "p3 = figure(x_range=strait_malacca_SF_severity.index.tolist(), title=\"Piracy Incidents by Ship Flag and Severity Level in the Strait of Malacca\", height=350, width=1000)\n",
    "p3.vbar_stack(['high', 'medium', 'low'], x='x', width=0.5, color=['black', 'red', 'yellow'], source=strait_malacca_source, legend_label=['High', 'Medium', 'Low'])\n",
    "p3.xaxis.major_label_orientation = \"vertical\"\n",
    "\n",
    "tab_one = TabPanel(child=p1, title=\"Gulf of Guinea\")\n",
    "tab_two = TabPanel(child=p2, title=\"Gulf of Aden\")\n",
    "tab_three = TabPanel(child=p3, title=\"Strait of Malacca\")\n",
    "tabs_severity = Tabs(tabs=[tab_one, tab_two, tab_three])\n",
    "show(tabs_severity)\n",
    "\n",
    "# Save to disk\n",
    "# output_file(Path(\"./Results/severity_tabs.html\"))\n",
    "# save(tabs_severity, filename=Path(\"./Results/severity_tabs.html\"))"
   ]
  },
  {
   "cell_type": "markdown",
   "id": "27dfff8f-4eab-46d3-983e-3e50b90fabbc",
   "metadata": {},
   "source": [
    "# Import and Clean Dirty Data Frame\n",
    "## (after language-processing model)"
   ]
  },
  {
   "cell_type": "code",
   "execution_count": null,
   "id": "ee6d890a-c503-4df9-9969-2bd953dc25be",
   "metadata": {},
   "outputs": [],
   "source": [
    "# read in dirty data as a pandas data frame\n",
    "model_output_path = Path('./Data_Files/Model_Output.csv')\n",
    "model_output_df = pd.read_csv(model_output_path)\n",
    "model_output_df"
   ]
  },
  {
   "cell_type": "code",
   "execution_count": null,
   "id": "0796d6a0-9a25-494c-9aab-50759c8eeff1",
   "metadata": {},
   "outputs": [],
   "source": [
    "# add column called 'Vessel_Type' that generalizes the \"Ship Type' into 8 categories\n",
    "vessel_type_mapping_inverted = {v: k for k, vl in vessel_type_mapping.items() for v in vl}\n",
    "\n",
    "model_output_df['Vessel_Type'] = model_output_df['Ship Type'].replace(vessel_type_mapping_inverted)"
   ]
  },
  {
   "cell_type": "code",
   "execution_count": null,
   "id": "4d41576d-6628-4f83-8067-da39a05bd54d",
   "metadata": {},
   "outputs": [],
   "source": [
    "# change date into a datetime object\n",
    "model_output_df['Date'] = pd.to_datetime(model_output_df['Date'])"
   ]
  },
  {
   "cell_type": "code",
   "execution_count": null,
   "id": "7efbd83e-9af7-4ad0-97c7-60ea56f9c457",
   "metadata": {},
   "outputs": [],
   "source": [
    "# convert lat/lon to decimal\n",
    "def dms_to_decimal(loc_string):\n",
    "    '''Converts coordinates in dms to decimals.'''\n",
    "    pattern = '[\\d]+[.]*[\\d]*'\n",
    "    direction = loc_string[-1:]\n",
    "    matches = re.findall(pattern, loc_string)\n",
    "    degrees = int(matches[0])\n",
    "    minutes = float(matches[1])\n",
    "    \n",
    "    if direction in ['S', 'W']:\n",
    "        direction = -1\n",
    "    else: direction = 1\n",
    "    \n",
    "    return (degrees + minutes/60) * direction\n",
    "\n",
    "model_output_df['Lat_Dec'] = model_output_df['Latitude'].dropna().apply(dms_to_decimal)\n",
    "model_output_df['Lon_Dec'] = model_output_df['Longitude'].dropna().apply(dms_to_decimal)\n",
    "model_output_df"
   ]
  },
  {
   "cell_type": "code",
   "execution_count": null,
   "id": "ccb2d730-1029-4a28-b019-2bf7edf84213",
   "metadata": {},
   "outputs": [],
   "source": [
    "# Use ISO Number to determine Ship Flag\n",
    "imos_df = pd.read_csv(Path('Data_Files/imo-vessel-codes.csv'))\n",
    "iso2_df = pd.read_csv(Path('Data_Files/cocom_countries.csv'))\n",
    "\n",
    "# rename column in iso df to merge with the imos_df\n",
    "iso2_df = iso2_df.rename(columns={'iso_2': 'flag'})\n",
    "\n",
    "# adds 'country' column to iso df\n",
    "iso_flag_df = imos_df.merge(iso2_df[['flag', 'country']], on='flag', how='left')\n",
    "\n",
    "# ensures NaN flag values arent changed to 'Namibia'\n",
    "iso_flag_df.loc[iso_flag_df['flag'].isnull(), 'country'] = None\n",
    "\n",
    "# rename imo column to comply with name of column in dirty_pirate_df\n",
    "iso_flag_df = iso_flag_df.rename(columns={'imo': 'IMO No.'})\n",
    "\n",
    "# change imo data type to string\n",
    "iso_flag_df['IMO No.'] = iso_flag_df['IMO No.'].astype('str')\n",
    "\n",
    "# change imo data type to string\n",
    "model_output_df['IMO No.'] = model_output_df['IMO No.'].astype('str')\n",
    "\n",
    "# adds 'country' column to dirty_pirate_df\n",
    "model_output_df = model_output_df.merge(iso_flag_df[['IMO No.', 'country']], on='IMO No.', how='left')"
   ]
  },
  {
   "cell_type": "code",
   "execution_count": null,
   "id": "151d125c-d323-4506-b885-b926973980ad",
   "metadata": {},
   "outputs": [],
   "source": [
    "# Drop null values for lat/lon for mapping data\n",
    "map_dirty_pirate_df = model_output_df.dropna(subset=['Lat_Dec', 'Lon_Dec']) #drop lat/long nulls for a map"
   ]
  },
  {
   "cell_type": "code",
   "execution_count": null,
   "id": "d5d790d5-66d8-49b2-b26a-f7a86341b757",
   "metadata": {},
   "outputs": [],
   "source": [
    "#Strait of Malacca - from DIRTY data\n",
    "min_lat = -10\n",
    "max_lat = 10\n",
    "min_lon = 93\n",
    "max_lon = 150.0\n",
    "\n",
    "# Filter the DataFrame based on the range of latitude and longitude values make sure to use piracy_df_map bc null values will mess up the dataframe\n",
    "dirty_strait_malacca_df = map_dirty_pirate_df[(map_dirty_pirate_df['Lat_Dec'] >= min_lat) & (map_dirty_pirate_df['Lat_Dec'] <= max_lat) &\n",
    "                                  (map_dirty_pirate_df['Lon_Dec'] >= min_lon) & (map_dirty_pirate_df['Lon_Dec'] <= max_lon)]"
   ]
  },
  {
   "cell_type": "code",
   "execution_count": null,
   "id": "66f20348-86b3-4453-b990-c1794365b4d1",
   "metadata": {},
   "outputs": [],
   "source": [
    "#Gulf of Eden - from DIRTY data\n",
    "min_lat = 10\n",
    "max_lat = 20\n",
    "min_lon = 93\n",
    "max_lon = 110.0\n",
    "\n",
    "# Filter the DataFrame based on the range of latitude and longitude values make sure to use piracy_df_map bc null values will mess up the dataframe\n",
    "dirty_gulf_of_eden_df = map_dirty_pirate_df[(map_dirty_pirate_df['Lat_Dec'] >= min_lat) & (map_dirty_pirate_df['Lat_Dec'] <= max_lat) &\n",
    "                                  (map_dirty_pirate_df['Lon_Dec'] >= min_lon) & (map_dirty_pirate_df['Lon_Dec'] <= max_lon)]\n"
   ]
  },
  {
   "cell_type": "code",
   "execution_count": null,
   "id": "1ee0978e-02a0-410d-9b11-7da1f99ae0f2",
   "metadata": {},
   "outputs": [],
   "source": [
    "#Gulf of Guinea - from DIRTY data\n",
    "min_lat = -2\n",
    "max_lat = 7\n",
    "min_lon = -1\n",
    "max_lon = 10\n",
    "\n",
    "# Filter the DataFrame based on the range of latitude and longitude values make sure to use piracy_df_map bc null values will mess up the dataframe\n",
    "dirty_gulf_of_guinea_df = map_dirty_pirate_df[(map_dirty_pirate_df['Lat_Dec'] >= min_lat) & (map_dirty_pirate_df['Lat_Dec'] <= max_lat) &\n",
    "                                  (map_dirty_pirate_df['Lon_Dec'] >= min_lon) & (map_dirty_pirate_df['Lon_Dec'] <= max_lon)]"
   ]
  },
  {
   "cell_type": "code",
   "execution_count": null,
   "id": "ddc2bda0-99de-40a7-bb5b-4e19e95aee1b",
   "metadata": {},
   "outputs": [],
   "source": [
    "# Count the occurrence of each country and sort by country name\n",
    "country_counts = dirty_gulf_of_guinea_df['country'].value_counts().sort_index()\n",
    "\n",
    "# Create a histogram\n",
    "plt.figure(figsize=(10,6))\n",
    "country_counts.plot(kind='bar')\n",
    "plt.title('Piracy Incidents by Ship Flag - Gulf of Guinea')\n",
    "plt.xlabel('Country')\n",
    "plt.ylabel('Number of Incidents')\n",
    "plt.xticks(rotation=90)  # Rotate x-axis labels for better visibility\n",
    "plt.grid(axis='y')\n",
    "plt.show()"
   ]
  },
  {
   "cell_type": "code",
   "execution_count": null,
   "id": "f3518c02-b02a-4820-a28c-1c6cc72d9e62",
   "metadata": {},
   "outputs": [],
   "source": [
    "# change date into a datetime object in the clean dfs\n",
    "strait_malacca_df.loc[:,'Incident Date'] = pd.to_datetime(strait_malacca_df['Incident Date'])\n",
    "gulf_of_eden_df.loc[:,'Incident Date'] = pd.to_datetime(gulf_of_eden_df['Incident Date'])\n",
    "gulf_of_guinea_df.loc[:,'Incident Date'] = pd.to_datetime(gulf_of_guinea_df['Incident Date'])"
   ]
  },
  {
   "cell_type": "code",
   "execution_count": null,
   "id": "b76d990f-20d1-4434-a187-2bf1e6b7c1bf",
   "metadata": {},
   "outputs": [],
   "source": [
    "# Histogram that compares all incidents (dirty vs clean) for each country\n",
    "\n",
    "# Count the occurrence of each country and sort by country name\n",
    "dirty_counts = dirty_gulf_of_guinea_df['country'].value_counts().sort_index()\n",
    "clean_counts = gulf_of_guinea_df['Ship Flag'].value_counts().sort_index()\n",
    "\n",
    "# Create a DataFrame for seaborn\n",
    "df = pd.concat([dirty_counts.rename('dirty_counts'), clean_counts.rename('clean_counts')], axis=1)\n",
    "\n",
    "# Create a histogram\n",
    "plt.figure(figsize=(10,6))\n",
    "\n",
    "# Calculate the width of each bar\n",
    "width = 0.4\n",
    "\n",
    "# Create an array with the position of each bar along the x-axis\n",
    "r1 = np.arange(len(df['dirty_counts']))\n",
    "r2 = [x + width for x in r1]\n",
    "\n",
    "# Plot bars\n",
    "plt.bar(r1, df['dirty_counts'], color='blue', width=width, label='dirty_gulf_of_guinea_df')\n",
    "plt.bar(r2, df['clean_counts'], color='orange', width=width, label='gulf_of_guinea_df')\n",
    "\n",
    "# Add xticks on the middle of the group bars\n",
    "plt.xlabel('Country', fontweight='bold')\n",
    "plt.ylabel('Number of Incidents')\n",
    "plt.xticks([r + width / 2 for r in range(len(df['dirty_counts']))], df.index, rotation=90)\n",
    "\n",
    "plt.title('Piracy Incidents by Ship Flag - Gulf of Guinea')\n",
    "plt.legend()\n",
    "plt.show()\n"
   ]
  },
  {
   "cell_type": "code",
   "execution_count": null,
   "id": "31f1b6bf-5d49-4260-9dd7-db698c35e9cf",
   "metadata": {},
   "outputs": [],
   "source": [
    "# Histogram of the top 10 countries (dirty vs clean) involved in incidents\n",
    "# Region: Gulf of Guinea\n",
    "\n",
    "# Count the occurrence of each country and get the top 10\n",
    "dirty_counts = dirty_gulf_of_guinea_df['country'].value_counts().nlargest(10).sort_index()\n",
    "clean_counts = gulf_of_guinea_df['Ship Flag'].value_counts().nlargest(10).sort_index()\n",
    "\n",
    "# Create a DataFrame for seaborn\n",
    "df = pd.concat([dirty_counts.rename('dirty_counts'), clean_counts.rename('clean_counts')], axis=1)\n",
    "\n",
    "# Create a histogram\n",
    "plt.figure(figsize=(10,7))\n",
    "\n",
    "# Calculate the width of each bar\n",
    "width = 0.4\n",
    "\n",
    "# Create an array with the position of each bar along the x-axis\n",
    "r1 = np.arange(len(df['dirty_counts']))\n",
    "r2 = [x + width for x in r1]\n",
    "\n",
    "# Plot bars\n",
    "plt.bar(r1, df['dirty_counts'], color='olivedrab', width=width, label='Dirty Data Set')\n",
    "plt.bar(r2, df['clean_counts'], color='steelblue', width=width, label='Clean Data Set')\n",
    "\n",
    "# Add xticks on the middle of the group bars\n",
    "plt.xlabel('Country', fontsize=16)\n",
    "plt.ylabel('Number of Incidents', fontsize=16)\n",
    "plt.xticks([r + width / 2 for r in range(len(df['dirty_counts']))], df.index, rotation=45, fontsize=14, ha='right')\n",
    "\n",
    "plt.title('Piracy Incidents by Ship Flag - Gulf of Guinea\\nTop 10 Countries', fontsize=18)\n",
    "plt.legend()\n",
    "plt.grid(axis='y')\n",
    "plt.tight_layout()\n",
    "# plt.savefig(Path('./Results/'hist_gog.png'))\n",
    "plt.show()"
   ]
  },
  {
   "cell_type": "code",
   "execution_count": null,
   "id": "a8724727-2245-42b6-a608-677018fcf05e",
   "metadata": {},
   "outputs": [],
   "source": [
    "# Histogram of the top 10 countries (dirty vs clean) involved in incidents\n",
    "# Region: Gulf of Aden\n",
    "\n",
    "# Count the occurrence of each country and get the top 10\n",
    "dirty_counts = dirty_gulf_of_eden_df['country'].value_counts().nlargest(10).sort_index()\n",
    "clean_counts = gulf_of_eden_df['Ship Flag'].value_counts().nlargest(10).sort_index()\n",
    "\n",
    "# Create a DataFrame for seaborn\n",
    "df = pd.concat([dirty_counts.rename('dirty_counts'), clean_counts.rename('clean_counts')], axis=1)\n",
    "\n",
    "# Create a histogram\n",
    "plt.figure(figsize=(10,7))\n",
    "\n",
    "# Calculate the width of each bar\n",
    "width = 0.4\n",
    "\n",
    "# Create an array with the position of each bar along the x-axis\n",
    "r1 = np.arange(len(df['dirty_counts']))\n",
    "r2 = [x + width for x in r1]\n",
    "\n",
    "# Plot bars\n",
    "plt.bar(r1, df['dirty_counts'], color='olivedrab', width=width, label='Dirty Data Set')\n",
    "plt.bar(r2, df['clean_counts'], color='steelblue', width=width, label='Clean Data Set')\n",
    "\n",
    "# Add xticks on the middle of the group bars\n",
    "plt.xlabel('Country', fontsize=16)\n",
    "plt.ylabel('Number of Incidents', fontsize=16)\n",
    "plt.xticks([r + width / 2 for r in range(len(df['dirty_counts']))], df.index, rotation=45, fontsize=14, ha='right')\n",
    "\n",
    "plt.title('Piracy Incidents by Ship Flag - Gulf of Aden\\nTop 10 Countries', fontsize=18)\n",
    "plt.legend()\n",
    "plt.grid(axis='y')\n",
    "plt.tight_layout()\n",
    "# plt.savefig(Path('./Results/'hist_goa.png'))\n",
    "plt.show()"
   ]
  },
  {
   "cell_type": "code",
   "execution_count": null,
   "id": "622b4d77-94a0-49e0-b968-d5a28026af40",
   "metadata": {},
   "outputs": [],
   "source": [
    "# Histogram of the top 10 countries (dirty vs clean) involved in incidents\n",
    "# Region: Malacca Strait\n",
    "\n",
    "# Count the occurrence of each country and get the top 10\n",
    "dirty_counts = dirty_strait_malacca_df['country'].value_counts().nlargest(10).sort_index()\n",
    "clean_counts = strait_malacca_df['Ship Flag'].value_counts().nlargest(10).sort_index()\n",
    "\n",
    "# Create a DataFrame for seaborn\n",
    "df = pd.concat([dirty_counts.rename('dirty_counts'), clean_counts.rename('clean_counts')], axis=1)\n",
    "\n",
    "# Create a histogram\n",
    "plt.figure(figsize=(10,7))\n",
    "\n",
    "# Calculate the width of each bar\n",
    "width = 0.4\n",
    "\n",
    "# Create an array with the position of each bar along the x-axis\n",
    "r1 = np.arange(len(df['dirty_counts']))\n",
    "r2 = [x + width for x in r1]\n",
    "\n",
    "# Plot bars\n",
    "plt.bar(r1, df['dirty_counts'], color='olivedrab', width=width, label='Dirty Data Set')\n",
    "plt.bar(r2, df['clean_counts'], color='steelblue', width=width, label='Clean Data Set')\n",
    "\n",
    "# Add xticks on the middle of the group bars\n",
    "plt.xlabel('Country', fontsize=16)\n",
    "plt.ylabel('Number of Incidents', fontsize=16)\n",
    "plt.xticks([r + width / 2 for r in range(len(df['dirty_counts']))], df.index, rotation=45, fontsize=14, ha='right')\n",
    "\n",
    "plt.title('Piracy Incidents by Ship Flag - Malacca Strait\\nTop 10 Countries', fontsize=18)\n",
    "plt.legend()\n",
    "plt.grid(axis='y')\n",
    "plt.tight_layout()\n",
    "# plt.savefig(Path('./Results/'hist_ms.png'))\n",
    "plt.show()"
   ]
  },
  {
   "cell_type": "code",
   "execution_count": null,
   "id": "4ac30ae5-e387-4b13-b6f3-a28a405584be",
   "metadata": {},
   "outputs": [],
   "source": [
    "# Histogram of the top 10 countries (dirty vs clean) involved in incidents\n",
    "# Region: ALL - Worldwide\n",
    "\n",
    "# Count the occurrence of each country and get the top 10\n",
    "dirty_counts = model_output_df['country'].value_counts().nlargest(10).sort_index()\n",
    "clean_counts = piracy_df_original['Ship Flag'].value_counts().nlargest(10).sort_index()\n",
    "\n",
    "# Create a DataFrame for seaborn\n",
    "df = pd.concat([dirty_counts.rename('dirty_counts'), clean_counts.rename('clean_counts')], axis=1)\n",
    "\n",
    "# Create a histogram\n",
    "plt.figure(figsize=(10,7))\n",
    "\n",
    "# Calculate the width of each bar\n",
    "width = 0.4\n",
    "\n",
    "# Create an array with the position of each bar along the x-axis\n",
    "r1 = np.arange(len(df['dirty_counts']))\n",
    "r2 = [x + width for x in r1]\n",
    "\n",
    "# Plot bars\n",
    "plt.bar(r1, df['dirty_counts'], color='olivedrab', width=width, label='Dirty Data Set')\n",
    "plt.bar(r2, df['clean_counts'], color='steelblue', width=width, label='Clean Data Set')\n",
    "\n",
    "# Add xticks on the middle of the group bars\n",
    "plt.xlabel('Country', fontsize=16)\n",
    "plt.ylabel('Number of Incidents', fontsize=16)\n",
    "plt.xticks([r + width / 2 for r in range(len(df['dirty_counts']))], df.index, rotation=45, fontsize=14, ha='right')\n",
    "\n",
    "plt.title('Piracy Incidents by Ship Flag\\nTop 10 Countries', fontsize=18)\n",
    "plt.legend()\n",
    "plt.grid(axis='y')\n",
    "plt.tight_layout()\n",
    "# plt.savefig(Path('./Results/hist_all.png'))\n",
    "plt.show()\n"
   ]
  },
  {
   "cell_type": "code",
   "execution_count": null,
   "id": "55b2f9c7-19b8-400f-a048-88e5640b2aba",
   "metadata": {},
   "outputs": [],
   "source": [
    "# Line graph that plots dirty data incidents over time by region\n",
    "\n",
    "# Resample the data every three months and count the occurrences\n",
    "strait_malacca_counts = dirty_strait_malacca_df.resample('3M', on='Date')['country'].count()\n",
    "gulf_of_eden_counts = dirty_gulf_of_eden_df.resample('3M', on='Date')['country'].count()\n",
    "gulf_of_guinea_counts = dirty_gulf_of_guinea_df.resample('3M', on='Date')['country'].count()\n",
    "\n",
    "# Create a line graph\n",
    "fig, ax = plt.subplots(figsize=(12,4))\n",
    "\n",
    "ax.plot(strait_malacca_counts.index, strait_malacca_counts, color='blue', label='Strait of Malacca')\n",
    "ax.plot(gulf_of_eden_counts.index, gulf_of_eden_counts, color='orange', label='Gulf of Aden')\n",
    "ax.plot(gulf_of_guinea_counts.index, gulf_of_guinea_counts, color='green', label='Gulf of Guinea')\n",
    "\n",
    "ax.set_title('Piracy Incidents Over Time\\nDirty Data Set', fontsize=16)\n",
    "ax.set_xlabel('Date', fontsize=14)\n",
    "ax.set_ylabel('Number of Incidents', fontsize=14)\n",
    "\n",
    "# Set major ticks every three years and minor ticks every year\n",
    "ax.xaxis.set_major_locator(mdates.YearLocator(3))\n",
    "ax.xaxis.set_minor_locator(mdates.YearLocator(1))\n",
    "\n",
    "# Format x-tick labels as 4-digit years\n",
    "ax.xaxis.set_major_formatter(mdates.DateFormatter('%Y'))\n",
    "\n",
    "ax.set_xlim([pd.Timestamp('1994-07-01'), pd.Timestamp('2024-03-01')])\n",
    "ax.set_ylim(-1, 55)\n",
    "\n",
    "ax.legend()\n",
    "\n",
    "plt.grid()\n",
    "plt.tight_layout()\n",
    "# plt.savefig(Path('./Results/dirty_line.png'))\n",
    "plt.show()\n"
   ]
  },
  {
   "cell_type": "code",
   "execution_count": null,
   "id": "4081d78d-c65c-43ab-ae8f-4e4dd59d177e",
   "metadata": {},
   "outputs": [],
   "source": [
    "# Line graph that plots dirty data incidents over time by region\n",
    "\n",
    "# Resample the data every three months and count the occurrences\n",
    "strait_malacca_counts = strait_malacca_df.resample('3M', on='Incident Date')['Ship Flag'].count()\n",
    "gulf_of_eden_counts = gulf_of_eden_df.resample('3M', on='Incident Date')['Ship Flag'].count()\n",
    "gulf_of_guinea_counts = gulf_of_guinea_df.resample('3M', on='Incident Date')['Ship Flag'].count()\n",
    "\n",
    "# Create a line graph\n",
    "fig, ax = plt.subplots(figsize=(12,4))\n",
    "\n",
    "ax.plot(strait_malacca_counts.index, strait_malacca_counts, color='blue', label='Strait of Malacca')\n",
    "ax.plot(gulf_of_eden_counts.index, gulf_of_eden_counts, color='orange', label='Gulf of Aden')\n",
    "ax.plot(gulf_of_guinea_counts.index, gulf_of_guinea_counts, color='green', label='Gulf of Guinea')\n",
    "\n",
    "ax.set_title('Piracy Incidents Over Time\\nClean Data Set', fontsize=16)\n",
    "ax.set_xlabel('Date', fontsize=14)\n",
    "ax.set_ylabel('Number of Incidents', fontsize=14)\n",
    "\n",
    "# Set major ticks every three years and minor ticks every year\n",
    "ax.xaxis.set_major_locator(mdates.YearLocator(3))\n",
    "ax.xaxis.set_minor_locator(mdates.YearLocator(1))\n",
    "\n",
    "# Format x-tick labels as 4-digit years\n",
    "ax.xaxis.set_major_formatter(mdates.DateFormatter('%Y'))\n",
    "\n",
    "ax.set_xlim([pd.Timestamp('1994-07-01'), pd.Timestamp('2024-03-01')])\n",
    "ax.set_ylim(-1, 55)\n",
    "\n",
    "ax.legend()\n",
    "\n",
    "plt.grid()\n",
    "plt.tight_layout()\n",
    "# plt.savefig(Path('./Results/clean_line.png'))\n",
    "plt.show()\n"
   ]
  },
  {
   "cell_type": "code",
   "execution_count": null,
   "id": "acb66fb6-cf5d-4191-8cff-37ad86230897",
   "metadata": {},
   "outputs": [],
   "source": [
    "# Create a Folium map that displays the dirty data by severity\n",
    "\n",
    "# Create a map using Folium\n",
    "map_center = [map_dirty_pirate_df['Lat_Dec'].mean(), map_dirty_pirate_df['Lon_Dec'].mean()]\n",
    "m = folium.Map(location=map_center, zoom_start=4)\n",
    "\n",
    "# Add markers for vessel type, ship status, and country\n",
    "for index, row in map_dirty_pirate_df.iterrows():\n",
    "    popup_text = f\"Vessel Type: {row['Vessel_Type']}<br>Ship Name: {row['Ship Name']}<br>Ship Origin: {row['country']}<br>Latitude:{row['Lat_Dec']}<br>Longitude: {row['Lon_Dec']}\"\n",
    "    if row['BOARDED'] == row['HIJACKED'] == row['HOSTAGES_TAKEN'] == row['CREW_ASSAULTED'] == 0:\n",
    "        folium.CircleMarker(location=[row['Lat_Dec'], row['Lon_Dec']], radius=5, color='green', fill=True, fill_color='yellow', popup=popup_text).add_to(m)\n",
    "    elif (row['BOARDED'] == 1 or row['HIJACKED'] == 1) and row['HOSTAGES_TAKEN'] == row['CREW_ASSAULTED'] == 0:\n",
    "        folium.CircleMarker(location=[row['Lat_Dec'], row['Lon_Dec']], radius=5, color='yellow', fill=True, fill_color='yellow', popup=popup_text).add_to(m)\n",
    "    elif row['CREW_ASSAULTED'] == 1 and row['HOSTAGES_TAKEN'] == 0:\n",
    "        folium.CircleMarker(location=[row['Lat_Dec'], row['Lon_Dec']], radius=5, color='red', fill=True, fill_color='red', popup=popup_text).add_to(m)\n",
    "    elif row['HOSTAGES_TAKEN'] == 1:\n",
    "        folium.CircleMarker(location=[row['Lat_Dec'], row['Lon_Dec']], radius=5, color='black', fill=True, fill_color='black', popup=popup_text).add_to(m)\n",
    "\n",
    "\n",
    "top_left1 = [7, -1] #west neg \n",
    "bottom_right1 = [-2,10] #south eng \n",
    "Gulf_Guinea = folium.Rectangle(bounds=[top_left1, bottom_right1], color='black', fill=False)\n",
    "Gulf_Guinea.add_to(m)\n",
    "\n",
    "top_left2 = [20, 40] #west neg \n",
    "bottom_right2 = [10, 55.17] #south neg \n",
    "Gulf_Aden = folium.Rectangle(bounds=[top_left2, bottom_right2], color='black', fill=False)\n",
    "Gulf_Aden.add_to(m)\n",
    "\n",
    "top_left3 = [10, 93] #west neg \n",
    "bottom_right3 = [-10, 110] #south neg \n",
    "Strait_Malacca = folium.Rectangle(bounds=[top_left3, bottom_right3], color='black', fill=False)\n",
    "Strait_Malacca.add_to(m)\n",
    "\n",
    "#legend\n",
    "legend_html = '''\n",
    "     <div style=\"position: fixed; bottom: 50px; left: 50px; width: 175px; height: 150px; background-color: white; border:2px solid grey; z-index:9999; font-size:14px;\">\n",
    "     <p><strong>Legend</strong></p>\n",
    "     <p><i class=\"fa fa-circle fa-1x\" style=\"color:black\"></i> Severe</p>\n",
    "     <p><i class=\"fa fa-circle fa-1x\" style=\"color:red\"></i> Medium</p>\n",
    "     <p><i class=\"fa fa-circle fa-1x\" style=\"color:yellow\"></i> Low</p>\n",
    "     <p><i class=\"fa fa-circle fa-1x\" style=\"color:green\"></i> Unsuccessful Attempt</p>\n",
    "     </div>\n",
    "     '''\n",
    "m.get_root().html.add_child(folium.Element(legend_html))\n",
    "\n",
    "# Display the map\n",
    "m\n",
    "# m.save(Path('./Results/dirty_piracy_map.html'))"
   ]
  },
  {
   "cell_type": "code",
   "execution_count": null,
   "id": "0c98559e-5ca9-45bd-b254-35493fd7b5ae",
   "metadata": {},
   "outputs": [],
   "source": []
  }
 ],
 "metadata": {
  "kernelspec": {
   "display_name": "Python 3 (ipykernel)",
   "language": "python",
   "name": "python3"
  },
  "language_info": {
   "codemirror_mode": {
    "name": "ipython",
    "version": 3
   },
   "file_extension": ".py",
   "mimetype": "text/x-python",
   "name": "python",
   "nbconvert_exporter": "python",
   "pygments_lexer": "ipython3",
   "version": "3.11.5"
  }
 },
 "nbformat": 4,
 "nbformat_minor": 5
}

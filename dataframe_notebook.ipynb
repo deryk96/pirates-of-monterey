{
 "cells": [
  {
   "cell_type": "markdown",
   "source": [
    "# Notebook for doing pirate stuff with Pandas Dataframes"
   ],
   "metadata": {
    "collapsed": false
   },
   "id": "8408f006913589c4"
  },
  {
   "cell_type": "code",
   "outputs": [],
   "source": [
    "# Install spacy and language model (uncomment if needed)\n",
    "# !conda install -c conda-forge spacy -y\n",
    "# !python -m spacy download en_core_web_sm\n",
    "# !python -m spacy download en_core_web_md\n",
    "# !conda install torchvision -y\n",
    "# !conda install conda-forge::cupy -y"
   ],
   "metadata": {
    "collapsed": false
   },
   "id": "d952460584fcb6ae",
   "execution_count": null
  },
  {
   "cell_type": "code",
   "outputs": [],
   "source": [
    "# Import statements\n",
    "# import os\n",
    "import pandas as pd\n",
    "# import numpy as np\n",
    "import matplotlib.pyplot as plt\n",
    "import spacy\n",
    "# from spacy.matcher import Matcher\n",
    "from spacy import displacy\n",
    "from sklearn.metrics import confusion_matrix, classification_report\n",
    "from IPython.display import HTML as html_print\n",
    "from spacy_model import generate_matcher, html_generator, custom_matcher"
   ],
   "metadata": {
    "collapsed": false,
    "ExecuteTime": {
     "end_time": "2024-02-29T03:02:38.285968Z",
     "start_time": "2024-02-29T03:02:38.281775Z"
    }
   },
   "id": "57ade68fc81d9dda",
   "execution_count": 167
  },
  {
   "cell_type": "markdown",
   "source": [
    "### Original Data that Mike found:"
   ],
   "metadata": {
    "collapsed": false
   },
   "id": "fc9ebe0c8daee246"
  },
  {
   "cell_type": "code",
   "outputs": [
    {
     "data": {
      "text/plain": "     Incident Date      Ship Name            Ship Flag           Ship Type  \\\n0       2010-03-18       AL-ASA'A                Yemen                Dhow   \n1       2010-05-25       AL JAWAT                Yemen                Dhow   \n2       2011-02-13     AL FARDOUS                Yemen      Fishing vessel   \n3       2011-04-16      ABDI KHAN                Yemen      Fishing vessel   \n4       2012-01-14       AL WASIL                Yemen                Dhow   \n...            ...            ...                  ...                 ...   \n4809    2009-12-30      GULF ELAN              Bahamas     Chemical tanker   \n4810    2008-11-07     CEC FUTURE              Bahamas  General cargo ship   \n4811    2006-02-13    ASPEN ARROW              Bahamas  General cargo ship   \n4812    2009-10-24        ELLEN S  Antigua and Barbuda      Container ship   \n4813    2006-06-05  PRINCESS MARY  Antigua and Barbuda  General cargo ship   \n\n                         Area   Latitude   Longitude  \\\n0     In international waters        NaN         NaN   \n1     In international waters        NaN         NaN   \n2       In territorial waters        NaN         NaN   \n3     In international waters  11.900000   54.083333   \n4     In international waters        NaN         NaN   \n...                       ...        ...         ...   \n4809             In port area  22.690000  113.696667   \n4810  In international waters  12.766667   45.933333   \n4811             In port area        NaN         NaN   \n4812    In territorial waters  20.641667  106.880000   \n4813             In port area  -5.888000  106.088167   \n\n                 Consequences to Crew Part of Ship Raided Ship Status  \\\n0                       Ship Hijacked          Not Stated  Not Stated   \n1                       Ship Hijacked          Not Stated    Steaming   \n2                       Ship Hijacked          Not Stated    Steaming   \n3                       Ship Hijacked          Not Stated    Steaming   \n4                       Ship Hijacked          Not Stated    Steaming   \n...                               ...                 ...         ...   \n4809    No Consequences or Not Stated         Engine Room   At Anchor   \n4810                    Ship Hijacked         Engine Room    Steaming   \n4811    No Consequences or Not Stated         Engine Room   At Anchor   \n4812                     Not Reported         Engine Room   At Anchor   \n4813  Threat of Violence Against Crew         Engine Room   At Anchor   \n\n              Weapons Used  Flag - Crew Injuries  Flag - Crew Held Hostage  \\\n0     None or Not Reported                 False                      True   \n1     None or Not Reported                 False                     False   \n2     None or Not Reported                 False                     False   \n3     None or Not Reported                 False                      True   \n4     None or Not Reported                 False                      True   \n...                    ...                   ...                       ...   \n4809  None or Not Reported                 False                     False   \n4810  None or Not Reported                 False                      True   \n4811  None or Not Reported                 False                     False   \n4812  None or Not Reported                 False                     False   \n4813                Knives                 False                     False   \n\n      Flag - Crew Missing  Flag - Crew Deaths  Flag - Crew Assaulted  \n0                   False               False                  False  \n1                   False               False                  False  \n2                   False               False                  False  \n3                   False               False                  False  \n4                   False               False                  False  \n...                   ...                 ...                    ...  \n4809                False               False                  False  \n4810                False               False                  False  \n4811                False               False                  False  \n4812                False               False                  False  \n4813                False               False                  False  \n\n[4814 rows x 16 columns]",
      "text/html": "<div>\n<style scoped>\n    .dataframe tbody tr th:only-of-type {\n        vertical-align: middle;\n    }\n\n    .dataframe tbody tr th {\n        vertical-align: top;\n    }\n\n    .dataframe thead th {\n        text-align: right;\n    }\n</style>\n<table border=\"1\" class=\"dataframe\">\n  <thead>\n    <tr style=\"text-align: right;\">\n      <th></th>\n      <th>Incident Date</th>\n      <th>Ship Name</th>\n      <th>Ship Flag</th>\n      <th>Ship Type</th>\n      <th>Area</th>\n      <th>Latitude</th>\n      <th>Longitude</th>\n      <th>Consequences to Crew</th>\n      <th>Part of Ship Raided</th>\n      <th>Ship Status</th>\n      <th>Weapons Used</th>\n      <th>Flag - Crew Injuries</th>\n      <th>Flag - Crew Held Hostage</th>\n      <th>Flag - Crew Missing</th>\n      <th>Flag - Crew Deaths</th>\n      <th>Flag - Crew Assaulted</th>\n    </tr>\n  </thead>\n  <tbody>\n    <tr>\n      <th>0</th>\n      <td>2010-03-18</td>\n      <td>AL-ASA'A</td>\n      <td>Yemen</td>\n      <td>Dhow</td>\n      <td>In international waters</td>\n      <td>NaN</td>\n      <td>NaN</td>\n      <td>Ship Hijacked</td>\n      <td>Not Stated</td>\n      <td>Not Stated</td>\n      <td>None or Not Reported</td>\n      <td>False</td>\n      <td>True</td>\n      <td>False</td>\n      <td>False</td>\n      <td>False</td>\n    </tr>\n    <tr>\n      <th>1</th>\n      <td>2010-05-25</td>\n      <td>AL JAWAT</td>\n      <td>Yemen</td>\n      <td>Dhow</td>\n      <td>In international waters</td>\n      <td>NaN</td>\n      <td>NaN</td>\n      <td>Ship Hijacked</td>\n      <td>Not Stated</td>\n      <td>Steaming</td>\n      <td>None or Not Reported</td>\n      <td>False</td>\n      <td>False</td>\n      <td>False</td>\n      <td>False</td>\n      <td>False</td>\n    </tr>\n    <tr>\n      <th>2</th>\n      <td>2011-02-13</td>\n      <td>AL FARDOUS</td>\n      <td>Yemen</td>\n      <td>Fishing vessel</td>\n      <td>In territorial waters</td>\n      <td>NaN</td>\n      <td>NaN</td>\n      <td>Ship Hijacked</td>\n      <td>Not Stated</td>\n      <td>Steaming</td>\n      <td>None or Not Reported</td>\n      <td>False</td>\n      <td>False</td>\n      <td>False</td>\n      <td>False</td>\n      <td>False</td>\n    </tr>\n    <tr>\n      <th>3</th>\n      <td>2011-04-16</td>\n      <td>ABDI KHAN</td>\n      <td>Yemen</td>\n      <td>Fishing vessel</td>\n      <td>In international waters</td>\n      <td>11.900000</td>\n      <td>54.083333</td>\n      <td>Ship Hijacked</td>\n      <td>Not Stated</td>\n      <td>Steaming</td>\n      <td>None or Not Reported</td>\n      <td>False</td>\n      <td>True</td>\n      <td>False</td>\n      <td>False</td>\n      <td>False</td>\n    </tr>\n    <tr>\n      <th>4</th>\n      <td>2012-01-14</td>\n      <td>AL WASIL</td>\n      <td>Yemen</td>\n      <td>Dhow</td>\n      <td>In international waters</td>\n      <td>NaN</td>\n      <td>NaN</td>\n      <td>Ship Hijacked</td>\n      <td>Not Stated</td>\n      <td>Steaming</td>\n      <td>None or Not Reported</td>\n      <td>False</td>\n      <td>True</td>\n      <td>False</td>\n      <td>False</td>\n      <td>False</td>\n    </tr>\n    <tr>\n      <th>...</th>\n      <td>...</td>\n      <td>...</td>\n      <td>...</td>\n      <td>...</td>\n      <td>...</td>\n      <td>...</td>\n      <td>...</td>\n      <td>...</td>\n      <td>...</td>\n      <td>...</td>\n      <td>...</td>\n      <td>...</td>\n      <td>...</td>\n      <td>...</td>\n      <td>...</td>\n      <td>...</td>\n    </tr>\n    <tr>\n      <th>4809</th>\n      <td>2009-12-30</td>\n      <td>GULF ELAN</td>\n      <td>Bahamas</td>\n      <td>Chemical tanker</td>\n      <td>In port area</td>\n      <td>22.690000</td>\n      <td>113.696667</td>\n      <td>No Consequences or Not Stated</td>\n      <td>Engine Room</td>\n      <td>At Anchor</td>\n      <td>None or Not Reported</td>\n      <td>False</td>\n      <td>False</td>\n      <td>False</td>\n      <td>False</td>\n      <td>False</td>\n    </tr>\n    <tr>\n      <th>4810</th>\n      <td>2008-11-07</td>\n      <td>CEC FUTURE</td>\n      <td>Bahamas</td>\n      <td>General cargo ship</td>\n      <td>In international waters</td>\n      <td>12.766667</td>\n      <td>45.933333</td>\n      <td>Ship Hijacked</td>\n      <td>Engine Room</td>\n      <td>Steaming</td>\n      <td>None or Not Reported</td>\n      <td>False</td>\n      <td>True</td>\n      <td>False</td>\n      <td>False</td>\n      <td>False</td>\n    </tr>\n    <tr>\n      <th>4811</th>\n      <td>2006-02-13</td>\n      <td>ASPEN ARROW</td>\n      <td>Bahamas</td>\n      <td>General cargo ship</td>\n      <td>In port area</td>\n      <td>NaN</td>\n      <td>NaN</td>\n      <td>No Consequences or Not Stated</td>\n      <td>Engine Room</td>\n      <td>At Anchor</td>\n      <td>None or Not Reported</td>\n      <td>False</td>\n      <td>False</td>\n      <td>False</td>\n      <td>False</td>\n      <td>False</td>\n    </tr>\n    <tr>\n      <th>4812</th>\n      <td>2009-10-24</td>\n      <td>ELLEN S</td>\n      <td>Antigua and Barbuda</td>\n      <td>Container ship</td>\n      <td>In territorial waters</td>\n      <td>20.641667</td>\n      <td>106.880000</td>\n      <td>Not Reported</td>\n      <td>Engine Room</td>\n      <td>At Anchor</td>\n      <td>None or Not Reported</td>\n      <td>False</td>\n      <td>False</td>\n      <td>False</td>\n      <td>False</td>\n      <td>False</td>\n    </tr>\n    <tr>\n      <th>4813</th>\n      <td>2006-06-05</td>\n      <td>PRINCESS MARY</td>\n      <td>Antigua and Barbuda</td>\n      <td>General cargo ship</td>\n      <td>In port area</td>\n      <td>-5.888000</td>\n      <td>106.088167</td>\n      <td>Threat of Violence Against Crew</td>\n      <td>Engine Room</td>\n      <td>At Anchor</td>\n      <td>Knives</td>\n      <td>False</td>\n      <td>False</td>\n      <td>False</td>\n      <td>False</td>\n      <td>False</td>\n    </tr>\n  </tbody>\n</table>\n<p>4814 rows × 16 columns</p>\n</div>"
     },
     "execution_count": 82,
     "metadata": {},
     "output_type": "execute_result"
    }
   ],
   "source": [
    "# Read clean csv\n",
    "piracy_df_original = pd.read_csv('Data_Files/[Clean] IMO Piracy - 2000 to 2022 (PDV 01-2023).csv')\n",
    "\n",
    "# Convert dates to datetime object\n",
    "piracy_df_original['Incident Date'] = pd.to_datetime(piracy_df_original['Incident Date'], format='%m/%d/%Y')\n",
    "\n",
    "# pd.concat([piracy_df_original.head(), piracy_df_original.tail()])\n",
    "piracy_df_original"
   ],
   "metadata": {
    "collapsed": false,
    "ExecuteTime": {
     "end_time": "2024-02-27T17:18:56.931846Z",
     "start_time": "2024-02-27T17:18:56.903311Z"
    }
   },
   "id": "e641642c3f8ce11f",
   "execution_count": 82
  },
  {
   "cell_type": "code",
   "outputs": [],
   "source": [
    "# Go forth and do great things"
   ],
   "metadata": {
    "collapsed": false,
    "ExecuteTime": {
     "end_time": "2024-02-25T17:14:32.030139Z",
     "start_time": "2024-02-25T17:14:32.028208Z"
    }
   },
   "id": "6386cfad61816156",
   "execution_count": 31
  },
  {
   "cell_type": "markdown",
   "source": [
    "### New data straight from the International Maritime Organization:\n",
    "Note: This data is uncleaned and is dirtier than the decks of the Flying Dutchman."
   ],
   "metadata": {
    "collapsed": false
   },
   "id": "efd132741809ad5e"
  },
  {
   "cell_type": "code",
   "outputs": [
    {
     "data": {
      "text/plain": "           Date          Ship Name             Ship Type  IMO No.  \\\n0    1994-07-22  PAVELS STERNBERGS                Reefer  7362366   \n1    1994-09-09           BONSELLA                   NaN      NaN   \n2    1994-10-23            SIBOELF  Ore/Bulk/oil carrier  9011935   \n3    1994-10-26       TROPICAL SUN                   NaN      NaN   \n4    1994-11-17             ANOMIS                   NaN  7233711   \n...         ...                ...                   ...      ...   \n8551 2024-01-09        CMB Chikako          Bulk carrier  9701190   \n8552 2024-01-12         Solar Roma        Product tanker  9887372   \n8553 2024-01-14      Name Withheld            Oil tanker      NaN   \n8554 2024-01-14      Name Withheld           Supply ship      NaN   \n8555 2024-01-25     Aurora Diamond           Supply ship  9648025   \n\n                       Area      Latitude      Longitude  \\\n0     In territorial waters           NaN            NaN   \n1     In territorial waters           NaN            NaN   \n2              In port area           NaN            NaN   \n3              In port area           NaN            NaN   \n4     In territorial waters           NaN            NaN   \n...                     ...           ...            ...   \n8551  In territorial waters   1° 03.00' N  103° 39.59' E   \n8552           In port area   1° 43.29' N  101° 25.72' E   \n8553           In port area  21° 50.84' N   91° 41.84' E   \n8554           In port area   6° 05.00' S   12° 15.00' E   \n8555           In port area   8° 44.40' S   13° 17.20' E   \n\n                                       Incident details  \\\n0     Ship boarded by seven men armed with big cable...   \n1     Twenty-six bandits posing as Coast Guard hijac...   \n2     6-7 pirates wearing masks, armed with pistols ...   \n3     Ship attacked with mortar shells which fell ab...   \n4     Boat opened fire on ship after trying unsucces...   \n...                                                 ...   \n8551  Five robbers armed with a knife, boarded a shi...   \n8552  Duty security patrol onboard an anchored tanke...   \n8553  D/O onboard an anchored tanker noticed a small...   \n8554  Unnoticed, thieves boarded an anchored offshor...   \n8555  Unauthorised persons boarded an anchored offsh...   \n\n                              Consequences for crew etc  \\\n0     Deck watchman was slightly wounded and some sh...   \n1                         Ship's cargo and money stolen   \n2         Personal belongings and cash stolen from crew   \n3                                                   NaN   \n4                                                     -   \n...                                                 ...   \n8551  The robbers took hostage and tied up one of th...   \n8552                                                Nil   \n8553                                               Nil    \n8554                           Ship’s properties stolen   \n8555                               Ship’s store stolen    \n\n                            Action taken by master/crew  Reported?  \\\n0     Chief officer and other crew members came to t...       True   \n1                                                     -       True   \n2     The watchman saw the pirates and informed term...       True   \n3                                                     -       True   \n4                                                     -       True   \n...                                                 ...        ...   \n8551                     Alarm raised and crew mustered       True   \n8552                                      Alarm raised        True   \n8553                    Alarm raised, and crew mustered       True   \n8554                                                Nil       True   \n8555                           Search light switched on       True   \n\n                             Reported to... Reporting State  \n0     Incident reported to Port Authorities          Latvia  \n1                                       Yes   United States  \n2                         Terminal informed          Norway  \n3                                       Yes   United States  \n4                                       Yes   United States  \n...                                     ...             ...  \n8551                        VTIS Singapore              NaN  \n8552                    Dumai port control              NaN  \n8553           Port control and Coast Guard             NaN  \n8554                                    NaN             NaN  \n8555                          Port control              NaN  \n\n[8556 rows x 13 columns]",
      "text/html": "<div>\n<style scoped>\n    .dataframe tbody tr th:only-of-type {\n        vertical-align: middle;\n    }\n\n    .dataframe tbody tr th {\n        vertical-align: top;\n    }\n\n    .dataframe thead th {\n        text-align: right;\n    }\n</style>\n<table border=\"1\" class=\"dataframe\">\n  <thead>\n    <tr style=\"text-align: right;\">\n      <th></th>\n      <th>Date</th>\n      <th>Ship Name</th>\n      <th>Ship Type</th>\n      <th>IMO No.</th>\n      <th>Area</th>\n      <th>Latitude</th>\n      <th>Longitude</th>\n      <th>Incident details</th>\n      <th>Consequences for crew etc</th>\n      <th>Action taken by master/crew</th>\n      <th>Reported?</th>\n      <th>Reported to...</th>\n      <th>Reporting State</th>\n    </tr>\n  </thead>\n  <tbody>\n    <tr>\n      <th>0</th>\n      <td>1994-07-22</td>\n      <td>PAVELS STERNBERGS</td>\n      <td>Reefer</td>\n      <td>7362366</td>\n      <td>In territorial waters</td>\n      <td>NaN</td>\n      <td>NaN</td>\n      <td>Ship boarded by seven men armed with big cable...</td>\n      <td>Deck watchman was slightly wounded and some sh...</td>\n      <td>Chief officer and other crew members came to t...</td>\n      <td>True</td>\n      <td>Incident reported to Port Authorities</td>\n      <td>Latvia</td>\n    </tr>\n    <tr>\n      <th>1</th>\n      <td>1994-09-09</td>\n      <td>BONSELLA</td>\n      <td>NaN</td>\n      <td>NaN</td>\n      <td>In territorial waters</td>\n      <td>NaN</td>\n      <td>NaN</td>\n      <td>Twenty-six bandits posing as Coast Guard hijac...</td>\n      <td>Ship's cargo and money stolen</td>\n      <td>-</td>\n      <td>True</td>\n      <td>Yes</td>\n      <td>United States</td>\n    </tr>\n    <tr>\n      <th>2</th>\n      <td>1994-10-23</td>\n      <td>SIBOELF</td>\n      <td>Ore/Bulk/oil carrier</td>\n      <td>9011935</td>\n      <td>In port area</td>\n      <td>NaN</td>\n      <td>NaN</td>\n      <td>6-7 pirates wearing masks, armed with pistols ...</td>\n      <td>Personal belongings and cash stolen from crew</td>\n      <td>The watchman saw the pirates and informed term...</td>\n      <td>True</td>\n      <td>Terminal informed</td>\n      <td>Norway</td>\n    </tr>\n    <tr>\n      <th>3</th>\n      <td>1994-10-26</td>\n      <td>TROPICAL SUN</td>\n      <td>NaN</td>\n      <td>NaN</td>\n      <td>In port area</td>\n      <td>NaN</td>\n      <td>NaN</td>\n      <td>Ship attacked with mortar shells which fell ab...</td>\n      <td>NaN</td>\n      <td>-</td>\n      <td>True</td>\n      <td>Yes</td>\n      <td>United States</td>\n    </tr>\n    <tr>\n      <th>4</th>\n      <td>1994-11-17</td>\n      <td>ANOMIS</td>\n      <td>NaN</td>\n      <td>7233711</td>\n      <td>In territorial waters</td>\n      <td>NaN</td>\n      <td>NaN</td>\n      <td>Boat opened fire on ship after trying unsucces...</td>\n      <td>-</td>\n      <td>-</td>\n      <td>True</td>\n      <td>Yes</td>\n      <td>United States</td>\n    </tr>\n    <tr>\n      <th>...</th>\n      <td>...</td>\n      <td>...</td>\n      <td>...</td>\n      <td>...</td>\n      <td>...</td>\n      <td>...</td>\n      <td>...</td>\n      <td>...</td>\n      <td>...</td>\n      <td>...</td>\n      <td>...</td>\n      <td>...</td>\n      <td>...</td>\n    </tr>\n    <tr>\n      <th>8551</th>\n      <td>2024-01-09</td>\n      <td>CMB Chikako</td>\n      <td>Bulk carrier</td>\n      <td>9701190</td>\n      <td>In territorial waters</td>\n      <td>1° 03.00' N</td>\n      <td>103° 39.59' E</td>\n      <td>Five robbers armed with a knife, boarded a shi...</td>\n      <td>The robbers took hostage and tied up one of th...</td>\n      <td>Alarm raised and crew mustered</td>\n      <td>True</td>\n      <td>VTIS Singapore</td>\n      <td>NaN</td>\n    </tr>\n    <tr>\n      <th>8552</th>\n      <td>2024-01-12</td>\n      <td>Solar Roma</td>\n      <td>Product tanker</td>\n      <td>9887372</td>\n      <td>In port area</td>\n      <td>1° 43.29' N</td>\n      <td>101° 25.72' E</td>\n      <td>Duty security patrol onboard an anchored tanke...</td>\n      <td>Nil</td>\n      <td>Alarm raised</td>\n      <td>True</td>\n      <td>Dumai port control</td>\n      <td>NaN</td>\n    </tr>\n    <tr>\n      <th>8553</th>\n      <td>2024-01-14</td>\n      <td>Name Withheld</td>\n      <td>Oil tanker</td>\n      <td>NaN</td>\n      <td>In port area</td>\n      <td>21° 50.84' N</td>\n      <td>91° 41.84' E</td>\n      <td>D/O onboard an anchored tanker noticed a small...</td>\n      <td>Nil</td>\n      <td>Alarm raised, and crew mustered</td>\n      <td>True</td>\n      <td>Port control and Coast Guard</td>\n      <td>NaN</td>\n    </tr>\n    <tr>\n      <th>8554</th>\n      <td>2024-01-14</td>\n      <td>Name Withheld</td>\n      <td>Supply ship</td>\n      <td>NaN</td>\n      <td>In port area</td>\n      <td>6° 05.00' S</td>\n      <td>12° 15.00' E</td>\n      <td>Unnoticed, thieves boarded an anchored offshor...</td>\n      <td>Ship’s properties stolen</td>\n      <td>Nil</td>\n      <td>True</td>\n      <td>NaN</td>\n      <td>NaN</td>\n    </tr>\n    <tr>\n      <th>8555</th>\n      <td>2024-01-25</td>\n      <td>Aurora Diamond</td>\n      <td>Supply ship</td>\n      <td>9648025</td>\n      <td>In port area</td>\n      <td>8° 44.40' S</td>\n      <td>13° 17.20' E</td>\n      <td>Unauthorised persons boarded an anchored offsh...</td>\n      <td>Ship’s store stolen</td>\n      <td>Search light switched on</td>\n      <td>True</td>\n      <td>Port control</td>\n      <td>NaN</td>\n    </tr>\n  </tbody>\n</table>\n<p>8556 rows × 13 columns</p>\n</div>"
     },
     "execution_count": 182,
     "metadata": {},
     "output_type": "execute_result"
    }
   ],
   "source": [
    "# Read dirty csv\n",
    "piracy_df_imo = pd.read_csv('Data_Files/[Dirty]_ListOfIncidents_IMO.csv')\n",
    "\n",
    "# Drop columns we don't need\n",
    "piracy_df_imo.drop(columns=['Boarded?', 'MSC/Circ', 'Coastal State Action Taken'], inplace=True)\n",
    "\n",
    "# Convert Date column to DateTime Objects\n",
    "piracy_df_imo['Date'] = pd.to_datetime(piracy_df_imo['Date'], format='%m/%d/%y')\n",
    "\n",
    "# Show whatever you want\n",
    "# pd.concat([piracy_df_imo.head(), piracy_df_imo.tail()])\n",
    "piracy_df_imo"
   ],
   "metadata": {
    "collapsed": false,
    "ExecuteTime": {
     "end_time": "2024-02-29T03:13:39.635089Z",
     "start_time": "2024-02-29T03:13:39.562642Z"
    }
   },
   "id": "c80246363ebbb602",
   "execution_count": 182
  },
  {
   "cell_type": "code",
   "outputs": [
    {
     "name": "stdout",
     "output_type": "stream",
     "text": [
      "<class 'pandas.core.frame.DataFrame'>\n",
      "RangeIndex: 8556 entries, 0 to 8555\n",
      "Data columns (total 13 columns):\n",
      " #   Column                       Non-Null Count  Dtype         \n",
      "---  ------                       --------------  -----         \n",
      " 0   Date                         8556 non-null   datetime64[ns]\n",
      " 1   Ship Name                    8409 non-null   object        \n",
      " 2   Ship Type                    8206 non-null   object        \n",
      " 3   IMO No.                      7213 non-null   object        \n",
      " 4   Area                         8550 non-null   object        \n",
      " 5   Latitude                     4537 non-null   object        \n",
      " 6   Longitude                    4575 non-null   object        \n",
      " 7   Incident details             8551 non-null   object        \n",
      " 8   Consequences for crew etc    8068 non-null   object        \n",
      " 9   Action taken by master/crew  8171 non-null   object        \n",
      " 10  Reported?                    8556 non-null   bool          \n",
      " 11  Reported to...               6705 non-null   object        \n",
      " 12  Reporting State              861 non-null    object        \n",
      "dtypes: bool(1), datetime64[ns](1), object(11)\n",
      "memory usage: 810.6+ KB\n"
     ]
    }
   ],
   "source": [
    "# Go forth and make Steve Urkel proud\n",
    "piracy_df_imo.info()"
   ],
   "metadata": {
    "collapsed": false,
    "ExecuteTime": {
     "end_time": "2024-02-29T03:13:41.472774Z",
     "start_time": "2024-02-29T03:13:41.462724Z"
    }
   },
   "id": "249ca0e20b7cb1b7",
   "execution_count": 183
  },
  {
   "cell_type": "code",
   "outputs": [],
   "source": [
    "# Plot histogram of incidents over the years\n",
    "fig, ax = plt.subplots()\n",
    "\n",
    "piracy_df_imo['Date'].hist(bins=30, ax=ax)\n",
    "plt.title('Histogram of Recorded Piracy Incidents (1994-2024)')\n",
    "plt.xlabel('Year')\n",
    "plt.ylabel('Frequency')"
   ],
   "metadata": {
    "collapsed": false
   },
   "id": "b6a696d3a6e6898b",
   "execution_count": null
  },
  {
   "cell_type": "markdown",
   "source": [
    "# Find keywords in incident details using Spacy\n",
    "Reference: https://towardsdatascience.com/structured-natural-language-processing-with-pandas-and-spacy-7089e66d2b10"
   ],
   "metadata": {
    "collapsed": false
   },
   "id": "cf807990d3b4c2c4"
  },
  {
   "cell_type": "markdown",
   "source": [
    "Ideas:\n",
    "- Build categories (cats) and assign them to each noun chunk\n",
    "    - Categories: hijacked, boarded, hostages, theft, ship missing, crew member abducted/kidnapped, ship fired upon, casualties\n",
    "- Set extension as interesting with keywords in lemma column\n",
    "- Add IMO No. to doc metadata (context): Can't find a way to efficiently do this\n",
    "- Set date as index"
   ],
   "metadata": {
    "collapsed": false
   },
   "id": "cd51857ebe2827ee"
  },
  {
   "cell_type": "markdown",
   "source": [
    "## Let's train a Matcher object for rule-based matching"
   ],
   "metadata": {
    "collapsed": false
   },
   "id": "1259579b8ef92548"
  },
  {
   "cell_type": "code",
   "outputs": [],
   "source": [
    "# Generate 500 random rows of training data for our categorization\n",
    "# DON'T OVERWRITE OUR TRAINING DATA\n",
    "\n",
    "# piracy_df_imo.sample(n=500).to_csv('./Data_Files/training_data.csv')"
   ],
   "metadata": {
    "collapsed": false
   },
   "id": "92d8b6c4ab7a787"
  },
  {
   "cell_type": "code",
   "outputs": [],
   "source": [
    "# Load language model, disable 'named entity recognition'\n",
    "nlp = spacy.load('en_core_web_md', disable=['ner'])"
   ],
   "metadata": {
    "collapsed": false
   },
   "id": "3d25210d9042575a"
  },
  {
   "cell_type": "code",
   "outputs": [
    {
     "data": {
      "text/plain": "     Boarded_label  Hijacked_label  \\\n0                0               0   \n1                0               0   \n2                1               0   \n3                0               0   \n4                0               0   \n..             ...             ...   \n495              1               0   \n496              1               0   \n497              1               1   \n498              1               0   \n499              1               0   \n\n                                      Incident_details  \n0    A small wooden boat with four pirates approach...  \n1    Two robbers in a wooden boat came alongside an...  \n2    Three robbers armed with long knives boarded a...  \n3    A pirate boat attempted to board the ship whil...  \n4    Two boats were spotted near the anchor chain e...  \n..                                                 ...  \n495  A speedboat with five pirates wearing camoufla...  \n496  Two robbers boarded an anchored ship using a h...  \n497  Pirates attacked and hijacked the ship underwa...  \n498  Five robbers armed with guns boarded an anchor...  \n499    While at anchor, armed robbers boarded the ship  \n\n[500 rows x 3 columns]",
      "text/html": "<div>\n<style scoped>\n    .dataframe tbody tr th:only-of-type {\n        vertical-align: middle;\n    }\n\n    .dataframe tbody tr th {\n        vertical-align: top;\n    }\n\n    .dataframe thead th {\n        text-align: right;\n    }\n</style>\n<table border=\"1\" class=\"dataframe\">\n  <thead>\n    <tr style=\"text-align: right;\">\n      <th></th>\n      <th>Boarded_label</th>\n      <th>Hijacked_label</th>\n      <th>Incident_details</th>\n    </tr>\n  </thead>\n  <tbody>\n    <tr>\n      <th>0</th>\n      <td>0</td>\n      <td>0</td>\n      <td>A small wooden boat with four pirates approach...</td>\n    </tr>\n    <tr>\n      <th>1</th>\n      <td>0</td>\n      <td>0</td>\n      <td>Two robbers in a wooden boat came alongside an...</td>\n    </tr>\n    <tr>\n      <th>2</th>\n      <td>1</td>\n      <td>0</td>\n      <td>Three robbers armed with long knives boarded a...</td>\n    </tr>\n    <tr>\n      <th>3</th>\n      <td>0</td>\n      <td>0</td>\n      <td>A pirate boat attempted to board the ship whil...</td>\n    </tr>\n    <tr>\n      <th>4</th>\n      <td>0</td>\n      <td>0</td>\n      <td>Two boats were spotted near the anchor chain e...</td>\n    </tr>\n    <tr>\n      <th>...</th>\n      <td>...</td>\n      <td>...</td>\n      <td>...</td>\n    </tr>\n    <tr>\n      <th>495</th>\n      <td>1</td>\n      <td>0</td>\n      <td>A speedboat with five pirates wearing camoufla...</td>\n    </tr>\n    <tr>\n      <th>496</th>\n      <td>1</td>\n      <td>0</td>\n      <td>Two robbers boarded an anchored ship using a h...</td>\n    </tr>\n    <tr>\n      <th>497</th>\n      <td>1</td>\n      <td>1</td>\n      <td>Pirates attacked and hijacked the ship underwa...</td>\n    </tr>\n    <tr>\n      <th>498</th>\n      <td>1</td>\n      <td>0</td>\n      <td>Five robbers armed with guns boarded an anchor...</td>\n    </tr>\n    <tr>\n      <th>499</th>\n      <td>1</td>\n      <td>0</td>\n      <td>While at anchor, armed robbers boarded the ship</td>\n    </tr>\n  </tbody>\n</table>\n<p>500 rows × 3 columns</p>\n</div>"
     },
     "execution_count": 168,
     "metadata": {},
     "output_type": "execute_result"
    }
   ],
   "source": [
    "# Import training data\n",
    "training_data = pd.read_csv('./Data_Files/training_data.csv')\n",
    "\n",
    "# Set up flag columns for when the NLP happens\n",
    "training_data['BOARDED'] = 0\n",
    "training_data['HIJACKED'] = 0\n",
    "\n",
    "# Display result\n",
    "training_data.loc[:,['Boarded_label', 'Hijacked_label', 'Incident_details']]"
   ],
   "metadata": {
    "collapsed": false,
    "ExecuteTime": {
     "end_time": "2024-02-29T03:02:43.357110Z",
     "start_time": "2024-02-29T03:02:43.348080Z"
    }
   },
   "id": "8b589bd370a390",
   "execution_count": 168
  },
  {
   "cell_type": "code",
   "outputs": [],
   "source": [
    "# Create matcher and docs. Place in training_df with bool values\n",
    "matcher = generate_matcher(nlp)\n",
    "docs = list(nlp.pipe(training_data.loc[:,'Incident_details']))\n",
    "training_data = custom_matcher(training_data, docs, matcher)\n",
    "# training_data.head(50).loc[:,['Boarded', 'BOARDED', 'Incident_details']]"
   ],
   "metadata": {
    "collapsed": false,
    "ExecuteTime": {
     "end_time": "2024-02-29T03:02:46.493658Z",
     "start_time": "2024-02-29T03:02:44.491717Z"
    }
   },
   "id": "36076b61294a5687",
   "execution_count": 169
  },
  {
   "cell_type": "code",
   "outputs": [
    {
     "name": "stdout",
     "output_type": "stream",
     "text": [
      "0 total false negatives.\n"
     ]
    },
    {
     "data": {
      "text/plain": "<IPython.core.display.HTML object>",
      "text/html": ""
     },
     "execution_count": 170,
     "metadata": {},
     "output_type": "execute_result"
    }
   ],
   "source": [
    "# Find all false negatives\n",
    "false_negative = (training_data.loc[lambda d: d['Boarded_label'] == 1]\n",
    "                               .loc[lambda d:       d['BOARDED'] == 0]['Incident_details'])\n",
    "\n",
    "# Print all false negatives\n",
    "print(f'{len(false_negative)} total false negatives.')\n",
    "html_print(html_generator((nlp(i) for i in false_negative), matcher=matcher, n=len(false_negative)))"
   ],
   "metadata": {
    "collapsed": false,
    "ExecuteTime": {
     "end_time": "2024-02-29T03:02:47.233498Z",
     "start_time": "2024-02-29T03:02:47.228594Z"
    }
   },
   "id": "b858f78805d09b5f",
   "execution_count": 170
  },
  {
   "cell_type": "code",
   "outputs": [
    {
     "name": "stdout",
     "output_type": "stream",
     "text": [
      "4 total false positives.\n"
     ]
    },
    {
     "data": {
      "text/plain": "<IPython.core.display.HTML object>",
      "text/html": "<text><text>Robbers</text> <text>in</text> <text>four</text> <text>fast</text> <text>boats</text> <text>attempted</text> <text>to</text> <text>board</text> <text>the</text> <text>ship</text> <text>underway</text> <text>.</text> <text>Master</text> <text>raised</text> <text>alarm</text> <text>,</text> <text>activated</text> <text>fire</text> <text>hoses</text> <text>,</text> <text>switched</text> <text>on</text> <text>deck</text> <text>lights</text> <text>and</text> <text>took</text> <text>evasive</text> <text>manoeuvres</text> <text>and</text> <text>crew</text> <text>directed</text> <text>searchlights</text> <text>towards</text> <text>the</text> <text>boats</text> <text>.</text> <text>The</text> <b style='background-color: #fff59d'><text>robbers</text></b> <b style='background-color: #fff59d'><text>escaped</text></b><br></text><text><text>A</text> <text>high</text> <text>speed</text> <text>boat</text> <text>with</text> <text>2</text> <text>-</text> <text>3</text> <b style='background-color: #fff59d'><text>pirates</text></b> <b style='background-color: #fff59d'><text>on</text></b> <b style='background-color: #fff59d'><text>board</text></b> <text>attempted</text> <text>to</text> <text>board</text> <text>the</text> <text>ship</text> <text>but</text> <text>when</text> <text>the</text> <text>crew</text> <text>lit</text> <text>up</text> <text>the</text> <text>area</text> <text>by</text> <text>signal</text> <text>light</text> <text>,</text> <text>pirates</text> <text>turned</text> <text>away</text><br></text><text><text>Duty</text> <text>watchmen</text> <text>on</text> <text>-</text> <text>board</text> <text>an</text> <text>anchored</text> <text>tanker</text> <text>noticed</text> <text>three</text> <text>robbers</text> <text>attempting</text> <text>to</text> <text>board</text> <text>the</text> <text>tanker</text> <text>and</text> <text>immediately</text> <text>notified</text> <text>the</text> <text>officer</text> <text>on</text> <text>watch</text> <text>.</text> <text>Alarm</text> <text>raised</text> <text>and</text> <text>crew</text> <text>mustered</text> <text>.</text> <text>Seeing</text> <text>the</text> <text>alerted</text> <text>crew</text> <text>,</text> <text>the</text> <b style='background-color: #fff59d'><text>robbers</text></b> <b style='background-color: #fff59d'><text>escaped</text></b> <text>empty</text> <text>handed</text> <text>.</text> <text>Incident</text> <text>reported</text> <text>to</text> <text>the</text> <text>Nigerian</text> <text>Navy</text> <text>and</text> <text>a</text> <text>patrol</text> <text>boat</text> <text>was</text> <text>dispatched</text> <text>to</text> <text>investigate</text> <text>.</text><br></text><text><text>Two</text> <text>robbers</text> <text>attempted</text> <text>to</text> <text>board</text> <text>the</text> <text>berthed</text> <text>ship</text> <text>by</text> <text>climbing</text> <text>the</text> <text>stern</text> <text>mooring</text> <text>rope</text> <text>.</text> <text>Alert</text> <text>duty</text> <text>crew</text> <text>noticed</text> <text>the</text> <text>robbers</text> <text>and</text> <text>informed</text> <text>the</text> <text>OOW</text> <text>who</text> <text>raised</text> <text>the</text> <text>alarm</text> <text>and</text> <text>crew</text> <text>mustered</text> <text>.</text> <text>Upon</text> <text>seeing</text> <text>the</text> <text>crew</text> <text>alertness</text> <text>,</text> <text>the</text> <b style='background-color: #fff59d'><text>robbers</text></b> <b style='background-color: #fff59d'><text>jumped</text></b> <b style='background-color: #fff59d'><text>into</text></b> <text>the</text> <text>water</text> <text>and</text> <text>escaped</text> <text>in</text> <text>a</text> <text>small</text> <text>craft</text> <text>.</text><br></text>"
     },
     "execution_count": 171,
     "metadata": {},
     "output_type": "execute_result"
    }
   ],
   "source": [
    "# Find all false positives\n",
    "false_positive = (training_data.loc[lambda d: d['Boarded_label'] == 0]\n",
    "                               .loc[lambda d: d['BOARDED'] == 1]['Incident_details'])\n",
    "\n",
    "# Print false positives using html_print and html_generator functions\n",
    "print(f'{len(false_positive)} total false positives.')\n",
    "html_print(html_generator((nlp(i) for i in false_positive), matcher=matcher, n=len(false_positive)))"
   ],
   "metadata": {
    "collapsed": false,
    "ExecuteTime": {
     "end_time": "2024-02-29T03:02:48.473309Z",
     "start_time": "2024-02-29T03:02:48.439074Z"
    }
   },
   "id": "2488a8cb1f4b3364",
   "execution_count": 171
  },
  {
   "cell_type": "code",
   "outputs": [
    {
     "data": {
      "text/plain": "array([[171,   4],\n       [  0, 325]])"
     },
     "execution_count": 172,
     "metadata": {},
     "output_type": "execute_result"
    }
   ],
   "source": [
    "# Make confusion matrix\n",
    "confusion_matrix(training_data['Boarded_label'], training_data['BOARDED'])"
   ],
   "metadata": {
    "collapsed": false,
    "ExecuteTime": {
     "end_time": "2024-02-29T03:02:49.991952Z",
     "start_time": "2024-02-29T03:02:49.987649Z"
    }
   },
   "id": "9f8df29aac3a4bf9",
   "execution_count": 172
  },
  {
   "cell_type": "code",
   "outputs": [
    {
     "name": "stdout",
     "output_type": "stream",
     "text": [
      "              precision    recall  f1-score   support\n",
      "\n",
      "           0       1.00      0.98      0.99       175\n",
      "           1       0.99      1.00      0.99       325\n",
      "\n",
      "    accuracy                           0.99       500\n",
      "   macro avg       0.99      0.99      0.99       500\n",
      "weighted avg       0.99      0.99      0.99       500\n"
     ]
    }
   ],
   "source": [
    "# Boarded performance report\n",
    "print(classification_report(training_data['Boarded_label'], training_data['BOARDED']))"
   ],
   "metadata": {
    "collapsed": false,
    "ExecuteTime": {
     "end_time": "2024-02-29T03:02:51.487464Z",
     "start_time": "2024-02-29T03:02:51.478924Z"
    }
   },
   "id": "3b5a03657a297abd",
   "execution_count": 173
  },
  {
   "cell_type": "code",
   "outputs": [
    {
     "data": {
      "text/plain": "array([[474,   3],\n       [  0,  23]])"
     },
     "execution_count": 174,
     "metadata": {},
     "output_type": "execute_result"
    }
   ],
   "source": [
    "# Hijacked confusion matrix\n",
    "confusion_matrix(training_data['Hijacked_label'], training_data['HIJACKED'])"
   ],
   "metadata": {
    "collapsed": false,
    "ExecuteTime": {
     "end_time": "2024-02-29T03:02:53.513796Z",
     "start_time": "2024-02-29T03:02:53.509403Z"
    }
   },
   "id": "120077c33bca4ee1",
   "execution_count": 174
  },
  {
   "cell_type": "code",
   "outputs": [
    {
     "name": "stdout",
     "output_type": "stream",
     "text": [
      "              precision    recall  f1-score   support\n",
      "\n",
      "           0       1.00      0.99      1.00       477\n",
      "           1       0.88      1.00      0.94        23\n",
      "\n",
      "    accuracy                           0.99       500\n",
      "   macro avg       0.94      1.00      0.97       500\n",
      "weighted avg       0.99      0.99      0.99       500\n"
     ]
    }
   ],
   "source": [
    "# Hijacked performance report\n",
    "print(classification_report(training_data['Hijacked_label'], training_data['HIJACKED']))"
   ],
   "metadata": {
    "collapsed": false,
    "ExecuteTime": {
     "end_time": "2024-02-29T03:29:37.080018Z",
     "start_time": "2024-02-29T03:29:37.073546Z"
    }
   },
   "id": "e916e9ed6785a5ba",
   "execution_count": 189
  },
  {
   "cell_type": "markdown",
   "source": [
    "## Now let's use our trained matcher on the full piracy_df_imo database."
   ],
   "metadata": {
    "collapsed": false
   },
   "id": "c69ba6d759f7ce6d"
  },
  {
   "cell_type": "code",
   "outputs": [],
   "source": [
    "# Add necessary columns, initialize to zeros\n",
    "piracy_df_imo['BOARDED'] = 0\n",
    "piracy_df_imo['HIJACKED'] = 0\n",
    "\n",
    "# Mask out null incident details and IMO No.s\n",
    "# Null IMO Numbers are just observations and not actual incidents\n",
    "msk = piracy_df_imo['Incident details'].notna() & piracy_df_imo['IMO No.'].notna()\n",
    "piracy_df_imo_masked = piracy_df_imo[msk].copy()\n",
    "\n",
    "# Create docs out of all the \n",
    "df_docs = list(nlp.pipe(piracy_df_imo_masked.loc[:,'Incident details']))\n",
    "\n",
    "# Make the matcher\n",
    "matcher = generate_matcher(nlp)\n",
    "\n",
    "# Apply matcher to the database. Typically takes ~33 seconds to execute\n",
    "piracy_df_imo_masked = custom_matcher(piracy_df_imo_masked, df_docs, matcher)"
   ],
   "metadata": {
    "collapsed": false,
    "ExecuteTime": {
     "end_time": "2024-02-29T03:47:05.910238Z",
     "start_time": "2024-02-29T03:46:32.712319Z"
    }
   },
   "id": "4b900f62b4d062ec",
   "execution_count": 191
  },
  {
   "cell_type": "code",
   "outputs": [
    {
     "data": {
      "text/plain": "                                       Incident details  BOARDED  HIJACKED\n0     Ship boarded by seven men armed with big cable...      0.0       0.0\n2     6-7 pirates wearing masks, armed with pistols ...      0.0       0.0\n4     Boat opened fire on ship after trying unsucces...      1.0       0.0\n6     Chased aggressively by a high speed unlit, uni...      1.0       0.0\n7     Whilst awaiting pilot, two men boarded the shi...      1.0       0.0\n...                                                 ...      ...       ...\n7193                                                NaN      1.0       0.0\n7194                                                NaN      0.0       0.0\n7198                                                NaN      1.0       1.0\n7199                                                NaN      1.0       0.0\n7200                                                NaN      1.0       0.0\n\n[8355 rows x 3 columns]",
      "text/html": "<div>\n<style scoped>\n    .dataframe tbody tr th:only-of-type {\n        vertical-align: middle;\n    }\n\n    .dataframe tbody tr th {\n        vertical-align: top;\n    }\n\n    .dataframe thead th {\n        text-align: right;\n    }\n</style>\n<table border=\"1\" class=\"dataframe\">\n  <thead>\n    <tr style=\"text-align: right;\">\n      <th></th>\n      <th>Incident details</th>\n      <th>BOARDED</th>\n      <th>HIJACKED</th>\n    </tr>\n  </thead>\n  <tbody>\n    <tr>\n      <th>0</th>\n      <td>Ship boarded by seven men armed with big cable...</td>\n      <td>0.0</td>\n      <td>0.0</td>\n    </tr>\n    <tr>\n      <th>2</th>\n      <td>6-7 pirates wearing masks, armed with pistols ...</td>\n      <td>0.0</td>\n      <td>0.0</td>\n    </tr>\n    <tr>\n      <th>4</th>\n      <td>Boat opened fire on ship after trying unsucces...</td>\n      <td>1.0</td>\n      <td>0.0</td>\n    </tr>\n    <tr>\n      <th>6</th>\n      <td>Chased aggressively by a high speed unlit, uni...</td>\n      <td>1.0</td>\n      <td>0.0</td>\n    </tr>\n    <tr>\n      <th>7</th>\n      <td>Whilst awaiting pilot, two men boarded the shi...</td>\n      <td>1.0</td>\n      <td>0.0</td>\n    </tr>\n    <tr>\n      <th>...</th>\n      <td>...</td>\n      <td>...</td>\n      <td>...</td>\n    </tr>\n    <tr>\n      <th>7193</th>\n      <td>NaN</td>\n      <td>1.0</td>\n      <td>0.0</td>\n    </tr>\n    <tr>\n      <th>7194</th>\n      <td>NaN</td>\n      <td>0.0</td>\n      <td>0.0</td>\n    </tr>\n    <tr>\n      <th>7198</th>\n      <td>NaN</td>\n      <td>1.0</td>\n      <td>1.0</td>\n    </tr>\n    <tr>\n      <th>7199</th>\n      <td>NaN</td>\n      <td>1.0</td>\n      <td>0.0</td>\n    </tr>\n    <tr>\n      <th>7200</th>\n      <td>NaN</td>\n      <td>1.0</td>\n      <td>0.0</td>\n    </tr>\n  </tbody>\n</table>\n<p>8355 rows × 3 columns</p>\n</div>"
     },
     "execution_count": 188,
     "metadata": {},
     "output_type": "execute_result"
    }
   ],
   "source": [
    "# Show result\n",
    "piracy_df_imo_masked.loc[:,['Incident details','BOARDED', 'HIJACKED']]"
   ],
   "metadata": {
    "collapsed": false,
    "ExecuteTime": {
     "end_time": "2024-02-29T03:26:26.913099Z",
     "start_time": "2024-02-29T03:26:26.907766Z"
    }
   },
   "id": "a0a12d418541c709",
   "execution_count": 188
  },
  {
   "cell_type": "markdown",
   "source": [
    "Doesn't do very well on the full dataset...need to make better"
   ],
   "metadata": {
    "collapsed": false
   },
   "id": "316fd2fc4489ebf0"
  },
  {
   "cell_type": "markdown",
   "source": [
    "## Other things"
   ],
   "metadata": {
    "collapsed": false
   },
   "id": "ba1aa0c70224aa31"
  },
  {
   "cell_type": "code",
   "outputs": [],
   "source": [],
   "metadata": {
    "collapsed": false
   },
   "id": "20d258f481acab20"
  }
 ],
 "metadata": {
  "kernelspec": {
   "display_name": "Python 3",
   "language": "python",
   "name": "python3"
  },
  "language_info": {
   "codemirror_mode": {
    "name": "ipython",
    "version": 2
   },
   "file_extension": ".py",
   "mimetype": "text/x-python",
   "name": "python",
   "nbconvert_exporter": "python",
   "pygments_lexer": "ipython2",
   "version": "2.7.6"
  }
 },
 "nbformat": 4,
 "nbformat_minor": 5
}

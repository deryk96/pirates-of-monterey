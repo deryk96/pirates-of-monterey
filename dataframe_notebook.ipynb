{
 "cells": [
  {
   "cell_type": "markdown",
   "source": [
    "# Notebook for building and testing a Token-Based Matcher and SpanCat spaCy Model"
   ],
   "metadata": {
    "collapsed": false
   },
   "id": "8408f006913589c4"
  },
  {
   "cell_type": "code",
   "outputs": [],
   "source": [
    "# Set up autoreload for our modules in the spacy_model.py file\n",
    "%load_ext autoreload\n",
    "%autoreload 2"
   ],
   "metadata": {
    "collapsed": false
   },
   "id": "5346cfd667479837",
   "execution_count": null
  },
  {
   "cell_type": "code",
   "outputs": [],
   "source": [
    "# Install spacy and language model (uncomment if needed)\n",
    "# !conda install -c conda-forge spacy -y\n",
    "# !python -m spacy download en_core_web_md\n",
    "# !conda install torchvision -y\n",
    "# !conda install conda-forge::cupy -y"
   ],
   "metadata": {
    "collapsed": false
   },
   "id": "d952460584fcb6ae",
   "execution_count": null
  },
  {
   "cell_type": "code",
   "outputs": [],
   "source": [
    "# Import statements\n",
    "import pandas as pd\n",
    "import spacy\n",
    "from spacy import displacy\n",
    "from sklearn.metrics import confusion_matrix, classification_report\n",
    "from IPython.display import HTML as html_print\n",
    "from spacy_model import generate_matcher, html_generator, custom_matcher, model_interpreter\n",
    "from pathlib import Path\n",
    "from spacy.tokens import Span"
   ],
   "metadata": {
    "collapsed": false
   },
   "id": "57ade68fc81d9dda",
   "execution_count": null
  },
  {
   "cell_type": "markdown",
   "source": [
    "### Dirty data straight from the International Maritime Organization:\n",
    "Note: This data is uncleaned and is dirtier than the decks of the Flying Dutchman."
   ],
   "metadata": {
    "collapsed": false
   },
   "id": "efd132741809ad5e"
  },
  {
   "cell_type": "code",
   "outputs": [],
   "source": [
    "# Read dirty csv\n",
    "piracy_dirty_path = Path('Data_Files/[Dirty]_ListOfIncidents_IMO.csv')\n",
    "piracy_df_imo = pd.read_csv(piracy_dirty_path)\n",
    "\n",
    "# Drop columns we don't need\n",
    "piracy_df_imo.drop(columns=['Boarded?', 'MSC/Circ', 'Coastal State Action Taken'], inplace=True)\n",
    "\n",
    "# Ensure no NaNs in Lat/Lon and Incident details columns\n",
    "piracy_df_imo = piracy_df_imo[piracy_df_imo.loc[:,'Incident details'].notna()]\n",
    "\n",
    "# Convert Date column to DateTime Objects\n",
    "piracy_df_imo['Date'] = pd.to_datetime(piracy_df_imo['Date'], format='%m/%d/%y')\n",
    "\n",
    "# Show whatever you want\n",
    "# pd.concat([piracy_df_imo.head(), piracy_df_imo.tail()])\n",
    "piracy_df_imo.head(10)"
   ],
   "metadata": {
    "collapsed": false
   },
   "id": "c80246363ebbb602",
   "execution_count": null
  },
  {
   "cell_type": "markdown",
   "source": [
    "## Find keywords in incident details using Spacy using Token Matcher \n",
    "Reference: https://towardsdatascience.com/structured-natural-language-processing-with-pandas-and-spacy-7089e66d2b10"
   ],
   "metadata": {
    "collapsed": false
   },
   "id": "cf807990d3b4c2c4"
  },
  {
   "cell_type": "code",
   "outputs": [],
   "source": [
    "# Generate 500 random rows of training data for our categorization\n",
    "# DON'T OVERWRITE OUR TRAINING DATA\n",
    "training_data_path = Path('./Data_Files/training_data.csv')\n",
    "# piracy_df_imo.sample(n=500).to_csv(training_data_path)"
   ],
   "metadata": {
    "collapsed": false
   },
   "id": "92d8b6c4ab7a787",
   "execution_count": null
  },
  {
   "cell_type": "code",
   "outputs": [],
   "source": [
    "# Load language model, disable 'named entity recognition'\n",
    "nlp = spacy.load('en_core_web_md', disable=['ner'])"
   ],
   "metadata": {
    "collapsed": false
   },
   "id": "3d25210d9042575a",
   "execution_count": null
  },
  {
   "cell_type": "code",
   "outputs": [],
   "source": [
    "# Import training data\n",
    "training_data = pd.read_csv(training_data_path)\n",
    "\n",
    "# Set up flag columns for when the NLP happens\n",
    "training_data['BOARDED'] = 0\n",
    "training_data['HIJACKED'] = 0\n",
    "\n",
    "# Display result\n",
    "training_data.loc[:,['Boarded_label', 'Hijacked_label', 'Incident_details']].head(10)"
   ],
   "metadata": {
    "collapsed": false
   },
   "id": "8b589bd370a390",
   "execution_count": null
  },
  {
   "cell_type": "code",
   "outputs": [],
   "source": [
    "# Create matcher and docs. Place found tags in training_df with bool values\n",
    "matcher = generate_matcher(nlp)\n",
    "docs = list(nlp.pipe(training_data.loc[:,'Incident_details']))\n",
    "training_data = custom_matcher(training_data, docs, matcher)\n",
    "training_data.head(10).loc[:,['Boarded_label', 'BOARDED', 'Incident_details']]"
   ],
   "metadata": {
    "collapsed": false
   },
   "id": "36076b61294a5687",
   "execution_count": null
  },
  {
   "cell_type": "code",
   "outputs": [],
   "source": [
    "# Find all false negatives\n",
    "false_negative = (training_data.loc[lambda d: d['Boarded_label'] == 1]\n",
    "                               .loc[lambda d: d['BOARDED'] == 0]['Incident_details'])\n",
    "\n",
    "# Print all false negatives\n",
    "print(f'{len(false_negative)} total false negatives.')\n",
    "html_print(html_generator((nlp(i) for i in false_negative), matcher=matcher, n=len(false_negative)))"
   ],
   "metadata": {
    "collapsed": false
   },
   "id": "b858f78805d09b5f",
   "execution_count": null
  },
  {
   "cell_type": "code",
   "outputs": [],
   "source": [
    "# Find all false positives\n",
    "false_positive = (training_data.loc[lambda d: d['Boarded_label'] == 0]\n",
    "                               .loc[lambda d: d['BOARDED'] == 1]['Incident_details'])\n",
    "\n",
    "# Print false positives using html_print and html_generator functions\n",
    "print(f'{len(false_positive)} total false positives.')\n",
    "html_print(html_generator((nlp(i) for i in false_positive), matcher=matcher, n=len(false_positive)))"
   ],
   "metadata": {
    "collapsed": false
   },
   "id": "2488a8cb1f4b3364",
   "execution_count": null
  },
  {
   "cell_type": "code",
   "outputs": [],
   "source": [
    "# Boarded confusion matrix\n",
    "confusion_matrix(training_data['Boarded_label'], training_data['BOARDED'])"
   ],
   "metadata": {
    "collapsed": false
   },
   "id": "9f8df29aac3a4bf9",
   "execution_count": null
  },
  {
   "cell_type": "code",
   "outputs": [],
   "source": [
    "# Boarded performance report\n",
    "print(classification_report(training_data['Boarded_label'], training_data['BOARDED']))"
   ],
   "metadata": {
    "collapsed": false
   },
   "id": "3b5a03657a297abd",
   "execution_count": null
  },
  {
   "cell_type": "code",
   "outputs": [],
   "source": [
    "# Hijacked confusion matrix\n",
    "confusion_matrix(training_data['Hijacked_label'], training_data['HIJACKED'])"
   ],
   "metadata": {
    "collapsed": false
   },
   "id": "120077c33bca4ee1",
   "execution_count": null
  },
  {
   "cell_type": "code",
   "outputs": [],
   "source": [
    "# Hijacked performance report\n",
    "print(classification_report(training_data['Hijacked_label'], training_data['HIJACKED']))"
   ],
   "metadata": {
    "collapsed": false
   },
   "id": "e916e9ed6785a5ba",
   "execution_count": null
  },
  {
   "cell_type": "markdown",
   "source": [
    "## Now let's use our trained matcher on the full piracy_df_imo database.\n",
    "Takes about 30 seconds to run."
   ],
   "metadata": {
    "collapsed": false
   },
   "id": "c69ba6d759f7ce6d"
  },
  {
   "cell_type": "code",
   "outputs": [],
   "source": [
    "# Add necessary columns, initialize to zeros\n",
    "piracy_df_imo['BOARDED'] = 0\n",
    "piracy_df_imo['HIJACKED'] = 0\n",
    "\n",
    "# Mask out null incident details and IMO No.s\n",
    "# Null IMO Numbers are just observations and not actual incidents\n",
    "msk = piracy_df_imo['Incident details'].notna() & piracy_df_imo['IMO No.'].notna()\n",
    "piracy_df_imo_masked = piracy_df_imo[msk].copy()\n",
    "\n",
    "# Create docs out of all the \n",
    "df_docs = list(nlp.pipe(piracy_df_imo_masked.loc[:,'Incident details']))\n",
    "\n",
    "# Make the matcher\n",
    "matcher = generate_matcher(nlp)\n",
    "\n",
    "# Apply matcher to the database. Typically, takes ~33 seconds to execute\n",
    "piracy_df_imo_masked = custom_matcher(piracy_df_imo_masked, df_docs, matcher)"
   ],
   "metadata": {
    "collapsed": false
   },
   "id": "4b900f62b4d062ec",
   "execution_count": null
  },
  {
   "cell_type": "code",
   "outputs": [],
   "source": [
    "# Show result\n",
    "piracy_df_imo_masked.loc[:,['Incident details','BOARDED', 'HIJACKED']]"
   ],
   "metadata": {
    "collapsed": false
   },
   "id": "a0a12d418541c709",
   "execution_count": null
  },
  {
   "cell_type": "markdown",
   "source": [
    "Doesn't do very well on the full dataset...need to make better with a trained statistical model"
   ],
   "metadata": {
    "collapsed": false
   },
   "id": "316fd2fc4489ebf0"
  },
  {
   "cell_type": "markdown",
   "source": [
    "### Create and train a Span Categorization model that will detect and label spans with boarded, hijacked, assaulted, hostages taken"
   ],
   "metadata": {
    "collapsed": false
   },
   "id": "276a9f1e7d4d05b"
  },
  {
   "cell_type": "code",
   "outputs": [],
   "source": [
    "# Shuffle the data frame and output tuples with (incident text, boarded_label, hijacked_label)\n",
    "# These labels are ones that we manually read and put into the training data.\n",
    "shuffled_df = list(training_data[['Incident_details','Boarded_label', 'Hijacked_label']]\n",
    "                   .sample(frac=1).itertuples(index=False, name=None))\n",
    "\n",
    "# Split out data into training (75%), dev (15%), test (10%)\n",
    "train_data = shuffled_df[:375]\n",
    "dev_data = shuffled_df[375:450]\n",
    "test_data = shuffled_df[450:500]\n",
    "\n",
    "# Print lengths\n",
    "print(f\"Boarded Total: {len(shuffled_df)} - Train:  {len(train_data)} - Dev: {len(dev_data)} - Test: {len(test_data)}\")"
   ],
   "metadata": {
    "collapsed": false
   },
   "id": "4782a38b63509813",
   "execution_count": null
  },
  {
   "cell_type": "code",
   "outputs": [],
   "source": [
    "# Make sure we have enough hijacked examples in each category\n",
    "# If not enough examples in each category, rerun above cell\n",
    "train = dev = test = 0\n",
    "for tup in train_data:\n",
    "    if tup[2] == 1:\n",
    "        train += 1\n",
    "for tup in dev_data:\n",
    "    if tup[2] == 1:\n",
    "        # print(tup)\n",
    "        dev += 1\n",
    "for tup in test_data:\n",
    "    if tup[2] == 1:\n",
    "        test += 1\n",
    "print(f'{train = }, {dev = }, {test = }')"
   ],
   "metadata": {
    "collapsed": false
   },
   "id": "3cee0702b31948e6",
   "execution_count": null
  },
  {
   "cell_type": "code",
   "outputs": [],
   "source": [
    "# Add spans with our custom tags to all our texts\n",
    "# Texts must be doc objects, then add spans found with the matcher we made above\n",
    "# Transform data to binary file (DocBin) in Spacy_Files folder\n",
    "def convert(data_list, outfile):\n",
    "    db = spacy.tokens.DocBin()\n",
    "\n",
    "    # Assign boarded/hijacked categories (cats) to docs\n",
    "    for tup in data_list:\n",
    "        # Convert text to doc\n",
    "        doc = nlp(tup[0])\n",
    "\n",
    "        # Assign span cats based on matcher\n",
    "        matches = matcher(doc)\n",
    "        \n",
    "        # Add spans with labels to doc\n",
    "        doc.spans['sc'] = [Span(doc, start, end, label=nlp.vocab.strings[match_id]) \n",
    "                           for match_id, start, end in matches]\n",
    "        \n",
    "        # Print resulting spans to test\n",
    "        # for span in doc.spans['sc']:\n",
    "        #     print(span.text, span.start, span.label_)\n",
    "        \n",
    "        db.add(doc)\n",
    "\n",
    "    # Save DocBin at outfile's path\n",
    "    db.to_disk(Path(outfile))\n",
    "    # return db\n",
    "\n",
    "# Test function\n",
    "# convert(train_data, '')\n",
    "\n",
    "# Convert all 3 datasets to DocBins. Output to disk\n",
    "# Comment out to prevent overwriting the data we used\n",
    "# convert(train_data, './Spacy_Files/train.spacy')\n",
    "# print('Train saved')\n",
    "# convert(dev_data, './Spacy_Files/dev.spacy')\n",
    "# print('Dev saved')\n",
    "# convert(test_data, './Spacy_Files/test.spacy')\n",
    "# print('Test saved')"
   ],
   "metadata": {
    "collapsed": false
   },
   "id": "6afebd8d5fd25d06",
   "execution_count": null
  },
  {
   "cell_type": "code",
   "outputs": [],
   "source": [
    "# Fill the config file for SpanCat training\n",
    "# Config file downloaded from https://spacy.io/usage/training#quickstart\n",
    "# !python -m spacy init fill-config ./Spacy_Files/sc_base_config.cfg ./Spacy_Files/sc_config.cfg --diff"
   ],
   "metadata": {
    "collapsed": false
   },
   "id": "13507236893bf98b",
   "execution_count": null
  },
  {
   "cell_type": "code",
   "outputs": [],
   "source": [
    "# Initiate training using command line and config file downloaded from spacy.io\n",
    "# !python -m spacy train ./Spacy_Files/sc_config.cfg --paths.train ./Spacy_Files/train.spacy --paths.dev ./Spacy_Files/dev.spacy --output ./Spacy_Files/model --verbose"
   ],
   "metadata": {
    "collapsed": false
   },
   "id": "49dfddc815b50ca5",
   "execution_count": null
  },
  {
   "cell_type": "code",
   "outputs": [],
   "source": [
    "# Evaluate the model based on the test data created above\n",
    "# !python -m spacy evaluate ./Spacy_Files/model/model-best/ ./Spacy_Files/test.spacy"
   ],
   "metadata": {
    "collapsed": false
   },
   "id": "75d42b64251baf3",
   "execution_count": null
  },
  {
   "cell_type": "code",
   "outputs": [],
   "source": [
    "# Load our new model from disk\n",
    "nlp_custom = spacy.load(Path('./Spacy_Files/model/model-best'))"
   ],
   "metadata": {
    "collapsed": false
   },
   "id": "a8aac0b0f5ce41fe",
   "execution_count": null
  },
  {
   "cell_type": "code",
   "outputs": [],
   "source": [
    "hijack_example = \"Pirates hijacked the vessel taking 14 crew members hostage. Owners hired a private aircraft to search for the ship and spotted the ship heading North towards the Somali coast\"\n",
    "displacy.render(nlp_custom(hijack_example), style='span')"
   ],
   "metadata": {
    "collapsed": false
   },
   "id": "136d2d591a361a61",
   "execution_count": null
  },
  {
   "cell_type": "code",
   "outputs": [],
   "source": [
    "boarded_example = \"Three robbers armed with long knives boarded an anchored tanker during heavy rain. They entered the engine room, threatened the duty engineer and stole ship‚Äôs engine spares. Incident reported to the OOW who raised the alarm resulting in the robbers escaping in a waiting boat along with two accomplices. Incident reported to VTS.\"\n",
    "displacy.render(nlp_custom(boarded_example), style='span')"
   ],
   "metadata": {
    "collapsed": false
   },
   "id": "7540e9d5e78db671",
   "execution_count": null
  },
  {
   "cell_type": "code",
   "outputs": [],
   "source": [
    "none_example = \"Three robbers armed with long knives boarded an anchored tanker during heavy rain. They entered the engine room, threatened the duty engineer and stole ship's engine spares. Incident reported to the OOW who raised the alarm resulting in the robbers escaping in a waiting boat along with two accomplices. Incident reported to VTS.\"\n",
    "displacy.render(nlp_custom(none_example), style='span')"
   ],
   "metadata": {
    "collapsed": false
   },
   "id": "efbfe66262c818b2",
   "execution_count": null
  },
  {
   "cell_type": "code",
   "outputs": [],
   "source": [
    "# Apply new nlp to our data and put into dataframe using model_interpreter function\n",
    "# Takes about 15 seconds to run\n",
    "training_data = model_interpreter(training_data, 'Incident_details', nlp_custom)\n",
    "training_data.head(10)"
   ],
   "metadata": {
    "collapsed": false
   },
   "id": "f921fd3e51fae7bd",
   "execution_count": null
  },
  {
   "cell_type": "code",
   "outputs": [],
   "source": [
    "# Find all false negatives in training data\n",
    "false_negative = (training_data.loc[lambda d: d['Boarded_label'] == 1]\n",
    "                               .loc[lambda d: d['BOARDED'] == 0]['Incident_details'])\n",
    "\n",
    "# Print all false negatives\n",
    "print(f'{len(false_negative)} total false negatives.')\n",
    "html_print(html_generator((nlp(i) for i in false_negative), matcher=matcher, n=len(false_negative)))"
   ],
   "metadata": {
    "collapsed": false
   },
   "id": "94a3d6ef31c41c4a",
   "execution_count": null
  },
  {
   "cell_type": "code",
   "outputs": [],
   "source": [
    "# Find all false positives\n",
    "false_positive = (training_data.loc[lambda d: d['Boarded_label'] == 0]\n",
    "                               .loc[lambda d: d['BOARDED'] == 1]['Incident_details'])\n",
    "\n",
    "# Print false positives using html_print and html_generator functions\n",
    "print(f'{len(false_positive)} total false positives.')\n",
    "html_print(html_generator((nlp(i) for i in false_positive), matcher=matcher, n=len(false_positive)))"
   ],
   "metadata": {
    "collapsed": false
   },
   "id": "720b3fdd5c3dc1fe",
   "execution_count": null
  },
  {
   "cell_type": "code",
   "outputs": [],
   "source": [
    "# Boarded confusion matrix\n",
    "confusion_matrix(training_data['Boarded_label'], training_data['BOARDED'])"
   ],
   "metadata": {
    "collapsed": false
   },
   "id": "41d8c2176d0399c6",
   "execution_count": null
  },
  {
   "cell_type": "code",
   "outputs": [],
   "source": [
    "# Boarded performance report\n",
    "print(classification_report(training_data['Boarded_label'], training_data['BOARDED']))"
   ],
   "metadata": {
    "collapsed": false
   },
   "id": "7d13bad875c35a45",
   "execution_count": null
  },
  {
   "cell_type": "code",
   "outputs": [],
   "source": [
    "# Hijacked confusion matrix\n",
    "confusion_matrix(training_data['Hijacked_label'], training_data['HIJACKED'])"
   ],
   "metadata": {
    "collapsed": false
   },
   "id": "440e4aaea0676857",
   "execution_count": null
  },
  {
   "cell_type": "code",
   "outputs": [],
   "source": [
    "# Hijacked performance report\n",
    "print(classification_report(training_data['Hijacked_label'], training_data['HIJACKED']))"
   ],
   "metadata": {
    "collapsed": false
   },
   "id": "2aedcbf83c3d6f4",
   "execution_count": null
  },
  {
   "cell_type": "code",
   "outputs": [],
   "source": [
    "# Apply our nlp to the entire dataset\n",
    "# Takes about 4.5 minutes to run\n",
    "piracy_df_imo = model_interpreter(piracy_df_imo, 'Incident details', nlp_custom)\n",
    "piracy_df_imo.head(10)"
   ],
   "metadata": {
    "collapsed": false
   },
   "id": "5509bebf7983bc4a",
   "execution_count": null
  },
  {
   "cell_type": "code",
   "outputs": [],
   "source": [
    "# Show just the columns we're interested in\n",
    "piracy_df_imo.loc[:, ['Incident details', 'BOARDED', 'HIJACKED', 'HOSTAGES_TAKEN', 'CREW_ASSAULTED']].head(10)"
   ],
   "metadata": {
    "collapsed": false
   },
   "id": "92166f397871078",
   "execution_count": null
  },
  {
   "cell_type": "code",
   "outputs": [],
   "source": [
    "# Initialize examples of how it works\n",
    "hijack_example = \"Twelve pirates armed with rifles and pistols attacked the fishing vessel, while underway.  Five pirates boarded, hijacked the vessel and demanded payment.  Crew managed to overpower the pirates and handed them over to the Philippines National Police\"\n",
    "boarded_example = \"Three robbers armed with long knives boarded an anchored tanker during heavy rain. They entered the engine room, threatened the duty engineer and stole ship's engine spares. Incident reported to the OOW who raised the alarm resulting in the robbers escaping in a waiting boat along with two accomplices. Incident reported to VTS.\"\n",
    "hijack_doc = nlp_custom(hijack_example)\n",
    "boarded_doc = nlp_custom(boarded_example)"
   ],
   "metadata": {
    "collapsed": false
   },
   "id": "dff938af58078ef8",
   "execution_count": null
  },
  {
   "cell_type": "code",
   "outputs": [],
   "source": [
    "# Render examples of the spans that were detected and labeled\n",
    "displacy.render([hijack_doc, boarded_doc], style='span')"
   ],
   "metadata": {
    "collapsed": false
   },
   "id": "e25507a6d517715d",
   "execution_count": null
  },
  {
   "cell_type": "markdown",
   "source": [
    "### Creating products for presentation"
   ],
   "metadata": {
    "collapsed": false
   },
   "id": "81b9306393152194"
  },
  {
   "cell_type": "code",
   "outputs": [],
   "source": [
    "# Display sentence dependencies for presentation\n",
    "doc = nlp(\"On seeing crew alertness, the robbers jumped overboard and escaped empty handed in a waiting boat with one accomplice.\")\n",
    "svg = spacy.displacy.render(doc, style='dep', jupyter=False,\n",
    "                            options={'bg': 'white', 'compact': False, 'distance': 130,\n",
    "                                     'fine_grained': True, 'font_size': 30})\n",
    "\n",
    "# Output to file\n",
    "output_path = Path(\"./Data_Files/Results/dependency_plot3.svg\")\n",
    "output_path.open(\"w\", encoding=\"utf-8\").write(svg)"
   ],
   "metadata": {
    "collapsed": false
   },
   "id": "9d9348c19bbb0d15",
   "execution_count": null
  },
  {
   "cell_type": "code",
   "outputs": [],
   "source": [
    "# Print matches for presentation using html_generator\n",
    "test_sents = [\"Three robbers in a boat boarded the ship, while at anchor, broke into ship's stores and when alert crew mustered, they escaped with their loot.\",\n",
    "              \"Incident reported to port authority through the local agents. Upon berthing, the police boarded the ship for investigation.\",\n",
    "              \"A pirate boat attempted to board the ship while underway.\", \"While underway, the master of the bulk carrier reported to Singapore VTIS that four perpetrators were sighted in the steering gear room. The master raised the alarm and mustered crew. A security search on board was conducted and at about 0345 hrs, the security search was completed and no perpetrators found.\", \"The duty watchman onboard the ship at anchor, noticed robbers trying to open the watertight door to the forecastle store. He immediately alerted the OOW who, in turn, raised the alarm and crew mustered. On seeing crew alertness, the robbers jumped overboard and escaped empty handed in a waiting boat with one accomplice.\"]\n",
    "# test_docs = list(nlp.pipe(test_sents))\n",
    "html_print(html_generator((nlp(i) for i in test_sents), matcher=matcher, n=len(test_sents)))"
   ],
   "metadata": {
    "collapsed": false
   },
   "id": "239fea16fffea1bc",
   "execution_count": null
  },
  {
   "cell_type": "code",
   "outputs": [],
   "source": [],
   "metadata": {
    "collapsed": false
   },
   "id": "37708dc580060baf"
  }
 ],
 "metadata": {
  "kernelspec": {
   "display_name": "Python 3",
   "language": "python",
   "name": "python3"
  },
  "language_info": {
   "codemirror_mode": {
    "name": "ipython",
    "version": 2
   },
   "file_extension": ".py",
   "mimetype": "text/x-python",
   "name": "python",
   "nbconvert_exporter": "python",
   "pygments_lexer": "ipython2",
   "version": "2.7.6"
  }
 },
 "nbformat": 4,
 "nbformat_minor": 5
}

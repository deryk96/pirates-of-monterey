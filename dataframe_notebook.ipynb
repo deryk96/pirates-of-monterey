{
 "cells": [
  {
   "cell_type": "markdown",
   "source": [
    "# Notebook for doing pirate stuff with Pandas Dataframes"
   ],
   "metadata": {
    "collapsed": false
   },
   "id": "8408f006913589c4"
  },
  {
   "cell_type": "code",
   "outputs": [],
   "source": [
    "%load_ext autoreload\n",
    "%autoreload 2"
   ],
   "metadata": {
    "collapsed": false,
    "ExecuteTime": {
     "end_time": "2024-03-17T21:09:29.566887Z",
     "start_time": "2024-03-17T21:09:29.539878Z"
    }
   },
   "id": "5346cfd667479837",
   "execution_count": 3
  },
  {
   "cell_type": "code",
   "outputs": [],
   "source": [
    "# Install spacy and language model (uncomment if needed)\n",
    "# !conda install -c conda-forge spacy -y\n",
    "# !python -m spacy download en_core_web_sm\n",
    "# !python -m spacy download en_core_web_md\n",
    "# !conda install torchvision -y\n",
    "# !conda install conda-forge::cupy -y"
   ],
   "metadata": {
    "collapsed": false,
    "ExecuteTime": {
     "end_time": "2024-03-17T21:09:31.003761Z",
     "start_time": "2024-03-17T21:09:30.981189Z"
    }
   },
   "id": "d952460584fcb6ae",
   "execution_count": 4
  },
  {
   "cell_type": "code",
   "outputs": [],
   "source": [
    "# Import statements\n",
    "# import os\n",
    "import pandas as pd\n",
    "import numpy as np\n",
    "import matplotlib.pyplot as plt\n",
    "import spacy\n",
    "# from spacy.matcher import Matcher\n",
    "from spacy import displacy\n",
    "from sklearn.metrics import confusion_matrix, classification_report\n",
    "from IPython.display import HTML as html_print\n",
    "from spacy_model import generate_matcher, html_generator, custom_matcher, model_interpreter\n",
    "import importlib"
   ],
   "metadata": {
    "collapsed": false,
    "ExecuteTime": {
     "end_time": "2024-03-17T21:29:29.040451Z",
     "start_time": "2024-03-17T21:29:29.016500Z"
    }
   },
   "id": "57ade68fc81d9dda",
   "execution_count": 32
  },
  {
   "cell_type": "markdown",
   "source": [
    "### Original Data that Mike found:"
   ],
   "metadata": {
    "collapsed": false
   },
   "id": "fc9ebe0c8daee246"
  },
  {
   "cell_type": "code",
   "outputs": [
    {
     "data": {
      "text/plain": "     Incident Date      Ship Name            Ship Flag           Ship Type  \\\n0       2010-03-18       AL-ASA'A                Yemen                Dhow   \n1       2010-05-25       AL JAWAT                Yemen                Dhow   \n2       2011-02-13     AL FARDOUS                Yemen      Fishing vessel   \n3       2011-04-16      ABDI KHAN                Yemen      Fishing vessel   \n4       2012-01-14       AL WASIL                Yemen                Dhow   \n...            ...            ...                  ...                 ...   \n4809    2009-12-30      GULF ELAN              Bahamas     Chemical tanker   \n4810    2008-11-07     CEC FUTURE              Bahamas  General cargo ship   \n4811    2006-02-13    ASPEN ARROW              Bahamas  General cargo ship   \n4812    2009-10-24        ELLEN S  Antigua and Barbuda      Container ship   \n4813    2006-06-05  PRINCESS MARY  Antigua and Barbuda  General cargo ship   \n\n                         Area   Latitude   Longitude  \\\n0     In international waters        NaN         NaN   \n1     In international waters        NaN         NaN   \n2       In territorial waters        NaN         NaN   \n3     In international waters  11.900000   54.083333   \n4     In international waters        NaN         NaN   \n...                       ...        ...         ...   \n4809             In port area  22.690000  113.696667   \n4810  In international waters  12.766667   45.933333   \n4811             In port area        NaN         NaN   \n4812    In territorial waters  20.641667  106.880000   \n4813             In port area  -5.888000  106.088167   \n\n                 Consequences to Crew Part of Ship Raided Ship Status  \\\n0                       Ship Hijacked          Not Stated  Not Stated   \n1                       Ship Hijacked          Not Stated    Steaming   \n2                       Ship Hijacked          Not Stated    Steaming   \n3                       Ship Hijacked          Not Stated    Steaming   \n4                       Ship Hijacked          Not Stated    Steaming   \n...                               ...                 ...         ...   \n4809    No Consequences or Not Stated         Engine Room   At Anchor   \n4810                    Ship Hijacked         Engine Room    Steaming   \n4811    No Consequences or Not Stated         Engine Room   At Anchor   \n4812                     Not Reported         Engine Room   At Anchor   \n4813  Threat of Violence Against Crew         Engine Room   At Anchor   \n\n              Weapons Used  Flag - Crew Injuries  Flag - Crew Held Hostage  \\\n0     None or Not Reported                 False                      True   \n1     None or Not Reported                 False                     False   \n2     None or Not Reported                 False                     False   \n3     None or Not Reported                 False                      True   \n4     None or Not Reported                 False                      True   \n...                    ...                   ...                       ...   \n4809  None or Not Reported                 False                     False   \n4810  None or Not Reported                 False                      True   \n4811  None or Not Reported                 False                     False   \n4812  None or Not Reported                 False                     False   \n4813                Knives                 False                     False   \n\n      Flag - Crew Missing  Flag - Crew Deaths  Flag - Crew Assaulted  \n0                   False               False                  False  \n1                   False               False                  False  \n2                   False               False                  False  \n3                   False               False                  False  \n4                   False               False                  False  \n...                   ...                 ...                    ...  \n4809                False               False                  False  \n4810                False               False                  False  \n4811                False               False                  False  \n4812                False               False                  False  \n4813                False               False                  False  \n\n[4814 rows x 16 columns]",
      "text/html": "<div>\n<style scoped>\n    .dataframe tbody tr th:only-of-type {\n        vertical-align: middle;\n    }\n\n    .dataframe tbody tr th {\n        vertical-align: top;\n    }\n\n    .dataframe thead th {\n        text-align: right;\n    }\n</style>\n<table border=\"1\" class=\"dataframe\">\n  <thead>\n    <tr style=\"text-align: right;\">\n      <th></th>\n      <th>Incident Date</th>\n      <th>Ship Name</th>\n      <th>Ship Flag</th>\n      <th>Ship Type</th>\n      <th>Area</th>\n      <th>Latitude</th>\n      <th>Longitude</th>\n      <th>Consequences to Crew</th>\n      <th>Part of Ship Raided</th>\n      <th>Ship Status</th>\n      <th>Weapons Used</th>\n      <th>Flag - Crew Injuries</th>\n      <th>Flag - Crew Held Hostage</th>\n      <th>Flag - Crew Missing</th>\n      <th>Flag - Crew Deaths</th>\n      <th>Flag - Crew Assaulted</th>\n    </tr>\n  </thead>\n  <tbody>\n    <tr>\n      <th>0</th>\n      <td>2010-03-18</td>\n      <td>AL-ASA'A</td>\n      <td>Yemen</td>\n      <td>Dhow</td>\n      <td>In international waters</td>\n      <td>NaN</td>\n      <td>NaN</td>\n      <td>Ship Hijacked</td>\n      <td>Not Stated</td>\n      <td>Not Stated</td>\n      <td>None or Not Reported</td>\n      <td>False</td>\n      <td>True</td>\n      <td>False</td>\n      <td>False</td>\n      <td>False</td>\n    </tr>\n    <tr>\n      <th>1</th>\n      <td>2010-05-25</td>\n      <td>AL JAWAT</td>\n      <td>Yemen</td>\n      <td>Dhow</td>\n      <td>In international waters</td>\n      <td>NaN</td>\n      <td>NaN</td>\n      <td>Ship Hijacked</td>\n      <td>Not Stated</td>\n      <td>Steaming</td>\n      <td>None or Not Reported</td>\n      <td>False</td>\n      <td>False</td>\n      <td>False</td>\n      <td>False</td>\n      <td>False</td>\n    </tr>\n    <tr>\n      <th>2</th>\n      <td>2011-02-13</td>\n      <td>AL FARDOUS</td>\n      <td>Yemen</td>\n      <td>Fishing vessel</td>\n      <td>In territorial waters</td>\n      <td>NaN</td>\n      <td>NaN</td>\n      <td>Ship Hijacked</td>\n      <td>Not Stated</td>\n      <td>Steaming</td>\n      <td>None or Not Reported</td>\n      <td>False</td>\n      <td>False</td>\n      <td>False</td>\n      <td>False</td>\n      <td>False</td>\n    </tr>\n    <tr>\n      <th>3</th>\n      <td>2011-04-16</td>\n      <td>ABDI KHAN</td>\n      <td>Yemen</td>\n      <td>Fishing vessel</td>\n      <td>In international waters</td>\n      <td>11.900000</td>\n      <td>54.083333</td>\n      <td>Ship Hijacked</td>\n      <td>Not Stated</td>\n      <td>Steaming</td>\n      <td>None or Not Reported</td>\n      <td>False</td>\n      <td>True</td>\n      <td>False</td>\n      <td>False</td>\n      <td>False</td>\n    </tr>\n    <tr>\n      <th>4</th>\n      <td>2012-01-14</td>\n      <td>AL WASIL</td>\n      <td>Yemen</td>\n      <td>Dhow</td>\n      <td>In international waters</td>\n      <td>NaN</td>\n      <td>NaN</td>\n      <td>Ship Hijacked</td>\n      <td>Not Stated</td>\n      <td>Steaming</td>\n      <td>None or Not Reported</td>\n      <td>False</td>\n      <td>True</td>\n      <td>False</td>\n      <td>False</td>\n      <td>False</td>\n    </tr>\n    <tr>\n      <th>...</th>\n      <td>...</td>\n      <td>...</td>\n      <td>...</td>\n      <td>...</td>\n      <td>...</td>\n      <td>...</td>\n      <td>...</td>\n      <td>...</td>\n      <td>...</td>\n      <td>...</td>\n      <td>...</td>\n      <td>...</td>\n      <td>...</td>\n      <td>...</td>\n      <td>...</td>\n      <td>...</td>\n    </tr>\n    <tr>\n      <th>4809</th>\n      <td>2009-12-30</td>\n      <td>GULF ELAN</td>\n      <td>Bahamas</td>\n      <td>Chemical tanker</td>\n      <td>In port area</td>\n      <td>22.690000</td>\n      <td>113.696667</td>\n      <td>No Consequences or Not Stated</td>\n      <td>Engine Room</td>\n      <td>At Anchor</td>\n      <td>None or Not Reported</td>\n      <td>False</td>\n      <td>False</td>\n      <td>False</td>\n      <td>False</td>\n      <td>False</td>\n    </tr>\n    <tr>\n      <th>4810</th>\n      <td>2008-11-07</td>\n      <td>CEC FUTURE</td>\n      <td>Bahamas</td>\n      <td>General cargo ship</td>\n      <td>In international waters</td>\n      <td>12.766667</td>\n      <td>45.933333</td>\n      <td>Ship Hijacked</td>\n      <td>Engine Room</td>\n      <td>Steaming</td>\n      <td>None or Not Reported</td>\n      <td>False</td>\n      <td>True</td>\n      <td>False</td>\n      <td>False</td>\n      <td>False</td>\n    </tr>\n    <tr>\n      <th>4811</th>\n      <td>2006-02-13</td>\n      <td>ASPEN ARROW</td>\n      <td>Bahamas</td>\n      <td>General cargo ship</td>\n      <td>In port area</td>\n      <td>NaN</td>\n      <td>NaN</td>\n      <td>No Consequences or Not Stated</td>\n      <td>Engine Room</td>\n      <td>At Anchor</td>\n      <td>None or Not Reported</td>\n      <td>False</td>\n      <td>False</td>\n      <td>False</td>\n      <td>False</td>\n      <td>False</td>\n    </tr>\n    <tr>\n      <th>4812</th>\n      <td>2009-10-24</td>\n      <td>ELLEN S</td>\n      <td>Antigua and Barbuda</td>\n      <td>Container ship</td>\n      <td>In territorial waters</td>\n      <td>20.641667</td>\n      <td>106.880000</td>\n      <td>Not Reported</td>\n      <td>Engine Room</td>\n      <td>At Anchor</td>\n      <td>None or Not Reported</td>\n      <td>False</td>\n      <td>False</td>\n      <td>False</td>\n      <td>False</td>\n      <td>False</td>\n    </tr>\n    <tr>\n      <th>4813</th>\n      <td>2006-06-05</td>\n      <td>PRINCESS MARY</td>\n      <td>Antigua and Barbuda</td>\n      <td>General cargo ship</td>\n      <td>In port area</td>\n      <td>-5.888000</td>\n      <td>106.088167</td>\n      <td>Threat of Violence Against Crew</td>\n      <td>Engine Room</td>\n      <td>At Anchor</td>\n      <td>Knives</td>\n      <td>False</td>\n      <td>False</td>\n      <td>False</td>\n      <td>False</td>\n      <td>False</td>\n    </tr>\n  </tbody>\n</table>\n<p>4814 rows × 16 columns</p>\n</div>"
     },
     "execution_count": 9,
     "metadata": {},
     "output_type": "execute_result"
    }
   ],
   "source": [
    "# Read clean csv\n",
    "piracy_df_original = pd.read_csv('Data_Files/[Clean] IMO Piracy - 2000 to 2022 (PDV 01-2023).csv')\n",
    "\n",
    "# Convert dates to datetime object\n",
    "piracy_df_original['Incident Date'] = pd.to_datetime(piracy_df_original['Incident Date'], format='%m/%d/%Y')\n",
    "\n",
    "# pd.concat([piracy_df_original.head(), piracy_df_original.tail()])\n",
    "piracy_df_original"
   ],
   "metadata": {
    "collapsed": false,
    "ExecuteTime": {
     "end_time": "2024-03-17T21:10:12.644362Z",
     "start_time": "2024-03-17T21:10:12.590969Z"
    }
   },
   "id": "e641642c3f8ce11f",
   "execution_count": 9
  },
  {
   "cell_type": "code",
   "outputs": [],
   "source": [
    "# Go forth and do great things"
   ],
   "metadata": {
    "collapsed": false,
    "ExecuteTime": {
     "end_time": "2024-03-17T21:10:15.266621Z",
     "start_time": "2024-03-17T21:10:15.242583Z"
    }
   },
   "id": "6386cfad61816156",
   "execution_count": 10
  },
  {
   "cell_type": "markdown",
   "source": [
    "### New data straight from the International Maritime Organization:\n",
    "Note: This data is uncleaned and is dirtier than the decks of the Flying Dutchman."
   ],
   "metadata": {
    "collapsed": false
   },
   "id": "efd132741809ad5e"
  },
  {
   "cell_type": "code",
   "outputs": [
    {
     "data": {
      "text/plain": "           Date          Ship Name             Ship Type  IMO No.  \\\n0    1994-07-22  PAVELS STERNBERGS                Reefer  7362366   \n1    1994-09-09           BONSELLA                   NaN      NaN   \n2    1994-10-23            SIBOELF  Ore/Bulk/oil carrier  9011935   \n3    1994-10-26       TROPICAL SUN                   NaN      NaN   \n4    1994-11-17             ANOMIS                   NaN  7233711   \n...         ...                ...                   ...      ...   \n8551 2024-01-09        CMB Chikako          Bulk carrier  9701190   \n8552 2024-01-12         Solar Roma        Product tanker  9887372   \n8553 2024-01-14      Name Withheld            Oil tanker      NaN   \n8554 2024-01-14      Name Withheld           Supply ship      NaN   \n8555 2024-01-25     Aurora Diamond           Supply ship  9648025   \n\n                       Area      Latitude      Longitude  \\\n0     In territorial waters           NaN            NaN   \n1     In territorial waters           NaN            NaN   \n2              In port area           NaN            NaN   \n3              In port area           NaN            NaN   \n4     In territorial waters           NaN            NaN   \n...                     ...           ...            ...   \n8551  In territorial waters   1° 03.00' N  103° 39.59' E   \n8552           In port area   1° 43.29' N  101° 25.72' E   \n8553           In port area  21° 50.84' N   91° 41.84' E   \n8554           In port area   6° 05.00' S   12° 15.00' E   \n8555           In port area   8° 44.40' S   13° 17.20' E   \n\n                                       Incident details  \\\n0     Ship boarded by seven men armed with big cable...   \n1     Twenty-six bandits posing as Coast Guard hijac...   \n2     6-7 pirates wearing masks, armed with pistols ...   \n3     Ship attacked with mortar shells which fell ab...   \n4     Boat opened fire on ship after trying unsucces...   \n...                                                 ...   \n8551  Five robbers armed with a knife, boarded a shi...   \n8552  Duty security patrol onboard an anchored tanke...   \n8553  D/O onboard an anchored tanker noticed a small...   \n8554  Unnoticed, thieves boarded an anchored offshor...   \n8555  Unauthorised persons boarded an anchored offsh...   \n\n                              Consequences for crew etc  \\\n0     Deck watchman was slightly wounded and some sh...   \n1                         Ship's cargo and money stolen   \n2         Personal belongings and cash stolen from crew   \n3                                                   NaN   \n4                                                     -   \n...                                                 ...   \n8551  The robbers took hostage and tied up one of th...   \n8552                                                Nil   \n8553                                               Nil    \n8554                           Ship’s properties stolen   \n8555                               Ship’s store stolen    \n\n                            Action taken by master/crew  Reported?  \\\n0     Chief officer and other crew members came to t...       True   \n1                                                     -       True   \n2     The watchman saw the pirates and informed term...       True   \n3                                                     -       True   \n4                                                     -       True   \n...                                                 ...        ...   \n8551                     Alarm raised and crew mustered       True   \n8552                                      Alarm raised        True   \n8553                    Alarm raised, and crew mustered       True   \n8554                                                Nil       True   \n8555                           Search light switched on       True   \n\n                             Reported to... Reporting State  \n0     Incident reported to Port Authorities          Latvia  \n1                                       Yes   United States  \n2                         Terminal informed          Norway  \n3                                       Yes   United States  \n4                                       Yes   United States  \n...                                     ...             ...  \n8551                        VTIS Singapore              NaN  \n8552                    Dumai port control              NaN  \n8553           Port control and Coast Guard             NaN  \n8554                                    NaN             NaN  \n8555                          Port control              NaN  \n\n[8551 rows x 13 columns]",
      "text/html": "<div>\n<style scoped>\n    .dataframe tbody tr th:only-of-type {\n        vertical-align: middle;\n    }\n\n    .dataframe tbody tr th {\n        vertical-align: top;\n    }\n\n    .dataframe thead th {\n        text-align: right;\n    }\n</style>\n<table border=\"1\" class=\"dataframe\">\n  <thead>\n    <tr style=\"text-align: right;\">\n      <th></th>\n      <th>Date</th>\n      <th>Ship Name</th>\n      <th>Ship Type</th>\n      <th>IMO No.</th>\n      <th>Area</th>\n      <th>Latitude</th>\n      <th>Longitude</th>\n      <th>Incident details</th>\n      <th>Consequences for crew etc</th>\n      <th>Action taken by master/crew</th>\n      <th>Reported?</th>\n      <th>Reported to...</th>\n      <th>Reporting State</th>\n    </tr>\n  </thead>\n  <tbody>\n    <tr>\n      <th>0</th>\n      <td>1994-07-22</td>\n      <td>PAVELS STERNBERGS</td>\n      <td>Reefer</td>\n      <td>7362366</td>\n      <td>In territorial waters</td>\n      <td>NaN</td>\n      <td>NaN</td>\n      <td>Ship boarded by seven men armed with big cable...</td>\n      <td>Deck watchman was slightly wounded and some sh...</td>\n      <td>Chief officer and other crew members came to t...</td>\n      <td>True</td>\n      <td>Incident reported to Port Authorities</td>\n      <td>Latvia</td>\n    </tr>\n    <tr>\n      <th>1</th>\n      <td>1994-09-09</td>\n      <td>BONSELLA</td>\n      <td>NaN</td>\n      <td>NaN</td>\n      <td>In territorial waters</td>\n      <td>NaN</td>\n      <td>NaN</td>\n      <td>Twenty-six bandits posing as Coast Guard hijac...</td>\n      <td>Ship's cargo and money stolen</td>\n      <td>-</td>\n      <td>True</td>\n      <td>Yes</td>\n      <td>United States</td>\n    </tr>\n    <tr>\n      <th>2</th>\n      <td>1994-10-23</td>\n      <td>SIBOELF</td>\n      <td>Ore/Bulk/oil carrier</td>\n      <td>9011935</td>\n      <td>In port area</td>\n      <td>NaN</td>\n      <td>NaN</td>\n      <td>6-7 pirates wearing masks, armed with pistols ...</td>\n      <td>Personal belongings and cash stolen from crew</td>\n      <td>The watchman saw the pirates and informed term...</td>\n      <td>True</td>\n      <td>Terminal informed</td>\n      <td>Norway</td>\n    </tr>\n    <tr>\n      <th>3</th>\n      <td>1994-10-26</td>\n      <td>TROPICAL SUN</td>\n      <td>NaN</td>\n      <td>NaN</td>\n      <td>In port area</td>\n      <td>NaN</td>\n      <td>NaN</td>\n      <td>Ship attacked with mortar shells which fell ab...</td>\n      <td>NaN</td>\n      <td>-</td>\n      <td>True</td>\n      <td>Yes</td>\n      <td>United States</td>\n    </tr>\n    <tr>\n      <th>4</th>\n      <td>1994-11-17</td>\n      <td>ANOMIS</td>\n      <td>NaN</td>\n      <td>7233711</td>\n      <td>In territorial waters</td>\n      <td>NaN</td>\n      <td>NaN</td>\n      <td>Boat opened fire on ship after trying unsucces...</td>\n      <td>-</td>\n      <td>-</td>\n      <td>True</td>\n      <td>Yes</td>\n      <td>United States</td>\n    </tr>\n    <tr>\n      <th>...</th>\n      <td>...</td>\n      <td>...</td>\n      <td>...</td>\n      <td>...</td>\n      <td>...</td>\n      <td>...</td>\n      <td>...</td>\n      <td>...</td>\n      <td>...</td>\n      <td>...</td>\n      <td>...</td>\n      <td>...</td>\n      <td>...</td>\n    </tr>\n    <tr>\n      <th>8551</th>\n      <td>2024-01-09</td>\n      <td>CMB Chikako</td>\n      <td>Bulk carrier</td>\n      <td>9701190</td>\n      <td>In territorial waters</td>\n      <td>1° 03.00' N</td>\n      <td>103° 39.59' E</td>\n      <td>Five robbers armed with a knife, boarded a shi...</td>\n      <td>The robbers took hostage and tied up one of th...</td>\n      <td>Alarm raised and crew mustered</td>\n      <td>True</td>\n      <td>VTIS Singapore</td>\n      <td>NaN</td>\n    </tr>\n    <tr>\n      <th>8552</th>\n      <td>2024-01-12</td>\n      <td>Solar Roma</td>\n      <td>Product tanker</td>\n      <td>9887372</td>\n      <td>In port area</td>\n      <td>1° 43.29' N</td>\n      <td>101° 25.72' E</td>\n      <td>Duty security patrol onboard an anchored tanke...</td>\n      <td>Nil</td>\n      <td>Alarm raised</td>\n      <td>True</td>\n      <td>Dumai port control</td>\n      <td>NaN</td>\n    </tr>\n    <tr>\n      <th>8553</th>\n      <td>2024-01-14</td>\n      <td>Name Withheld</td>\n      <td>Oil tanker</td>\n      <td>NaN</td>\n      <td>In port area</td>\n      <td>21° 50.84' N</td>\n      <td>91° 41.84' E</td>\n      <td>D/O onboard an anchored tanker noticed a small...</td>\n      <td>Nil</td>\n      <td>Alarm raised, and crew mustered</td>\n      <td>True</td>\n      <td>Port control and Coast Guard</td>\n      <td>NaN</td>\n    </tr>\n    <tr>\n      <th>8554</th>\n      <td>2024-01-14</td>\n      <td>Name Withheld</td>\n      <td>Supply ship</td>\n      <td>NaN</td>\n      <td>In port area</td>\n      <td>6° 05.00' S</td>\n      <td>12° 15.00' E</td>\n      <td>Unnoticed, thieves boarded an anchored offshor...</td>\n      <td>Ship’s properties stolen</td>\n      <td>Nil</td>\n      <td>True</td>\n      <td>NaN</td>\n      <td>NaN</td>\n    </tr>\n    <tr>\n      <th>8555</th>\n      <td>2024-01-25</td>\n      <td>Aurora Diamond</td>\n      <td>Supply ship</td>\n      <td>9648025</td>\n      <td>In port area</td>\n      <td>8° 44.40' S</td>\n      <td>13° 17.20' E</td>\n      <td>Unauthorised persons boarded an anchored offsh...</td>\n      <td>Ship’s store stolen</td>\n      <td>Search light switched on</td>\n      <td>True</td>\n      <td>Port control</td>\n      <td>NaN</td>\n    </tr>\n  </tbody>\n</table>\n<p>8551 rows × 13 columns</p>\n</div>"
     },
     "execution_count": 64,
     "metadata": {},
     "output_type": "execute_result"
    }
   ],
   "source": [
    "# Read dirty csv\n",
    "piracy_df_imo = pd.read_csv('Data_Files/[Dirty]_ListOfIncidents_IMO.csv')\n",
    "\n",
    "# Drop columns we don't need\n",
    "piracy_df_imo.drop(columns=['Boarded?', 'MSC/Circ', 'Coastal State Action Taken'], inplace=True)\n",
    "\n",
    "# Ensure no NaNs in Lat/Lon and Incident details columns\n",
    "piracy_df_imo = piracy_df_imo[piracy_df_imo.loc[:,'Incident details'].notna()]\n",
    "\n",
    "# Convert Date column to DateTime Objects\n",
    "piracy_df_imo['Date'] = pd.to_datetime(piracy_df_imo['Date'], format='%m/%d/%y')\n",
    "\n",
    "# Show whatever you want\n",
    "# pd.concat([piracy_df_imo.head(), piracy_df_imo.tail()])\n",
    "piracy_df_imo"
   ],
   "metadata": {
    "collapsed": false,
    "ExecuteTime": {
     "end_time": "2024-03-17T21:51:36.709474Z",
     "start_time": "2024-03-17T21:51:36.624520Z"
    }
   },
   "id": "c80246363ebbb602",
   "execution_count": 64
  },
  {
   "cell_type": "code",
   "outputs": [
    {
     "name": "stdout",
     "output_type": "stream",
     "text": [
      "<class 'pandas.core.frame.DataFrame'>\n",
      "RangeIndex: 8556 entries, 0 to 8555\n",
      "Data columns (total 13 columns):\n",
      " #   Column                       Non-Null Count  Dtype         \n",
      "---  ------                       --------------  -----         \n",
      " 0   Date                         8556 non-null   datetime64[ns]\n",
      " 1   Ship Name                    8409 non-null   object        \n",
      " 2   Ship Type                    8206 non-null   object        \n",
      " 3   IMO No.                      7213 non-null   object        \n",
      " 4   Area                         8550 non-null   object        \n",
      " 5   Latitude                     4537 non-null   object        \n",
      " 6   Longitude                    4575 non-null   object        \n",
      " 7   Incident details             8551 non-null   object        \n",
      " 8   Consequences for crew etc    8068 non-null   object        \n",
      " 9   Action taken by master/crew  8171 non-null   object        \n",
      " 10  Reported?                    8556 non-null   bool          \n",
      " 11  Reported to...               6705 non-null   object        \n",
      " 12  Reporting State              861 non-null    object        \n",
      "dtypes: bool(1), datetime64[ns](1), object(11)\n",
      "memory usage: 810.6+ KB\n"
     ]
    }
   ],
   "source": [
    "# Go forth and make Steve Urkel proud\n",
    "piracy_df_imo.info()"
   ],
   "metadata": {
    "collapsed": false,
    "ExecuteTime": {
     "end_time": "2024-03-17T21:10:17.456872Z",
     "start_time": "2024-03-17T21:10:17.423432Z"
    }
   },
   "id": "249ca0e20b7cb1b7",
   "execution_count": 12
  },
  {
   "cell_type": "code",
   "outputs": [],
   "source": [
    "# Plot histogram of incidents over the years\n",
    "fig, ax = plt.subplots()\n",
    "\n",
    "piracy_df_imo['Date'].hist(bins=30, ax=ax)\n",
    "plt.title('Histogram of Recorded Piracy Incidents (1994-2024)')\n",
    "plt.xlabel('Year')\n",
    "plt.ylabel('Frequency')"
   ],
   "metadata": {
    "collapsed": false
   },
   "id": "b6a696d3a6e6898b",
   "execution_count": null
  },
  {
   "cell_type": "markdown",
   "source": [
    "# Find keywords in incident details using Spacy\n",
    "Reference: https://towardsdatascience.com/structured-natural-language-processing-with-pandas-and-spacy-7089e66d2b10"
   ],
   "metadata": {
    "collapsed": false
   },
   "id": "cf807990d3b4c2c4"
  },
  {
   "cell_type": "markdown",
   "source": [
    "Ideas:\n",
    "- Build categories (cats) and assign them to each noun chunk\n",
    "    - Categories: hijacked, boarded, hostages, theft, ship missing, crew member abducted/kidnapped, ship fired upon, casualties\n",
    "- Set extension as interesting with keywords in lemma column\n",
    "- Add IMO No. to doc metadata (context): Can't find a way to efficiently do this\n",
    "- Set date as index"
   ],
   "metadata": {
    "collapsed": false
   },
   "id": "cd51857ebe2827ee"
  },
  {
   "cell_type": "markdown",
   "source": [
    "## Let's train a Matcher object for rule-based matching"
   ],
   "metadata": {
    "collapsed": false
   },
   "id": "1259579b8ef92548"
  },
  {
   "cell_type": "code",
   "outputs": [],
   "source": [
    "# Generate 500 random rows of training data for our categorization\n",
    "# DON'T OVERWRITE OUR TRAINING DATA\n",
    "# piracy_df_imo.sample(n=500).to_csv('./Data_Files/training_data.csv')"
   ],
   "metadata": {
    "collapsed": false
   },
   "id": "92d8b6c4ab7a787",
   "execution_count": null
  },
  {
   "cell_type": "code",
   "outputs": [],
   "source": [
    "# Load language model, disable 'named entity recognition'\n",
    "nlp = spacy.load('en_core_web_md', disable=['ner'])"
   ],
   "metadata": {
    "collapsed": false,
    "ExecuteTime": {
     "end_time": "2024-03-17T21:10:27.227636Z",
     "start_time": "2024-03-17T21:10:26.283151Z"
    }
   },
   "id": "3d25210d9042575a",
   "execution_count": 13
  },
  {
   "cell_type": "code",
   "outputs": [
    {
     "data": {
      "text/plain": "     Boarded_label  Hijacked_label  \\\n0                0               0   \n1                0               0   \n2                1               0   \n3                0               0   \n4                0               0   \n..             ...             ...   \n495              1               0   \n496              1               0   \n497              1               1   \n498              1               0   \n499              1               0   \n\n                                      Incident_details  \n0    A small wooden boat with four pirates approach...  \n1    Two robbers in a wooden boat came alongside an...  \n2    Three robbers armed with long knives boarded a...  \n3    A pirate boat attempted to board the ship whil...  \n4    Two boats were spotted near the anchor chain e...  \n..                                                 ...  \n495  A speedboat with five pirates wearing camoufla...  \n496  Two robbers boarded an anchored ship using a h...  \n497  Pirates attacked and hijacked the ship underwa...  \n498  Five robbers armed with guns boarded an anchor...  \n499    While at anchor, armed robbers boarded the ship  \n\n[500 rows x 3 columns]",
      "text/html": "<div>\n<style scoped>\n    .dataframe tbody tr th:only-of-type {\n        vertical-align: middle;\n    }\n\n    .dataframe tbody tr th {\n        vertical-align: top;\n    }\n\n    .dataframe thead th {\n        text-align: right;\n    }\n</style>\n<table border=\"1\" class=\"dataframe\">\n  <thead>\n    <tr style=\"text-align: right;\">\n      <th></th>\n      <th>Boarded_label</th>\n      <th>Hijacked_label</th>\n      <th>Incident_details</th>\n    </tr>\n  </thead>\n  <tbody>\n    <tr>\n      <th>0</th>\n      <td>0</td>\n      <td>0</td>\n      <td>A small wooden boat with four pirates approach...</td>\n    </tr>\n    <tr>\n      <th>1</th>\n      <td>0</td>\n      <td>0</td>\n      <td>Two robbers in a wooden boat came alongside an...</td>\n    </tr>\n    <tr>\n      <th>2</th>\n      <td>1</td>\n      <td>0</td>\n      <td>Three robbers armed with long knives boarded a...</td>\n    </tr>\n    <tr>\n      <th>3</th>\n      <td>0</td>\n      <td>0</td>\n      <td>A pirate boat attempted to board the ship whil...</td>\n    </tr>\n    <tr>\n      <th>4</th>\n      <td>0</td>\n      <td>0</td>\n      <td>Two boats were spotted near the anchor chain e...</td>\n    </tr>\n    <tr>\n      <th>...</th>\n      <td>...</td>\n      <td>...</td>\n      <td>...</td>\n    </tr>\n    <tr>\n      <th>495</th>\n      <td>1</td>\n      <td>0</td>\n      <td>A speedboat with five pirates wearing camoufla...</td>\n    </tr>\n    <tr>\n      <th>496</th>\n      <td>1</td>\n      <td>0</td>\n      <td>Two robbers boarded an anchored ship using a h...</td>\n    </tr>\n    <tr>\n      <th>497</th>\n      <td>1</td>\n      <td>1</td>\n      <td>Pirates attacked and hijacked the ship underwa...</td>\n    </tr>\n    <tr>\n      <th>498</th>\n      <td>1</td>\n      <td>0</td>\n      <td>Five robbers armed with guns boarded an anchor...</td>\n    </tr>\n    <tr>\n      <th>499</th>\n      <td>1</td>\n      <td>0</td>\n      <td>While at anchor, armed robbers boarded the ship</td>\n    </tr>\n  </tbody>\n</table>\n<p>500 rows × 3 columns</p>\n</div>"
     },
     "execution_count": 45,
     "metadata": {},
     "output_type": "execute_result"
    }
   ],
   "source": [
    "# Import training data\n",
    "training_data = pd.read_csv('./Data_Files/training_data.csv')\n",
    "\n",
    "# Set up flag columns for when the NLP happens\n",
    "training_data['BOARDED'] = 0\n",
    "training_data['HIJACKED'] = 0\n",
    "\n",
    "# Display result\n",
    "training_data.loc[:,['Boarded_label', 'Hijacked_label', 'Incident_details']]"
   ],
   "metadata": {
    "collapsed": false,
    "ExecuteTime": {
     "end_time": "2024-03-17T21:35:20.131317Z",
     "start_time": "2024-03-17T21:35:20.100325Z"
    }
   },
   "id": "8b589bd370a390",
   "execution_count": 45
  },
  {
   "cell_type": "markdown",
   "source": [
    "### Creating products for presentation"
   ],
   "metadata": {
    "collapsed": false
   },
   "id": "4085cc483da13a6c"
  },
  {
   "cell_type": "code",
   "outputs": [],
   "source": [
    "from pathlib import Path"
   ],
   "metadata": {
    "collapsed": false,
    "ExecuteTime": {
     "end_time": "2024-03-14T21:59:14.752990Z",
     "start_time": "2024-03-14T21:59:14.750525Z"
    }
   },
   "id": "cc6e5d0714fc402a",
   "execution_count": 31
  },
  {
   "cell_type": "code",
   "outputs": [
    {
     "data": {
      "text/plain": "15544"
     },
     "execution_count": 61,
     "metadata": {},
     "output_type": "execute_result"
    }
   ],
   "source": [
    "# Display sentence dependencies\n",
    "doc = nlp(\"On seeing crew alertness, the robbers jumped overboard and escaped empty handed in a waiting boat with one accomplice.\")\n",
    "svg = spacy.displacy.render(doc, style='dep', jupyter=False, \n",
    "                      options={'bg': 'white', 'compact':False, 'distance': 130, \n",
    "                               'fine_grained': True, 'font_size': 30})\n",
    "\n",
    "# Output to file\n",
    "output_path = Path(\"./Data_Files/Results/dependency_plot3.svg\")\n",
    "output_path.open(\"w\", encoding=\"utf-8\").write(svg)"
   ],
   "metadata": {
    "collapsed": false,
    "ExecuteTime": {
     "end_time": "2024-03-15T03:47:16.269531Z",
     "start_time": "2024-03-15T03:47:16.254197Z"
    }
   },
   "id": "412803c6e32b018f",
   "execution_count": 61
  },
  {
   "cell_type": "code",
   "outputs": [],
   "source": [
    "# Create matcher and docs. Place in training_df with bool values\n",
    "matcher = generate_matcher(nlp)\n",
    "docs = list(nlp.pipe(training_data.loc[:,'Incident_details']))\n",
    "training_data = custom_matcher(training_data, docs, matcher)\n",
    "# training_data.head(50).loc[:,['Boarded', 'BOARDED', 'Incident_details']]"
   ],
   "metadata": {
    "collapsed": false,
    "ExecuteTime": {
     "end_time": "2024-03-17T20:32:36.460934Z",
     "start_time": "2024-03-17T20:32:34.543986Z"
    }
   },
   "id": "36076b61294a5687",
   "execution_count": 6
  },
  {
   "cell_type": "markdown",
   "source": [
    "### More products for presentation"
   ],
   "metadata": {
    "collapsed": false
   },
   "id": "d24b91137674dcb4"
  },
  {
   "cell_type": "code",
   "outputs": [
    {
     "data": {
      "text/plain": "<IPython.core.display.HTML object>",
      "text/html": "<text><text>Three</text> <text>robbers</text> <text>in</text> <b style='background-color: #fff59d'><text>a</text></b> <b style='background-color: #fff59d'><text>boat</text></b> <b style='background-color: #fff59d'><text>boarded</text></b> <text>the</text> <text>ship</text> <text>,</text> <text>while</text> <text>at</text> <text>anchor</text> <text>,</text> <b style='background-color: #fff59d'><text>broke</text></b> <b style='background-color: #fff59d'><text>into</text></b> <text>ship</text> <text>'s</text> <text>stores</text> <text>and</text> <text>when</text> <text>alert</text> <text>crew</text> <text>mustered</text> <text>,</text> <text>they</text> <text>escaped</text> <text>with</text> <text>their</text> <text>loot</text> <text>.</text><br></text><text><text>Incident</text> <text>reported</text> <text>to</text> <text>port</text> <text>authority</text> <text>through</text> <text>the</text> <text>local</text> <text>agents</text> <text>.</text> <text>Upon</text> <text>berthing</text> <text>,</text> <text>the</text> <text>police</text> <text>boarded</text> <text>the</text> <text>ship</text> <text>for</text> <text>investigation</text> <text>.</text><br></text><text><text>A</text> <text>pirate</text> <text>boat</text> <text>attempted</text> <text>to</text> <text>board</text> <text>the</text> <text>ship</text> <text>while</text> <text>underway</text> <text>.</text><br></text><text><text>While</text> <text>underway</text> <text>,</text> <text>the</text> <text>master</text> <text>of</text> <text>the</text> <text>bulk</text> <text>carrier</text> <text>reported</text> <text>to</text> <text>Singapore</text> <text>VTIS</text> <text>that</text> <text>four</text> <b style='background-color: #fff59d'><text>perpetrators</text></b> <b style='background-color: #fff59d'><text>were</text></b> <b style='background-color: #fff59d'><text>sighted</text></b> <b style='background-color: #fff59d'><text>in</text></b> <text>the</text> <text>steering</text> <text>gear</text> <text>room</text> <text>.</text> <text>The</text> <text>master</text> <text>raised</text> <text>the</text> <text>alarm</text> <text>and</text> <text>mustered</text> <text>crew</text> <text>.</text> <text>A</text> <text>security</text> <text>search</text> <text>on</text> <text>board</text> <text>was</text> <text>conducted</text> <text>and</text> <text>at</text> <text>about</text> <text>0345</text> <text>hrs</text> <text>,</text> <text>the</text> <text>security</text> <text>search</text> <text>was</text> <text>completed</text> <text>and</text> <text>no</text> <text>perpetrators</text> <text>found</text> <text>.</text><br></text><text><text>The</text> <text>duty</text> <text>watchman</text> <text>onboard</text> <text>the</text> <text>ship</text> <text>at</text> <text>anchor</text> <text>,</text> <text>noticed</text> <text>robbers</text> <text>trying</text> <text>to</text> <text>open</text> <text>the</text> <text>watertight</text> <text>door</text> <text>to</text> <text>the</text> <text>forecastle</text> <text>store</text> <text>.</text> <text>He</text> <text>immediately</text> <text>alerted</text> <text>the</text> <text>OOW</text> <text>who</text> <text>,</text> <text>in</text> <text>turn</text> <text>,</text> <text>raised</text> <text>the</text> <text>alarm</text> <text>and</text> <text>crew</text> <text>mustered</text> <text>.</text> <text>On</text> <text>seeing</text> <text>crew</text> <text>alertness</text> <text>,</text> <text>the</text> <b style='background-color: #fff59d'><text>robbers</text></b> <b style='background-color: #fff59d'><text>jumped</text></b> <b style='background-color: #fff59d'><text>overboard</text></b> <text>and</text> <text>escaped</text> <text>empty</text> <text>handed</text> <text>in</text> <text>a</text> <text>waiting</text> <text>boat</text> <text>with</text> <text>one</text> <text>accomplice</text> <text>.</text><br></text>"
     },
     "execution_count": 7,
     "metadata": {},
     "output_type": "execute_result"
    }
   ],
   "source": [
    "# Test for presentation\n",
    "test_sents = [\"Three robbers in a boat boarded the ship, while at anchor, broke into ship's stores and when alert crew mustered, they escaped with their loot.\", \n",
    "              \"Incident reported to port authority through the local agents. Upon berthing, the police boarded the ship for investigation.\", \n",
    "              \"A pirate boat attempted to board the ship while underway.\", \"While underway, the master of the bulk carrier reported to Singapore VTIS that four perpetrators were sighted in the steering gear room. The master raised the alarm and mustered crew. A security search on board was conducted and at about 0345 hrs, the security search was completed and no perpetrators found.\", \"The duty watchman onboard the ship at anchor, noticed robbers trying to open the watertight door to the forecastle store. He immediately alerted the OOW who, in turn, raised the alarm and crew mustered. On seeing crew alertness, the robbers jumped overboard and escaped empty handed in a waiting boat with one accomplice.\"]\n",
    "# test_docs = list(nlp.pipe(test_sents))\n",
    "html_print(html_generator((nlp(i) for i in test_sents), matcher=matcher, n=len(test_sents)))"
   ],
   "metadata": {
    "collapsed": false,
    "ExecuteTime": {
     "end_time": "2024-03-17T20:32:44.165446Z",
     "start_time": "2024-03-17T20:32:44.132518Z"
    }
   },
   "id": "d9cacb93b2f67919",
   "execution_count": 7
  },
  {
   "cell_type": "code",
   "outputs": [
    {
     "name": "stdout",
     "output_type": "stream",
     "text": [
      "0 total false negatives.\n"
     ]
    },
    {
     "data": {
      "text/plain": "<IPython.core.display.HTML object>",
      "text/html": ""
     },
     "execution_count": 8,
     "metadata": {},
     "output_type": "execute_result"
    }
   ],
   "source": [
    "# Find all false negatives\n",
    "false_negative = (training_data.loc[lambda d: d['Boarded_label'] == 1]\n",
    "                               .loc[lambda d:       d['BOARDED'] == 0]['Incident_details'])\n",
    "\n",
    "# Print all false negatives\n",
    "print(f'{len(false_negative)} total false negatives.')\n",
    "html_print(html_generator((nlp(i) for i in false_negative), matcher=matcher, n=len(false_negative)))"
   ],
   "metadata": {
    "collapsed": false,
    "ExecuteTime": {
     "end_time": "2024-03-17T20:32:47.109451Z",
     "start_time": "2024-03-17T20:32:47.105114Z"
    }
   },
   "id": "b858f78805d09b5f",
   "execution_count": 8
  },
  {
   "cell_type": "code",
   "outputs": [
    {
     "name": "stdout",
     "output_type": "stream",
     "text": [
      "4 total false positives.\n"
     ]
    },
    {
     "data": {
      "text/plain": "<IPython.core.display.HTML object>",
      "text/html": "<text><text>Robbers</text> <text>in</text> <text>four</text> <text>fast</text> <text>boats</text> <text>attempted</text> <text>to</text> <text>board</text> <text>the</text> <text>ship</text> <text>underway</text> <text>.</text> <text>Master</text> <text>raised</text> <text>alarm</text> <text>,</text> <text>activated</text> <text>fire</text> <text>hoses</text> <text>,</text> <text>switched</text> <text>on</text> <text>deck</text> <text>lights</text> <text>and</text> <text>took</text> <text>evasive</text> <text>manoeuvres</text> <text>and</text> <text>crew</text> <text>directed</text> <text>searchlights</text> <text>towards</text> <text>the</text> <text>boats</text> <text>.</text> <text>The</text> <b style='background-color: #fff59d'><text>robbers</text></b> <b style='background-color: #fff59d'><text>escaped</text></b><br></text><text><text>A</text> <text>high</text> <text>speed</text> <text>boat</text> <text>with</text> <text>2</text> <text>-</text> <text>3</text> <b style='background-color: #fff59d'><text>pirates</text></b> <b style='background-color: #fff59d'><text>on</text></b> <b style='background-color: #fff59d'><text>board</text></b> <text>attempted</text> <text>to</text> <text>board</text> <text>the</text> <text>ship</text> <text>but</text> <text>when</text> <text>the</text> <text>crew</text> <text>lit</text> <text>up</text> <text>the</text> <text>area</text> <text>by</text> <text>signal</text> <text>light</text> <text>,</text> <text>pirates</text> <text>turned</text> <text>away</text><br></text><text><text>Duty</text> <text>watchmen</text> <text>on</text> <text>-</text> <text>board</text> <text>an</text> <text>anchored</text> <text>tanker</text> <text>noticed</text> <text>three</text> <text>robbers</text> <text>attempting</text> <text>to</text> <text>board</text> <text>the</text> <text>tanker</text> <text>and</text> <text>immediately</text> <text>notified</text> <text>the</text> <text>officer</text> <text>on</text> <text>watch</text> <text>.</text> <text>Alarm</text> <text>raised</text> <text>and</text> <text>crew</text> <text>mustered</text> <text>.</text> <text>Seeing</text> <text>the</text> <text>alerted</text> <text>crew</text> <text>,</text> <text>the</text> <b style='background-color: #fff59d'><text>robbers</text></b> <b style='background-color: #fff59d'><text>escaped</text></b> <text>empty</text> <text>handed</text> <text>.</text> <text>Incident</text> <text>reported</text> <text>to</text> <text>the</text> <text>Nigerian</text> <text>Navy</text> <text>and</text> <text>a</text> <text>patrol</text> <text>boat</text> <text>was</text> <text>dispatched</text> <text>to</text> <text>investigate</text> <text>.</text><br></text><text><text>Two</text> <text>robbers</text> <text>attempted</text> <text>to</text> <text>board</text> <text>the</text> <text>berthed</text> <text>ship</text> <text>by</text> <text>climbing</text> <text>the</text> <text>stern</text> <text>mooring</text> <text>rope</text> <text>.</text> <text>Alert</text> <text>duty</text> <text>crew</text> <text>noticed</text> <text>the</text> <text>robbers</text> <text>and</text> <text>informed</text> <text>the</text> <text>OOW</text> <text>who</text> <text>raised</text> <text>the</text> <text>alarm</text> <text>and</text> <text>crew</text> <text>mustered</text> <text>.</text> <text>Upon</text> <text>seeing</text> <text>the</text> <text>crew</text> <text>alertness</text> <text>,</text> <text>the</text> <b style='background-color: #fff59d'><text>robbers</text></b> <b style='background-color: #fff59d'><text>jumped</text></b> <b style='background-color: #fff59d'><text>into</text></b> <text>the</text> <text>water</text> <text>and</text> <text>escaped</text> <text>in</text> <text>a</text> <text>small</text> <text>craft</text> <text>.</text><br></text>"
     },
     "execution_count": 9,
     "metadata": {},
     "output_type": "execute_result"
    }
   ],
   "source": [
    "# Find all false positives\n",
    "false_positive = (training_data.loc[lambda d: d['Boarded_label'] == 0]\n",
    "                               .loc[lambda d: d['BOARDED'] == 1]['Incident_details'])\n",
    "\n",
    "# Print false positives using html_print and html_generator functions\n",
    "print(f'{len(false_positive)} total false positives.')\n",
    "html_print(html_generator((nlp(i) for i in false_positive), matcher=matcher, n=len(false_positive)))"
   ],
   "metadata": {
    "collapsed": false,
    "ExecuteTime": {
     "end_time": "2024-03-17T20:32:47.818475Z",
     "start_time": "2024-03-17T20:32:47.792364Z"
    }
   },
   "id": "2488a8cb1f4b3364",
   "execution_count": 9
  },
  {
   "cell_type": "code",
   "outputs": [
    {
     "data": {
      "text/plain": "array([[171,   4],\n       [  0, 325]])"
     },
     "execution_count": 10,
     "metadata": {},
     "output_type": "execute_result"
    }
   ],
   "source": [
    "# Make confusion matrix\n",
    "confusion_matrix(training_data['Boarded_label'], training_data['BOARDED'])"
   ],
   "metadata": {
    "collapsed": false,
    "ExecuteTime": {
     "end_time": "2024-03-17T20:32:49.362691Z",
     "start_time": "2024-03-17T20:32:49.358955Z"
    }
   },
   "id": "9f8df29aac3a4bf9",
   "execution_count": 10
  },
  {
   "cell_type": "code",
   "outputs": [
    {
     "name": "stdout",
     "output_type": "stream",
     "text": [
      "              precision    recall  f1-score   support\n",
      "\n",
      "           0       1.00      0.98      0.99       175\n",
      "           1       0.99      1.00      0.99       325\n",
      "\n",
      "    accuracy                           0.99       500\n",
      "   macro avg       0.99      0.99      0.99       500\n",
      "weighted avg       0.99      0.99      0.99       500\n"
     ]
    }
   ],
   "source": [
    "# Boarded performance report\n",
    "print(classification_report(training_data['Boarded_label'], training_data['BOARDED']))"
   ],
   "metadata": {
    "collapsed": false,
    "ExecuteTime": {
     "end_time": "2024-03-17T20:32:50.524877Z",
     "start_time": "2024-03-17T20:32:50.518706Z"
    }
   },
   "id": "3b5a03657a297abd",
   "execution_count": 11
  },
  {
   "cell_type": "code",
   "outputs": [
    {
     "data": {
      "text/plain": "array([[474,   3],\n       [  0,  23]])"
     },
     "execution_count": 12,
     "metadata": {},
     "output_type": "execute_result"
    }
   ],
   "source": [
    "# Hijacked confusion matrix\n",
    "confusion_matrix(training_data['Hijacked_label'], training_data['HIJACKED'])"
   ],
   "metadata": {
    "collapsed": false,
    "ExecuteTime": {
     "end_time": "2024-03-17T20:32:51.535336Z",
     "start_time": "2024-03-17T20:32:51.531145Z"
    }
   },
   "id": "120077c33bca4ee1",
   "execution_count": 12
  },
  {
   "cell_type": "code",
   "outputs": [
    {
     "name": "stdout",
     "output_type": "stream",
     "text": [
      "              precision    recall  f1-score   support\n",
      "\n",
      "           0       1.00      0.99      1.00       477\n",
      "           1       0.88      1.00      0.94        23\n",
      "\n",
      "    accuracy                           0.99       500\n",
      "   macro avg       0.94      1.00      0.97       500\n",
      "weighted avg       0.99      0.99      0.99       500\n"
     ]
    }
   ],
   "source": [
    "# Hijacked performance report\n",
    "print(classification_report(training_data['Hijacked_label'], training_data['HIJACKED']))"
   ],
   "metadata": {
    "collapsed": false,
    "ExecuteTime": {
     "end_time": "2024-03-17T20:32:52.257638Z",
     "start_time": "2024-03-17T20:32:52.252244Z"
    }
   },
   "id": "e916e9ed6785a5ba",
   "execution_count": 13
  },
  {
   "cell_type": "markdown",
   "source": [
    "## Now let's use our trained matcher on the full piracy_df_imo database."
   ],
   "metadata": {
    "collapsed": false
   },
   "id": "c69ba6d759f7ce6d"
  },
  {
   "cell_type": "code",
   "outputs": [
    {
     "ename": "KeyboardInterrupt",
     "evalue": "",
     "output_type": "error",
     "traceback": [
      "\u001B[0;31m---------------------------------------------------------------------------\u001B[0m",
      "\u001B[0;31mKeyboardInterrupt\u001B[0m                         Traceback (most recent call last)",
      "Cell \u001B[0;32mIn[103], line 11\u001B[0m\n\u001B[1;32m      8\u001B[0m piracy_df_imo_masked \u001B[38;5;241m=\u001B[39m piracy_df_imo[msk]\u001B[38;5;241m.\u001B[39mcopy()\n\u001B[1;32m     10\u001B[0m \u001B[38;5;66;03m# Create docs out of all the \u001B[39;00m\n\u001B[0;32m---> 11\u001B[0m df_docs \u001B[38;5;241m=\u001B[39m \u001B[38;5;28mlist\u001B[39m(nlp\u001B[38;5;241m.\u001B[39mpipe(piracy_df_imo_masked\u001B[38;5;241m.\u001B[39mloc[:,\u001B[38;5;124m'\u001B[39m\u001B[38;5;124mIncident details\u001B[39m\u001B[38;5;124m'\u001B[39m]))\n\u001B[1;32m     13\u001B[0m \u001B[38;5;66;03m# Make the matcher\u001B[39;00m\n\u001B[1;32m     14\u001B[0m matcher \u001B[38;5;241m=\u001B[39m generate_matcher(nlp)\n",
      "File \u001B[0;32m~/anaconda3/lib/python3.11/site-packages/spacy/language.py:1618\u001B[0m, in \u001B[0;36mLanguage.pipe\u001B[0;34m(self, texts, as_tuples, batch_size, disable, component_cfg, n_process)\u001B[0m\n\u001B[1;32m   1616\u001B[0m     \u001B[38;5;28;01mfor\u001B[39;00m pipe \u001B[38;5;129;01min\u001B[39;00m pipes:\n\u001B[1;32m   1617\u001B[0m         docs \u001B[38;5;241m=\u001B[39m pipe(docs)\n\u001B[0;32m-> 1618\u001B[0m \u001B[38;5;28;01mfor\u001B[39;00m doc \u001B[38;5;129;01min\u001B[39;00m docs:\n\u001B[1;32m   1619\u001B[0m     \u001B[38;5;28;01myield\u001B[39;00m doc\n",
      "File \u001B[0;32m~/anaconda3/lib/python3.11/site-packages/spacy/util.py:1685\u001B[0m, in \u001B[0;36m_pipe\u001B[0;34m(docs, proc, name, default_error_handler, kwargs)\u001B[0m\n\u001B[1;32m   1675\u001B[0m \u001B[38;5;28;01mdef\u001B[39;00m \u001B[38;5;21m_pipe\u001B[39m(\n\u001B[1;32m   1676\u001B[0m     docs: Iterable[\u001B[38;5;124m\"\u001B[39m\u001B[38;5;124mDoc\u001B[39m\u001B[38;5;124m\"\u001B[39m],\n\u001B[1;32m   1677\u001B[0m     proc: \u001B[38;5;124m\"\u001B[39m\u001B[38;5;124mPipeCallable\u001B[39m\u001B[38;5;124m\"\u001B[39m,\n\u001B[0;32m   (...)\u001B[0m\n\u001B[1;32m   1682\u001B[0m     kwargs: Mapping[\u001B[38;5;28mstr\u001B[39m, Any],\n\u001B[1;32m   1683\u001B[0m ) \u001B[38;5;241m-\u001B[39m\u001B[38;5;241m>\u001B[39m Iterator[\u001B[38;5;124m\"\u001B[39m\u001B[38;5;124mDoc\u001B[39m\u001B[38;5;124m\"\u001B[39m]:\n\u001B[1;32m   1684\u001B[0m     \u001B[38;5;28;01mif\u001B[39;00m \u001B[38;5;28mhasattr\u001B[39m(proc, \u001B[38;5;124m\"\u001B[39m\u001B[38;5;124mpipe\u001B[39m\u001B[38;5;124m\"\u001B[39m):\n\u001B[0;32m-> 1685\u001B[0m         \u001B[38;5;28;01myield from\u001B[39;00m proc\u001B[38;5;241m.\u001B[39mpipe(docs, \u001B[38;5;241m*\u001B[39m\u001B[38;5;241m*\u001B[39mkwargs)\n\u001B[1;32m   1686\u001B[0m     \u001B[38;5;28;01melse\u001B[39;00m:\n\u001B[1;32m   1687\u001B[0m         \u001B[38;5;66;03m# We added some args for pipe that __call__ doesn't expect.\u001B[39;00m\n\u001B[1;32m   1688\u001B[0m         kwargs \u001B[38;5;241m=\u001B[39m \u001B[38;5;28mdict\u001B[39m(kwargs)\n",
      "File \u001B[0;32m~/anaconda3/lib/python3.11/site-packages/spacy/pipeline/trainable_pipe.pyx:73\u001B[0m, in \u001B[0;36mpipe\u001B[0;34m()\u001B[0m\n",
      "File \u001B[0;32m~/anaconda3/lib/python3.11/site-packages/spacy/util.py:1632\u001B[0m, in \u001B[0;36mminibatch\u001B[0;34m(items, size)\u001B[0m\n\u001B[1;32m   1630\u001B[0m \u001B[38;5;28;01mwhile\u001B[39;00m \u001B[38;5;28;01mTrue\u001B[39;00m:\n\u001B[1;32m   1631\u001B[0m     batch_size \u001B[38;5;241m=\u001B[39m \u001B[38;5;28mnext\u001B[39m(size_)\n\u001B[0;32m-> 1632\u001B[0m     batch \u001B[38;5;241m=\u001B[39m \u001B[38;5;28mlist\u001B[39m(itertools\u001B[38;5;241m.\u001B[39mislice(items, \u001B[38;5;28mint\u001B[39m(batch_size)))\n\u001B[1;32m   1633\u001B[0m     \u001B[38;5;28;01mif\u001B[39;00m \u001B[38;5;28mlen\u001B[39m(batch) \u001B[38;5;241m==\u001B[39m \u001B[38;5;241m0\u001B[39m:\n\u001B[1;32m   1634\u001B[0m         \u001B[38;5;28;01mbreak\u001B[39;00m\n",
      "File \u001B[0;32m~/anaconda3/lib/python3.11/site-packages/spacy/util.py:1685\u001B[0m, in \u001B[0;36m_pipe\u001B[0;34m(docs, proc, name, default_error_handler, kwargs)\u001B[0m\n\u001B[1;32m   1675\u001B[0m \u001B[38;5;28;01mdef\u001B[39;00m \u001B[38;5;21m_pipe\u001B[39m(\n\u001B[1;32m   1676\u001B[0m     docs: Iterable[\u001B[38;5;124m\"\u001B[39m\u001B[38;5;124mDoc\u001B[39m\u001B[38;5;124m\"\u001B[39m],\n\u001B[1;32m   1677\u001B[0m     proc: \u001B[38;5;124m\"\u001B[39m\u001B[38;5;124mPipeCallable\u001B[39m\u001B[38;5;124m\"\u001B[39m,\n\u001B[0;32m   (...)\u001B[0m\n\u001B[1;32m   1682\u001B[0m     kwargs: Mapping[\u001B[38;5;28mstr\u001B[39m, Any],\n\u001B[1;32m   1683\u001B[0m ) \u001B[38;5;241m-\u001B[39m\u001B[38;5;241m>\u001B[39m Iterator[\u001B[38;5;124m\"\u001B[39m\u001B[38;5;124mDoc\u001B[39m\u001B[38;5;124m\"\u001B[39m]:\n\u001B[1;32m   1684\u001B[0m     \u001B[38;5;28;01mif\u001B[39;00m \u001B[38;5;28mhasattr\u001B[39m(proc, \u001B[38;5;124m\"\u001B[39m\u001B[38;5;124mpipe\u001B[39m\u001B[38;5;124m\"\u001B[39m):\n\u001B[0;32m-> 1685\u001B[0m         \u001B[38;5;28;01myield from\u001B[39;00m proc\u001B[38;5;241m.\u001B[39mpipe(docs, \u001B[38;5;241m*\u001B[39m\u001B[38;5;241m*\u001B[39mkwargs)\n\u001B[1;32m   1686\u001B[0m     \u001B[38;5;28;01melse\u001B[39;00m:\n\u001B[1;32m   1687\u001B[0m         \u001B[38;5;66;03m# We added some args for pipe that __call__ doesn't expect.\u001B[39;00m\n\u001B[1;32m   1688\u001B[0m         kwargs \u001B[38;5;241m=\u001B[39m \u001B[38;5;28mdict\u001B[39m(kwargs)\n",
      "File \u001B[0;32m~/anaconda3/lib/python3.11/site-packages/spacy/pipeline/trainable_pipe.pyx:75\u001B[0m, in \u001B[0;36mpipe\u001B[0;34m()\u001B[0m\n",
      "File \u001B[0;32m~/anaconda3/lib/python3.11/site-packages/spacy/pipeline/tok2vec.py:126\u001B[0m, in \u001B[0;36mTok2Vec.predict\u001B[0;34m(self, docs)\u001B[0m\n\u001B[1;32m    124\u001B[0m     width \u001B[38;5;241m=\u001B[39m \u001B[38;5;28mself\u001B[39m\u001B[38;5;241m.\u001B[39mmodel\u001B[38;5;241m.\u001B[39mget_dim(\u001B[38;5;124m\"\u001B[39m\u001B[38;5;124mnO\u001B[39m\u001B[38;5;124m\"\u001B[39m)\n\u001B[1;32m    125\u001B[0m     \u001B[38;5;28;01mreturn\u001B[39;00m [\u001B[38;5;28mself\u001B[39m\u001B[38;5;241m.\u001B[39mmodel\u001B[38;5;241m.\u001B[39mops\u001B[38;5;241m.\u001B[39malloc((\u001B[38;5;241m0\u001B[39m, width)) \u001B[38;5;28;01mfor\u001B[39;00m doc \u001B[38;5;129;01min\u001B[39;00m docs]\n\u001B[0;32m--> 126\u001B[0m tokvecs \u001B[38;5;241m=\u001B[39m \u001B[38;5;28mself\u001B[39m\u001B[38;5;241m.\u001B[39mmodel\u001B[38;5;241m.\u001B[39mpredict(docs)\n\u001B[1;32m    127\u001B[0m \u001B[38;5;28;01mreturn\u001B[39;00m tokvecs\n",
      "File \u001B[0;32m~/anaconda3/lib/python3.11/site-packages/thinc/model.py:334\u001B[0m, in \u001B[0;36mModel.predict\u001B[0;34m(self, X)\u001B[0m\n\u001B[1;32m    330\u001B[0m \u001B[38;5;28;01mdef\u001B[39;00m \u001B[38;5;21mpredict\u001B[39m(\u001B[38;5;28mself\u001B[39m, X: InT) \u001B[38;5;241m-\u001B[39m\u001B[38;5;241m>\u001B[39m OutT:\n\u001B[1;32m    331\u001B[0m \u001B[38;5;250m    \u001B[39m\u001B[38;5;124;03m\"\"\"Call the model's `forward` function with `is_train=False`, and return\u001B[39;00m\n\u001B[1;32m    332\u001B[0m \u001B[38;5;124;03m    only the output, instead of the `(output, callback)` tuple.\u001B[39;00m\n\u001B[1;32m    333\u001B[0m \u001B[38;5;124;03m    \"\"\"\u001B[39;00m\n\u001B[0;32m--> 334\u001B[0m     \u001B[38;5;28;01mreturn\u001B[39;00m \u001B[38;5;28mself\u001B[39m\u001B[38;5;241m.\u001B[39m_func(\u001B[38;5;28mself\u001B[39m, X, is_train\u001B[38;5;241m=\u001B[39m\u001B[38;5;28;01mFalse\u001B[39;00m)[\u001B[38;5;241m0\u001B[39m]\n",
      "File \u001B[0;32m~/anaconda3/lib/python3.11/site-packages/thinc/layers/chain.py:54\u001B[0m, in \u001B[0;36mforward\u001B[0;34m(model, X, is_train)\u001B[0m\n\u001B[1;32m     52\u001B[0m callbacks \u001B[38;5;241m=\u001B[39m []\n\u001B[1;32m     53\u001B[0m \u001B[38;5;28;01mfor\u001B[39;00m layer \u001B[38;5;129;01min\u001B[39;00m model\u001B[38;5;241m.\u001B[39mlayers:\n\u001B[0;32m---> 54\u001B[0m     Y, inc_layer_grad \u001B[38;5;241m=\u001B[39m layer(X, is_train\u001B[38;5;241m=\u001B[39mis_train)\n\u001B[1;32m     55\u001B[0m     callbacks\u001B[38;5;241m.\u001B[39mappend(inc_layer_grad)\n\u001B[1;32m     56\u001B[0m     X \u001B[38;5;241m=\u001B[39m Y\n",
      "File \u001B[0;32m~/anaconda3/lib/python3.11/site-packages/thinc/model.py:310\u001B[0m, in \u001B[0;36mModel.__call__\u001B[0;34m(self, X, is_train)\u001B[0m\n\u001B[1;32m    307\u001B[0m \u001B[38;5;28;01mdef\u001B[39;00m \u001B[38;5;21m__call__\u001B[39m(\u001B[38;5;28mself\u001B[39m, X: InT, is_train: \u001B[38;5;28mbool\u001B[39m) \u001B[38;5;241m-\u001B[39m\u001B[38;5;241m>\u001B[39m Tuple[OutT, Callable]:\n\u001B[1;32m    308\u001B[0m \u001B[38;5;250m    \u001B[39m\u001B[38;5;124;03m\"\"\"Call the model's `forward` function, returning the output and a\u001B[39;00m\n\u001B[1;32m    309\u001B[0m \u001B[38;5;124;03m    callback to compute the gradients via backpropagation.\"\"\"\u001B[39;00m\n\u001B[0;32m--> 310\u001B[0m     \u001B[38;5;28;01mreturn\u001B[39;00m \u001B[38;5;28mself\u001B[39m\u001B[38;5;241m.\u001B[39m_func(\u001B[38;5;28mself\u001B[39m, X, is_train\u001B[38;5;241m=\u001B[39mis_train)\n",
      "File \u001B[0;32m~/anaconda3/lib/python3.11/site-packages/thinc/layers/chain.py:54\u001B[0m, in \u001B[0;36mforward\u001B[0;34m(model, X, is_train)\u001B[0m\n\u001B[1;32m     52\u001B[0m callbacks \u001B[38;5;241m=\u001B[39m []\n\u001B[1;32m     53\u001B[0m \u001B[38;5;28;01mfor\u001B[39;00m layer \u001B[38;5;129;01min\u001B[39;00m model\u001B[38;5;241m.\u001B[39mlayers:\n\u001B[0;32m---> 54\u001B[0m     Y, inc_layer_grad \u001B[38;5;241m=\u001B[39m layer(X, is_train\u001B[38;5;241m=\u001B[39mis_train)\n\u001B[1;32m     55\u001B[0m     callbacks\u001B[38;5;241m.\u001B[39mappend(inc_layer_grad)\n\u001B[1;32m     56\u001B[0m     X \u001B[38;5;241m=\u001B[39m Y\n",
      "File \u001B[0;32m~/anaconda3/lib/python3.11/site-packages/thinc/model.py:310\u001B[0m, in \u001B[0;36mModel.__call__\u001B[0;34m(self, X, is_train)\u001B[0m\n\u001B[1;32m    307\u001B[0m \u001B[38;5;28;01mdef\u001B[39;00m \u001B[38;5;21m__call__\u001B[39m(\u001B[38;5;28mself\u001B[39m, X: InT, is_train: \u001B[38;5;28mbool\u001B[39m) \u001B[38;5;241m-\u001B[39m\u001B[38;5;241m>\u001B[39m Tuple[OutT, Callable]:\n\u001B[1;32m    308\u001B[0m \u001B[38;5;250m    \u001B[39m\u001B[38;5;124;03m\"\"\"Call the model's `forward` function, returning the output and a\u001B[39;00m\n\u001B[1;32m    309\u001B[0m \u001B[38;5;124;03m    callback to compute the gradients via backpropagation.\"\"\"\u001B[39;00m\n\u001B[0;32m--> 310\u001B[0m     \u001B[38;5;28;01mreturn\u001B[39;00m \u001B[38;5;28mself\u001B[39m\u001B[38;5;241m.\u001B[39m_func(\u001B[38;5;28mself\u001B[39m, X, is_train\u001B[38;5;241m=\u001B[39mis_train)\n",
      "File \u001B[0;32m~/anaconda3/lib/python3.11/site-packages/thinc/layers/with_array.py:36\u001B[0m, in \u001B[0;36mforward\u001B[0;34m(model, Xseq, is_train)\u001B[0m\n\u001B[1;32m     32\u001B[0m \u001B[38;5;28;01mdef\u001B[39;00m \u001B[38;5;21mforward\u001B[39m(\n\u001B[1;32m     33\u001B[0m     model: Model[SeqT, SeqT], Xseq: SeqT, is_train: \u001B[38;5;28mbool\u001B[39m\n\u001B[1;32m     34\u001B[0m ) \u001B[38;5;241m-\u001B[39m\u001B[38;5;241m>\u001B[39m Tuple[SeqT, Callable]:\n\u001B[1;32m     35\u001B[0m     \u001B[38;5;28;01mif\u001B[39;00m \u001B[38;5;28misinstance\u001B[39m(Xseq, Ragged):\n\u001B[0;32m---> 36\u001B[0m         \u001B[38;5;28;01mreturn\u001B[39;00m cast(Tuple[SeqT, Callable], _ragged_forward(model, Xseq, is_train))\n\u001B[1;32m     37\u001B[0m     \u001B[38;5;28;01melif\u001B[39;00m \u001B[38;5;28misinstance\u001B[39m(Xseq, Padded):\n\u001B[1;32m     38\u001B[0m         \u001B[38;5;28;01mreturn\u001B[39;00m cast(Tuple[SeqT, Callable], _padded_forward(model, Xseq, is_train))\n",
      "File \u001B[0;32m~/anaconda3/lib/python3.11/site-packages/thinc/layers/with_array.py:91\u001B[0m, in \u001B[0;36m_ragged_forward\u001B[0;34m(model, Xr, is_train)\u001B[0m\n\u001B[1;32m     87\u001B[0m \u001B[38;5;28;01mdef\u001B[39;00m \u001B[38;5;21m_ragged_forward\u001B[39m(\n\u001B[1;32m     88\u001B[0m     model: Model[SeqT, SeqT], Xr: Ragged, is_train: \u001B[38;5;28mbool\u001B[39m\n\u001B[1;32m     89\u001B[0m ) \u001B[38;5;241m-\u001B[39m\u001B[38;5;241m>\u001B[39m Tuple[Ragged, Callable]:\n\u001B[1;32m     90\u001B[0m     layer: Model[ArrayXd, ArrayXd] \u001B[38;5;241m=\u001B[39m model\u001B[38;5;241m.\u001B[39mlayers[\u001B[38;5;241m0\u001B[39m]\n\u001B[0;32m---> 91\u001B[0m     Y, get_dX \u001B[38;5;241m=\u001B[39m layer(Xr\u001B[38;5;241m.\u001B[39mdataXd, is_train)\n\u001B[1;32m     93\u001B[0m     \u001B[38;5;28;01mdef\u001B[39;00m \u001B[38;5;21mbackprop\u001B[39m(dYr: Ragged) \u001B[38;5;241m-\u001B[39m\u001B[38;5;241m>\u001B[39m Ragged:\n\u001B[1;32m     94\u001B[0m         \u001B[38;5;28;01mreturn\u001B[39;00m Ragged(get_dX(dYr\u001B[38;5;241m.\u001B[39mdataXd), dYr\u001B[38;5;241m.\u001B[39mlengths)\n",
      "File \u001B[0;32m~/anaconda3/lib/python3.11/site-packages/thinc/model.py:310\u001B[0m, in \u001B[0;36mModel.__call__\u001B[0;34m(self, X, is_train)\u001B[0m\n\u001B[1;32m    307\u001B[0m \u001B[38;5;28;01mdef\u001B[39;00m \u001B[38;5;21m__call__\u001B[39m(\u001B[38;5;28mself\u001B[39m, X: InT, is_train: \u001B[38;5;28mbool\u001B[39m) \u001B[38;5;241m-\u001B[39m\u001B[38;5;241m>\u001B[39m Tuple[OutT, Callable]:\n\u001B[1;32m    308\u001B[0m \u001B[38;5;250m    \u001B[39m\u001B[38;5;124;03m\"\"\"Call the model's `forward` function, returning the output and a\u001B[39;00m\n\u001B[1;32m    309\u001B[0m \u001B[38;5;124;03m    callback to compute the gradients via backpropagation.\"\"\"\u001B[39;00m\n\u001B[0;32m--> 310\u001B[0m     \u001B[38;5;28;01mreturn\u001B[39;00m \u001B[38;5;28mself\u001B[39m\u001B[38;5;241m.\u001B[39m_func(\u001B[38;5;28mself\u001B[39m, X, is_train\u001B[38;5;241m=\u001B[39mis_train)\n",
      "File \u001B[0;32m~/anaconda3/lib/python3.11/site-packages/thinc/layers/chain.py:54\u001B[0m, in \u001B[0;36mforward\u001B[0;34m(model, X, is_train)\u001B[0m\n\u001B[1;32m     52\u001B[0m callbacks \u001B[38;5;241m=\u001B[39m []\n\u001B[1;32m     53\u001B[0m \u001B[38;5;28;01mfor\u001B[39;00m layer \u001B[38;5;129;01min\u001B[39;00m model\u001B[38;5;241m.\u001B[39mlayers:\n\u001B[0;32m---> 54\u001B[0m     Y, inc_layer_grad \u001B[38;5;241m=\u001B[39m layer(X, is_train\u001B[38;5;241m=\u001B[39mis_train)\n\u001B[1;32m     55\u001B[0m     callbacks\u001B[38;5;241m.\u001B[39mappend(inc_layer_grad)\n\u001B[1;32m     56\u001B[0m     X \u001B[38;5;241m=\u001B[39m Y\n",
      "File \u001B[0;32m~/anaconda3/lib/python3.11/site-packages/thinc/model.py:310\u001B[0m, in \u001B[0;36mModel.__call__\u001B[0;34m(self, X, is_train)\u001B[0m\n\u001B[1;32m    307\u001B[0m \u001B[38;5;28;01mdef\u001B[39;00m \u001B[38;5;21m__call__\u001B[39m(\u001B[38;5;28mself\u001B[39m, X: InT, is_train: \u001B[38;5;28mbool\u001B[39m) \u001B[38;5;241m-\u001B[39m\u001B[38;5;241m>\u001B[39m Tuple[OutT, Callable]:\n\u001B[1;32m    308\u001B[0m \u001B[38;5;250m    \u001B[39m\u001B[38;5;124;03m\"\"\"Call the model's `forward` function, returning the output and a\u001B[39;00m\n\u001B[1;32m    309\u001B[0m \u001B[38;5;124;03m    callback to compute the gradients via backpropagation.\"\"\"\u001B[39;00m\n\u001B[0;32m--> 310\u001B[0m     \u001B[38;5;28;01mreturn\u001B[39;00m \u001B[38;5;28mself\u001B[39m\u001B[38;5;241m.\u001B[39m_func(\u001B[38;5;28mself\u001B[39m, X, is_train\u001B[38;5;241m=\u001B[39mis_train)\n",
      "File \u001B[0;32m~/anaconda3/lib/python3.11/site-packages/thinc/layers/chain.py:54\u001B[0m, in \u001B[0;36mforward\u001B[0;34m(model, X, is_train)\u001B[0m\n\u001B[1;32m     52\u001B[0m callbacks \u001B[38;5;241m=\u001B[39m []\n\u001B[1;32m     53\u001B[0m \u001B[38;5;28;01mfor\u001B[39;00m layer \u001B[38;5;129;01min\u001B[39;00m model\u001B[38;5;241m.\u001B[39mlayers:\n\u001B[0;32m---> 54\u001B[0m     Y, inc_layer_grad \u001B[38;5;241m=\u001B[39m layer(X, is_train\u001B[38;5;241m=\u001B[39mis_train)\n\u001B[1;32m     55\u001B[0m     callbacks\u001B[38;5;241m.\u001B[39mappend(inc_layer_grad)\n\u001B[1;32m     56\u001B[0m     X \u001B[38;5;241m=\u001B[39m Y\n",
      "File \u001B[0;32m~/anaconda3/lib/python3.11/site-packages/thinc/model.py:310\u001B[0m, in \u001B[0;36mModel.__call__\u001B[0;34m(self, X, is_train)\u001B[0m\n\u001B[1;32m    307\u001B[0m \u001B[38;5;28;01mdef\u001B[39;00m \u001B[38;5;21m__call__\u001B[39m(\u001B[38;5;28mself\u001B[39m, X: InT, is_train: \u001B[38;5;28mbool\u001B[39m) \u001B[38;5;241m-\u001B[39m\u001B[38;5;241m>\u001B[39m Tuple[OutT, Callable]:\n\u001B[1;32m    308\u001B[0m \u001B[38;5;250m    \u001B[39m\u001B[38;5;124;03m\"\"\"Call the model's `forward` function, returning the output and a\u001B[39;00m\n\u001B[1;32m    309\u001B[0m \u001B[38;5;124;03m    callback to compute the gradients via backpropagation.\"\"\"\u001B[39;00m\n\u001B[0;32m--> 310\u001B[0m     \u001B[38;5;28;01mreturn\u001B[39;00m \u001B[38;5;28mself\u001B[39m\u001B[38;5;241m.\u001B[39m_func(\u001B[38;5;28mself\u001B[39m, X, is_train\u001B[38;5;241m=\u001B[39mis_train)\n",
      "File \u001B[0;32m~/anaconda3/lib/python3.11/site-packages/thinc/layers/maxout.py:52\u001B[0m, in \u001B[0;36mforward\u001B[0;34m(model, X, is_train)\u001B[0m\n\u001B[1;32m     50\u001B[0m W \u001B[38;5;241m=\u001B[39m model\u001B[38;5;241m.\u001B[39mget_param(\u001B[38;5;124m\"\u001B[39m\u001B[38;5;124mW\u001B[39m\u001B[38;5;124m\"\u001B[39m)\n\u001B[1;32m     51\u001B[0m W \u001B[38;5;241m=\u001B[39m model\u001B[38;5;241m.\u001B[39mops\u001B[38;5;241m.\u001B[39mreshape2f(W, nO \u001B[38;5;241m*\u001B[39m nP, nI)\n\u001B[0;32m---> 52\u001B[0m Y \u001B[38;5;241m=\u001B[39m model\u001B[38;5;241m.\u001B[39mops\u001B[38;5;241m.\u001B[39mgemm(X, W, trans2\u001B[38;5;241m=\u001B[39m\u001B[38;5;28;01mTrue\u001B[39;00m)\n\u001B[1;32m     53\u001B[0m Y \u001B[38;5;241m+\u001B[39m\u001B[38;5;241m=\u001B[39m model\u001B[38;5;241m.\u001B[39mops\u001B[38;5;241m.\u001B[39mreshape1f(b, nO \u001B[38;5;241m*\u001B[39m nP)\n\u001B[1;32m     54\u001B[0m Z \u001B[38;5;241m=\u001B[39m model\u001B[38;5;241m.\u001B[39mops\u001B[38;5;241m.\u001B[39mreshape3f(Y, Y\u001B[38;5;241m.\u001B[39mshape[\u001B[38;5;241m0\u001B[39m], nO, nP)\n",
      "\u001B[0;31mKeyboardInterrupt\u001B[0m: "
     ]
    }
   ],
   "source": [
    "# Add necessary columns, initialize to zeros\n",
    "piracy_df_imo['BOARDED'] = 0\n",
    "piracy_df_imo['HIJACKED'] = 0\n",
    "\n",
    "# Mask out null incident details and IMO No.s\n",
    "# Null IMO Numbers are just observations and not actual incidents\n",
    "msk = piracy_df_imo['Incident details'].notna() & piracy_df_imo['IMO No.'].notna()\n",
    "piracy_df_imo_masked = piracy_df_imo[msk].copy()\n",
    "\n",
    "# Create docs out of all the \n",
    "df_docs = list(nlp.pipe(piracy_df_imo_masked.loc[:,'Incident details']))\n",
    "\n",
    "# Make the matcher\n",
    "matcher = generate_matcher(nlp)\n",
    "\n",
    "# Apply matcher to the database. Typically, takes ~33 seconds to execute\n",
    "piracy_df_imo_masked = custom_matcher(piracy_df_imo_masked, df_docs, matcher)"
   ],
   "metadata": {
    "collapsed": false,
    "ExecuteTime": {
     "end_time": "2024-03-15T21:55:32.957197Z",
     "start_time": "2024-03-15T21:54:41.534391Z"
    }
   },
   "id": "4b900f62b4d062ec",
   "execution_count": 103
  },
  {
   "cell_type": "code",
   "outputs": [
    {
     "ename": "NameError",
     "evalue": "name 'piracy_df_imo_masked' is not defined",
     "output_type": "error",
     "traceback": [
      "\u001B[0;31m---------------------------------------------------------------------------\u001B[0m",
      "\u001B[0;31mNameError\u001B[0m                                 Traceback (most recent call last)",
      "Cell \u001B[0;32mIn[14], line 2\u001B[0m\n\u001B[1;32m      1\u001B[0m \u001B[38;5;66;03m# Show result\u001B[39;00m\n\u001B[0;32m----> 2\u001B[0m piracy_df_imo_masked\u001B[38;5;241m.\u001B[39mloc[:,[\u001B[38;5;124m'\u001B[39m\u001B[38;5;124mIncident details\u001B[39m\u001B[38;5;124m'\u001B[39m,\u001B[38;5;124m'\u001B[39m\u001B[38;5;124mBOARDED\u001B[39m\u001B[38;5;124m'\u001B[39m, \u001B[38;5;124m'\u001B[39m\u001B[38;5;124mHIJACKED\u001B[39m\u001B[38;5;124m'\u001B[39m]]\n",
      "\u001B[0;31mNameError\u001B[0m: name 'piracy_df_imo_masked' is not defined"
     ]
    }
   ],
   "source": [
    "# Show result\n",
    "piracy_df_imo_masked.loc[:,['Incident details','BOARDED', 'HIJACKED']]"
   ],
   "metadata": {
    "collapsed": false,
    "ExecuteTime": {
     "end_time": "2024-03-17T20:33:16.398694Z",
     "start_time": "2024-03-17T20:33:16.094663Z"
    }
   },
   "id": "a0a12d418541c709",
   "execution_count": 14
  },
  {
   "cell_type": "markdown",
   "source": [
    "Doesn't do very well on the full dataset...need to make better with a trained statistical model"
   ],
   "metadata": {
    "collapsed": false
   },
   "id": "316fd2fc4489ebf0"
  },
  {
   "cell_type": "markdown",
   "source": [
    "## Training our own statistical model (this one does not work, keep scrolling to the next section)"
   ],
   "metadata": {
    "collapsed": false
   },
   "id": "ba1aa0c70224aa31"
  },
  {
   "cell_type": "code",
   "outputs": [
    {
     "name": "stdout",
     "output_type": "stream",
     "text": [
      "Boarded Total: 500 - Train:  375 - Dev: 75 - Test: 50\n"
     ]
    },
    {
     "data": {
      "text/plain": "list"
     },
     "execution_count": 126,
     "metadata": {},
     "output_type": "execute_result"
    }
   ],
   "source": [
    "# Instead, train model with labels I manually added\n",
    "# Need to split boarded and hijack data\n",
    "# Reference: https://medium.com/@johnidouglasmarangon/building-a-text-classification-model-with-spacy-3-x-57e59fa50547\n",
    "shuffled_df = list(training_data[['Incident_details','Boarded_label', 'Hijacked_label']].sample(frac=1).itertuples(index=False, name=None))\n",
    "\n",
    "# Split out data into training (75%), dev (15%), test (10%)\n",
    "train_data = shuffled_boarded_df[:375]\n",
    "dev_data = shuffled_boarded_df[375:450]\n",
    "test_data = shuffled_boarded_df[450:500]\n",
    "\n",
    "# Print lengths\n",
    "print(f\"Boarded Total: {len(shuffled_df)} - Train:  {len(train_data)} - Dev: {len(dev_data)} - Test: {len(test_data)}\")"
   ],
   "metadata": {
    "collapsed": false,
    "ExecuteTime": {
     "end_time": "2024-03-15T22:55:16.104362Z",
     "start_time": "2024-03-15T22:55:16.100068Z"
    }
   },
   "id": "454f63eb54409fb5",
   "execution_count": 126
  },
  {
   "cell_type": "code",
   "outputs": [
    {
     "name": "stdout",
     "output_type": "stream",
     "text": [
      "('Robbers boarded and hijacked tug, while underway and threw overboard ten crewmembers. A passing tug rescued one crew member and the fate of the remaining nine crewmembers is unknown', 1, 1)\n",
      "('Pirates hijacked the ship underway \\ntaking 25 crewmembers hostage. The ship was sailed to the Somali coast', 1, 1)\n",
      "train = 18, dev = 2, test = 3\n"
     ]
    }
   ],
   "source": [
    "train = dev = test = 0\n",
    "for tup in train_data:\n",
    "    if tup[2] == 1:\n",
    "        train += 1\n",
    "for tup in dev_data:\n",
    "    if tup[2] == 1:\n",
    "        print(tup)\n",
    "        dev += 1\n",
    "for tup in test_data:\n",
    "    if tup[2] == 1:\n",
    "        test += 1\n",
    "print(f'{train = }, {dev = }, {test = }')"
   ],
   "metadata": {
    "collapsed": false,
    "ExecuteTime": {
     "end_time": "2024-03-15T23:21:18.424742Z",
     "start_time": "2024-03-15T23:21:18.421272Z"
    }
   },
   "id": "dd028ad1bae1bbe6",
   "execution_count": 140
  },
  {
   "cell_type": "code",
   "outputs": [
    {
     "name": "stdout",
     "output_type": "stream",
     "text": [
      "Train saved\n",
      "Dev saved\n",
      "Test saved\n"
     ]
    }
   ],
   "source": [
    "# Reset nlp if it was changed\n",
    "nlp = spacy.load('en_core_web_md')\n",
    "\n",
    "# Transform data to binary file (DocBin) in Spacy_Files folder\n",
    "def convert(data_list, outfile):\n",
    "    db = spacy.tokens.DocBin()\n",
    "\n",
    "    # Assign boarded/hijacked categories (cats) to docs\n",
    "    for tup in data_list:\n",
    "        # Convert text to doc\n",
    "        doc = nlp(tup[0])\n",
    "        \n",
    "        # Assign cats based on tup and add to DocBin\n",
    "        doc.cats[\"BOARDED\"] = tup[1] == 1\n",
    "        doc.cats[\"HIJACKED\"] = tup[2] == 1\n",
    "        db.add(doc)\n",
    "        \n",
    "    # Save DocBin at outfile's path\n",
    "    db.to_disk(outfile)\n",
    "    \n",
    "# Convert all 3 datasets to DocBins\n",
    "convert(train_data, './Spacy_Files/train.spacy')\n",
    "print('Train saved')\n",
    "convert(dev_data, './Spacy_Files/dev.spacy')\n",
    "print('Dev saved')\n",
    "convert(test_data, './Spacy_Files/test.spacy')\n",
    "print('Test saved')"
   ],
   "metadata": {
    "collapsed": false,
    "ExecuteTime": {
     "end_time": "2024-03-15T22:59:29.290496Z",
     "start_time": "2024-03-15T22:59:23.778350Z"
    }
   },
   "id": "6570ba64f0fcb8c7",
   "execution_count": 128
  },
  {
   "cell_type": "code",
   "outputs": [
    {
     "name": "stdout",
     "output_type": "stream",
     "text": [
      "\u001B[38;5;3m⚠ To generate a more effective transformer-based config (GPU-only),\r\n",
      "install the spacy-transformers package and re-run this command. The config\r\n",
      "generated now does not use transformers.\u001B[0m\r\n",
      "\u001B[38;5;4mℹ Generated config template specific for your use case\u001B[0m\r\n",
      "- Language: en\r\n",
      "- Pipeline: textcat_multilabel\r\n",
      "- Optimize for: accuracy\r\n",
      "- Hardware: CPU\r\n",
      "- Transformer: None\r\n",
      "\u001B[38;5;2m✔ Auto-filled config with all values\u001B[0m\r\n",
      "\u001B[38;5;2m✔ Saved config\u001B[0m\r\n",
      "Spacy_Files/config.cfg\r\n",
      "You can now add your data and train your pipeline:\r\n",
      "python -m spacy train config.cfg --paths.train ./train.spacy --paths.dev ./dev.spacy\r\n"
     ]
    }
   ],
   "source": [
    "# Initialize config file for textcat-multilabel training\n",
    "# !python -m spacy init config --pipeline textcat_multilabel --optimize accuracy --force ./Spacy_Files/config.cfg"
   ],
   "metadata": {
    "collapsed": false,
    "ExecuteTime": {
     "end_time": "2024-03-15T22:11:58.017860Z",
     "start_time": "2024-03-15T22:11:55.754033Z"
    }
   },
   "id": "ce84e2eedc944123",
   "execution_count": 117
  },
  {
   "cell_type": "code",
   "outputs": [
    {
     "name": "stdout",
     "output_type": "stream",
     "text": [
      "[2024-03-15 16:00:41,385] [DEBUG] Config overrides from CLI: ['paths.train', 'paths.dev']\r\n",
      "\u001B[38;5;4mℹ Saving to output directory: Spacy_Files/model\u001B[0m\r\n",
      "\u001B[38;5;4mℹ Using CPU\u001B[0m\r\n",
      "\u001B[38;5;4mℹ To switch to GPU 0, use the option: --gpu-id 0\u001B[0m\r\n",
      "\u001B[1m\r\n",
      "=========================== Initializing pipeline ===========================\u001B[0m\r\n",
      "[2024-03-15 16:00:41,527] [INFO] Set up nlp object from config\r\n",
      "[2024-03-15 16:00:41,536] [DEBUG] Loading corpus from path: Spacy_Files/dev.spacy\r\n",
      "[2024-03-15 16:00:41,538] [DEBUG] Loading corpus from path: Spacy_Files/train.spacy\r\n",
      "[2024-03-15 16:00:41,538] [INFO] Pipeline: ['tok2vec', 'textcat_multilabel']\r\n",
      "[2024-03-15 16:00:41,539] [INFO] Created vocabulary\r\n",
      "[2024-03-15 16:00:42,350] [INFO] Added vectors: en_core_web_md\r\n",
      "[2024-03-15 16:00:42,350] [INFO] Finished initializing nlp object\r\n",
      "[2024-03-15 16:00:43,257] [INFO] Initialized pipeline components: ['tok2vec', 'textcat_multilabel']\r\n",
      "\u001B[38;5;2m✔ Initialized pipeline\u001B[0m\r\n",
      "\u001B[1m\r\n",
      "============================= Training pipeline =============================\u001B[0m\r\n",
      "[2024-03-15 16:00:43,268] [DEBUG] Loading corpus from path: Spacy_Files/dev.spacy\r\n",
      "[2024-03-15 16:00:43,269] [DEBUG] Loading corpus from path: Spacy_Files/train.spacy\r\n",
      "[2024-03-15 16:00:43,273] [DEBUG] Removed existing output directory: Spacy_Files/model/model-best\r\n",
      "[2024-03-15 16:00:43,277] [DEBUG] Removed existing output directory: Spacy_Files/model/model-last\r\n",
      "\u001B[38;5;4mℹ Pipeline: ['tok2vec', 'textcat_multilabel']\u001B[0m\r\n",
      "\u001B[38;5;4mℹ Initial learn rate: 0.001\u001B[0m\r\n",
      "E    #       LOSS TOK2VEC  LOSS TEXTC...  CATS_SCORE  SCORE \r\n",
      "---  ------  ------------  -------------  ----------  ------\r\n",
      "  0       0          0.06           0.27       23.41    0.23\r\n",
      "  1     200          0.40          46.01       50.00    0.50\r\n",
      "  2     400          0.00          39.97       50.00    0.50\r\n",
      "  4     600          0.00          38.58       50.00    0.50\r\n",
      "  6     800          0.02          38.32       50.00    0.50\r\n",
      "  8    1000          0.00          39.26       50.00    0.50\r\n",
      " 12    1200          0.00          38.04       50.00    0.50\r\n",
      " 16    1400          0.00          38.74       50.00    0.50\r\n",
      " 21    1600          0.00          38.48       50.00    0.50\r\n",
      " 27    1800          0.00          39.16       50.00    0.50\r\n",
      "\u001B[38;5;2m✔ Saved pipeline to output directory\u001B[0m\r\n",
      "Spacy_Files/model/model-last\r\n"
     ]
    }
   ],
   "source": [
    "# Initiate training using command line and config file downloaded from spacy.io\n",
    "!python -m spacy train ./Spacy_Files/config.cfg --paths.train ./Spacy_Files/train.spacy --paths.dev ./Spacy_Files/dev.spacy --output ./Spacy_Files/model --verbose"
   ],
   "metadata": {
    "collapsed": false,
    "ExecuteTime": {
     "end_time": "2024-03-15T23:12:51.361464Z",
     "start_time": "2024-03-15T23:00:39.766696Z"
    }
   },
   "id": "3d844c9b79743d77",
   "execution_count": 129
  },
  {
   "cell_type": "code",
   "outputs": [
    {
     "name": "stdout",
     "output_type": "stream",
     "text": [
      "\u001B[38;5;4mℹ Using CPU\u001B[0m\r\n",
      "\u001B[38;5;4mℹ To switch to GPU 0, use the option: --gpu-id 0\u001B[0m\r\n",
      "\u001B[1m\r\n",
      "================================== Results ==================================\u001B[0m\r\n",
      "\r\n",
      "TOK                   100.00\r\n",
      "TEXTCAT (macro AUC)   50.00 \r\n",
      "SPEED                 2128  \r\n",
      "\r\n",
      "\u001B[1m\r\n",
      "=========================== Textcat F (per label) ===========================\u001B[0m\r\n",
      "\r\n",
      "               P        R       F\r\n",
      "BOARDED    68.00   100.00   80.95\r\n",
      "HIJACKED    0.00     0.00    0.00\r\n",
      "\r\n",
      "\u001B[1m\r\n",
      "======================== Textcat ROC AUC (per label) ========================\u001B[0m\r\n",
      "\r\n",
      "           ROC AUC\r\n",
      "BOARDED       0.50\r\n",
      "HIJACKED      0.50\r\n",
      "\r\n"
     ]
    }
   ],
   "source": [
    "!python -m spacy evaluate ./Spacy_Files/model/model-best/ ./Spacy_Files/test.spacy"
   ],
   "metadata": {
    "collapsed": false,
    "ExecuteTime": {
     "end_time": "2024-03-15T23:14:17.079802Z",
     "start_time": "2024-03-15T23:14:13.306537Z"
    }
   },
   "id": "f06f87729f968b23",
   "execution_count": 130
  },
  {
   "cell_type": "code",
   "outputs": [],
   "source": [
    "# Load our new model\n",
    "nlp_custom = spacy.load('./Spacy_Files/model/model-best')"
   ],
   "metadata": {
    "collapsed": false,
    "ExecuteTime": {
     "end_time": "2024-03-15T23:14:47.508274Z",
     "start_time": "2024-03-15T23:14:46.537846Z"
    }
   },
   "id": "38e222b899e47bf6",
   "execution_count": 131
  },
  {
   "cell_type": "code",
   "outputs": [
    {
     "name": "stdout",
     "output_type": "stream",
     "text": [
      "{'BOARDED': 1.0, 'HIJACKED': 2.06115369216775e-09} - A small wooden boat with four pirates approached the ship on the port side while underway. Another boat with another four pirates approached from the starboard side. When spotted both boats retreated\n",
      "{'BOARDED': 1.0, 'HIJACKED': 2.06115369216775e-09} - Two robbers in a wooden boat came alongside an anchored ship. Duty crew noticed the robbers attempting to board the ship using a ladder and immediately informed the duty officer who raised the alarm. Crew mustered. Seeing the alerted crew, the robbers fled.\n",
      "{'BOARDED': 1.0, 'HIJACKED': 2.06115369216775e-09} - Three robbers armed with long knives boarded an anchored tanker during heavy rain. They entered the engine room, threatened the duty engineer and stole ship's engine spares. Incident reported to the OOW who raised the alarm resulting in the robbers escaping in a waiting boat along with two accomplices. Incident reported to VTS.\n",
      "\n",
      "{'BOARDED': 1.0, 'HIJACKED': 2.06115369216775e-09} - A pirate boat attempted to board the ship while underway\n",
      "{'BOARDED': 1.0, 'HIJACKED': 2.06115369216775e-09} - Two boats were spotted near the anchor chain each with 20 to 30 armed robbers and some trying to climb the chain. When spotted the boats fled\n",
      "{'BOARDED': 1.0, 'HIJACKED': 2.06115369216775e-09} - While underway, the duty engineer spotted five pirates armed with long knives onboard the vessel. They entered the engine room and tied up the Third Engineer. The duty engineer found the Third Engineer and raised the alarm. The crew was mustered and conducted a search onboard the vessel but the pirates had escaped.\n",
      "{'BOARDED': 1.0, 'HIJACKED': 2.06115369216775e-09} - Three robbers boarded the anchored product tanker. The alerted crew spotted the robbers. The alarm was raised and crew mustered. Upon seeing the crew alertness, the robbers fled without stealing anything.\n",
      "{'BOARDED': 1.0, 'HIJACKED': 2.06115369216775e-09} - Pirates in two speed boats attempted to board the ship while underway from the port quarter\n",
      "{'BOARDED': 1.0, 'HIJACKED': 2.06115369216775e-09} - Five robbers armed with long knives and guns boarded the ship at anchorage\n",
      "{'BOARDED': 1.0, 'HIJACKED': 2.06115369216775e-09} - Twelve pirates armed with rifles and pistols attacked the fishing vessel, while underway.  Five pirates boarded, hijacked the vessel and demanded payment.  Crew managed to overpower the pirates and handed them over to the Philippines National Police\n"
     ]
    }
   ],
   "source": [
    "training_docs = list(nlp_custom.pipe(training_data.loc[:,'Incident_details']))\n",
    "\n",
    "for doc in training_docs[:10]:\n",
    "    print(doc.cats, '-', doc)"
   ],
   "metadata": {
    "collapsed": false,
    "ExecuteTime": {
     "end_time": "2024-03-15T23:15:32.395482Z",
     "start_time": "2024-03-15T23:15:21.640917Z"
    }
   },
   "id": "e46dce20e129c9c4",
   "execution_count": 132
  },
  {
   "cell_type": "code",
   "outputs": [
    {
     "name": "stdout",
     "output_type": "stream",
     "text": [
      "{} - Twelve pirates armed with rifles and pistols attacked the fishing vessel, while underway.  Five pirates boarded, hijacked the vessel and demanded payment.  Crew managed to overpower the pirates and handed them over to the Philippines National Police\n"
     ]
    }
   ],
   "source": [
    "hijack_example = \"Twelve pirates armed with rifles and pistols attacked the fishing vessel, while underway.  Five pirates boarded, hijacked the vessel and demanded payment.  Crew managed to overpower the pirates and handed them over to the Philippines National Police\"\n",
    "boarded_example = \"Three robbers armed with long knives boarded an anchored tanker during heavy rain. They entered the engine room, threatened the duty engineer and stole ship's engine spares. Incident reported to the OOW who raised the alarm resulting in the robbers escaping in a waiting boat along with two accomplices. Incident reported to VTS.\"\n",
    "doc = nlp(hijack_example)\n",
    "# doc = nlp(boarded_example)\n",
    "print(doc.cats, '-', doc)"
   ],
   "metadata": {
    "collapsed": false,
    "ExecuteTime": {
     "end_time": "2024-03-15T23:16:04.004802Z",
     "start_time": "2024-03-15T23:16:03.989459Z"
    }
   },
   "id": "ab76b41ec710b120",
   "execution_count": 133
  },
  {
   "cell_type": "markdown",
   "source": [
    "#### This method did not work well. Too many false positives. Going back to the way the YouTube video describes.\n",
    "Reference: https://www.youtube.com/watch?v=IqOJU1-_Fi0&t=1141s"
   ],
   "metadata": {
    "collapsed": false
   },
   "id": "b8aed8c45374d4d3"
  },
  {
   "cell_type": "code",
   "outputs": [],
   "source": [
    "# Reset nlp if it was changed\n",
    "nlp = spacy.load('en_core_web_md', disable=['ner'])"
   ],
   "metadata": {
    "collapsed": false,
    "ExecuteTime": {
     "end_time": "2024-03-16T00:05:20.829344Z",
     "start_time": "2024-03-16T00:05:19.838169Z"
    }
   },
   "id": "4c7513acd252509c",
   "execution_count": 158
  },
  {
   "cell_type": "code",
   "outputs": [],
   "source": [
    "# Define function to take rules we already defined and turn it into the 'training format'\n",
    "# Training format example: ('The pirates boarded.': {'characteristic': [(12, 19, 'BOARDED')]})\n",
    "def parse_train_data(doc):\n",
    "    detections = [(doc[start:end].start_char, doc[start:end].end_char, \n",
    "                   nlp.vocab.strings[match_id])\n",
    "                  for match_id, start, end in matcher(doc)]\n",
    "    return doc.text, {'entities': detections}"
   ],
   "metadata": {
    "collapsed": false,
    "ExecuteTime": {
     "end_time": "2024-03-16T20:50:27.692433Z",
     "start_time": "2024-03-16T20:50:27.689694Z"
    }
   },
   "id": "79a1f988e31ebe06",
   "execution_count": 209
  },
  {
   "cell_type": "code",
   "outputs": [
    {
     "data": {
      "text/plain": "('Pirates hijacked the vessel taking 14 crew members hostage. Owners hired a private aircraft to search for the ship and spotted the ship heading North towards the Somali coast',\n {'entities': [(8, 16, 'BOARDED'),\n   (8, 16, 'HIJACKED'),\n   (51, 58, 'BOARDED'),\n   (51, 58, 'HOSTAGES_TAKEN')]})"
     },
     "execution_count": 210,
     "metadata": {},
     "output_type": "execute_result"
    }
   ],
   "source": [
    "parse_train_data(nlp(\"Pirates hijacked the vessel taking 14 crew members hostage. Owners hired a private aircraft to search for the ship and spotted the ship heading North towards the Somali coast\"))"
   ],
   "metadata": {
    "collapsed": false,
    "ExecuteTime": {
     "end_time": "2024-03-16T20:50:29.944859Z",
     "start_time": "2024-03-16T20:50:29.936124Z"
    }
   },
   "id": "e21e8d99ed87082a",
   "execution_count": 210
  },
  {
   "cell_type": "code",
   "outputs": [
    {
     "name": "stdout",
     "output_type": "stream",
     "text": [
      "BOARDED 1 2\n",
      "HIJACKED 1 2\n",
      "BOARDED 8 9\n",
      "HOSTAGES_TAKEN 8 9\n"
     ]
    }
   ],
   "source": [
    "doc = nlp(\"Pirates hijacked the vessel taking 14 crew members hostage. Owners hired a private aircraft to search for the ship and spotted the ship heading North towards the Somali coast\")\n",
    "for match_id, start, end in matcher(doc):\n",
    "    print(nlp.vocab.strings[match_id], start, end)"
   ],
   "metadata": {
    "collapsed": false,
    "ExecuteTime": {
     "end_time": "2024-03-16T20:50:34.349121Z",
     "start_time": "2024-03-16T20:50:34.340696Z"
    }
   },
   "id": "81e5334c9e795561",
   "execution_count": 211
  },
  {
   "cell_type": "code",
   "outputs": [],
   "source": [
    "# Create a list of training data in the specified format\n",
    "# Only train on ones that have matches\n",
    "# TRAIN_DATA = [parse_train_data(d) for d in nlp.pipe(training_data.loc[:,'Incident_details'])\n",
    "#               if len(matcher(d)) == 1]\n",
    "TRAIN_DATA = [parse_train_data(d) \n",
    "                       for d in nlp.pipe(training_data.loc[:,'Incident_details']) \n",
    "                       if len(matcher(d)) >= 1]"
   ],
   "metadata": {
    "collapsed": false,
    "ExecuteTime": {
     "end_time": "2024-03-16T20:54:09.686771Z",
     "start_time": "2024-03-16T20:54:07.561187Z"
    }
   },
   "id": "bfe46afa31d9ca55",
   "execution_count": 221
  },
  {
   "cell_type": "code",
   "outputs": [
    {
     "data": {
      "text/plain": "[(\"Three robbers armed with long knives boarded an anchored tanker during heavy rain. They entered the engine room, threatened the duty engineer and stole ship's engine spares. Incident reported to the OOW who raised the alarm resulting in the robbers escaping in a waiting boat along with two accomplices. Incident reported to VTS.\\n\",\n  {'entities': [(25, 44, 'BOARDED'), (241, 257, 'BOARDED')]}),\n ('While underway, the duty engineer spotted five pirates armed with long knives onboard the vessel. They entered the engine room and tied up the Third Engineer. The duty engineer found the Third Engineer and raised the alarm. The crew was mustered and conducted a search onboard the vessel but the pirates had escaped.',\n  {'entities': [(34, 54, 'BOARDED'), (71, 85, 'BOARDED')]}),\n ('Three robbers boarded the anchored product tanker. The alerted crew spotted the robbers. The alarm was raised and crew mustered. Upon seeing the crew alertness, the robbers fled without stealing anything.',\n  {'entities': [(0, 21, 'BOARDED'), (6, 21, 'BOARDED'), (6, 25, 'BOARDED')]}),\n ('Five robbers armed with long knives and guns boarded the ship at anchorage',\n  {'entities': [(36, 52, 'BOARDED')]}),\n ('Twelve pirates armed with rifles and pistols attacked the fishing vessel, while underway.  Five pirates boarded, hijacked the vessel and demanded payment.  Crew managed to overpower the pirates and handed them over to the Philippines National Police',\n  {'entities': [(91, 111, 'BOARDED'),\n    (96, 111, 'BOARDED'),\n    (96, 112, 'BOARDED'),\n    (113, 121, 'BOARDED'),\n    (113, 121, 'HIJACKED')]}),\n (\"Five robbers, in two motor boats, armed with guns and knives, boarded the ship at anchor from the bow using ropes and hooks.  Duty crew spotted the robbers and raised an alarm.  The robbers broke the padlock on the forward store and stole ship's stores and escaped.  Bonny signal station was called many times but did not respond.  Master requested for additional guards from agents\",\n  {'entities': [(54, 69, 'BOARDED')]}),\n ('Armed robbers boarded',\n  {'entities': [(0, 21, 'BOARDED'), (6, 21, 'BOARDED')]}),\n (\"Three robbers in a boat boarded the ship, while at anchor, broke into ship's stores and when alert crew mustered, they escaped with their loot\",\n  {'entities': [(17, 31, 'BOARDED'), (59, 69, 'BOARDED')]}),\n (\"Two armed robbers boarded an anchored ship using a rope. They stole ship's property and escaped when the duty crew spotted them.\",\n  {'entities': [(4, 25, 'BOARDED'),\n    (10, 25, 'BOARDED'),\n    (10, 28, 'BOARDED')]}),\n ('While underway, pirates boarded the ship and tied up the third engineer',\n  {'entities': [(14, 31, 'BOARDED'),\n    (16, 31, 'BOARDED'),\n    (16, 35, 'BOARDED')]}),\n ('Three armed robbers with long knives boarded the ship from the port quarter while at anchor. When the alarm was raised they fled by climbing down a rope into a speed boat',\n  {'entities': [(25, 44, 'BOARDED')]}),\n ('While alongside the jetty, the ship was boarded by two pirates',\n  {'entities': [(31, 47, 'BOARDED')]}),\n ('Five robbers with masks and armed with knives boarded the tug towing a barge underway.  They stole crew cash and personal belongings and escaped\\n   \\n',\n  {'entities': [(34, 53, 'BOARDED')]}),\n (\"Five robbers armed with knives boarded an anchored chemical tanker and stole ship's property. The deck watchman was attacked and held hostage during the robbery. Incident reported to port authority who sent a team for investigation.\",\n  {'entities': [(19, 38, 'BOARDED'),\n    (134, 141, 'BOARDED'),\n    (134, 141, 'HOSTAGES_TAKEN')]}),\n (\"Six pirates armed with rifles boarded the supply ship. The Master raised the alarm, activated SSAS and the crew mustered. Two crew members were held and ship's property was stolen. The Nigerian Navy dispatched a patrol boat to the location. Remaining crew reported safe.\",\n  {'entities': [(18, 37, 'BOARDED')]}),\n ('Six robbers armed with knives in a wooden boat boarded the ship, via anchor chain, while at anchor. When spotted by alert duty crew, they jumped overboard and escaped in their waiting boat',\n  {'entities': [(35, 54, 'BOARDED'), (138, 154, 'BOARDED')]}),\n (\"A boat with two robbers was observed by deck watch AB on starboard side in the vicinity of the ship's aft at an approx. distance of 30m. Duty Officer was informed and at the same time, two robbers from a second boat that had not been spotted, quickly boarded from starboard side. One of the robbers, armed with a knife, attacked the AB and threw an empty glass bottle which, luckily, missed the AB who was protected by his helmet. The AB was forced to leave the poop deck. Duty Officer raised alarm and the robbers each dropped a synthetic rope overboard and as all crew gathered at aft deck in minutes, the robbers jumped overboard and were picked up by the first boat from about 15-20 metres from the vessel\",\n  {'entities': [(241, 258, 'BOARDED'),\n    (608, 632, 'BOARDED'),\n    (616, 632, 'BOARDED')]}),\n ('Robbers using grappling hooks boarded the ship via anchor chain, while at anchor. Alert crew challenged the robbers who escaped in two boats waiting with four accomplices',\n  {'entities': [(14, 37, 'BOARDED')]}),\n ('Pirates armed with automatic weapons hijacked the ship taking 25 crew members hostage\\n\\n',\n  {'entities': [(37, 45, 'BOARDED'),\n    (37, 45, 'HIJACKED'),\n    (78, 85, 'BOARDED'),\n    (78, 85, 'HOSTAGES_TAKEN')]}),\n ('Six robbers armed with knives boarded ship at anchor and when spotted by alert crew, jumped overboard and escaped with their loot. Master informed Coast Guard and a patrol boat was sent to the vicinity',\n  {'entities': [(18, 37, 'BOARDED'), (85, 101, 'BOARDED')]}),\n ('Six robbers boarded ship while at anchor and when spotted by alert crew, they escaped with their loot',\n  {'entities': [(0, 19, 'BOARDED'), (4, 19, 'BOARDED'), (4, 24, 'BOARDED')]}),\n ('Three pirates armed with long knives were noticed on the stern of the tug towing a barge. The Second Engineer sustained some injuries. Alarm raised and crew alerted. Upon hearing the alarm, the pirates escaped',\n  {'entities': [(50, 62, 'BOARDED')]}),\n ('Ten armed persons attacked a passenger boat and kidnapped four Immigration Officers. The Nigerian Navy rescued the kidnapped Immigration Officers on 13 November. No casualties reported.',\n  {'entities': [(48, 57, 'BOARDED'),\n    (48, 57, 'HOSTAGES_TAKEN'),\n    (115, 124, 'BOARDED'),\n    (115, 124, 'HOSTAGES_TAKEN')]}),\n ('Five robbers armed with knives boarded the ship and attacked the AB but escaped later by jumping overboard after more crew arrived',\n  {'entities': [(19, 38, 'BOARDED'), (89, 106, 'BOARDED')]}),\n ('Eight armed robbers in two speed boats approached a container ship underway. Master raised the alarm and activated the SSAS. The robbers fired warning shots, managed to board the ship, and opened 15 containers. When the search lights were directed towards the robbers, they opened fire towards the bridge. Port Control and Coast Guard notified. The robbers stole part of the cargo and escaped. Later, the Coast Guard boarded the ship for investigation. No injuries to crew.',\n  {'entities': [(158, 174, 'BOARDED'), (349, 362, 'BOARDED')]}),\n ('Four robbers dressed in black and armed with long knives approached ship in a speedboat and one of them boarded at STBD quarter poopdeck, while underway. When spotted and alert crew mustered, switched on deck lights and took evasive manoeuvres, he escaped empty-handed',\n  {'entities': [(96, 111, 'BOARDED')]}),\n ('Four pirates in a skiff chased and fired on the ship underway. One pirate managed to climb on board the vessel, but jumped overboard when he was confronted by the crew ',\n  {'entities': [(74, 90, 'BOARDED'),\n    (85, 99, 'BOARDED'),\n    (116, 132, 'BOARDED')]}),\n (\"While at anchor, the duty able-bodied (AB) seaman on his rounds discovered that two mooring ropes were missing from the aft of the ship. He immediately alerted the duty officer on the bridge, who doubled the bridge and deck \\nwatch. There was no sighting of the perpetrators on board the ship, and their method of access to the ship could not be determined. The company reported the incident to the coastal state via a local agent. \\nThere was no reported damage to the ship and the crew was not injured.\\n\\nUnnoticed, robbers boarded an anchored offshore supply ship, stole ship's stores, and escaped. All crew safe. Incident reported to local agents.\",\n  {'entities': [(261, 282, 'BOARDED'),\n    (261, 286, 'BOARDED'),\n    (513, 530, 'BOARDED'),\n    (515, 530, 'BOARDED'),\n    (515, 533, 'BOARDED')]}),\n ('Duty A/B noticed five robbers trying to open the the dry provision room. Duty A/B reported to the OOW who sounded the alarm. One robber unsuccessfully attempted to attack the Duty A/B. Upon hearing the alarm the robbers escaped empty-handed.',\n  {'entities': [(212, 227, 'BOARDED')]}),\n ('Six robbers armed with knives boarded the ship, while at anchor.  They attempted to overpower the shore watchman who raised alarm.  The D/O and crew rushed to assist and when confronted by crew, the robbers jumped overboard and escaped empty handed',\n  {'entities': [(18, 37, 'BOARDED'),\n    (199, 223, 'BOARDED'),\n    (207, 223, 'BOARDED')]}),\n (\"SIX OR EIGHT MEN WITH PISTOLS AND COVERED IN FACEMASKS CLIMBED ON BOARD THE SHIP. THEY ENTERED THE CARGO CONTROL ROOM AND TIED UP THE 2ND OFFICER WHO WAS ON DUTY; HE WAS FORCED TO BRING THEM TO THE MASTER'S CABIN. WITH TWO GUNS TO HIS HEAD THE MASTER WA\",\n  {'entities': [(55, 71, 'BOARDED')]}),\n ('Duty crew noticed the forward store broken into and reported same to the duty officer. Alarm raised. A search was carried out. Foot prints were noticed on the forecastle deck. Ship’s stores reported stolen.',\n  {'entities': [(36, 47, 'BOARDED')]}),\n ('Eight robbers armed with iron bars boarded the ship, while at anchor, assaulted the duty A/B and escaped with their loot',\n  {'entities': [(25, 42, 'BOARDED'), (70, 79, 'CREW_ASSAULTED')]}),\n (\"Two robbers boarded the tanker at anchor. Duty A/B noticed the robbers and raised the alarm. The ship's whistle was sounded and crew mustered. Upon hearing the alarm, robbers jumped into the water and escaped with ship's stores in a small boat\\n\\n\\n \\n\\n\",\n  {'entities': [(0, 19, 'BOARDED'),\n    (4, 19, 'BOARDED'),\n    (4, 23, 'BOARDED'),\n    (167, 186, 'BOARDED'),\n    (175, 186, 'BOARDED')]}),\n ('While at anchor, pirates boarded the ship through anchor chain',\n  {'entities': [(15, 32, 'BOARDED'),\n    (17, 32, 'BOARDED'),\n    (17, 36, 'BOARDED')]}),\n ('Six robbers in a boat approached ship while at anchor and one of them boarded via anchor chain. When spotted and alert crew mustered, the robber escaped empty-handed. Master informed the authorities and Coast Guard arrived for investigation and patrolled the area',\n  {'entities': [(62, 77, 'BOARDED'), (138, 152, 'BOARDED')]}),\n ('Two armed robbers approached in two canoes and boarded the ship while at anchor',\n  {'entities': [(36, 54, 'BOARDED')]}),\n ('Pirates boarded the ship. Prior to entering high risk area crew locked all access to accommodation and bridge. OOW raised alarm and all crew mustered. Pirates escaped ',\n  {'entities': [(0, 15, 'BOARDED'), (0, 19, 'BOARDED')]}),\n ('Armed robbers boarded the ship while at anchor and escaped when spotted by the anti-piracy watch',\n  {'entities': [(0, 21, 'BOARDED'), (6, 21, 'BOARDED'), (6, 25, 'BOARDED')]}),\n ('About ten pirates with machine guns boarded the ship, while underway and robbed Master and crew',\n  {'entities': [(23, 43, 'BOARDED')]}),\n (\"Robbers in a boat boarded the ship and broke into the bosun store while the ship was at anchor. The C/E noticed that the door of the emergency generator room alarm was triggered and informed C/O who raised the alarm. The robbers stole ship's stores and property and escaped\",\n  {'entities': [(11, 25, 'BOARDED'),\n    (39, 49, 'BOARDED'),\n    (221, 234, 'BOARDED')]}),\n (\"Five pirates armed with long knives boarded the ship underway. They stole crews' cash and personal belongings and escaped \",\n  {'entities': [(24, 43, 'BOARDED')]}),\n ('Three robbers armed with knives boarded ship, while underway and departing Dakar. When spotted and crew mustered, they escaped in a motorboat with their loot. Port control was notified',\n  {'entities': [(20, 39, 'BOARDED')]}),\n ('A group of around 5-10 armed robbers boarded the vessel while underway',\n  {'entities': [(23, 44, 'BOARDED'),\n    (29, 44, 'BOARDED'),\n    (29, 48, 'BOARDED')]}),\n (\"Around seven robbers armed with knives in three fishing boats approached the ship at anchor. Two robbers stole ship's property and escaped\",\n  {'entities': [(97, 110, 'BOARDED')]}),\n (\"Duty crew noticed two robbers stealing ship's stores on the forecastle, while at anchor.  Alarm raised and ships whistle sounded.  Crew mustered and directed ship's searchlights at the robbers.  The robbers escaped.  Ships in the vicinity were informed.  Calls to port authorities were futile\",\n  {'entities': [(22, 38, 'BOARDED'), (199, 214, 'BOARDED')]}),\n ('Armed pirates attack and boarded a tanker underway. Alarm raised and crews mustered in the citadel. On taking the headcount, four crews were identified as missing. Upon receiving a MAYDAY message from the Master, the IMB Piracy Reporting Centre (PRC) immediately informed the Togo Authorities. A naval patrol boat was dispatched to assist the tanker. The IMB PRC continued to liaise with the Authorities and the Owners until the naval patrol boat arrived at the location of the tanker and the crews emerged from the citadel. On searching the ship one crew was found hiding in a compartment. The tanker was escorted to Lome anchorage for further investigations. Three crews remain missing. On 11 Apr 2019, the Owners confirmed that the three kidnapped crew members were released safely.',\n  {'entities': [(14, 32, 'BOARDED'),\n    (741, 750, 'BOARDED'),\n    (741, 750, 'HOSTAGES_TAKEN')]}),\n (\"Master onboard the anchored research ship heard a sound at forward and noticed one unknown person onboard. Master shouted and the person escaped. Emergency alarm raised and crew mustered. A boat was seen departing the ship with stolen ship's store.\",\n  {'entities': [(130, 144, 'BOARDED')]}),\n (\"Whilst carrying out anti piracy rounds at anchor, ship's crew found the forecastle store door lock broken and ship's stores missing.  Even though there were a number of shore personnel working on board, the robbers went unnoticed\",\n  {'entities': [(94, 105, 'BOARDED')]}),\n ('Pirates boarded the ship while underway',\n  {'entities': [(0, 15, 'BOARDED'), (0, 19, 'BOARDED')]}),\n (\"The robbers broke into the engine room and stole spare parts. The crew sighted and pursued the thieves as they departed the vessel. The crew's response caused the boarders to abandon some of the stolen property but the thieves managed to escape with some\",\n  {'entities': [(4, 22, 'BOARDED'),\n    (12, 22, 'BOARDED'),\n    (227, 244, 'BOARDED')]}),\n ('12 pirates armed with AK-47s in a skiff boarded and hijacked a dhow underway.',\n  {'entities': [(32, 47, 'BOARDED'),\n    (52, 60, 'BOARDED'),\n    (52, 60, 'HIJACKED')]}),\n ('Boarded by pirates', {'entities': [(0, 7, 'BOARDED'), (0, 18, 'BOARDED')]}),\n ('Six armed robbers boarded the ship via a bamboo ladder while at berth. They broke into the bridge and the engine room. When the alarm was sounded the armed robbers panicked, fired flares and threw metal objects to evade capture and escaped by jumping into the water',\n  {'entities': [(4, 25, 'BOARDED'),\n    (10, 25, 'BOARDED'),\n    (10, 29, 'BOARDED'),\n    (76, 86, 'BOARDED'),\n    (243, 255, 'BOARDED')]}),\n ('Pirates armed with long knives boarded the ship while underway',\n  {'entities': [(19, 38, 'BOARDED')]}),\n ('Eight armed pirates boarded the tanker underway. They ransacked all the cabins, stole crew personal effects and kidnapped 5 crew members including the Master, Chief Officer, Chief Engineer, Second Engineer and Third Engineer. On 09.05.2016, the 5 kidnapped crew members were released safely and they have been repatriated back to their home country in good state of health.',\n  {'entities': [(6, 27, 'BOARDED'),\n    (12, 27, 'BOARDED'),\n    (12, 31, 'BOARDED'),\n    (112, 121, 'BOARDED'),\n    (112, 121, 'HOSTAGES_TAKEN'),\n    (247, 256, 'BOARDED'),\n    (247, 256, 'HOSTAGES_TAKEN')]}),\n ('Two robbers boarded the ship while at anchor.  Duty crew spotted them and informed duty officer on bridge.  Alarm raised and a search was carried out.  All doors and accesses into the ship were closed and locked.  The attack was unsuccessful',\n  {'entities': [(0, 19, 'BOARDED'), (4, 19, 'BOARDED'), (4, 23, 'BOARDED')]}),\n (\"While at anchor, one of the duty watchmen spotted six robbers armed with knives removing two mooring hawsers from the ship's poop deck. The watchman reported to the bridge and the robbers escaped from the ship. Subsequently, a search of the ship was carried out and two mooring ropes were missing. No reported injury to crew.\\n\",\n  {'entities': [(180, 195, 'BOARDED')]}),\n (\"Around six to seven pirates armed with rifles attacked and boarded the tanker underway. Alarm raised and all crew mustered in the citadel. Local authorities notified. A security vessel was dispatched to assist the tanker. Once the pirates had left the tanker, the crew emerged and noticed the bridge equipment damaged. Ship's item were also reported stolen. Under the escort of the security vessel the ship proceeded to a safe port. The tanker and crew are safe.\",\n  {'entities': [(46, 66, 'BOARDED')]}),\n ('Boarded by pirates whilst at anchor',\n  {'entities': [(0, 7, 'BOARDED'), (0, 18, 'BOARDED')]}),\n ('Pirates boarded', {'entities': [(0, 15, 'BOARDED')]}),\n ('Three robbers boarded the ship while at anchor and when spotted by alert crew, they escaped empty-handed',\n  {'entities': [(0, 21, 'BOARDED'), (6, 21, 'BOARDED'), (6, 25, 'BOARDED')]}),\n ('Four robbers boarded an anchored tanker from the stern. Duty A/B noticed the robbers and informed the bridge. Alarm raised and all crew mustered. Due to the crew alertness, the robbers escaped without stealing anything.',\n  {'entities': [(0, 20, 'BOARDED'),\n    (5, 20, 'BOARDED'),\n    (5, 23, 'BOARDED'),\n    (177, 192, 'BOARDED')]}),\n ('Thieves boarded the ship and broke into the forecastle and stole equipment',\n  {'entities': [(0, 15, 'BOARDED'), (0, 19, 'BOARDED'), (29, 39, 'BOARDED')]}),\n (\"Five pirates armed with rifles in a speed boat seized control of the fishing boat and sailed towards Thailand's territorial waters. On receiving information about the incident from the Fisheries Department, the Malaysian Maritime Enforcement Agency (MMEA) contacted the Royal Thailand Marine Police, which launched a search. The fishing boat was eventually located at Tarutao Island, Thailand on 17.8.2015 and towed to Satun, Thailand. On 19.8.2015 an MMEA ship escorted the fishing boat safely to Kuala Kedah, Malaysia.\",\n  {'entities': [(47, 53, 'BOARDED'),\n    (47, 61, 'BOARDED'),\n    (47, 61, 'HIJACKED')]}),\n (\"Robbers boarded the ship at berth and stole ship's equipment (spare parts) of considerable value from the spare parts locker.   The incident was unnoticed by ship's crew\",\n  {'entities': [(0, 15, 'BOARDED'), (0, 19, 'BOARDED')]}),\n ('Duty crew onboard the berthed ship noticed two robbers on the forecastle deck and raised the alarm. Seeing the alerted crew, the robbers escaped. Chief officer and onboard security guard searched the area and reported that padlocks to the watertight doors were broken and the rescue boat motor engine was missing.',\n  {'entities': [(129, 144, 'BOARDED')]}),\n ('Robbers armed with knives boarded the ship while at berth. One of them broke into one of the containers. When spotted they jumped into the water and escaped',\n  {'entities': [(14, 33, 'BOARDED'),\n    (71, 81, 'BOARDED'),\n    (123, 134, 'BOARDED')]}),\n (\"Six pirates armed with guns and knives boarded ship drifting for engine repairs while underway. Duty A/B was attacked and forced to take them to Master's cabin where they ransacked Master's cabin and escaped with their loot in a fast motorboat\",\n  {'entities': [(28, 46, 'BOARDED')]}),\n ('An anchored tanker was boarded by four armed robbers. Master raised the alarm, locked the accommodation and all crew mustered in the citadel. The armed robbers fired at the bridge windows and gained access into the accommodation. They ransacked all crew cabins and escaped with crew personal belongings. A navy boat arrived at the location to provide assistance. All crew reported safe.',\n  {'entities': [(12, 30, 'BOARDED')]}),\n ('Robbers boarded ship from poop deck, while at anchor and as alert crew mustered, they escaped with their loot. Master informed Port Control and Coast Guard',\n  {'entities': [(0, 15, 'BOARDED'), (0, 20, 'BOARDED')]}),\n ('Three robbers boarded the ship, while at anchor and broke the padlock of a locker. When spotted by alert crew, they escaped in a speedboat with their loot. Master attempted to contact the local authorities but received no response',\n  {'entities': [(0, 21, 'BOARDED'), (6, 21, 'BOARDED'), (6, 25, 'BOARDED')]}),\n ('Nine robbers in a speedboat, armed with guns and long knives boarded ship, while underway. They damaged radio equipment and escaped with their loot. Master suffered injuries',\n  {'entities': [(49, 68, 'BOARDED')]}),\n (\"Armed pirates boarded the drifting ship. They entered the bridge and fired their weapons damaging the bridge windows. The pirates stole ship's property, crew personal belongings, kidnapped 10 crew members and fled in their boat. Two Nigerian Navy vessels intercepted the pirates, rescued the crew members and apprehended five pirates. The ship was escorted into the inner anchorage under naval escort and armed guards were placed onboard during the ship's stay. On 12/11/2017, the ship resumed passage under naval escort to Port Harcourt and berthed.\",\n  {'entities': [(0, 21, 'BOARDED'),\n    (6, 21, 'BOARDED'),\n    (6, 25, 'BOARDED'),\n    (122, 135, 'BOARDED'),\n    (179, 188, 'BOARDED'),\n    (179, 188, 'HOSTAGES_TAKEN')]}),\n ('Four robbers armed with knives in a wooden boat boarded the ship at forecastle.  They threatened the duty A/B with knives and broke open forward locker padlock.  The duty A/B escaped and raised alarm and as crew mustered, the robbers jumped into their boat and left empty handed.  Local authorities informed',\n  {'entities': [(36, 55, 'BOARDED'),\n    (226, 245, 'BOARDED'),\n    (234, 245, 'BOARDED')]}),\n (\"Robbers reportedly boarded the anchored barge, unnoticed by the ship's crew. They broke open the store room, stole ship's property and escaped. The incident was discovered the next morning.\",\n  {'entities': [(0, 26, 'BOARDED')]}),\n ('About fifty pirates boarded the ship. They hit the crew with sharp weapon',\n  {'entities': [(6, 27, 'BOARDED'),\n    (12, 27, 'BOARDED'),\n    (12, 31, 'BOARDED')]}),\n (\"While at berth, two pirates armed with long knives boarded the ship. Duty A/B raised the alarm and crew mustered, When the pirates noticed the crew's alertness, they jumped overboard and escaped. The incident was reported to Dumai Police\",\n  {'entities': [(39, 58, 'BOARDED'), (166, 182, 'BOARDED')]}),\n ('While the tug boat towing barge was underway, the master of the tug boat reported to Singapore Vessel Traffic Information System (VTIS) via VHF that six robbers were boarding the barge from a small boat. \\n\\nThe master later reported that the robbers had left the barge with some tools stolen from the barge. The tug boat and barge continued her voyage to Port Klang, Malaysia.\\n',\n  {'entities': [(153, 174, 'BOARDED'), (153, 178, 'BOARDED')]}),\n (\"Seven pirates armed with knives boarded a container ship underway, entered the engine room and tied up the electrical officer. They then stole the engine spares as well as the electrical officer's mobile phone.  The electrician managed to untie himself and informed the bridge. Ship's alarm raised and distress message sent out. \",\n  {'entities': [(20, 39, 'BOARDED')]}),\n ('Six pirates armed with rifles boarded the ship. Duty officer raised the alarm and crew was ordered not to approach the pirates, who cut the padlock while one of them was on standby with a rifle to prevent any approach.  Pirates stole some items and left',\n  {'entities': [(18, 37, 'BOARDED'), (220, 233, 'BOARDED')]}),\n ('Robbers boarded and hijacked tug, while underway and threw overboard ten crewmembers. A passing tug rescued one crew member and the fate of the remaining nine crewmembers is unknown',\n  {'entities': [(0, 15, 'BOARDED'),\n    (0, 19, 'BOARDED'),\n    (20, 28, 'BOARDED'),\n    (20, 28, 'HIJACKED')]}),\n (\"Four robbers boarded an anchored tanker. Duty AB on routine rounds noticed the robbers and immediately notified the OOW, who raised the alarm and crew mustered. Seeing the alerted crew, the robbers escaped in a small boat with stolen ship's properties. Incident reported to Port Authorities.\",\n  {'entities': [(0, 20, 'BOARDED'),\n    (5, 20, 'BOARDED'),\n    (5, 23, 'BOARDED'),\n    (190, 205, 'BOARDED')]}),\n ('Crew on routine rounds onboard an anchored general cargo ship noticed the rigged razor wire around the forward port bow partly removed and two unauthorised persons onboard. Alarm raised, crew mustered and port control informed. Hearing the alarm and seeing the alerted crew, the persons escaped empty handed with their accomplices who were waiting in a boat.',\n  {'entities': [(279, 294, 'BOARDED')]}),\n ('Six boats approached the ship. Six robbers armed with steel bars boarded ship from two of the boats, while underway. Two boats remained nearby whilst the remaining two boats approached another ship in the vicinity. When spotted and alert crew mustered, they escaped empty-handed. Attempts to contact port authorities and patrol boats by VHF was unsuccessful',\n  {'entities': [(54, 72, 'BOARDED')]}),\n (\"Duty A/B on board the anchored ship spotted four robbers in a small wooden boat approaching and boarding the ship (starboard side). He immediately informed the D/O who raised the alarm and informed the Master. The robbers stole ship's stores and escaped. No damage to the ship and no injury to the crew.\",\n  {'entities': [(214, 227, 'BOARDED')]}),\n ('Three to four robbers boarded the vessel, attacked the watchman and attempted to tie him up. He fought back and the robbers jumped ship onto a boat. ',\n  {'entities': [(9, 29, 'BOARDED'),\n    (14, 29, 'BOARDED'),\n    (14, 33, 'BOARDED')]}),\n ('Armed robbers broke into the forecastle of the tanker while berthed and escaped later',\n  {'entities': [(6, 24, 'BOARDED'), (14, 24, 'BOARDED')]}),\n ('Duty A/B spotted an armed pirate on board and informed the bridge. Upon hearing the alarm, the pirate left.  ',\n  {'entities': [(26, 41, 'BOARDED'), (26, 45, 'BOARDED')]}),\n (\"Three robbers armed with machine guns and pistols boarded the ship at bridge deck, while at anchor. They took 2/O hostage and forced him to take them to Master's cabin. They threatened Master with machine guns and stole ship's cash and Master's personal property. They then assaulted 2/O and stole his cash and property. Master and 2/O sustained injuries. The robbers damaged all the radio equipment, took the 2/O to forecastle and then escaped in a waiting speedboat. Master activated SSAS and notified RCC Australia. Later, a naval ship in the area came to provide assistance\",\n  {'entities': [(38, 57, 'BOARDED'),\n    (114, 121, 'BOARDED'),\n    (114, 121, 'HOSTAGES_TAKEN'),\n    (274, 283, 'CREW_ASSAULTED')]}),\n (\"The Singapore Police Coast Guard informed Singapore Port Operations Control Centre (POCC) that some people were on board barge POE 2502 that was towed by tug boat Bon Speed 10. The Singapore Vessel Traffic Information System (VTIS) contacted the master of the tug boat, who confirmed that there were about 10 people on board the barge. The barge was loaded with scrap metal and was en route from Labuan, Sabah, East Malaysia to Pulau Pinang, Malaysia.\\n\\nAt about 0259 hrs, the master of the tug boat reported that all the perpetrators had left the barge, after taking away some scrap metals. The crew was not injured and all accounted for. No further assistance was required, and the tug boat and barge resumed its voyage.\\n\\nA safety navigational broadcast was initiated. The Republic of Singapore Navy's (RSN) Maritime Task Force (MSTF) and Singapore Police Coast Guard were notified. Information of the incident was shared with the Indonesian and Malaysian authorities.\\n\",\n  {'entities': [(112, 126, 'BOARDED'), (340, 356, 'BOARDED')]}),\n ('Four pirates armed with knives boarded the ship and tried to take over the bridge',\n  {'entities': [(19, 38, 'BOARDED')]}),\n ('Pirates boarded the fishing vessel while underway',\n  {'entities': [(0, 15, 'BOARDED'), (0, 19, 'BOARDED')]}),\n ('Three men boarded ship', {'entities': [(0, 17, 'BOARDED')]}),\n ('Five robbers boarded ship while at anchor. When spotted by duty A/B, they jumped overboard and escaped in a boat with their loot',\n  {'entities': [(0, 20, 'BOARDED'),\n    (5, 20, 'BOARDED'),\n    (5, 25, 'BOARDED'),\n    (74, 90, 'BOARDED')]}),\n ('Two robbers armed with knives boarded the ship at stern, while at anchor. They threatened a crew member with machete, assaulted him and when crew mustered, they jumped overboard and escaped with their loot',\n  {'entities': [(18, 37, 'BOARDED'),\n    (118, 127, 'CREW_ASSAULTED'),\n    (161, 177, 'BOARDED')]}),\n ('Armed pirates boarded the offshore supply ship, kidnapped three crew members and escaped. The bosun later navigated the ship to Onne Port.',\n  {'entities': [(0, 21, 'BOARDED'),\n    (6, 21, 'BOARDED'),\n    (6, 25, 'BOARDED'),\n    (48, 57, 'BOARDED'),\n    (48, 57, 'HOSTAGES_TAKEN')]}),\n ('The dhow and its 14 crew were hijacked on 05 April 2009. Local authorities captured two pirates while twelve escaped during rescue operations',\n  {'entities': [(30, 38, 'BOARDED'), (30, 38, 'HIJACKED')]}),\n ('Robbers in four fast boats attempted to board the ship underway. Master raised alarm, activated fire hoses, switched on deck lights and took evasive manoeuvres and crew directed searchlights towards the boats. The robbers escaped',\n  {'entities': [(214, 229, 'BOARDED')]}),\n (\"Four robbers armed with long knives boarded the ship at the forecastle while at anchor. They attempted to hold the two duty watchmen and also attempted to enter the accommodation. Alert crew locked all entrances and the duty OOW raised alarm. Robbers stole ship's stores and escaped \",\n  {'entities': [(24, 43, 'BOARDED'), (243, 256, 'BOARDED')]}),\n ('A group of armed pirates in speedboats boarded a fleet of seven fishing trawlers, while at anchor. They took six crew members hostage and hijacked two trawlers. Twenty fishermen and crew were injured and six of them were hospitalised',\n  {'entities': [(25, 46, 'BOARDED'),\n    (126, 133, 'BOARDED'),\n    (126, 133, 'HOSTAGES_TAKEN'),\n    (138, 146, 'BOARDED'),\n    (138, 146, 'HIJACKED')]}),\n ('Pirates hijacked the ship taking 23 crew members hostage. They sailed the ship to the Somali coast\\n',\n  {'entities': [(8, 16, 'BOARDED'),\n    (8, 16, 'HIJACKED'),\n    (49, 56, 'BOARDED'),\n    (49, 56, 'HOSTAGES_TAKEN')]}),\n ('A barge (Swissco 57), under tow en route from Singapore to Banjarmasin, Indonesia, was boarded by robbers using a wooden boat. VTIS Singapore informed the master that a boat was following his barge. On investigation, the master saw a wooden boat moving away from the barge. The crew boarded the barge and found 13 containers had been opened. Incident reported to the Maritime and Port Authority Singapore.',\n  {'entities': [(81, 94, 'BOARDED'),\n    (87, 105, 'BOARDED'),\n    (274, 290, 'BOARDED')]}),\n ('Robbers in two fishing vessels boarded the ship from the port and starboard side.  The alarm was raised and port control informed.  The robbers escaped.  Nothing stolen.  A patrol boat came and established contact with master and one vessel with seven crew members was apprehended',\n  {'entities': [(15, 38, 'BOARDED'), (136, 151, 'BOARDED')]}),\n ('Six pirates armed with long knives boarded the ship while sailing at full speed. After about thirty minutes, the pirates disembarked into a small speedboat',\n  {'entities': [(23, 42, 'BOARDED'), (113, 132, 'BOARDED')]}),\n ('About eight robbers boarded the ship, while berthed and escaped with their loot',\n  {'entities': [(6, 27, 'BOARDED'),\n    (12, 27, 'BOARDED'),\n    (12, 31, 'BOARDED')]}),\n ('Robbers boarded the berthed tanker. Duty crew on routine rounds spotted the robbers and notified the bridge. The alarm was raised and fog horn sounded. Upon hearing the alarm, the robbers fled empty handed. A search was conducted, following which it was determined that nothing had been stolen. Incident reported to NIMASA and Nigerian Navy',\n  {'entities': [(0, 15, 'BOARDED'), (0, 19, 'BOARDED')]}),\n (\"Robbers boarded the ship at anchor using grappling hooks. They broke open the paint store, stole ship's stores and escaped\",\n  {'entities': [(0, 15, 'BOARDED'), (0, 19, 'BOARDED')]}),\n ('Ten persons armed with guns approached the ship enroute from Hai Phong, Viet Nam towards Davao. The Master raised the alarm and activated the SSAS. The armed persons fired at the cabin doors of the ship, two crew members were injured; abducted six crew members and fled in a speedboat. At or about 0830 hours on the same day, a passing domestic cargo ship MV Lorcon rendered assistance to Royal 16, reported the incident to the Philippine Coast Guard (PCG) Operation Station in Zamboanga and evacuated the two wounded crew members to Zamboanga City for treatment. The remaining 13 crew members were left on board Royal 16 which proceeded to Zamboanga port with the assistance of the Zamboanga harbour pilot for investigation.\\n',\n  {'entities': [(235, 243, 'BOARDED'), (235, 243, 'HOSTAGES_TAKEN')]}),\n ('While sailing, five unknown persons armed with knives and tools boarded the container ship from two boats. The crew mustered  on the  bridge, informed authorities and subsequently requested that authorities conduct a search of the ship. Indonesian authorities conducted the search on board but nothing irregular found. No injury to the crew, no damage to the ship and nothing reported stolen.',\n  {'entities': [(54, 71, 'BOARDED')]}),\n ('Nine armed pirates boarded the tanker underway. Alarm raised and distress messages activated. A Nigerian Security Vessel was dispatched to assist the tanker. By the time the security vessel arrived at the location the pirates kidnapped 15 crew and escaped. The tanker and remaining crew were escorted to a safe port.\\n',\n  {'entities': [(5, 26, 'BOARDED'),\n    (11, 26, 'BOARDED'),\n    (11, 30, 'BOARDED'),\n    (226, 235, 'BOARDED'),\n    (226, 235, 'HOSTAGES_TAKEN')]}),\n (\"About 12 pirates armed with knives in a speedboat boarded the ship underway. They entered the bridge and held the duty officer hostage. They then entered the Master's cabin and stole ship's property and escaped. Master sent SSAS alert\",\n  {'entities': [(38, 57, 'BOARDED'),\n    (127, 134, 'BOARDED'),\n    (127, 134, 'HOSTAGES_TAKEN')]}),\n ('A high speed boat with 2-3 pirates on board attempted to board the ship but when the crew lit up the area by signal light, pirates turned away',\n  {'entities': [(27, 43, 'BOARDED')]}),\n (\"Four robbers boarded a ship underway and escaped with stolen engine spares. All crew reported safe.\\n\\nWhile underway, the duty oiler sighted four unauthorised persons in the vicinity of the engine room. \\n\\nThe ship alarm was raised and the crew mustered on the bridge. The perpetrators escaped immediately.  A search on board the ship was conducted with no further sighting of the perpetrators. \\n\\nThe incident was reported to the Company Security Officer who later informed the Singapore authorities. The master declared some engine spares were stolen. The crew was not injured.   \\n\\nA  safety navigational broadcast was initiated. The Republic of Singapore Navy's (RSN) Maritime Security Task Force (MSTF) and Singapore Police Coast Guard were notified. Information of the incident was shared with the Malaysian and Indonesian authorities.\\n\\n\",\n  {'entities': [(0, 20, 'BOARDED'),\n    (5, 20, 'BOARDED'),\n    (5, 22, 'BOARDED'),\n    (271, 291, 'BOARDED')]}),\n ('Four armed robbers boarded the ship while at anchor. The robbers tried to take duty A/B as hostage but he managed to escape and raise the alarm. The robbers jumped overboard and escaped empty handed in a boat where other accomplices were waiting for them',\n  {'entities': [(5, 26, 'BOARDED'),\n    (11, 26, 'BOARDED'),\n    (11, 30, 'BOARDED'),\n    (91, 98, 'BOARDED'),\n    (91, 98, 'HOSTAGES_TAKEN'),\n    (106, 123, 'BOARDED'),\n    (149, 173, 'BOARDED'),\n    (157, 173, 'BOARDED')]}),\n ('Armed robbers boarded the ship while at anchor and broke into the forecastle store',\n  {'entities': [(0, 21, 'BOARDED'),\n    (6, 21, 'BOARDED'),\n    (6, 25, 'BOARDED'),\n    (51, 61, 'BOARDED')]}),\n ('Three robbers armed with knives boarded the berthed ship. The alarm was raised and crew mustered. Upon seeing the crew alertness, the robbers fled without stealing anything.',\n  {'entities': [(20, 39, 'BOARDED')]}),\n ('Four pirates armed with guns and long knives boarded the ship',\n  {'entities': [(33, 52, 'BOARDED')]}),\n (\"Three robbers in a motor boat approached a berthed live stock carrier. Two robbers boarded the ship while the other robber remained in the boat. Duty crew noticed that the robbers were stealing ship's property and reported to the OOW who raised the alarm and alerted the crew. Seeing crew alertness the robbers escaped with the stolen property. Incident reported to Belawan Port Authority which dispatched a coast guard patrol boat to investigate.\",\n  {'entities': [(71, 90, 'BOARDED'),\n    (75, 90, 'BOARDED'),\n    (75, 94, 'BOARDED'),\n    (303, 318, 'BOARDED')]}),\n ('About 7 or 8 armed robbers boarded the ship while underway from a small boat. They broke open the forepeak store',\n  {'entities': [(13, 34, 'BOARDED'),\n    (19, 34, 'BOARDED'),\n    (19, 38, 'BOARDED')]}),\n (\"Armed robbers boarded the ship while at anchor but were spotted on the ship's forecastle\",\n  {'entities': [(0, 21, 'BOARDED'), (6, 21, 'BOARDED'), (6, 25, 'BOARDED')]}),\n ('Two robbers armed with knives boarded the anchored ship while the remaining six robbers remained in the boat. Alert duty crew spotted the robbers and raised the alarm. On hearing the alarm, the robbers jumped overboard and escaped empty-handed. Port control was contacted but no response was received.',\n  {'entities': [(18, 37, 'BOARDED'),\n    (194, 218, 'BOARDED'),\n    (202, 218, 'BOARDED')]}),\n (\"Six robbers boarded an anchored ship via the anchor chain and hawse pipe by removing the hawse pipe cover and anchor lashing. They cut open the padlock to the forecastle store and stole ship's properties. OOW noticed the robbers and raised the alarm. Hearing the alarm, the robbers escaped with stolen ship's property. Incident reported to the local police who boarded the ship for investigation.\",\n  {'entities': [(0, 19, 'BOARDED'),\n    (4, 19, 'BOARDED'),\n    (4, 22, 'BOARDED'),\n    (274, 289, 'BOARDED')]}),\n (\"While at anchor, robbers boarded the tanker unnoticed. The roving patrol on duty noticed the robbers on the forecastle and informed the duty officer who raised alarm and alerted all crew. Search lights were directed on the forecastle. Seeing crew alertness the robbers escaped with stolen ship's stores.\",\n  {'entities': [(15, 32, 'BOARDED'),\n    (17, 32, 'BOARDED'),\n    (17, 36, 'BOARDED'),\n    (261, 276, 'BOARDED')]}),\n ('Eight to ten armed robbers boarded the ship while at anchor and held one member of the crew at knifepoint',\n  {'entities': [(13, 34, 'BOARDED'),\n    (19, 34, 'BOARDED'),\n    (19, 38, 'BOARDED')]}),\n ('The owners report that they have not been able to contact their fishing vessel since 29.10.2011. It is believed  the vessel has been hijacked and taken to Somalia.  The last known position of the fishing vessel was on 11.12.2011 near Grisby anchorage, Somalia.',\n  {'entities': [(133, 141, 'BOARDED'), (133, 141, 'HIJACKED')]}),\n ('A robber boarded the ship from forecastle from a waiting boat which had four accomplices, while at anchor. When spotted by the duty A/B, he jumped overboard and escaped',\n  {'entities': [(0, 16, 'BOARDED'),\n    (2, 16, 'BOARDED'),\n    (2, 20, 'BOARDED'),\n    (140, 156, 'BOARDED')]}),\n (\"The unknown persons boarded the tanker unnoticed and entered engine room. They stole ship's spares and fled. The unknown persons was only discovered while the tanker was in the vicinity of Mangkai Island, Off Anambas Island. Master reported the incident to the Owners.\",\n  {'entities': [(4, 27, 'BOARDED')]}),\n (\"Six robbers armed with knives and iron bars boarded the anchored ship at the forecastle. Duty deck watchman spotted the robbers and informed the duty officer who raised the alarm and  mustered the crew. Upon hearing the alarm and seeing the crew's alertness, the robbers jumped overboard and fled in a wooden boat. A search was conducted, following which it was determined that padlock to the paint locker was damaged and ship's stores had been stolen. Incident reported to Port control.\",\n  {'entities': [(34, 51, 'BOARDED'),\n    (263, 287, 'BOARDED'),\n    (271, 287, 'BOARDED')]}),\n ('Five armed robbers from an unlit boat boarded the ship while at anchor',\n  {'entities': [(27, 45, 'BOARDED')]}),\n (\"While underway, six pirates armed with guns and knives boarded the ship using a rope. The Master and crew members were tied up; and ship's cash, crew members personal belongings and cash were stolen. The pirates thereafter fled in a small boat. After the pirates left the ship, the Master managed to untie himself and reported the incident to his Company Security Officer (CSO).\",\n  {'entities': [(44, 62, 'BOARDED')]}),\n ('Duty watchmen on-board an anchored tanker noticed three robbers attempting to board the tanker and immediately notified the officer on watch. Alarm raised and crew mustered. Seeing the alerted crew, the robbers escaped empty handed. Incident reported to the Nigerian Navy and a patrol boat was dispatched to investigate.',\n  {'entities': [(203, 218, 'BOARDED')]}),\n (\"Duty crew onboard an anchored ship noticed a small boat near the anchor chain and told the boat to move away as they were about to heave up the anchor. As the duty crew was about to raise the alarm, two armed robbers who had already boarded the ship, held the duty crew at knife point and tied him up. When the ship was ready to heave up the anchor, the remaining crew proceeded to the forecastle. On seeing these crew members approaching, the robbers snatched the duty crew's walkie-talkie and escaped through the hawse pipe after opening the security cover. Incident reported to Port Control. On berthing, Marine Police boarded the ship for investigation.\",\n  {'entities': [(221, 240, 'BOARDED')]}),\n (\"Unnoticed, robbers boarded an anchored tanker. They stole ship's stores and escaped. Incident reported to local Authorities.\",\n  {'entities': [(9, 26, 'BOARDED'),\n    (11, 26, 'BOARDED'),\n    (11, 29, 'BOARDED')]}),\n ('About ten armed robbers boarded the ship while at anchor from a wooden boat which came alongside',\n  {'entities': [(10, 31, 'BOARDED'),\n    (16, 31, 'BOARDED'),\n    (16, 35, 'BOARDED')]}),\n ('Six armed robbers in small boats boarded the ship, while at anchor. The armed robbers later jumped overboard and escaped',\n  {'entities': [(21, 40, 'BOARDED'), (92, 108, 'BOARDED')]}),\n ('Ten robbers in six unlit fishing boats boarded ship via hawse pipe, while at anchor. They broke bosun store padlock and escaped with their loot',\n  {'entities': [(25, 46, 'BOARDED')]}),\n (\"Four robbers armed with steel pipes boarded the anchored tanker. Duty crew on routine rounds spotted the robbers and raised the alarm. Upon seeing the alerted crew the robbers fled. A search was conducted, following which it was determined that ship's stores had been stolen. Incident reported to VTS.\",\n  {'entities': [(24, 43, 'BOARDED')]}),\n ('About eight pirates in two skiffs armed with rocket propelled grenades and automatic weapons chased and fired on the ship underway. Master raised alarm, increased speed and contacted warship for assistance. A warship and a helicopter arrived at location and circled the tanker.   The pirates stopped chasing and abandoned the attack. The helicopter contacted the pirates by VHF radio and ordered them to surrender. Pirates threatened to kill the hostages held on board the mother ship if the warships attacked the skiffs\\n',\n  {'entities': [(446, 454, 'BOARDED'), (446, 454, 'HOSTAGES_TAKEN')]}),\n (\"While underway, the master of the bulk carrier reported to Singapore VTIS that four perpetrators were sighted in the steering gear room. The master raised the alarm and mustered crew. A security search on board was conducted and at about 0345 hrs, the security search was completed and no perpetrators found. The crew was safe and accounted for. Nothing was stolen. The ship was bound for Singapore.\\n\\nA safety navigational broadcast was initiated. The RSN's MSTF and Singapore Police Coast Guard were notified of the incident. Information of the incident was shared with the Indonesian and Malaysian authorities.\\n\\nThe Singapore Police Coast Guard officers boarded the ship for investigation upon her arrival in Singapore. At about 0934 hrs, the ship was cleared with no sighting of the perpetrators on board.\\n\",\n  {'entities': [(84, 112, 'BOARDED'),\n    (786, 807, 'BOARDED'),\n    (786, 808, 'BOARDED')]}),\n (\"While sailing, four robbers wearing t-shirts, black trousers, and armed with knives boarded the ship from the stern. The robbers confronted one crew member and hit him with his fist. They also showed a knife when the crew members gathered around them. The alarm was raised, all crew mustered and all areas of the ship was searched. The ship's auxiliary engine spares had been stolen.       \",\n  {'entities': [(72, 91, 'BOARDED')]}),\n ('Two robbers using a rope and hook boarded the ship at anchor.  Alert duty watchkeepers raised alarm. The robbers disembarked into a waiting boat, which had four other accomplices and escaped. No injuries to crew. Nothing reported stolen',\n  {'entities': [(25, 41, 'BOARDED'), (105, 124, 'BOARDED')]}),\n (\"Duty crew onboard an anchored ship noticed two robbers armed with knives on the forward mooring station and notified the duty officer. Alarm raised, PA announcement made, and crew mustered. Upon hearing the alarm, the robbers escaped with stolen ship's stores. Incident reported to local VTS and a Coast Guard patrol boat was dispatched to search the waters around the ship.\\n\\n\",\n  {'entities': [(218, 233, 'BOARDED')]}),\n ('During cargo operations, seven robbers boarded the ship, while berthed and entered the engine room and escaped with their loot',\n  {'entities': [(25, 46, 'BOARDED'),\n    (31, 46, 'BOARDED'),\n    (31, 50, 'BOARDED')]}),\n (\"Duty watchman on routine rounds onboard an anchored ship noticed two robbers in the steering gear room during safety patrols and immediately informed the OOW who sounded the ship's whistle and PA announcement made. On searching the ship, ship's crew found the steering gear room's lock broken and ship's engine spares stolen.\",\n  {'entities': [(281, 292, 'BOARDED')]}),\n ('Six robbers in three canoes, armed with automatic rifles approached the ship and two of them boarded the ship, while at anchor. They held the pumpman hostage and later escaped when spotted',\n  {'entities': [(85, 100, 'BOARDED'),\n    (150, 157, 'BOARDED'),\n    (150, 157, 'HOSTAGES_TAKEN')]}),\n ('Two robbers boarded the ship while at anchor and chased the duty crewmember who raised the alarm. The robbers jumped overboard and escaped in a wooden boat where other accomplices were waiting for them',\n  {'entities': [(0, 19, 'BOARDED'),\n    (4, 19, 'BOARDED'),\n    (4, 23, 'BOARDED'),\n    (102, 126, 'BOARDED'),\n    (110, 126, 'BOARDED')]}),\n ('Three armed robbers boarded the ship while at anchor',\n  {'entities': [(6, 27, 'BOARDED'),\n    (12, 27, 'BOARDED'),\n    (12, 31, 'BOARDED')]}),\n ('Pirates boarded the tug and kidnapped four crew members.  They are demanding a ransom for their release and are negotiating with the owners',\n  {'entities': [(0, 15, 'BOARDED'),\n    (0, 19, 'BOARDED'),\n    (28, 37, 'BOARDED'),\n    (28, 37, 'HOSTAGES_TAKEN')]}),\n ('Pirates kidnapped the consignee of a cargo of beer. They threatened the Master and looted his cargo',\n  {'entities': [(8, 17, 'BOARDED'), (8, 17, 'HOSTAGES_TAKEN')]}),\n ('The ship was boarded by armed pirates. They threatened the AB with a knife. The same night pirates tried to board the ship twice without success',\n  {'entities': [(4, 20, 'BOARDED')]}),\n ('Four robbers armed with automatic rifles and knives boarded an anchored ship. They took the crew hostage, ransacked their cabins and stole ship and crew cash and properties before escaping. Master was injured during the incident. The incident was reported to Conakry Port Control and a patrol boat came for investigation.',\n  {'entities': [(41, 59, 'BOARDED'),\n    (97, 104, 'BOARDED'),\n    (97, 104, 'HOSTAGES_TAKEN')]}),\n ('While at anchor, four robbers armed with long knives boarded the vessel.  The duty A/B spotted two robbers and alerted the OOW who sounded the alarm.  Two more robbers were subsequently spotted while escaping. The robbers escaped empty-handed. ',\n  {'entities': [(41, 60, 'BOARDED'), (214, 229, 'BOARDED')]}),\n ('While at anchor, seven perpetrators armed with knives, boarded the bulk carrier. The duty watchman raised the alarm and the crew mustered. The perpetrators confronted the crew with their knives and stole ship stores before they escaped. The incident was reported to Taboneo Port Control and a patrol boat was dispatched to investigate. All seven perpetrators were later arrested.',\n  {'entities': [(47, 62, 'BOARDED')]}),\n ('Three robbers armed with knives boarded the ship from forecastle deck, while at anchor. When spotted by the duty AB, they jumped overboard and escaped in a speedboat towards the north of the harbour',\n  {'entities': [(20, 39, 'BOARDED'), (122, 138, 'BOARDED')]}),\n (\"While underway, a container ship was boarded by an unknown number of pirates and the crew retreated into the citadel. On being notified of the incident, the IMB Piracy Reporting Centre immediately alerted and liaised with the Regional Authorities and international warships to request for assistance. A Russian Navy warship and its helicopter responded and proceeded to render assistance resulting in the crew and ship being safe. The pirates escaped with stolen ship's properties.\",\n  {'entities': [(28, 44, 'BOARDED')]}),\n ('Several robbers boarded ship from a speedboat, while at anchor and when spotted and alert crew mustered, they escaped with their loot. Coast Guard deployed a boat for investigation',\n  {'entities': [(0, 23, 'BOARDED'), (8, 23, 'BOARDED'), (8, 28, 'BOARDED')]}),\n ('Pirates hijacked the vessel taking 14 crew members hostage. Owners hired a private aircraft to search for the ship and spotted the ship heading North towards the Somali coast\\n',\n  {'entities': [(8, 16, 'BOARDED'),\n    (8, 16, 'HIJACKED'),\n    (51, 58, 'BOARDED'),\n    (51, 58, 'HOSTAGES_TAKEN')]}),\n ('Two robbers armed with long knives boarded ship, while at berth. When ordered by C/O to disembark, robbers attacked him with knives and escaped with their loot. The C/O sustained serious injuries and received medical attention ashore',\n  {'entities': [(23, 42, 'BOARDED')]}),\n ('Pirates boarded and hijacked the fishing vessel and took its 20 crew members hostage. The fishing vessel was rescued on the same day and sailed to a safe place. The crew were unharmed. ',\n  {'entities': [(0, 15, 'BOARDED'),\n    (0, 19, 'BOARDED'),\n    (20, 28, 'BOARDED'),\n    (20, 28, 'HIJACKED'),\n    (77, 84, 'BOARDED'),\n    (77, 84, 'HOSTAGES_TAKEN')]}),\n (\"Four robbers armed with long knives and steel pipes boarded the tug. They took the Duty Oiler hostage, but were noticed by the Duty AB on deck who informed the duty officer on the bridge via VHF radio. The Duty Officer alerted the crew. On realilzing the alerted crew, the robbers escaped with ship's stores\\n\",\n  {'entities': [(40, 59, 'BOARDED'),\n    (94, 101, 'BOARDED'),\n    (94, 101, 'HOSTAGES_TAKEN'),\n    (273, 288, 'BOARDED')]}),\n ('Robbers boarded the ship and broke open the bosun store, while at anchor. When spotted and crew mustered, they escaped with their loot',\n  {'entities': [(0, 15, 'BOARDED'), (0, 19, 'BOARDED')]}),\n ('Robbers boarded the ship and were noticed by the alert duty crew who informed the OOW.  The alarm was raised and the crew were alerted. Seeing the alert crew, the robbers jumped overboard and escaped.  ',\n  {'entities': [(0, 15, 'BOARDED'),\n    (0, 19, 'BOARDED'),\n    (163, 187, 'BOARDED'),\n    (171, 187, 'BOARDED')]}),\n ('Two armed robbers boarded the ship, while at anchor and when spotted by the duty A/B, they escaped with their loot',\n  {'entities': [(4, 25, 'BOARDED'),\n    (10, 25, 'BOARDED'),\n    (10, 29, 'BOARDED')]}),\n ('Six robbers armed with an axe boarded the ship from a small boat, while at anchor. They threatened the watchman and escaped when spotted',\n  {'entities': [(23, 37, 'BOARDED')]}),\n ('Six robbers in two boats approached and boarded an anchored ship using ropes. They tried to break into the bosun store. Duty crew noticed the robbers and raised the alarm. The robbers threatened the duty deck crew with knives and escaped without stealing anything. TRAMAR port control informed. A patrol boat was dispatched to search the waters around the ship.\\n\\n',\n  {'entities': [(25, 47, 'BOARDED'), (92, 102, 'BOARDED')]}),\n (\"\\nAround eight robbers boarded an anchored ship and escaped with ship's properties, cash, and crew belongings. Master reported the incident to the local Authorities.\",\n  {'entities': [(8, 29, 'BOARDED'),\n    (14, 29, 'BOARDED'),\n    (14, 32, 'BOARDED')]}),\n ('Eight robbers in a motorboat boarded the ship drifting off port while underway. They broke into a container and when crew mustered, they escaped empty-handed',\n  {'entities': [(17, 36, 'BOARDED'), (85, 95, 'BOARDED')]}),\n (\"Three robbers boarded an anchored ship. They broke into the forward store and stole ship's stores. Duty A/B and 3/E spotted the robbers and raised the alarm. Upon hearing the alarm, the robbers escaped in their waiting boat. The port authorities were informed.\",\n  {'entities': [(0, 21, 'BOARDED'),\n    (6, 21, 'BOARDED'),\n    (6, 24, 'BOARDED'),\n    (45, 55, 'BOARDED'),\n    (186, 201, 'BOARDED')]}),\n (\"Robbers boarded the ship at berth, stole ship's stores and mooring rope and escaped unnoticed. Master informed port authorities and local agent. All crew were safe.\\n\\n\",\n  {'entities': [(0, 15, 'BOARDED'), (0, 19, 'BOARDED')]}),\n (\"Six robbers armed with knives boarded the ship at anchor.  The duty officer raised an alarm, all crew mustered and chased the robbers.  The robbers stole ship's stores and escaped\",\n  {'entities': [(18, 37, 'BOARDED'), (140, 153, 'BOARDED')]}),\n ('While underway, the chief officer of the tug boat towing unmanned barge, spotted a small boat with four perpetrators on board was alongside the barge. Three of the perpetrators subsequently climbed on board the barge and appeared to be transferring scrap metal to their boat. \\n\\nThe master reported the incident to his company and the Vessel Traffic Information System (VTIS) Central. As the perpetrators had fled, the master did not request for assistance. The tug boat and barge continued its voyage to the next port, Kuantan, Malaysia. \\n\\nThere was no injury to the crew during the incident, and some scrap metals were reported missing.\\n',\n  {'entities': [(104, 125, 'BOARDED'),\n    (104, 129, 'BOARDED'),\n    (190, 206, 'BOARDED')]}),\n ('Armed pirates chased, boarded and hijacked the fishing trawler underway. Information available indicated that the fishing vessel was then used to try to hijack other fishing vessels in the vicinity. Pirates later directed the vessel towards the Somali coast\\n',\n  {'entities': [(14, 29, 'BOARDED'),\n    (34, 42, 'BOARDED'),\n    (34, 42, 'HIJACKED'),\n    (153, 159, 'BOARDED'),\n    (153, 159, 'HIJACKED')]}),\n ('Aceh rebels believed to be GAM personnel, in two fishing vessels, boarded the ship, while underway and hijacked it. They took the eleven crew members ashore and held nine of them hostage',\n  {'entities': [(57, 73, 'BOARDED'),\n    (103, 111, 'BOARDED'),\n    (103, 111, 'HIJACKED'),\n    (179, 186, 'BOARDED'),\n    (179, 186, 'HOSTAGES_TAKEN')]}),\n (\"The vessel was boarded by a group of 8 persons armed with knives and machetes using rope in dark hours, who escaped with ship's stores on hearing alarm.\",\n  {'entities': [(4, 22, 'BOARDED')]}),\n (\"Robbers boarded the anchored ship while waiting to commence loading operations. They broke into the forward bosun store, stole the ship's stores and property and escaped unnoticed. The incident occurred between 29.12.2012, 2300 LT and 30.12.2012, 0400 LT and was reported to the local agent and the port authorities.\",\n  {'entities': [(0, 15, 'BOARDED'), (0, 19, 'BOARDED'), (85, 95, 'BOARDED')]}),\n (\"Two armed Chechen nationals boarded the ship in port and when in the Master's cabin demanded US$6,000. Taking the First Officer and Staff Captain hostage, they entered a local duty free shop and demanded and received US£10,000 from the owner. They return\",\n  {'entities': [(10, 35, 'BOARDED'),\n    (146, 153, 'BOARDED'),\n    (146, 153, 'HOSTAGES_TAKEN')]}),\n ('A group of pirates boarded the yacht, while underway and escaped with their loot',\n  {'entities': [(8, 26, 'BOARDED'),\n    (11, 26, 'BOARDED'),\n    (11, 30, 'BOARDED')]}),\n ('Three robbers boarded the anchored ship. Upon spotting the robbers, the alert crew raised the alarm and confronted them. Upon seeing the alerted crew the robbers fled empty-handed. Incident reported to Vung Tau Port Control. The authority boarded the ship to investigate.',\n  {'entities': [(0, 21, 'BOARDED'), (6, 21, 'BOARDED'), (6, 25, 'BOARDED')]}),\n ('Unnoticed robbers boarded an anchored tanker and entered the forward store. Alert duty watchman noticed the hawse pipe cover opened and alerted the OOW who raised the alarm. Seeing the crew alertness the robbers escaped empty handed. Incident reported to the harbour master through the agents.',\n  {'entities': [(0, 25, 'BOARDED'),\n    (10, 25, 'BOARDED'),\n    (10, 28, 'BOARDED'),\n    (204, 219, 'BOARDED')]}),\n ('Two armed robbers boarded the berthed ship, during cargo operations using a long stick with hook.  Two more robbers remained in the speedboat.  Watchmen spotted them and raised alarm.  Armed policemen arrived on scene and tried to stop the robbers but the robbers resisted.  Police opened fire and one robber was injured.  The robbers jumped overboard and escaped.  Nothing was stolen',\n  {'entities': [(4, 25, 'BOARDED'),\n    (10, 25, 'BOARDED'),\n    (10, 29, 'BOARDED'),\n    (327, 351, 'BOARDED'),\n    (335, 351, 'BOARDED')]}),\n ('Two robbers in a boat boarded the Singapore-registered barge RAPID, which was being towed by the tug TOPNICHE 7 while underway. The robbers stole a canvas and some ropes before they escaped\\n\\n\\n',\n  {'entities': [(15, 29, 'BOARDED'), (132, 145, 'BOARDED')]}),\n ('Five robbers armed with knives boarded the anchored ship via the poop deck. They attacked and took hostage the duty A/B and stole engine spares. When the A/B failed to respond to the radio calls, the duty officer raised the alarm, resulting in the robbers escaping.',\n  {'entities': [(19, 38, 'BOARDED'),\n    (99, 106, 'BOARDED'),\n    (99, 106, 'HOSTAGES_TAKEN'),\n    (248, 264, 'BOARDED')]}),\n ('Duty Officer noticed on the CCTV one unauthorised person on the forecastle and raised the alarm. Hearing the alerted crew, the robber escaped. A security search of the tanker showed ship’s properties stolen from the forecastle store.',\n  {'entities': [(127, 141, 'BOARDED')]}),\n (\"Four robbers armed with long knives boarded the ship during discharging operations.  Fearing injuries, the crew on anti-piracy watch retreated into accommodation.  Within ten minutes, the crew mustered and went forward to investigate.  By then, the robbers had escaped in a waiting boat after stealing ship's stores\",\n  {'entities': [(24, 43, 'BOARDED')]}),\n ('Nine robbers armed with knives boarded the ship during cargo operations, while at anchor. They used a dug-out canoe to carry their loot',\n  {'entities': [(19, 38, 'BOARDED')]}),\n ('Robbers boarded the ship at forecastle, while underway and escaped with their loot',\n  {'entities': [(0, 15, 'BOARDED'), (0, 19, 'BOARDED')]}),\n ('Two pirates were caught attempting to steal mooring ropes. Pirates jumped into the water',\n  {'entities': [(38, 51, 'BOARDED'),\n    (59, 78, 'BOARDED'),\n    (67, 78, 'BOARDED')]}),\n ('About twelve robbers armed with guns, knives and dynamites boarded the ship through the hawse, while at anchor. They attacked and held two crew members hostage demanding ransom from the Master. When their request was not met they beat and seriously injured the Master, ransacked the ship while firing guns and then escaped',\n  {'entities': [(45, 66, 'BOARDED'),\n    (152, 159, 'BOARDED'),\n    (152, 159, 'HOSTAGES_TAKEN')]}),\n ('Duty watchman on board an anchored ship noticed three robbers on the aft deck and notified the OOW. Alarm raised, announcement on PA system made and all crew mustered on the bridge. Master contacted the pilot station and agents. Authorities boarded the vessel to render assistance and investigate.',\n  {'entities': [(227, 248, 'BOARDED')]}),\n (\"Three robbers in a canoe approached and boarded an anchored offshore tug. Duty A/B on routine rounds noticed the robbers attempting to steal the outboard engine of the vessel's rescue boat. He immediately informed bridge who raised the alarm and mustered the crew. Upon hearing the alarm and seeing the crew alertness, the robbers escaped empty-handed. Incident reported to Port Control and a Marine Police patrol boat came for investigation.\",\n  {'entities': [(25, 47, 'BOARDED'), (323, 338, 'BOARDED')]}),\n (\"Five pirates armed with long knives boared the ship whilst underway and entered the Master's cabin\",\n  {'entities': [(24, 42, 'BOARDED')]}),\n ('Port Au Prince Anchorage, Haiti Five robbers armed with a gun and knives boarded an anchored ship via long ladders. General alarm sounded and crew proceeded into citadel. Upon hearing the alarm and seeing the crew alertness, the robbers escaped without stealing anything. The incident was reported to the Port Authorities. \\n',\n  {'entities': [(62, 80, 'BOARDED'), (229, 244, 'BOARDED')]}),\n (\"Ten pirates armed with firearms boarded the tug towing a barge (SINGA BESAR 3, Malaysia, GT 1168) laden with steel billets.  The pirates damaged all communication equipment and stole crew's personal belongings and ship's documents.  The Master and Chief Engineer were kidnapped and taken ashore.  The tug and barge anchored at the destination port for investigation.  The pirates contacted the owners and demanded a ransom.  On 24.08.2007, the two crew members were released after a ransom was paid\",\n  {'entities': [(18, 39, 'BOARDED'),\n    (268, 277, 'BOARDED'),\n    (268, 277, 'HOSTAGES_TAKEN')]}),\n ('boarded by a group of sea robbers while said vessel was anchored',\n  {'entities': [(0, 7, 'BOARDED')]}),\n ('While adrift, awaiting berth, a crew member onboard the ship noticed three robbers on the port side deck.  The alarm was sounded and the robbers disembarked into a small boat alongside the ship.  The bridge directed a searchlight towards the small boat and observed a 25ft wooden boat with a blue strip, centre console and outboard engine slowly moving away.  The boat had around 15-20 robbers onboard and a ladder.  The robbers were dressed only in shorts.  A search of the ship found no other robbers onboard.  However, a container seal was broken and some of the cargo removed and left on deck.  In addition, a forward store room lock was found damaged.  The port authorities were notified\\n',\n  {'entities': [(137, 156, 'BOARDED')]}),\n ('Several pirates in eight boats boarded unmanned ship under tow, while underway and escaped at 04:35 UTC with their loot. Coast Guard, India, was contacted',\n  {'entities': [(19, 38, 'BOARDED')]}),\n ('While at anchor, an unknown number of robbers boarded the ship, stole two mooring ropes and escaped. The theft was discovered during a security round.\\n\\n',\n  {'entities': [(35, 53, 'BOARDED'),\n    (38, 53, 'BOARDED'),\n    (38, 57, 'BOARDED')]}),\n ('Robbers armed with guns and knives boarded the ship while at anchor',\n  {'entities': [(24, 42, 'BOARDED')]}),\n (\"Four robbers armed with knives boarded an anchored tanker. They took one duty crew as hostage and tied him up. General alarm raised. Hearing the alarm, the robbers escaped with the stolen ship's properties and stores. Incident was reported to the Port Control and the coast guard boarded the ship for investigation.\",\n  {'entities': [(19, 38, 'BOARDED'),\n    (86, 93, 'BOARDED'),\n    (86, 93, 'HOSTAGES_TAKEN'),\n    (156, 171, 'BOARDED')]}),\n ('Three robbers boarded the ship at forecastle deck, while at anchor and when spotted, they escaped, slightly injuring a crew member who was hit by a stone thrown by the robbers',\n  {'entities': [(0, 21, 'BOARDED'), (6, 21, 'BOARDED'), (6, 25, 'BOARDED')]}),\n ('Robbers boarded the ship and broke into the stearing gear room. ',\n  {'entities': [(0, 15, 'BOARDED'), (0, 19, 'BOARDED'), (29, 39, 'BOARDED')]}),\n ('Robbers armed with knives boarded ship, while at anchor. When spotted by alert crew, they escaped with their loot',\n  {'entities': [(14, 33, 'BOARDED')]}),\n (\"Three armed robbers in a wooden boat approached and boarded an anchored bulk carrier. They took hostage duty A/B and tied him up. Duty A/B informed the OOW who raised the alarm. Noticing the alerted crew the robbers escaped with stolen ship's property.\",\n  {'entities': [(37, 59, 'BOARDED'),\n    (96, 103, 'BOARDED'),\n    (96, 103, 'HOSTAGES_TAKEN'),\n    (208, 223, 'BOARDED')]}),\n ('During the routine security patrol around the main deck by ship’s personnel, two robbers were sighted at the forecastle, armed with knives. The Duty Officer was being informed immediately the general alarm raised. Crew mustered and the robbers jumped overboard and escaped in a motor boat. After investigation, it was observed that the padlock of the forecastle entry was broken and six scupper plugs, two fire nozzles, and 15 hydrants caps were stolen. There was no physical confrontation and no injuries were reported.',\n  {'entities': [(236, 260, 'BOARDED'), (244, 260, 'BOARDED')]}),\n ('Four robbers armed with long knives and axe boarded the ship, while at anchor. When spotted they jumped overboard and escaped',\n  {'entities': [(36, 51, 'BOARDED'), (97, 113, 'BOARDED')]}),\n ('Pirates hijacked the ship underway \\ntaking 25 crewmembers hostage. The ship was sailed to the Somali coast',\n  {'entities': [(8, 16, 'BOARDED'),\n    (8, 16, 'HIJACKED'),\n    (58, 65, 'BOARDED'),\n    (58, 65, 'HOSTAGES_TAKEN')]}),\n ('Robbers boarded the ship during cargo operations, while at anchor, broke into the engine room store and escaped with their loot',\n  {'entities': [(0, 15, 'BOARDED'), (0, 19, 'BOARDED'), (67, 77, 'BOARDED')]}),\n ('Five pirates armed with guns boarded the ship, while underway and grounded ship',\n  {'entities': [(19, 36, 'BOARDED')]}),\n ('Eight robbers armed with sticks boarded the ship at anchor.  Alarm raised and crew mustered.  The robbers jumped overboard and escaped without stealing anything.  Authorities informed',\n  {'entities': [(20, 39, 'BOARDED'),\n    (98, 122, 'BOARDED'),\n    (106, 122, 'BOARDED')]}),\n ('Six robbers armed with knives boarded the ship while at anchor. They hit the duty A/B on the head and tied him up. The D/O sent a cadet to look for the A/B but the robbers held a knife to his throat and tied him up. The robbers escaped with their loot',\n  {'entities': [(18, 37, 'BOARDED'), (220, 235, 'BOARDED')]}),\n ('Ship disappeared from her fishing grounds. The crew hijacked her to Bangkok',\n  {'entities': [(52, 60, 'BOARDED'), (52, 60, 'HIJACKED')]}),\n ('Seven armed pirates boarded the ship unnoticed. They went to the engine room, locked two watchkeepers in the steering room and stole several spare parts. When Master/crew discovered the two watchkeepers locked in the steering room, the pirates had alread',\n  {'entities': [(6, 27, 'BOARDED'),\n    (12, 27, 'BOARDED'),\n    (12, 31, 'BOARDED')]}),\n ('Five robbers armed with long knives boarded the ship whilst two more armed robbers remained in a small boat',\n  {'entities': [(24, 43, 'BOARDED')]}),\n (\"Approximately four small fishing ships were engaged in fishing around the anchored tanker. Robbers disguised as fishermen approached and boarded the tanker, stole ship's property and fled unnoticed. The theft was noticed during routine rounds by the duty crew. A search was made throughout the tanker and the incident was reported to Port Control. Authority boarded the tanker for investigation.\",\n  {'entities': [(122, 144, 'BOARDED')]}),\n (\"While at anchor, two robbers armed with knives boarded the ship from a boat and caught the AB on watch in the engine room. They took his walkie talkie and held him hostage on board. \\nThe duty officer suspected that something happened when the duty AB failed to reply when call. While searching for the AB, the duty officer spotted a boat alongside the starboard quarter from the bridge wing of the ship. He then raised the alarm and the robbers fled with stolen ship's engine spares.\\n\\n\",\n  {'entities': [(35, 54, 'BOARDED'),\n    (164, 171, 'BOARDED'),\n    (164, 171, 'HOSTAGES_TAKEN')]}),\n ('Armed pirates hijacked the ship taking all the crewmembers hostage\\n\\n',\n  {'entities': [(14, 22, 'BOARDED'),\n    (14, 22, 'HIJACKED'),\n    (59, 66, 'BOARDED'),\n    (59, 66, 'HOSTAGES_TAKEN')]}),\n ('Five robbers armed with knives and wooden poles boarded the ship, while berthed and during cargo operations. They tied-up and assaulted the 2nd officer and A/B, destroyed a life raft before escaping with their loot. The 2nd officer and A/B sustained injuries and were sent ashore for treatment.',\n  {'entities': [(35, 55, 'BOARDED'), (126, 135, 'CREW_ASSAULTED')]}),\n ('Five robbers armed with guns and knives boarded the ship at poop deck and stole a liferaft, while at anchor. D/O raised alarm and crew mustered but robbers threatened them and escaped in their boat. Port control was informed',\n  {'entities': [(29, 47, 'BOARDED')]}),\n ('Six pirates armed with long knives boarded the ship. They threatened the deck officer and managed to enter the engine room. They also threatened the duty officer and collected items. The Master, alerted by the second Mate, sounded the alarm and the pirat',\n  {'entities': [(23, 42, 'BOARDED')]}),\n ('While at berth, five young pirates boarded the ship and threatened the Chief Officer with a knife. They cut the tarpaulin of the man over board boat and tried to steal its contents. They escaped after a brief fight . There were no watchmen at the gangway',\n  {'entities': [(21, 42, 'BOARDED'),\n    (27, 42, 'BOARDED'),\n    (27, 46, 'BOARDED')]}),\n (\"A person climbed the vessel through the anchor chain and  passed through the haws pipe to be able to forcibly open the Bosun locker, taking one flash light.\\n\\nCrewmen were able to detect intruder's presence but were not able to apprehend him because he managed to jump overboard and was picked up by a waiting motorbanca with two of his companions on board. \\n\",\n  {'entities': [(263, 277, 'BOARDED')]}),\n ('Seven pirates, armed with guns, boarded the ship from a long boat',\n  {'entities': [(26, 39, 'BOARDED')]}),\n ('WHILST AWAITING PILOT, PIRATES BOARDED the ship, TIED UP THE DUTY AB AND ESCAPED',\n  {'entities': [(21, 38, 'BOARDED')]}),\n (\"Four robbers in a small craft boarded the anchored ship, stole ship's property and fled.\\n\\n\",\n  {'entities': [(18, 37, 'BOARDED')]}),\n ('While underway, three pirates boarded the ship. A search was conducted, but the pirates had escaped. ',\n  {'entities': [(16, 37, 'BOARDED'),\n    (22, 37, 'BOARDED'),\n    (22, 41, 'BOARDED')]}),\n (\"Twelve robbers armed with long knives in two boats boarded the ship at anchor. They took hostage the stern duty crew member, tied his hands and stole ship's stores. The other roving deck watchmen saw the robbers and raised alarm. Crew mustered. The robbers jumped overboard and escaped with stores\\n\",\n  {'entities': [(41, 58, 'BOARDED'),\n    (89, 96, 'BOARDED'),\n    (89, 96, 'HOSTAGES_TAKEN'),\n    (249, 273, 'BOARDED'),\n    (257, 273, 'BOARDED')]}),\n ('While awaiting berthing instructions, pirates boarded the ship and stole some equipment',\n  {'entities': [(36, 53, 'BOARDED'),\n    (38, 53, 'BOARDED'),\n    (38, 57, 'BOARDED')]}),\n (\"Ten robbers armed with machetes boarded the ship at anchor via the anchor chain.  They held three-duty crew, threatened them with the machetes at their throats and tied  them up to bollards. The robbers stole ship's property and stores and escaped \",\n  {'entities': [(18, 39, 'BOARDED'), (195, 208, 'BOARDED')]}),\n (\"Two robbers boarded the ship at anchor.  They stole ship's stores and escaped.  Port authorities informed\",\n  {'entities': [(0, 19, 'BOARDED'), (4, 19, 'BOARDED'), (4, 23, 'BOARDED')]}),\n (\"Unauthorised persons boarded an anchored ship  and attempted to steal ship's property. Deck watch noticed the persons and informed bridge who raised the alarm and sounded the ship's horn. Port control informed via vhf ch.16 and all crew mustered on the bridge. Hearing the alarm and seeing the crew alertness, the persons escaped without stealing anything. Coast guard boarded the ship for inspection.\",\n  {'entities': [(0, 28, 'BOARDED'), (314, 329, 'BOARDED')]}),\n ('Three armed pirates boarded the ship',\n  {'entities': [(6, 27, 'BOARDED'),\n    (12, 27, 'BOARDED'),\n    (12, 31, 'BOARDED')]}),\n ('The ship was hijacked by pirates and 23 crew members were taken hostage. One Indian seafarer died in captivity, four Sri Lankan seafarers missing after the vessel sank on 7 July 2013. In July 2012, the seven Pakistani crew members on board returned home.\\nThe remaining seven Bangladeshi, two Sri Lankan, one Indian and one Iranian crew members were released on 7 June 2014.  ',\n  {'entities': [(13, 21, 'BOARDED'),\n    (13, 21, 'HIJACKED'),\n    (64, 71, 'BOARDED'),\n    (64, 71, 'HOSTAGES_TAKEN')]}),\n ('While at anchor, robbers boarded the vessel with the use of rope and hook. After noticing the robbers, the alarm was raised and the crew was mustered. The robbers escaped when the crew approached them together. ',\n  {'entities': [(15, 32, 'BOARDED'),\n    (17, 32, 'BOARDED'),\n    (17, 36, 'BOARDED'),\n    (155, 170, 'BOARDED')]}),\n (\"The duty watchman onboard an anchored bulk carrier heard a small boat approach the vessel. He then noticed movement on the forecastle deck and informed the duty officer. On reaching the forecastle, the duty watchman and the duty officer noticed a robber stealing the ship's stores. On confronting the robber, they were attacked and the duty officer was injured. The duty watchman returned to the accommodation and raised the alarm. The incident was reported to the authorities who sent out the coast guard and medical assistance for the injured duty officer.\",\n  {'entities': [(247, 262, 'BOARDED')]}),\n (\"Four robbers armed with knives boarded an anchored tanker, took the duty oiler as hostage and entered the engine store room. The robbers stole the ship's stores, released the oiler and escaped. \\n \\n\",\n  {'entities': [(19, 38, 'BOARDED'),\n    (82, 89, 'BOARDED'),\n    (82, 89, 'HOSTAGES_TAKEN'),\n    (129, 142, 'BOARDED')]}),\n (\"Nine robbers armed with guns boarded an anchored ship. They took hostage all crew members, stole ship's cash, crew cash and personal effects and escaped. No injuries to crew. Incident reported to the coast guard who came onboard for investigation.\",\n  {'entities': [(19, 36, 'BOARDED'),\n    (65, 72, 'BOARDED'),\n    (65, 72, 'HOSTAGES_TAKEN')]}),\n (\"Around 20 robbers in two boats boarded an anchored bulk carrier, broke into the forward stores, stole ship's property and escaped. The ship's attempt to contact the coast guard failed but message was relayed by another ship in the vicinity.\",\n  {'entities': [(21, 38, 'BOARDED'), (65, 75, 'BOARDED')]}),\n (\"Twelve robbers in a speedboat approached the ship at anchor.  Two robbers boarded the ship.  Alert crew raised alarm, SSAS activated and port control informed.  Ship's crew mustered and took necessary anti-piracy measures.  The robbers jumped into the water and escaped in their waiting boat.  A police patrol boat came for investigation\",\n  {'entities': [(62, 81, 'BOARDED'),\n    (66, 81, 'BOARDED'),\n    (66, 85, 'BOARDED'),\n    (228, 247, 'BOARDED'),\n    (236, 247, 'BOARDED')]}),\n ('Robbers armed with long knives boarded the ship while at anchor',\n  {'entities': [(19, 38, 'BOARDED')]}),\n ('The ship was attacked by at least eight robbers while at Santos anchorage.  The robbers held the duty watch AB hostage during the attack',\n  {'entities': [(111, 118, 'BOARDED'), (111, 118, 'HOSTAGES_TAKEN')]}),\n ('Boarded by 4 suspected robbers at forecastle store room',\n  {'entities': [(0, 7, 'BOARDED')]}),\n ('Armed robbers boarded the ship while underway',\n  {'entities': [(0, 21, 'BOARDED'), (6, 21, 'BOARDED'), (6, 25, 'BOARDED')]}),\n (\"Robbers reportedly boarded the berthed tanker unnoticed by cutting one of the forward head lines from the shore end and using the dangling line to climb onto the ship. They stole ship's property and fled. The theft was reported by the A/B on routine rounds, having found the forward mooring rope cut and ship's property missing.\",\n  {'entities': [(0, 26, 'BOARDED')]}),\n ('Ten robbers armed with long knives boarded the ship at poopdeck, while at anchor. When spotted and alert crew mustered and activated the fire hoses, they escaped in their speedboat with their loot',\n  {'entities': [(23, 42, 'BOARDED')]}),\n ('Two robbers armed with knives boarded the ship, via anchor chain, while at anchor. When spotted by the deck watchman, they escaped in a small speedboat with their loot',\n  {'entities': [(18, 37, 'BOARDED')]}),\n ('Two robbers attempted to board the berthed ship by climbing the stern mooring rope. Alert duty crew noticed the robbers and informed the OOW who raised the alarm and crew mustered. Upon seeing the crew alertness, the robbers jumped into the water and escaped in a small craft.',\n  {'entities': [(217, 236, 'BOARDED'), (225, 236, 'BOARDED')]}),\n (\"Robbers boarded the ship at anchor. Robbers broke into the forecastle store. Crew searched the vessel. Robbers escaped with stolen ship's equipment and stores\",\n  {'entities': [(0, 15, 'BOARDED'),\n    (0, 19, 'BOARDED'),\n    (36, 54, 'BOARDED'),\n    (44, 54, 'BOARDED'),\n    (103, 118, 'BOARDED')]}),\n ('Robbers boarded the ship at forecastle while berthed during cargo operations . The robbers escaped with their loot in a boat where other three accomplices where waiting for them',\n  {'entities': [(0, 15, 'BOARDED'), (0, 19, 'BOARDED'), (83, 98, 'BOARDED')]}),\n (\"Four robbers armed with knives and bars boarded the ship at berth waiting for cargo operations.  They threatened three duty crew members who ran towards accommodation and raised alarm.  The robbers stole ship's stores, jumped overboard and escaped towards a fishing boat nearby.  Local authorities were informed\",\n  {'entities': [(31, 47, 'BOARDED'),\n    (190, 203, 'BOARDED'),\n    (219, 235, 'BOARDED')]}),\n (\"Unnoticed, robbers boarded an anchored tanker, stole ship's properties and escaped. Duty crew on routine rounds noticed the theft and notified the OOW\",\n  {'entities': [(9, 26, 'BOARDED'),\n    (11, 26, 'BOARDED'),\n    (11, 29, 'BOARDED')]}),\n ('Vessel was reportedly hijacked by six unidentified heavily armed gunmen and taken to Eyl.  The name of the vessel is unknown; however, it is allegedly owned by an Omani company',\n  {'entities': [(22, 30, 'BOARDED'), (22, 30, 'HIJACKED')]}),\n ('While at berth, pirates boarded the ship unnoticed',\n  {'entities': [(14, 31, 'BOARDED'),\n    (16, 31, 'BOARDED'),\n    (16, 35, 'BOARDED')]}),\n (\"Armed robbers boarded the ship and went into the Captain's cabin while at anchor. The Master suspected they may have boarded during the sea passage. The local watchmen were unaware of the boarding. It is thought that the armed robbers could have duplicated the safe keys and that the Thai Mafia could have been involved\",\n  {'entities': [(0, 21, 'BOARDED'),\n    (6, 21, 'BOARDED'),\n    (6, 25, 'BOARDED'),\n    (108, 124, 'BOARDED')]}),\n ('The duty watchman onboard the ship at anchor, noticed robbers trying to open the watertight door to the forecastle store. He immediately alerted the OOW who, in turn, raised the alarm and crew mustered. On seeing crew alertness, the robbers jumped overboard and escaped empty handed in a waiting boat with one accomplice',\n  {'entities': [(233, 257, 'BOARDED'), (241, 257, 'BOARDED')]}),\n ('Nine robbers armed with long knives and steel bars boarded the ship at forecastle, while at anchor.  They tied up two shore watchmen, threatened them with knives and attacked one crew member with steel bars.  The D/O raised alarm and mustered crew and the robbers escaped.  One crew member and two watchmen sustained injuries',\n  {'entities': [(40, 58, 'BOARDED'), (256, 271, 'BOARDED')]}),\n ('Twelve pirates boarded the ship and cut wishbones of padlocks. The Watchman tried to stop them but they blocked him with sticks and knives. Crew raised the alarm and the pirates jumped into the a boat and got away _____________',\n  {'entities': [(0, 22, 'BOARDED'),\n    (7, 22, 'BOARDED'),\n    (7, 26, 'BOARDED'),\n    (170, 189, 'BOARDED'),\n    (178, 189, 'BOARDED')]}),\n (\"While underway, the master reported to Singapore Vessel Traffic Information System (VTIS) that three perpetrators armed with knives were sighted in the engine room. The perpetrators escaped upon the activation of ship's general alarm by the alert crew. \\n\\nA search on board was conducted with no further sighting of the perpetrators. During the incident, the 2nd engineer was tied, blindfolded and pinned down to the floor for about 10 min. He managed to release himself later and informed the chief engineer. The 2nd engineer did not sustain any injuries.\\n\\nThe Singapore Police Coast Guard boarded the ship for a search on board upon her arrival in Singapore. At 1223 hrs, the ship was cleared with no sighting of the perpetrators on board. Some engine spare parts and the  mobile phone of  the 2nd engineer were stolen. The crew was safe.\\n\\nA safety navigational broadcast was initiated. The Republic of Singapore Navy's (RSN) Maritime Security Task Force (MSTF) and Singapore Police Coast Guard were notified. Information of the incident was shared with the Indonesian authorities.\\n\",\n  {'entities': [(169, 189, 'BOARDED'),\n    (718, 739, 'BOARDED'),\n    (718, 740, 'BOARDED')]}),\n ('Officer on Watch (OOW) discovered presence of a robber on board when the ship was berthing and raised alarm. On hearing the alarm, robber immediately escaped the vessel.  5 drums of paint were reported stolen.  There was no reported injury to the crew.',\n  {'entities': [(48, 63, 'BOARDED'), (48, 68, 'BOARDED')]}),\n ('Seven robbers armed with knives in a boat approached the anchored general cargo ship. Two robbers managed to board the ship. Upon seeing the duty crew approaching, the robbers fled. Incident reported to local authority.',\n  {'entities': [(98, 114, 'BOARDED')]}),\n ('Pirates hijacked the dhow taking all crew members hostage. The pirates sailed the dhow 40NM NW of Bosasso, Somalia',\n  {'entities': [(8, 16, 'BOARDED'),\n    (8, 16, 'HIJACKED'),\n    (50, 57, 'BOARDED'),\n    (50, 57, 'HOSTAGES_TAKEN')]}),\n ('The ship was hijacked when it was en route from Um Al Quwain, United Arab Emirates, to Berbera, Somalia and 16 crew members were taken hostage',\n  {'entities': [(13, 21, 'BOARDED'),\n    (13, 21, 'HIJACKED'),\n    (135, 142, 'BOARDED'),\n    (135, 142, 'HOSTAGES_TAKEN')]}),\n ('Two robbers in a speedboat and armed with guns and long knives boarded the ship, while underway. They forced open the wheelhouse STBD sliding door and when spotted by alert duty A/B, they escaped empty handed',\n  {'entities': [(51, 70, 'BOARDED')]}),\n ('Armed robbers boarded the ship, while at anchor and when spotted, jumped overboard and escaped',\n  {'entities': [(0, 21, 'BOARDED'),\n    (6, 21, 'BOARDED'),\n    (6, 25, 'BOARDED'),\n    (66, 82, 'BOARDED')]}),\n ('The dhow was hijacked by seven pirates armed with automatic weapons while underway.  14 crewmembers were taken hostage. Coalition Forces assisted in the rescue of the dhow, which was released without payment of ransom on 15 July 2009',\n  {'entities': [(13, 21, 'BOARDED'),\n    (13, 21, 'HIJACKED'),\n    (111, 118, 'BOARDED'),\n    (111, 118, 'HOSTAGES_TAKEN')]}),\n (\"Robbers in two wooden boats approached and boarded an anchored ship, stole ship's properties and escaped. Alarm raised and extra lookouts posted. Incident reported to Port Control and the Ghana Authorities boarded the ship for investigation.\",\n  {'entities': [(28, 50, 'BOARDED'), (188, 213, 'BOARDED')]}),\n ('Three robbers armed with knives boarded the ship from a speedboat, while at anchor and later fled',\n  {'entities': [(20, 39, 'BOARDED')]}),\n ('Duty watchman sighted four robbers cutting mooring ropes, while at anchor.  When he tried to stop them, he was assaulted.  The D/O raised alarm and the robbers jumped overboard with the ropes and escaped in a boat',\n  {'entities': [(111, 120, 'CREW_ASSAULTED'),\n    (152, 176, 'BOARDED'),\n    (160, 176, 'BOARDED')]}),\n (\"Robbers armed with guns, pistols and daggers boarded ship, while underway. They held Master, C/O and six crew members hostage at gunpoint and escaped with cash and crew's personal belongings. There were no injuries to crew\",\n  {'entities': [(33, 52, 'BOARDED'),\n    (118, 125, 'BOARDED'),\n    (118, 125, 'HOSTAGES_TAKEN')]}),\n (\"Five robbers in a canoe approached an anchored vessel during heavy rain. One of the robbers boarded the vessel and stole the ship's stores. C/O on watch noticed the robber with a long knife on the main deck and raised the alarm. Crew mustered and shouted at the robber who jumped overboard and escaped with his accomplices. The incident was reported to the local police and port authorities.\",\n  {'entities': [(80, 99, 'BOARDED'),\n    (84, 99, 'BOARDED'),\n    (84, 103, 'BOARDED'),\n    (273, 289, 'BOARDED')]}),\n ('At anchorage, six to eight pirates, armed with long and short knives were detected by the Quartermaster in the process of stealing mooring ropes. They threatened him but left when he blew his whistle',\n  {'entities': [(122, 138, 'BOARDED')]}),\n ('6 armed followers opened fire at the vessel and boarded it.\\n(ASG Cmdr Minting with 20 armed followers – also suspected to have been involved in the incident)\\n',\n  {'entities': [(37, 55, 'BOARDED')]}),\n ('While at anchor, the ship was boarded by six armed robbers, who were described as well dressed and wearing gloves and masks.  They ransacked several cabins and held the chief engineer and his wife at gunpoint',\n  {'entities': [(21, 37, 'BOARDED')]}),\n ('While berthed, Sri Lankan armed robbers boarded the ferry and exploded a bomb',\n  {'entities': [(26, 47, 'BOARDED'),\n    (32, 47, 'BOARDED'),\n    (32, 51, 'BOARDED')]}),\n ('While underway from New Zealand to an island in the Indian Ocean, the yacht was attacked and hijacked by Somali pirates. They held the four members of crew as hostage, demanding a ransom',\n  {'entities': [(93, 101, 'BOARDED'),\n    (93, 101, 'HIJACKED'),\n    (159, 166, 'BOARDED'),\n    (159, 166, 'HOSTAGES_TAKEN')]}),\n ('Indonesian-registered tug boat Brahma 12 towing barge, Anand 12 loaded with 7,000 metric tons of coal departed Kalimantan, Indonesia for a power plant in Batangas, Philippines when 17 persons armed with firearms boarded the tug boat. They cast off the barge, hijacked the tug and took its 10 crew members as hostage. The tug was later abandoned off Languyan Island, Philippines and 10 crew members kidnapped.  The tug was ransacked and all communication equipment onboard was damaged. The Philippines Police have taken custody of the tug and are presently investigating the case. On 01.04.2016, the missing barge was located by Malaysian Maritime Enforcement Agency (MMEA) and it was towed to a safe port for investigation. The Philippine Coast Guard (PCG) reported that the 10 crew members who were kidnapped had been released on 1 May 16.  ',\n  {'entities': [(55, 70, 'BOARDED'),\n    (198, 219, 'BOARDED'),\n    (259, 267, 'BOARDED'),\n    (259, 267, 'HIJACKED'),\n    (308, 315, 'BOARDED'),\n    (308, 315, 'HOSTAGES_TAKEN'),\n    (398, 407, 'BOARDED'),\n    (398, 407, 'HOSTAGES_TAKEN'),\n    (800, 809, 'BOARDED'),\n    (800, 809, 'HOSTAGES_TAKEN')]}),\n ('Three robbers armed with long knives approached and boarded the anchored ship. The robbers took hostage the O/S on duty. Duty A/B who saw the incident informed the OOW. Alarm was raised and crew were alerted. The shore security onboard the ship managed to convince the robbers to free the O/S. All crew were safe and nothing was stolen.',\n  {'entities': [(37, 59, 'BOARDED'),\n    (96, 103, 'BOARDED'),\n    (96, 103, 'HOSTAGES_TAKEN')]}),\n (\"Unnoticed, robbers managed to board an anchored tanker, stole engine spare's and escaped. The theft was noticed during routine rounds when the ship's crew noticed the store room door was opened and engine spares were missing.\",\n  {'entities': [(19, 35, 'BOARDED')]}),\n (\"Two armed robbers boarded the yacht at anchor and assaulted two crewmembers. Robbers stole ship's property, cash and crew's personal belongings before escaping.  The two injured crew were given shore medical treatment.  Authorities are investigating\",\n  {'entities': [(4, 25, 'BOARDED'),\n    (10, 25, 'BOARDED'),\n    (10, 29, 'BOARDED'),\n    (50, 59, 'CREW_ASSAULTED'),\n    (77, 90, 'BOARDED')]}),\n ('Pirates boarded the ship',\n  {'entities': [(0, 15, 'BOARDED'), (0, 19, 'BOARDED')]}),\n (\"About ten armed pirates boarded the ship. They held nearly the entire crew hostage in the Messroom and pilfered some of the twenty-two containers they had opened. The Master was guided down with a gun on his head and ordered to open the ship's safe. Pi\",\n  {'entities': [(10, 31, 'BOARDED'),\n    (16, 31, 'BOARDED'),\n    (16, 35, 'BOARDED'),\n    (75, 82, 'BOARDED'),\n    (75, 82, 'HOSTAGES_TAKEN')]}),\n (\"Robbers in two boats, pretending to be fishermen, approached the ship at anchor. OOW instructed the duty A/B to investigate. The robbers stole ship's stores and escaped\",\n  {'entities': [(129, 142, 'BOARDED')]}),\n ('Robbers boarded the ship unnoticed, at berth.  The 3rd Engineer noticed the boat store was not locked, moreover some electrical spares were missing.  The crew were alerted and a thorough inspection was carried out.  All doors/stores were found to be secured.  It was suspected that the robbers could have boarded via the stern mooring rope.  One shore security guard was constantly on duty',\n  {'entities': [(0, 15, 'BOARDED'),\n    (0, 19, 'BOARDED'),\n    (294, 312, 'BOARDED')]}),\n (\"Three robbers wearing masks and armed with long knives in a speed boat boarded the tug towing a barge enroute from Labuan to Kota Kinabalu. The robbers  took hostage the duty oiler from the engine room and took him to the bridge. They took hostage all six crew members, tied them up and damaged all the communication equipment. Later they ransacked the cabins. Robbers stole cash and crew's personal belongings and escaped \",\n  {'entities': [(60, 78, 'BOARDED'),\n    (158, 165, 'BOARDED'),\n    (158, 165, 'HOSTAGES_TAKEN'),\n    (240, 247, 'BOARDED'),\n    (240, 247, 'HOSTAGES_TAKEN'),\n    (361, 374, 'BOARDED')]}),\n (\"Eight armed pirates in a speed boat chased the tanker underway. The tanker raised alarm, made evasive manoeuvres, sent distress message and activated the SSAS alert.  The pirates manoeuvred alongside the tanker, and boarded using a long ladder. The crew cut off the power in the tanker and retreated into the citadel. After around five hours the crew emerged and noticed the pirates had used sledge hammers to break into stores and cabins. Tanker's communication equipment was also destroyed. The crew managed to start the emergency generators and other necessary machinery, informed the owners and sailed the tanker to Lagos.\",\n  {'entities': [(210, 223, 'BOARDED'), (410, 420, 'BOARDED')]}),\n ('Eight robbers armed with knives and guns boarded the ship at anchor. Robbers threatened the deck watch keepers, took their handheld radios and gathered all crew in the Chief Officers’ cabin. Robbers wounded the Master and threatened the Chief Engineer and Chief Officer and forced them to open the safety box\\n',\n  {'entities': [(32, 48, 'BOARDED')]}),\n ('Duty crew on routine rounds onboard an anchored ship noticed two unauthorised persons on deck and raised the alarm resulting in the persons escaping with stolen ship’s properties. Incident reported to local authorities.',\n  {'entities': [(132, 148, 'BOARDED')]}),\n (\"Two robbers boarded the anchored product tanker. The alarm was raised and crew mustered. Upon seeing the crew alertness, the robbers fled with stolen ship's stores.\",\n  {'entities': [(0, 19, 'BOARDED'), (4, 19, 'BOARDED'), (4, 23, 'BOARDED')]}),\n ('Five robbers armed with knives boarded the ship at berth. Robbers threatened one of the deck crew and took his walkie talkie to disable communication between deck watch and the bridge. Shore duty watchman raised alarm and robbers escape with stores',\n  {'entities': [(19, 38, 'BOARDED'), (222, 236, 'BOARDED')]}),\n ('Two robbers boarded a barge under tow and stole stores. Earlier four robbers in a boat had made two attempts to board at 0630 and 0930 LT',\n  {'entities': [(0, 19, 'BOARDED'), (4, 19, 'BOARDED'), (4, 21, 'BOARDED')]}),\n (\"Five robbers armed with knives boarded the berthed bulk carrier during cargo operations. They were spotted by the crew who raised the alarm in response. Upon seeing the alertness of the crew, the robbers fled. A search was conducted, following which it was determined that padlocks at the boatswain store rooms damaged, some of the ship's stores and crew's personal belongings had been stolen.\",\n  {'entities': [(19, 38, 'BOARDED')]}),\n (\"Robbers boarded the ship at anchor and escaped with ship's stores. Bosun discovered the theft at 0810 LT, when he noticed the padlock of the forward store was damaged  \",\n  {'entities': [(0, 15, 'BOARDED'), (0, 19, 'BOARDED')]}),\n ('Pirates stole equipment from the vessel.  A police report was lodged',\n  {'entities': [(0, 13, 'BOARDED')]}),\n ('Four pirates, armed with iron bars, boarded the ship and started throwing stones at the assistant mate. The sailor called for help by using his walkie-talkie',\n  {'entities': [(30, 43, 'BOARDED')]}),\n (\"Four armed pirates boarded the ship. Two crew members on deck watch and five watchmen were threatened at gunpoint and taken hostage. The pirates, then, demanded to be shown the way to the captain's cabin where he was ordered at gunpoint to open the sa\",\n  {'entities': [(5, 26, 'BOARDED'),\n    (11, 26, 'BOARDED'),\n    (11, 30, 'BOARDED'),\n    (124, 131, 'BOARDED'),\n    (124, 131, 'HOSTAGES_TAKEN')]}),\n (\"While underway, a chemical tanker reported to Singapore VTIS that three perpetrators were sighted at the stern main deck of the ship. The ship alarm was raised and the crew conducted a search for the perpetrators on board \\nthe ship. At 0045 hrs, the master updated Singapore VTIS that the search was completed with no further sighting of the perpetrators .Nothing was stolen. The crew was safe with no injury. A safety navigational roadcast \\nwas initiated. The Republic of Singapore Navy's (RSN) Maritime Security Task Force (MSTF) and Singapore Police Coast Guard were notified. Information of the incident was shared with the Indonesian authorities.\\nThe ship departed the port of Singapore and was bound for Ningbo, China.\\n\\n\",\n  {'entities': [(200, 221, 'BOARDED'), (200, 223, 'BOARDED')]}),\n ('Five robbers armed with long knives boarded the ship, while at anchor.  They tied up two crew members and threatened them with knives.  They stole engine spares and escaped in a speedboat',\n  {'entities': [(24, 43, 'BOARDED')]}),\n (\"Robbers broke into the Master's cabin, while berthed and escaped with cash from the ship's safe\",\n  {'entities': [(0, 18, 'BOARDED'), (8, 18, 'BOARDED')]}),\n (\"One robber armed with a gun boarded the ship, while at anchor. He threatened duty A/B and stole ship's stores\",\n  {'entities': [(22, 35, 'BOARDED')]}),\n ('Robbers armed with long knives boarded the ship while at anchor and escaped when spotted',\n  {'entities': [(19, 38, 'BOARDED')]}),\n ('Five armed pirates attacked the fishing vessel and kidnapped one crew member.  They are demanding a ransom from the owners for the release of the crew member',\n  {'entities': [(51, 60, 'BOARDED'), (51, 60, 'HOSTAGES_TAKEN')]}),\n (\"Whilst anchored, robbers armed with knives boarded the ship from the starboard side when the duty watchman was taking rounds on the port side. As the duty watchman came to the starboard side the robbers threatened him with knives. Robbers stole ship's stores and escaped. Local authorities informed\\n\",\n  {'entities': [(31, 50, 'BOARDED'), (231, 244, 'BOARDED')]}),\n ('Two robbers armed with knives boarded the ship at forecastle, while at anchor and escaped with their loot when spotted by alert duty officer',\n  {'entities': [(18, 37, 'BOARDED')]}),\n ('Two robbers armed with knives boarded the ship from poop deck, while at anchor and escaped when spotted by the duty crew',\n  {'entities': [(18, 37, 'BOARDED')]}),\n (\"Four robbers boarded the vessel with knives and axes and stole the ship's property from the forecastle store.  The Duty Offcer raised the alarm.  The robbers also tried to steal the mooring rope, but weren't successful.  After 15 mins the robbers escaped in a wooden boat waiting nearby\",\n  {'entities': [(0, 20, 'BOARDED'),\n    (5, 20, 'BOARDED'),\n    (5, 24, 'BOARDED'),\n    (239, 254, 'BOARDED')]}),\n ('While sailing, five robbers armed with knives and machetes were spotted on board. The Chief Engineer was held hostage in the engine room by the robbers.  Two boats were sighted in the vicinity of the ship.  Some time later, the master reported that there was no further sighting of robbers on board. No injuries to the crew.',\n  {'entities': [(110, 117, 'BOARDED'),\n    (110, 117, 'HOSTAGES_TAKEN'),\n    (282, 298, 'BOARDED'),\n    (282, 299, 'BOARDED')]}),\n (\"While underway, four unauthorised persons were sighted on board the barge that was towed by a tug boat. Four small crafts were sighted alongside the barge. The master reported the incident to Singapore Vessel Traffic Information System (VTIS) West.  The  alarm was raised and the perpetrators escaped. The master reported that some scrap metal was stolen from the barge. The crew was safe and accounted for. No assistance was required; and the tug boat and barge resumed their voyage to Penang, Malaysia.\\n\\nA safety navigational broadcast was initiated. The Republic of Singapore Navy's (RSN) Maritime Security Task Force (MSTF) and Singapore Police Coast Guard were notified. Information of the incident was shared with Malaysian authorities.\\n\\n\\n\\n\",\n  {'entities': [(280, 300, 'BOARDED')]}),\n (\"Five robbers armed with long knives and axes boarded ship after dropping outward pilot, while underway and entered bridge. They took duty A/B and C/O hostage, broke into ship's safe and escaped with their loot in a four-metre speedboat. No injuries to crew\",\n  {'entities': [(36, 52, 'BOARDED'),\n    (150, 157, 'BOARDED'),\n    (150, 157, 'HOSTAGES_TAKEN'),\n    (159, 169, 'BOARDED')]}),\n (\"Crew onboard the anchored offshore support vessel spotted robbers armed with crow bars and raised the alarm. Upon seeing the alerted crew the robbers fled with stolen ship's stores. Local authority contacted. A security team boarded the ship for investigations.\",\n  {'entities': [(211, 232, 'BOARDED')]}),\n (\"Twenty robbers in two boats approached the ship preparing to anchor. Two of them boarded at stern and stole ship's stores. Alert crew raised alarm and robbers escaped. 45 mins later another ten robbers in one boat approached and boarded the ship again. They escaped with their loot\",\n  {'entities': [(73, 88, 'BOARDED'),\n    (151, 166, 'BOARDED'),\n    (214, 236, 'BOARDED')]}),\n ('Five robbers armed with long knives boarded the ship at anchor. The robbers threatened the crew with knives. They stole machinery spares and escaped\\n',\n  {'entities': [(24, 43, 'BOARDED')]}),\n ('While underway, pirates boarded the ship and entered the bridge. They tied up the duty officer and the third officer',\n  {'entities': [(14, 31, 'BOARDED'),\n    (16, 31, 'BOARDED'),\n    (16, 35, 'BOARDED')]}),\n (\"Three pirates wearing hoods and armed with guns boarded the tug towing a barge. The pirates took hostage four crewmembers, tied their hands and locked them in Master's cabin. The four crewmembers freed themselves and found that the other seven crewmembers were missing and later abandoned the vessel. The four crew reached ashore in a life raft after two hours and the Vietnam authorities took them in for investigation. The tug was later found at the coastal waters of Can Tho and the barge was found with the cargo off Con Dao island. Seven crew were still missing\",\n  {'entities': [(38, 55, 'BOARDED'),\n    (97, 104, 'BOARDED'),\n    (97, 104, 'HOSTAGES_TAKEN')]}),\n ('Robbers boarded the ship via hawse pipe, while at anchor. When spotted, they jumped overboard and escaped',\n  {'entities': [(0, 15, 'BOARDED'), (0, 19, 'BOARDED'), (77, 93, 'BOARDED')]}),\n ('Pirates hijacked the Dhow\\n\\n',\n  {'entities': [(8, 16, 'BOARDED'), (8, 16, 'HIJACKED')]}),\n ('While at anchor, two pirates boarded the ship via the anchor chain hawse pipe and escaped using a canoe when spotted by the crew',\n  {'entities': [(17, 36, 'BOARDED'),\n    (21, 36, 'BOARDED'),\n    (21, 40, 'BOARDED')]}),\n (\"Four suspected robbers in a fast boat approached the berthed ship. One robber managed to board the tanker and steal ship's stores from the forward lockers. Duty crew spotted the robber and raised the alarm. The robber fled as a result. Incident reported to local agents.\",\n  {'entities': [(78, 94, 'BOARDED')]}),\n ('Four robbers armed with knives boarded the berthed ship during a formality inspection by the immigration and customs department. Bosun noticed the robbers boarding the ship from the seaward side using ropes and hooks. One of the robbers was proceeding aft towards the accommodation. Bosun reported to master and chief officer via walkie talkie and alarm was raised. On seeing the alert crew, the robber on deck ran towards the bosun waving his knife. All four robbers jumped overboard and escaped with their three accomplices waiting in the boat. Port authority was informed and a coast guard boat was dispatched to search the area.',\n  {'entities': [(19, 38, 'BOARDED'),\n    (147, 163, 'BOARDED'),\n    (147, 167, 'BOARDED'),\n    (460, 484, 'BOARDED'),\n    (468, 484, 'BOARDED')]}),\n ('Four armed robbers boarded the ship, while at anchor. When spotted by duty watchman and crew mustered, they jumped overboard and escaped in a high-speed boat with their loot. Port Authority was informed through pilot station',\n  {'entities': [(5, 26, 'BOARDED'),\n    (11, 26, 'BOARDED'),\n    (11, 30, 'BOARDED'),\n    (108, 124, 'BOARDED')]}),\n (\"Robbers boarded the anchored ship unnoticed. They stole the ship's stores and escaped.\",\n  {'entities': [(0, 15, 'BOARDED'), (0, 19, 'BOARDED')]}),\n ('Armed pirates in a skiff boarded and hijacked the ship underway. They took 21 crew hostage and sailed the ship towards the Somali coast ',\n  {'entities': [(17, 32, 'BOARDED'),\n    (37, 45, 'BOARDED'),\n    (37, 45, 'HIJACKED'),\n    (83, 90, 'BOARDED'),\n    (83, 90, 'HOSTAGES_TAKEN')]}),\n ('Two robbers boarded the ship at anchor. Duty crew spotted the robbers and raised the alarm. The robbers jumped overboard and escaped in a small wooden boat with two other accomplices',\n  {'entities': [(0, 19, 'BOARDED'),\n    (4, 19, 'BOARDED'),\n    (4, 23, 'BOARDED'),\n    (96, 120, 'BOARDED'),\n    (104, 120, 'BOARDED')]}),\n ('Two robbers armed with big knives in a 10-metre boat boarded the yacht, while at anchor. The skipper informed IMB Piracy Centre who in turn alerted the local authorities. The Marine Police arrived at the scene within 45 minutes but the robbers had escaped with their loot',\n  {'entities': [(42, 60, 'BOARDED')]}),\n (\"While underway, the chief engineer sighted four perpetrators in the engine room on the 2nd deck level. One of the perpetrators was armed with a knife about 50 cm long. The chief engineer reported to the master about the unauthorised boarding. The perpetrators escaped upon activation of ship's alarm and deck lightings. The crew was mustered at the bridge and a search conducted on board. All crew was safe and nothing was stolen. The ship departed Singapore for Majishan, China.\",\n  {'entities': [(247, 267, 'BOARDED')]}),\n ('A speedboat with five pirates wearing camouflage uniforms approached the tug. Two pirates boarded the tug and took hostage the duty Bosun and held him face down at knife point. Master raised the alarm and all crew mustered. Seeing the alert crew, the pirates left the tug without stealing anything.',\n  {'entities': [(78, 97, 'BOARDED'),\n    (82, 97, 'BOARDED'),\n    (82, 101, 'BOARDED'),\n    (115, 122, 'BOARDED'),\n    (115, 122, 'HOSTAGES_TAKEN')]}),\n ('Two robbers boarded an anchored ship using a hook attached to a rope. The Duty Officer and the armed security guard noticed the robbers on the forecastle deck. The armed guard fired a warning shot resulting in the robbers escaping. Upon conducting a search, ship stores were reported stolen. MRCC Nigeria informed.',\n  {'entities': [(0, 19, 'BOARDED'),\n    (4, 19, 'BOARDED'),\n    (4, 22, 'BOARDED'),\n    (214, 230, 'BOARDED')]}),\n ('Pirates attacked and hijacked the ship underway. The pirates sailed the ship to the Somalii coast ',\n  {'entities': [(21, 29, 'BOARDED'), (21, 29, 'HIJACKED')]}),\n ('Five robbers armed with guns boarded an anchored ship. They entered into the engine room, took hostage the duty oiler, tied him and blind folded him.  They stole engine spares and escaped.  The duty oiler managed to free himself and informed the Watch Officer who raised the alarm and crew mustered.  Master reported the incident to Pilot Station. The Indonesian Marine Police boarded the ship for investigation.',\n  {'entities': [(19, 36, 'BOARDED'),\n    (95, 102, 'BOARDED'),\n    (95, 102, 'HOSTAGES_TAKEN')]}),\n ('While at anchor, armed robbers boarded the ship',\n  {'entities': [(17, 38, 'BOARDED'),\n    (23, 38, 'BOARDED'),\n    (23, 42, 'BOARDED')]})]"
     },
     "execution_count": 222,
     "metadata": {},
     "output_type": "execute_result"
    }
   ],
   "source": [
    "TRAIN_DATA"
   ],
   "metadata": {
    "collapsed": false,
    "ExecuteTime": {
     "end_time": "2024-03-16T20:54:10.461500Z",
     "start_time": "2024-03-16T20:54:10.433426Z"
    }
   },
   "id": "e2b5b07da1a952dd",
   "execution_count": 222
  },
  {
   "cell_type": "code",
   "outputs": [],
   "source": [
    "# Create a custom nlp with ner and our custom tags\n",
    "def create_blank_nlp(train_data):\n",
    "    nlp_blank = spacy.blank('en')\n",
    "    ner = nlp_blank.create_pipe('ner')\n",
    "    nlp_blank.add_pipe('ner', last=True)\n",
    "    ner.add_label('BOARDED')\n",
    "    ner.add_label('HIJACKED')\n",
    "    # for _, annotations in train_data:\n",
    "    #     for end in annotations.get('entities'):\n",
    "    #         ner.add_label(end[2])\n",
    "    return nlp_blank"
   ],
   "metadata": {
    "collapsed": false,
    "ExecuteTime": {
     "end_time": "2024-03-16T20:54:11.685576Z",
     "start_time": "2024-03-16T20:54:11.683081Z"
    }
   },
   "id": "b5fd9939a1417acc",
   "execution_count": 223
  },
  {
   "cell_type": "code",
   "outputs": [],
   "source": [
    "# nlp_test = create_blank_nlp(TRAIN_DATA)"
   ],
   "metadata": {
    "collapsed": false,
    "ExecuteTime": {
     "end_time": "2024-03-16T20:54:13.138090Z",
     "start_time": "2024-03-16T20:54:13.001356Z"
    }
   },
   "id": "bd9c51c750c47432",
   "execution_count": 224
  },
  {
   "cell_type": "code",
   "outputs": [
    {
     "ename": "ValueError",
     "evalue": "[E103] Trying to set conflicting doc.ents: '(0, 21, 'BOARDED')' and '(6, 21, 'BOARDED')'. A token can only be part of one entity, so make sure the entities you're setting don't overlap. To work with overlapping entities, consider using doc.spans instead.",
     "output_type": "error",
     "traceback": [
      "\u001B[0;31m---------------------------------------------------------------------------\u001B[0m",
      "\u001B[0;31mValueError\u001B[0m                                Traceback (most recent call last)",
      "Cell \u001B[0;32mIn[225], line 17\u001B[0m\n\u001B[1;32m     15\u001B[0m     \u001B[38;5;28;01mfor\u001B[39;00m i \u001B[38;5;129;01min\u001B[39;00m \u001B[38;5;28mrange\u001B[39m(\u001B[38;5;28mlen\u001B[39m(texts)):\n\u001B[1;32m     16\u001B[0m         doc \u001B[38;5;241m=\u001B[39m nlp_ner\u001B[38;5;241m.\u001B[39mmake_doc(texts[i])\n\u001B[0;32m---> 17\u001B[0m         example\u001B[38;5;241m.\u001B[39mappend(Example\u001B[38;5;241m.\u001B[39mfrom_dict(doc, annotations[i]))\n\u001B[1;32m     19\u001B[0m     nlp_ner\u001B[38;5;241m.\u001B[39mupdate(\n\u001B[1;32m     20\u001B[0m         example,\n\u001B[1;32m     21\u001B[0m         drop\u001B[38;5;241m=\u001B[39m\u001B[38;5;241m0.1\u001B[39m,       \u001B[38;5;66;03m# Dropout: makes it harder to memorize data\u001B[39;00m\n\u001B[1;32m     22\u001B[0m         losses\u001B[38;5;241m=\u001B[39mlosses\n\u001B[1;32m     23\u001B[0m     )\n\u001B[1;32m     24\u001B[0m \u001B[38;5;66;03m# Print result of each iteration\u001B[39;00m\n",
      "File \u001B[0;32m~/anaconda3/lib/python3.11/site-packages/spacy/training/example.pyx:128\u001B[0m, in \u001B[0;36mspacy.training.example.Example.from_dict\u001B[0;34m()\u001B[0m\n",
      "File \u001B[0;32m~/anaconda3/lib/python3.11/site-packages/spacy/training/example.pyx:34\u001B[0m, in \u001B[0;36mspacy.training.example.annotations_to_doc\u001B[0;34m()\u001B[0m\n",
      "File \u001B[0;32m~/anaconda3/lib/python3.11/site-packages/spacy/training/example.pyx:509\u001B[0m, in \u001B[0;36mspacy.training.example._add_entities_to_doc\u001B[0;34m()\u001B[0m\n",
      "File \u001B[0;32m~/anaconda3/lib/python3.11/site-packages/spacy/training/iob_utils.py:114\u001B[0m, in \u001B[0;36moffsets_to_biluo_tags\u001B[0;34m(doc, entities, missing)\u001B[0m\n\u001B[1;32m    112\u001B[0m \u001B[38;5;28;01mfor\u001B[39;00m token_index \u001B[38;5;129;01min\u001B[39;00m \u001B[38;5;28mrange\u001B[39m(start_char, end_char):\n\u001B[1;32m    113\u001B[0m     \u001B[38;5;28;01mif\u001B[39;00m token_index \u001B[38;5;129;01min\u001B[39;00m tokens_in_ents\u001B[38;5;241m.\u001B[39mkeys():\n\u001B[0;32m--> 114\u001B[0m         \u001B[38;5;28;01mraise\u001B[39;00m \u001B[38;5;167;01mValueError\u001B[39;00m(\n\u001B[1;32m    115\u001B[0m             Errors\u001B[38;5;241m.\u001B[39mE103\u001B[38;5;241m.\u001B[39mformat(\n\u001B[1;32m    116\u001B[0m                 span1\u001B[38;5;241m=\u001B[39m(\n\u001B[1;32m    117\u001B[0m                     tokens_in_ents[token_index][\u001B[38;5;241m0\u001B[39m],\n\u001B[1;32m    118\u001B[0m                     tokens_in_ents[token_index][\u001B[38;5;241m1\u001B[39m],\n\u001B[1;32m    119\u001B[0m                     tokens_in_ents[token_index][\u001B[38;5;241m2\u001B[39m],\n\u001B[1;32m    120\u001B[0m                 ),\n\u001B[1;32m    121\u001B[0m                 span2\u001B[38;5;241m=\u001B[39m(start_char, end_char, label),\n\u001B[1;32m    122\u001B[0m             )\n\u001B[1;32m    123\u001B[0m         )\n\u001B[1;32m    124\u001B[0m     tokens_in_ents[token_index] \u001B[38;5;241m=\u001B[39m (start_char, end_char, label)\n\u001B[1;32m    125\u001B[0m start_token \u001B[38;5;241m=\u001B[39m starts\u001B[38;5;241m.\u001B[39mget(start_char)\n",
      "\u001B[0;31mValueError\u001B[0m: [E103] Trying to set conflicting doc.ents: '(0, 21, 'BOARDED')' and '(6, 21, 'BOARDED')'. A token can only be part of one entity, so make sure the entities you're setting don't overlap. To work with overlapping entities, consider using doc.spans instead."
     ]
    }
   ],
   "source": [
    "# Create training loop to train a new model\n",
    "from datetime import datetime as dt\n",
    "from spacy.util import minibatch, compounding\n",
    "from spacy.training import Example\n",
    "\n",
    "# nlp_ner = create_blank_nlp(TRAIN_DATA)\n",
    "# optimizer = nlp_ner.begin_training()\n",
    "# for i in range(20):\n",
    "#     batches = minibatch(TRAIN_DATA, size=compounding(4.0, 32.0, 1.001))\n",
    "#     losses = {}\n",
    "#     for batch in batches:\n",
    "#         texts, annotations = zip(*batch)\n",
    "#         example = []\n",
    "#         \n",
    "#         for i in range(len(texts)):\n",
    "#             doc = nlp_ner.make_doc(texts[i])\n",
    "#             example.append(Example.from_dict(doc, annotations[i]))\n",
    "#         \n",
    "#         nlp_ner.update(\n",
    "#             example,\n",
    "#             drop=0.1,       # Dropout: makes it harder to memorize data\n",
    "#             losses=losses\n",
    "#         )\n",
    "#     # Print result of each iteration\n",
    "#     print(f'Losses at iteration {i}: {dt.now()}, {losses}')"
   ],
   "metadata": {
    "collapsed": false,
    "ExecuteTime": {
     "end_time": "2024-03-16T20:54:14.279398Z",
     "start_time": "2024-03-16T20:54:14.066422Z"
    }
   },
   "id": "9ce60c1a60f7fcb4",
   "execution_count": 225
  },
  {
   "cell_type": "code",
   "outputs": [
    {
     "data": {
      "text/plain": "[('ner', <spacy.pipeline.ner.EntityRecognizer at 0x2b5f89bd0>)]"
     },
     "execution_count": 217,
     "metadata": {},
     "output_type": "execute_result"
    }
   ],
   "source": [
    "nlp_ner.pipeline"
   ],
   "metadata": {
    "collapsed": false,
    "ExecuteTime": {
     "end_time": "2024-03-16T20:51:48.650707Z",
     "start_time": "2024-03-16T20:51:48.648126Z"
    }
   },
   "id": "a3d4c6c46c2b4609",
   "execution_count": 217
  },
  {
   "cell_type": "code",
   "outputs": [
    {
     "data": {
      "text/plain": "<IPython.core.display.HTML object>",
      "text/html": "<span class=\"tex2jax_ignore\"><div class=\"entities\" style=\"line-height: 2.5; direction: ltr\">Three robbers armed with \n<mark class=\"entity\" style=\"background: #ddd; padding: 0.45em 0.6em; margin: 0 0.25em; line-height: 1; border-radius: 0.35em;\">\n    long knives boarded\n    <span style=\"font-size: 0.8em; font-weight: bold; line-height: 1; border-radius: 0.35em; vertical-align: middle; margin-left: 0.5rem\">BOARDED</span>\n</mark>\n an anchored tanker during heavy rain. They entered the engine room, threatened the duty engineer and stole ship's engine spares. Incident reported to the OOW who raised the alarm resulting in the \n<mark class=\"entity\" style=\"background: #ddd; padding: 0.45em 0.6em; margin: 0 0.25em; line-height: 1; border-radius: 0.35em;\">\n    robbers escaping\n    <span style=\"font-size: 0.8em; font-weight: bold; line-height: 1; border-radius: 0.35em; vertical-align: middle; margin-left: 0.5rem\">BOARDED</span>\n</mark>\n in a waiting boat along with two accomplices. Incident reported to VTS.</div></span>"
     },
     "metadata": {},
     "output_type": "display_data"
    }
   ],
   "source": [
    "doc = nlp_ner(boarded_example)\n",
    "displacy.render(doc, style='ent')"
   ],
   "metadata": {
    "collapsed": false,
    "ExecuteTime": {
     "end_time": "2024-03-16T20:51:52.712248Z",
     "start_time": "2024-03-16T20:51:52.704478Z"
    }
   },
   "id": "bd45b6926910819e",
   "execution_count": 218
  },
  {
   "cell_type": "code",
   "outputs": [
    {
     "name": "stderr",
     "output_type": "stream",
     "text": [
      "/Users/derykclary/anaconda3/lib/python3.11/site-packages/spacy/displacy/__init__.py:213: UserWarning: [W006] No entities to visualize found in Doc object. If this is surprising to you, make sure the Doc was processed using a model that supports named entity recognition, and check the `doc.ents` property manually if necessary.\n",
      "  warnings.warn(Warnings.W006)\n"
     ]
    },
    {
     "data": {
      "text/plain": "<IPython.core.display.HTML object>",
      "text/html": "<span class=\"tex2jax_ignore\"><div class=\"entities\" style=\"line-height: 2.5; direction: ltr\">Pirates hijacked the vessel taking 14 crew members hostage. Owners hired a private aircraft to search for the ship and spotted the ship heading North towards the Somali coast</div></span>"
     },
     "metadata": {},
     "output_type": "display_data"
    }
   ],
   "source": [
    "hijack_example = \"Pirates hijacked the vessel taking 14 crew members hostage. Owners hired a private aircraft to search for the ship and spotted the ship heading North towards the Somali coast\"\n",
    "doc = nlp_ner(hijack_example)\n",
    "displacy.render(doc, style='ent')"
   ],
   "metadata": {
    "collapsed": false,
    "ExecuteTime": {
     "end_time": "2024-03-16T20:51:56.946341Z",
     "start_time": "2024-03-16T20:51:56.938749Z"
    }
   },
   "id": "8c78f348b4e235d8",
   "execution_count": 219
  },
  {
   "cell_type": "markdown",
   "source": [
    "### Another pivot to SpanCat.\n",
    "Ran into a problem where entities couldn't overlap. We need them to be able to overlap because 'hijacking' also means the ship was 'boarded'.\n",
    "And here.we.go."
   ],
   "metadata": {
    "collapsed": false
   },
   "id": "276a9f1e7d4d05b"
  },
  {
   "cell_type": "code",
   "outputs": [
    {
     "name": "stdout",
     "output_type": "stream",
     "text": [
      "Boarded Total: 500 - Train:  375 - Dev: 75 - Test: 50\n"
     ]
    }
   ],
   "source": [
    "shuffled_df = list(training_data[['Incident_details','Boarded_label', 'Hijacked_label']]\n",
    "                   .sample(frac=1).itertuples(index=False, name=None))\n",
    "\n",
    "# Split out data into training (75%), dev (15%), test (10%)\n",
    "train_data = shuffled_df[:375]\n",
    "dev_data = shuffled_df[375:450]\n",
    "test_data = shuffled_df[450:500]\n",
    "\n",
    "# Print lengths\n",
    "print(f\"Boarded Total: {len(shuffled_df)} - Train:  {len(train_data)} - Dev: {len(dev_data)} - Test: {len(test_data)}\")"
   ],
   "metadata": {
    "collapsed": false,
    "ExecuteTime": {
     "end_time": "2024-03-17T17:38:18.257115Z",
     "start_time": "2024-03-17T17:38:18.253440Z"
    }
   },
   "id": "4782a38b63509813",
   "execution_count": 240
  },
  {
   "cell_type": "code",
   "outputs": [
    {
     "name": "stdout",
     "output_type": "stream",
     "text": [
      "('Robbers boarded and hijacked tug, while underway and threw overboard ten crewmembers. A passing tug rescued one crew member and the fate of the remaining nine crewmembers is unknown', 1, 1)\n",
      "('Pirates hijacked the ship underway \\ntaking 25 crewmembers hostage. The ship was sailed to the Somali coast', 1, 1)\n",
      "train = 18, dev = 2, test = 3\n"
     ]
    }
   ],
   "source": [
    "# Make sure we have enough hijacked examples in each category\n",
    "train = dev = test = 0\n",
    "for tup in train_data:\n",
    "    if tup[2] == 1:\n",
    "        train += 1\n",
    "for tup in dev_data:\n",
    "    if tup[2] == 1:\n",
    "        # print(tup)\n",
    "        dev += 1\n",
    "for tup in test_data:\n",
    "    if tup[2] == 1:\n",
    "        test += 1\n",
    "print(f'{train = }, {dev = }, {test = }')"
   ],
   "metadata": {
    "collapsed": false,
    "ExecuteTime": {
     "end_time": "2024-03-17T17:38:18.817037Z",
     "start_time": "2024-03-17T17:38:18.814545Z"
    }
   },
   "id": "3cee0702b31948e6",
   "execution_count": 241
  },
  {
   "cell_type": "code",
   "outputs": [
    {
     "name": "stdout",
     "output_type": "stream",
     "text": [
      "Train saved\n",
      "Dev saved\n",
      "Test saved\n"
     ]
    }
   ],
   "source": [
    "# Add spans with our custom tags to all our texts\n",
    "# Texts must be doc objects then we can add spans\n",
    "# Transform data to binary file (DocBin) in Spacy_Files folder\n",
    "from spacy.tokens import Span\n",
    "\n",
    "def convert(data_list, outfile):\n",
    "    db = spacy.tokens.DocBin()\n",
    "\n",
    "    # Assign boarded/hijacked categories (cats) to docs\n",
    "    for tup in data_list:\n",
    "        # Convert text to doc\n",
    "        doc = nlp(tup[0])\n",
    "\n",
    "        # Assign span cats based on matcher\n",
    "        matches = matcher(doc)\n",
    "        \n",
    "        # Add spans with labels to doc\n",
    "        doc.spans['sc'] = [Span(doc, start, end, label=nlp.vocab.strings[match_id]) \n",
    "                           for match_id, start, end in matches]\n",
    "        \n",
    "        # Print resulting spans to test\n",
    "        # for span in doc.spans['sc']:\n",
    "        #     print(span.text, span.start, span.label_)\n",
    "        \n",
    "        db.add(doc)\n",
    "\n",
    "    # Save DocBin at outfile's path\n",
    "    db.to_disk(outfile)\n",
    "    # return db\n",
    "\n",
    "# Test function\n",
    "# convert(train_data, '')\n",
    "\n",
    "# Convert all 3 datasets to DocBins\n",
    "# convert(train_data, './Spacy_Files/train.spacy')\n",
    "# print('Train saved')\n",
    "# convert(dev_data, './Spacy_Files/dev.spacy')\n",
    "# print('Dev saved')\n",
    "# convert(test_data, './Spacy_Files/test.spacy')\n",
    "# print('Test saved')"
   ],
   "metadata": {
    "collapsed": false,
    "ExecuteTime": {
     "end_time": "2024-03-17T17:42:06.701520Z",
     "start_time": "2024-03-17T17:42:03.390041Z"
    }
   },
   "id": "6afebd8d5fd25d06",
   "execution_count": 245
  },
  {
   "cell_type": "code",
   "outputs": [],
   "source": [
    "# Initialize config file for spancat training\n",
    "# !python -m spacy init fill-config ./Spacy_Files/sc_base_config.cfg ./Spacy_Files/sc_config.cfg --diff"
   ],
   "metadata": {
    "collapsed": false
   },
   "id": "13507236893bf98b",
   "execution_count": null
  },
  {
   "cell_type": "code",
   "outputs": [
    {
     "name": "stdout",
     "output_type": "stream",
     "text": [
      "[2024-03-17 10:55:28,808] [DEBUG] Config overrides from CLI: ['paths.train', 'paths.dev']\r\n",
      "\u001B[38;5;4mℹ Saving to output directory: Spacy_Files/model\u001B[0m\r\n",
      "\u001B[38;5;4mℹ Using CPU\u001B[0m\r\n",
      "\u001B[38;5;4mℹ To switch to GPU 0, use the option: --gpu-id 0\u001B[0m\r\n",
      "\u001B[1m\r\n",
      "=========================== Initializing pipeline ===========================\u001B[0m\r\n",
      "[2024-03-17 10:55:28,948] [INFO] Set up nlp object from config\r\n",
      "[2024-03-17 10:55:28,957] [DEBUG] Loading corpus from path: Spacy_Files/dev.spacy\r\n",
      "[2024-03-17 10:55:28,959] [DEBUG] Loading corpus from path: Spacy_Files/train.spacy\r\n",
      "[2024-03-17 10:55:28,959] [INFO] Pipeline: ['tok2vec', 'spancat']\r\n",
      "[2024-03-17 10:55:28,961] [INFO] Created vocabulary\r\n",
      "[2024-03-17 10:55:29,762] [INFO] Added vectors: en_core_web_md\r\n",
      "[2024-03-17 10:55:29,762] [INFO] Finished initializing nlp object\r\n",
      "[2024-03-17 10:55:31,293] [INFO] Initialized pipeline components: ['tok2vec', 'spancat']\r\n",
      "\u001B[38;5;2m✔ Initialized pipeline\u001B[0m\r\n",
      "\u001B[1m\r\n",
      "============================= Training pipeline =============================\u001B[0m\r\n",
      "[2024-03-17 10:55:31,305] [DEBUG] Loading corpus from path: Spacy_Files/dev.spacy\r\n",
      "[2024-03-17 10:55:31,306] [DEBUG] Loading corpus from path: Spacy_Files/train.spacy\r\n",
      "[2024-03-17 10:55:31,309] [DEBUG] Removed existing output directory: Spacy_Files/model/model-last\r\n",
      "\u001B[38;5;4mℹ Pipeline: ['tok2vec', 'spancat']\u001B[0m\r\n",
      "\u001B[38;5;4mℹ Initial learn rate: 0.001\u001B[0m\r\n",
      "E    #       LOSS TOK2VEC  LOSS SPANCAT  SPANS_SC_F  SPANS_SC_P  SPANS_SC_R  SCORE \r\n",
      "---  ------  ------------  ------------  ----------  ----------  ----------  ------\r\n",
      "  0       0          4.61        167.62        0.16        0.08        1.75    0.00\r\n",
      "  1     200          3.03        523.88       80.63      100.00       67.54    0.81\r\n",
      "  2     400          0.05        287.39       81.95       92.31       73.68    0.82\r\n",
      "  4     600          0.01        305.19       84.00       97.67       73.68    0.84\r\n",
      "  6     800          0.04        335.76       87.04       92.16       82.46    0.87\r\n",
      "  8    1000          0.06        251.51       89.20       95.96       83.33    0.89\r\n",
      " 12    1200          0.04        247.04       92.09       98.02       86.84    0.92\r\n",
      " 16    1400          0.01        157.12       93.02       99.01       87.72    0.93\r\n",
      " 21    1600          0.00        195.04       93.02       99.01       87.72    0.93\r\n",
      " 27    1800          0.04        265.45       93.02       99.01       87.72    0.93\r\n",
      " 34    2000          0.06        300.98       92.59       98.04       87.72    0.93\r\n",
      " 44    2200          0.10        398.38       93.02       99.01       87.72    0.93\r\n",
      " 55    2400          0.00        389.87       93.52       99.02       88.60    0.94\r\n",
      " 67    2600          0.00        397.01       93.52       99.02       88.60    0.94\r\n",
      " 79    2800          0.01        395.01       93.02       99.01       87.72    0.93\r\n",
      " 90    3000          0.00        375.99       93.02       99.01       87.72    0.93\r\n",
      "102    3200          0.00        375.19       93.02       99.01       87.72    0.93\r\n",
      "114    3400          0.00        358.30       92.59       98.04       87.72    0.93\r\n",
      "126    3600          0.00        349.96       92.59       98.04       87.72    0.93\r\n",
      "137    3800          0.04        356.93       92.31       95.33       89.47    0.92\r\n",
      "149    4000          0.05        338.91       93.02       99.01       87.72    0.93\r\n",
      "\u001B[38;5;2m✔ Saved pipeline to output directory\u001B[0m\r\n",
      "Spacy_Files/model/model-last\r\n"
     ]
    }
   ],
   "source": [
    "# Initiate training using command line and config file downloaded from spacy.io\n",
    "# !python -m spacy train ./Spacy_Files/sc_config.cfg --paths.train ./Spacy_Files/train.spacy --paths.dev ./Spacy_Files/dev.spacy --output ./Spacy_Files/model --verbose"
   ],
   "metadata": {
    "collapsed": false,
    "ExecuteTime": {
     "end_time": "2024-03-17T19:07:18.065069Z",
     "start_time": "2024-03-17T17:55:27.578773Z"
    }
   },
   "id": "49dfddc815b50ca5",
   "execution_count": 250
  },
  {
   "cell_type": "code",
   "outputs": [
    {
     "name": "stdout",
     "output_type": "stream",
     "text": [
      "\u001B[38;5;4mℹ Using CPU\u001B[0m\r\n",
      "\u001B[38;5;4mℹ To switch to GPU 0, use the option: --gpu-id 0\u001B[0m\r\n",
      "\u001B[1m\r\n",
      "================================== Results ==================================\u001B[0m\r\n",
      "\r\n",
      "TOK      100.00\r\n",
      "SPAN P   97.30 \r\n",
      "SPAN R   92.31 \r\n",
      "SPAN F   94.74 \r\n",
      "SPEED    1778  \r\n",
      "\r\n",
      "\u001B[1m\r\n",
      "============================== SPANS (per type) ==============================\u001B[0m\r\n",
      "\r\n",
      "                      P        R        F\r\n",
      "BOARDED           96.88    92.54    94.66\r\n",
      "HOSTAGES_TAKEN   100.00    87.50    93.33\r\n",
      "HIJACKED         100.00   100.00   100.00\r\n",
      "\r\n"
     ]
    }
   ],
   "source": [
    "# Evaluate the model based on the test data\n",
    "# !python -m spacy evaluate ./Spacy_Files/model/model-best/ ./Spacy_Files/test.spacy"
   ],
   "metadata": {
    "collapsed": false,
    "ExecuteTime": {
     "end_time": "2024-03-17T19:08:43.540297Z",
     "start_time": "2024-03-17T19:08:39.200643Z"
    }
   },
   "id": "75d42b64251baf3",
   "execution_count": 251
  },
  {
   "cell_type": "code",
   "outputs": [],
   "source": [
    "# Load our new model\n",
    "nlp_custom = spacy.load('./Spacy_Files/model/model-best')"
   ],
   "metadata": {
    "collapsed": false,
    "ExecuteTime": {
     "end_time": "2024-03-17T21:10:58.777046Z",
     "start_time": "2024-03-17T21:10:57.965018Z"
    }
   },
   "id": "a8aac0b0f5ce41fe",
   "execution_count": 15
  },
  {
   "cell_type": "code",
   "outputs": [
    {
     "ename": "NameError",
     "evalue": "name 'hijack_example' is not defined",
     "output_type": "error",
     "traceback": [
      "\u001B[0;31m---------------------------------------------------------------------------\u001B[0m",
      "\u001B[0;31mNameError\u001B[0m                                 Traceback (most recent call last)",
      "Cell \u001B[0;32mIn[16], line 1\u001B[0m\n\u001B[0;32m----> 1\u001B[0m displacy\u001B[38;5;241m.\u001B[39mrender(nlp_custom(hijack_example), style\u001B[38;5;241m=\u001B[39m\u001B[38;5;124m'\u001B[39m\u001B[38;5;124mspan\u001B[39m\u001B[38;5;124m'\u001B[39m)\n",
      "\u001B[0;31mNameError\u001B[0m: name 'hijack_example' is not defined"
     ]
    }
   ],
   "source": [
    "displacy.render(nlp_custom(hijack_example), style='span')"
   ],
   "metadata": {
    "collapsed": false,
    "ExecuteTime": {
     "end_time": "2024-03-17T21:11:00.089217Z",
     "start_time": "2024-03-17T21:11:00.052478Z"
    }
   },
   "id": "136d2d591a361a61",
   "execution_count": 16
  },
  {
   "cell_type": "code",
   "outputs": [
    {
     "data": {
      "text/plain": "<IPython.core.display.HTML object>",
      "text/html": "<span class=\"tex2jax_ignore\"><div class=\"spans\" style=\"line-height: 2.5; direction: ltr\">Three robbers armed with \n<span style=\"font-weight: bold; display: inline-block; position: relative; height: 60px;\">\n    long\n    \n<span style=\"background: #ddd; top: 40px; height: 4px; left: -1px; width: calc(100% + 2px); position: absolute;\">\n</span>\n\n    \n<span style=\"background: #ddd; top: 40px; height: 4px; border-top-left-radius: 3px; border-bottom-left-radius: 3px; left: -1px; width: calc(100% + 2px); position: absolute;\">\n    <span style=\"background: #ddd; z-index: 10; color: #000; top: -0.5em; padding: 2px 3px; position: absolute; font-size: 0.6em; font-weight: bold; line-height: 1; border-radius: 3px\">\n        BOARDED\n    </span>\n</span>\n\n\n</span>\n\n<span style=\"font-weight: bold; display: inline-block; position: relative; height: 60px;\">\n    knives\n    \n<span style=\"background: #ddd; top: 40px; height: 4px; left: -1px; width: calc(100% + 2px); position: absolute;\">\n</span>\n\n    \n</span>\n\n<span style=\"font-weight: bold; display: inline-block; position: relative; height: 60px;\">\n    boarded\n    \n<span style=\"background: #ddd; top: 40px; height: 4px; left: -1px; width: calc(100% + 2px); position: absolute;\">\n</span>\n\n    \n</span>\nan anchored tanker during heavy rain . They entered the engine room , threatened the duty engineer and stole ship 's engine spares . Incident reported to the OOW who raised the alarm resulting in the \n<span style=\"font-weight: bold; display: inline-block; position: relative; height: 60px;\">\n    robbers\n    \n<span style=\"background: #ddd; top: 40px; height: 4px; left: -1px; width: calc(100% + 2px); position: absolute;\">\n</span>\n\n    \n<span style=\"background: #ddd; top: 40px; height: 4px; border-top-left-radius: 3px; border-bottom-left-radius: 3px; left: -1px; width: calc(100% + 2px); position: absolute;\">\n    <span style=\"background: #ddd; z-index: 10; color: #000; top: -0.5em; padding: 2px 3px; position: absolute; font-size: 0.6em; font-weight: bold; line-height: 1; border-radius: 3px\">\n        BOARDED\n    </span>\n</span>\n\n\n</span>\n\n<span style=\"font-weight: bold; display: inline-block; position: relative; height: 60px;\">\n    escaping\n    \n<span style=\"background: #ddd; top: 40px; height: 4px; left: -1px; width: calc(100% + 2px); position: absolute;\">\n</span>\n\n    \n</span>\nin a waiting boat along with two accomplices . Incident reported to VTS . </div></span>"
     },
     "metadata": {},
     "output_type": "display_data"
    }
   ],
   "source": [
    "displacy.render(nlp_custom(boarded_example), style='span')"
   ],
   "metadata": {
    "collapsed": false,
    "ExecuteTime": {
     "end_time": "2024-03-17T19:11:19.186617Z",
     "start_time": "2024-03-17T19:11:19.137512Z"
    }
   },
   "id": "7540e9d5e78db671",
   "execution_count": 254
  },
  {
   "cell_type": "code",
   "outputs": [
    {
     "data": {
      "text/plain": "<IPython.core.display.HTML object>",
      "text/html": "<span class=\"tex2jax_ignore\"><div class=\"spans\" style=\"line-height: 2.5; direction: ltr\">Three robbers armed with \n<span style=\"font-weight: bold; display: inline-block; position: relative; height: 60px;\">\n    long\n    \n<span style=\"background: #ddd; top: 40px; height: 4px; left: -1px; width: calc(100% + 2px); position: absolute;\">\n</span>\n\n    \n<span style=\"background: #ddd; top: 40px; height: 4px; border-top-left-radius: 3px; border-bottom-left-radius: 3px; left: -1px; width: calc(100% + 2px); position: absolute;\">\n    <span style=\"background: #ddd; z-index: 10; color: #000; top: -0.5em; padding: 2px 3px; position: absolute; font-size: 0.6em; font-weight: bold; line-height: 1; border-radius: 3px\">\n        BOARDED\n    </span>\n</span>\n\n\n</span>\n\n<span style=\"font-weight: bold; display: inline-block; position: relative; height: 60px;\">\n    knives\n    \n<span style=\"background: #ddd; top: 40px; height: 4px; left: -1px; width: calc(100% + 2px); position: absolute;\">\n</span>\n\n    \n</span>\n\n<span style=\"font-weight: bold; display: inline-block; position: relative; height: 60px;\">\n    boarded\n    \n<span style=\"background: #ddd; top: 40px; height: 4px; left: -1px; width: calc(100% + 2px); position: absolute;\">\n</span>\n\n    \n</span>\nan anchored tanker during heavy rain . They entered the engine room , threatened the duty engineer and stole ship 's engine spares . Incident reported to the OOW who raised the alarm resulting in the \n<span style=\"font-weight: bold; display: inline-block; position: relative; height: 60px;\">\n    robbers\n    \n<span style=\"background: #ddd; top: 40px; height: 4px; left: -1px; width: calc(100% + 2px); position: absolute;\">\n</span>\n\n    \n<span style=\"background: #ddd; top: 40px; height: 4px; border-top-left-radius: 3px; border-bottom-left-radius: 3px; left: -1px; width: calc(100% + 2px); position: absolute;\">\n    <span style=\"background: #ddd; z-index: 10; color: #000; top: -0.5em; padding: 2px 3px; position: absolute; font-size: 0.6em; font-weight: bold; line-height: 1; border-radius: 3px\">\n        BOARDED\n    </span>\n</span>\n\n\n</span>\n\n<span style=\"font-weight: bold; display: inline-block; position: relative; height: 60px;\">\n    escaping\n    \n<span style=\"background: #ddd; top: 40px; height: 4px; left: -1px; width: calc(100% + 2px); position: absolute;\">\n</span>\n\n    \n</span>\nin a waiting boat along with two accomplices . Incident reported to VTS . </div></span>"
     },
     "metadata": {},
     "output_type": "display_data"
    }
   ],
   "source": [
    "none_example = \"Three robbers armed with long knives boarded an anchored tanker during heavy rain. They entered the engine room, threatened the duty engineer and stole ship's engine spares. Incident reported to the OOW who raised the alarm resulting in the robbers escaping in a waiting boat along with two accomplices. Incident reported to VTS.\"\n",
    "displacy.render(nlp_custom(none_example), style='span')"
   ],
   "metadata": {
    "collapsed": false,
    "ExecuteTime": {
     "end_time": "2024-03-17T21:18:18.761342Z",
     "start_time": "2024-03-17T21:18:18.695731Z"
    }
   },
   "id": "efbfe66262c818b2",
   "execution_count": 26
  },
  {
   "cell_type": "code",
   "outputs": [
    {
     "name": "stdout",
     "output_type": "stream",
     "text": [
      "True\n"
     ]
    },
    {
     "data": {
      "text/plain": "   Index    IMO No.  Boarded_label  Hijacked_label  Hostages_taken_label  \\\n0   1867  9138264.0              0               0                   0.0   \n1   7516  9439113.0              0               0                   NaN   \n2   8414  9498949.0              1               0                   NaN   \n3   1027  9019030.0              0               0                   NaN   \n4   1794  9003392.0              0               0                   NaN   \n5   6553  9295270.0              1               0                   NaN   \n6   7267  9428683.0              1               0                   NaN   \n7   1276  8818207.0              0               0                   NaN   \n8   1448  8018015.0              1               0                   NaN   \n9   3547        NaN              1               1                   NaN   \n\n   Crew_assaulted_label  Interesting_label  \\\n0                   0.0                  0   \n1                   NaN                  1   \n2                   NaN                  0   \n3                   NaN                  1   \n4                   NaN                  0   \n5                   NaN                  1   \n6                   NaN                  0   \n7                   NaN                  1   \n8                   NaN                  0   \n9                   NaN                  0   \n\n                                    Incident_details  BOARDED  HIJACKED  \\\n0  A small wooden boat with four pirates approach...        0         0   \n1  Two robbers in a wooden boat came alongside an...        0         0   \n2  Three robbers armed with long knives boarded a...        1         0   \n3  A pirate boat attempted to board the ship whil...        0         0   \n4  Two boats were spotted near the anchor chain e...        0         0   \n5  While underway, the duty engineer spotted five...        0         0   \n6  Three robbers boarded the anchored product tan...        1         0   \n7  Pirates in two speed boats attempted to board ...        0         0   \n8  Five robbers armed with long knives and guns b...        1         0   \n9  Twelve pirates armed with rifles and pistols a...        1         1   \n\n   HOSTAGES_TAKEN  CREW_ASSAULTED  \n0               0               0  \n1               0               0  \n2               0               0  \n3               0               0  \n4               0               0  \n5               0               0  \n6               0               0  \n7               0               0  \n8               0               0  \n9               0               0  ",
      "text/html": "<div>\n<style scoped>\n    .dataframe tbody tr th:only-of-type {\n        vertical-align: middle;\n    }\n\n    .dataframe tbody tr th {\n        vertical-align: top;\n    }\n\n    .dataframe thead th {\n        text-align: right;\n    }\n</style>\n<table border=\"1\" class=\"dataframe\">\n  <thead>\n    <tr style=\"text-align: right;\">\n      <th></th>\n      <th>Index</th>\n      <th>IMO No.</th>\n      <th>Boarded_label</th>\n      <th>Hijacked_label</th>\n      <th>Hostages_taken_label</th>\n      <th>Crew_assaulted_label</th>\n      <th>Interesting_label</th>\n      <th>Incident_details</th>\n      <th>BOARDED</th>\n      <th>HIJACKED</th>\n      <th>HOSTAGES_TAKEN</th>\n      <th>CREW_ASSAULTED</th>\n    </tr>\n  </thead>\n  <tbody>\n    <tr>\n      <th>0</th>\n      <td>1867</td>\n      <td>9138264.0</td>\n      <td>0</td>\n      <td>0</td>\n      <td>0.0</td>\n      <td>0.0</td>\n      <td>0</td>\n      <td>A small wooden boat with four pirates approach...</td>\n      <td>0</td>\n      <td>0</td>\n      <td>0</td>\n      <td>0</td>\n    </tr>\n    <tr>\n      <th>1</th>\n      <td>7516</td>\n      <td>9439113.0</td>\n      <td>0</td>\n      <td>0</td>\n      <td>NaN</td>\n      <td>NaN</td>\n      <td>1</td>\n      <td>Two robbers in a wooden boat came alongside an...</td>\n      <td>0</td>\n      <td>0</td>\n      <td>0</td>\n      <td>0</td>\n    </tr>\n    <tr>\n      <th>2</th>\n      <td>8414</td>\n      <td>9498949.0</td>\n      <td>1</td>\n      <td>0</td>\n      <td>NaN</td>\n      <td>NaN</td>\n      <td>0</td>\n      <td>Three robbers armed with long knives boarded a...</td>\n      <td>1</td>\n      <td>0</td>\n      <td>0</td>\n      <td>0</td>\n    </tr>\n    <tr>\n      <th>3</th>\n      <td>1027</td>\n      <td>9019030.0</td>\n      <td>0</td>\n      <td>0</td>\n      <td>NaN</td>\n      <td>NaN</td>\n      <td>1</td>\n      <td>A pirate boat attempted to board the ship whil...</td>\n      <td>0</td>\n      <td>0</td>\n      <td>0</td>\n      <td>0</td>\n    </tr>\n    <tr>\n      <th>4</th>\n      <td>1794</td>\n      <td>9003392.0</td>\n      <td>0</td>\n      <td>0</td>\n      <td>NaN</td>\n      <td>NaN</td>\n      <td>0</td>\n      <td>Two boats were spotted near the anchor chain e...</td>\n      <td>0</td>\n      <td>0</td>\n      <td>0</td>\n      <td>0</td>\n    </tr>\n    <tr>\n      <th>5</th>\n      <td>6553</td>\n      <td>9295270.0</td>\n      <td>1</td>\n      <td>0</td>\n      <td>NaN</td>\n      <td>NaN</td>\n      <td>1</td>\n      <td>While underway, the duty engineer spotted five...</td>\n      <td>0</td>\n      <td>0</td>\n      <td>0</td>\n      <td>0</td>\n    </tr>\n    <tr>\n      <th>6</th>\n      <td>7267</td>\n      <td>9428683.0</td>\n      <td>1</td>\n      <td>0</td>\n      <td>NaN</td>\n      <td>NaN</td>\n      <td>0</td>\n      <td>Three robbers boarded the anchored product tan...</td>\n      <td>1</td>\n      <td>0</td>\n      <td>0</td>\n      <td>0</td>\n    </tr>\n    <tr>\n      <th>7</th>\n      <td>1276</td>\n      <td>8818207.0</td>\n      <td>0</td>\n      <td>0</td>\n      <td>NaN</td>\n      <td>NaN</td>\n      <td>1</td>\n      <td>Pirates in two speed boats attempted to board ...</td>\n      <td>0</td>\n      <td>0</td>\n      <td>0</td>\n      <td>0</td>\n    </tr>\n    <tr>\n      <th>8</th>\n      <td>1448</td>\n      <td>8018015.0</td>\n      <td>1</td>\n      <td>0</td>\n      <td>NaN</td>\n      <td>NaN</td>\n      <td>0</td>\n      <td>Five robbers armed with long knives and guns b...</td>\n      <td>1</td>\n      <td>0</td>\n      <td>0</td>\n      <td>0</td>\n    </tr>\n    <tr>\n      <th>9</th>\n      <td>3547</td>\n      <td>NaN</td>\n      <td>1</td>\n      <td>1</td>\n      <td>NaN</td>\n      <td>NaN</td>\n      <td>0</td>\n      <td>Twelve pirates armed with rifles and pistols a...</td>\n      <td>1</td>\n      <td>1</td>\n      <td>0</td>\n      <td>0</td>\n    </tr>\n  </tbody>\n</table>\n</div>"
     },
     "execution_count": 46,
     "metadata": {},
     "output_type": "execute_result"
    }
   ],
   "source": [
    "# Apply new nlp to our data and put into dataframe using model_interpreter function\n",
    "training_data = model_interpreter(training_data, 'Incident_details', nlp_custom)\n",
    "training_data.head(10)"
   ],
   "metadata": {
    "collapsed": false,
    "ExecuteTime": {
     "end_time": "2024-03-17T21:35:45.056894Z",
     "start_time": "2024-03-17T21:35:29.416704Z"
    }
   },
   "id": "f921fd3e51fae7bd",
   "execution_count": 46
  },
  {
   "cell_type": "code",
   "outputs": [
    {
     "name": "stdout",
     "output_type": "stream",
     "text": [
      "1 total false negatives.\n"
     ]
    },
    {
     "ename": "NameError",
     "evalue": "name 'matcher' is not defined",
     "output_type": "error",
     "traceback": [
      "\u001B[0;31m---------------------------------------------------------------------------\u001B[0m",
      "\u001B[0;31mNameError\u001B[0m                                 Traceback (most recent call last)",
      "Cell \u001B[0;32mIn[41], line 7\u001B[0m\n\u001B[1;32m      5\u001B[0m \u001B[38;5;66;03m# Print all false negatives\u001B[39;00m\n\u001B[1;32m      6\u001B[0m \u001B[38;5;28mprint\u001B[39m(\u001B[38;5;124mf\u001B[39m\u001B[38;5;124m'\u001B[39m\u001B[38;5;132;01m{\u001B[39;00m\u001B[38;5;28mlen\u001B[39m(false_negative)\u001B[38;5;132;01m}\u001B[39;00m\u001B[38;5;124m total false negatives.\u001B[39m\u001B[38;5;124m'\u001B[39m)\n\u001B[0;32m----> 7\u001B[0m html_print(html_generator((nlp(i) \u001B[38;5;28;01mfor\u001B[39;00m i \u001B[38;5;129;01min\u001B[39;00m false_negative), matcher\u001B[38;5;241m=\u001B[39mmatcher, n\u001B[38;5;241m=\u001B[39m\u001B[38;5;28mlen\u001B[39m(false_negative)))\n",
      "\u001B[0;31mNameError\u001B[0m: name 'matcher' is not defined"
     ]
    }
   ],
   "source": [
    "# Find all false negatives\n",
    "false_negative = (training_data.loc[lambda d: d['Boarded_label'] == 1]\n",
    "                               .loc[lambda d: d['BOARDED'] == 0]['Incident_details'])\n",
    "\n",
    "# Print all false negatives\n",
    "print(f'{len(false_negative)} total false negatives.')\n",
    "html_print(html_generator((nlp(i) for i in false_negative), matcher=matcher, n=len(false_negative)))"
   ],
   "metadata": {
    "collapsed": false,
    "ExecuteTime": {
     "end_time": "2024-03-17T21:34:22.140833Z",
     "start_time": "2024-03-17T21:34:22.101535Z"
    }
   },
   "id": "94a3d6ef31c41c4a",
   "execution_count": 41
  },
  {
   "cell_type": "code",
   "outputs": [],
   "source": [
    "# Find all false positives\n",
    "false_positive = (training_data.loc[lambda d: d['Boarded_label'] == 0]\n",
    "                               .loc[lambda d: d['BOARDED'] == 1]['Incident_details'])\n",
    "\n",
    "# Print false positives using html_print and html_generator functions\n",
    "print(f'{len(false_positive)} total false positives.')\n",
    "html_print(html_generator((nlp(i) for i in false_positive), matcher=matcher, n=len(false_positive)))"
   ],
   "metadata": {
    "collapsed": false
   },
   "id": "720b3fdd5c3dc1fe"
  },
  {
   "cell_type": "code",
   "outputs": [
    {
     "data": {
      "text/plain": "array([[173,   2],\n       [ 17, 308]])"
     },
     "execution_count": 47,
     "metadata": {},
     "output_type": "execute_result"
    }
   ],
   "source": [
    "# Make confusion matrix\n",
    "confusion_matrix(training_data['Boarded_label'], training_data['BOARDED'])"
   ],
   "metadata": {
    "collapsed": false,
    "ExecuteTime": {
     "end_time": "2024-03-17T21:35:56.025798Z",
     "start_time": "2024-03-17T21:35:55.999501Z"
    }
   },
   "id": "41d8c2176d0399c6",
   "execution_count": 47
  },
  {
   "cell_type": "code",
   "outputs": [
    {
     "name": "stdout",
     "output_type": "stream",
     "text": [
      "              precision    recall  f1-score   support\n",
      "\n",
      "           0       0.91      0.99      0.95       175\n",
      "           1       0.99      0.95      0.97       325\n",
      "\n",
      "    accuracy                           0.96       500\n",
      "   macro avg       0.95      0.97      0.96       500\n",
      "weighted avg       0.96      0.96      0.96       500\n"
     ]
    }
   ],
   "source": [
    "# Boarded performance report\n",
    "print(classification_report(training_data['Boarded_label'], training_data['BOARDED']))"
   ],
   "metadata": {
    "collapsed": false,
    "ExecuteTime": {
     "end_time": "2024-03-17T21:36:00.310563Z",
     "start_time": "2024-03-17T21:36:00.282544Z"
    }
   },
   "id": "7d13bad875c35a45",
   "execution_count": 48
  },
  {
   "cell_type": "code",
   "outputs": [
    {
     "data": {
      "text/plain": "array([[474,   3],\n       [  1,  22]])"
     },
     "execution_count": 49,
     "metadata": {},
     "output_type": "execute_result"
    }
   ],
   "source": [
    "# Hijacked confusion matrix\n",
    "confusion_matrix(training_data['Hijacked_label'], training_data['HIJACKED'])"
   ],
   "metadata": {
    "collapsed": false,
    "ExecuteTime": {
     "end_time": "2024-03-17T21:36:03.773010Z",
     "start_time": "2024-03-17T21:36:03.747260Z"
    }
   },
   "id": "440e4aaea0676857",
   "execution_count": 49
  },
  {
   "cell_type": "code",
   "outputs": [
    {
     "name": "stdout",
     "output_type": "stream",
     "text": [
      "              precision    recall  f1-score   support\n",
      "\n",
      "           0       1.00      0.99      1.00       477\n",
      "           1       0.88      0.96      0.92        23\n",
      "\n",
      "    accuracy                           0.99       500\n",
      "   macro avg       0.94      0.98      0.96       500\n",
      "weighted avg       0.99      0.99      0.99       500\n"
     ]
    }
   ],
   "source": [
    "# Hijacked performance report\n",
    "print(classification_report(training_data['Hijacked_label'], training_data['HIJACKED']))"
   ],
   "metadata": {
    "collapsed": false,
    "ExecuteTime": {
     "end_time": "2024-03-17T21:36:07.981690Z",
     "start_time": "2024-03-17T21:36:07.954840Z"
    }
   },
   "id": "2aedcbf83c3d6f4",
   "execution_count": 50
  },
  {
   "cell_type": "code",
   "outputs": [
    {
     "data": {
      "text/plain": "           Date          Ship Name             Ship Type  IMO No.  \\\n0    1994-07-22  PAVELS STERNBERGS                Reefer  7362366   \n1    1994-09-09           BONSELLA                   NaN      NaN   \n2    1994-10-23            SIBOELF  Ore/Bulk/oil carrier  9011935   \n3    1994-10-26       TROPICAL SUN                   NaN      NaN   \n4    1994-11-17             ANOMIS                   NaN  7233711   \n...         ...                ...                   ...      ...   \n8551 2024-01-09        CMB Chikako          Bulk carrier  9701190   \n8552 2024-01-12         Solar Roma        Product tanker  9887372   \n8553 2024-01-14      Name Withheld            Oil tanker      NaN   \n8554 2024-01-14      Name Withheld           Supply ship      NaN   \n8555 2024-01-25     Aurora Diamond           Supply ship  9648025   \n\n                       Area      Latitude      Longitude  \\\n0     In territorial waters           NaN            NaN   \n1     In territorial waters           NaN            NaN   \n2              In port area           NaN            NaN   \n3              In port area           NaN            NaN   \n4     In territorial waters           NaN            NaN   \n...                     ...           ...            ...   \n8551  In territorial waters   1° 03.00' N  103° 39.59' E   \n8552           In port area   1° 43.29' N  101° 25.72' E   \n8553           In port area  21° 50.84' N   91° 41.84' E   \n8554           In port area   6° 05.00' S   12° 15.00' E   \n8555           In port area   8° 44.40' S   13° 17.20' E   \n\n                                       Incident details  \\\n0     Ship boarded by seven men armed with big cable...   \n1     Twenty-six bandits posing as Coast Guard hijac...   \n2     6-7 pirates wearing masks, armed with pistols ...   \n3     Ship attacked with mortar shells which fell ab...   \n4     Boat opened fire on ship after trying unsucces...   \n...                                                 ...   \n8551  Five robbers armed with a knife, boarded a shi...   \n8552  Duty security patrol onboard an anchored tanke...   \n8553  D/O onboard an anchored tanker noticed a small...   \n8554  Unnoticed, thieves boarded an anchored offshor...   \n8555  Unauthorised persons boarded an anchored offsh...   \n\n                              Consequences for crew etc  \\\n0     Deck watchman was slightly wounded and some sh...   \n1                         Ship's cargo and money stolen   \n2         Personal belongings and cash stolen from crew   \n3                                                   NaN   \n4                                                     -   \n...                                                 ...   \n8551  The robbers took hostage and tied up one of th...   \n8552                                                Nil   \n8553                                               Nil    \n8554                           Ship’s properties stolen   \n8555                               Ship’s store stolen    \n\n                            Action taken by master/crew  Reported?  \\\n0     Chief officer and other crew members came to t...       True   \n1                                                     -       True   \n2     The watchman saw the pirates and informed term...       True   \n3                                                     -       True   \n4                                                     -       True   \n...                                                 ...        ...   \n8551                     Alarm raised and crew mustered       True   \n8552                                      Alarm raised        True   \n8553                    Alarm raised, and crew mustered       True   \n8554                                                Nil       True   \n8555                           Search light switched on       True   \n\n                             Reported to... Reporting State  \n0     Incident reported to Port Authorities          Latvia  \n1                                       Yes   United States  \n2                         Terminal informed          Norway  \n3                                       Yes   United States  \n4                                       Yes   United States  \n...                                     ...             ...  \n8551                        VTIS Singapore              NaN  \n8552                    Dumai port control              NaN  \n8553           Port control and Coast Guard             NaN  \n8554                                    NaN             NaN  \n8555                          Port control              NaN  \n\n[8556 rows x 13 columns]",
      "text/html": "<div>\n<style scoped>\n    .dataframe tbody tr th:only-of-type {\n        vertical-align: middle;\n    }\n\n    .dataframe tbody tr th {\n        vertical-align: top;\n    }\n\n    .dataframe thead th {\n        text-align: right;\n    }\n</style>\n<table border=\"1\" class=\"dataframe\">\n  <thead>\n    <tr style=\"text-align: right;\">\n      <th></th>\n      <th>Date</th>\n      <th>Ship Name</th>\n      <th>Ship Type</th>\n      <th>IMO No.</th>\n      <th>Area</th>\n      <th>Latitude</th>\n      <th>Longitude</th>\n      <th>Incident details</th>\n      <th>Consequences for crew etc</th>\n      <th>Action taken by master/crew</th>\n      <th>Reported?</th>\n      <th>Reported to...</th>\n      <th>Reporting State</th>\n    </tr>\n  </thead>\n  <tbody>\n    <tr>\n      <th>0</th>\n      <td>1994-07-22</td>\n      <td>PAVELS STERNBERGS</td>\n      <td>Reefer</td>\n      <td>7362366</td>\n      <td>In territorial waters</td>\n      <td>NaN</td>\n      <td>NaN</td>\n      <td>Ship boarded by seven men armed with big cable...</td>\n      <td>Deck watchman was slightly wounded and some sh...</td>\n      <td>Chief officer and other crew members came to t...</td>\n      <td>True</td>\n      <td>Incident reported to Port Authorities</td>\n      <td>Latvia</td>\n    </tr>\n    <tr>\n      <th>1</th>\n      <td>1994-09-09</td>\n      <td>BONSELLA</td>\n      <td>NaN</td>\n      <td>NaN</td>\n      <td>In territorial waters</td>\n      <td>NaN</td>\n      <td>NaN</td>\n      <td>Twenty-six bandits posing as Coast Guard hijac...</td>\n      <td>Ship's cargo and money stolen</td>\n      <td>-</td>\n      <td>True</td>\n      <td>Yes</td>\n      <td>United States</td>\n    </tr>\n    <tr>\n      <th>2</th>\n      <td>1994-10-23</td>\n      <td>SIBOELF</td>\n      <td>Ore/Bulk/oil carrier</td>\n      <td>9011935</td>\n      <td>In port area</td>\n      <td>NaN</td>\n      <td>NaN</td>\n      <td>6-7 pirates wearing masks, armed with pistols ...</td>\n      <td>Personal belongings and cash stolen from crew</td>\n      <td>The watchman saw the pirates and informed term...</td>\n      <td>True</td>\n      <td>Terminal informed</td>\n      <td>Norway</td>\n    </tr>\n    <tr>\n      <th>3</th>\n      <td>1994-10-26</td>\n      <td>TROPICAL SUN</td>\n      <td>NaN</td>\n      <td>NaN</td>\n      <td>In port area</td>\n      <td>NaN</td>\n      <td>NaN</td>\n      <td>Ship attacked with mortar shells which fell ab...</td>\n      <td>NaN</td>\n      <td>-</td>\n      <td>True</td>\n      <td>Yes</td>\n      <td>United States</td>\n    </tr>\n    <tr>\n      <th>4</th>\n      <td>1994-11-17</td>\n      <td>ANOMIS</td>\n      <td>NaN</td>\n      <td>7233711</td>\n      <td>In territorial waters</td>\n      <td>NaN</td>\n      <td>NaN</td>\n      <td>Boat opened fire on ship after trying unsucces...</td>\n      <td>-</td>\n      <td>-</td>\n      <td>True</td>\n      <td>Yes</td>\n      <td>United States</td>\n    </tr>\n    <tr>\n      <th>...</th>\n      <td>...</td>\n      <td>...</td>\n      <td>...</td>\n      <td>...</td>\n      <td>...</td>\n      <td>...</td>\n      <td>...</td>\n      <td>...</td>\n      <td>...</td>\n      <td>...</td>\n      <td>...</td>\n      <td>...</td>\n      <td>...</td>\n    </tr>\n    <tr>\n      <th>8551</th>\n      <td>2024-01-09</td>\n      <td>CMB Chikako</td>\n      <td>Bulk carrier</td>\n      <td>9701190</td>\n      <td>In territorial waters</td>\n      <td>1° 03.00' N</td>\n      <td>103° 39.59' E</td>\n      <td>Five robbers armed with a knife, boarded a shi...</td>\n      <td>The robbers took hostage and tied up one of th...</td>\n      <td>Alarm raised and crew mustered</td>\n      <td>True</td>\n      <td>VTIS Singapore</td>\n      <td>NaN</td>\n    </tr>\n    <tr>\n      <th>8552</th>\n      <td>2024-01-12</td>\n      <td>Solar Roma</td>\n      <td>Product tanker</td>\n      <td>9887372</td>\n      <td>In port area</td>\n      <td>1° 43.29' N</td>\n      <td>101° 25.72' E</td>\n      <td>Duty security patrol onboard an anchored tanke...</td>\n      <td>Nil</td>\n      <td>Alarm raised</td>\n      <td>True</td>\n      <td>Dumai port control</td>\n      <td>NaN</td>\n    </tr>\n    <tr>\n      <th>8553</th>\n      <td>2024-01-14</td>\n      <td>Name Withheld</td>\n      <td>Oil tanker</td>\n      <td>NaN</td>\n      <td>In port area</td>\n      <td>21° 50.84' N</td>\n      <td>91° 41.84' E</td>\n      <td>D/O onboard an anchored tanker noticed a small...</td>\n      <td>Nil</td>\n      <td>Alarm raised, and crew mustered</td>\n      <td>True</td>\n      <td>Port control and Coast Guard</td>\n      <td>NaN</td>\n    </tr>\n    <tr>\n      <th>8554</th>\n      <td>2024-01-14</td>\n      <td>Name Withheld</td>\n      <td>Supply ship</td>\n      <td>NaN</td>\n      <td>In port area</td>\n      <td>6° 05.00' S</td>\n      <td>12° 15.00' E</td>\n      <td>Unnoticed, thieves boarded an anchored offshor...</td>\n      <td>Ship’s properties stolen</td>\n      <td>Nil</td>\n      <td>True</td>\n      <td>NaN</td>\n      <td>NaN</td>\n    </tr>\n    <tr>\n      <th>8555</th>\n      <td>2024-01-25</td>\n      <td>Aurora Diamond</td>\n      <td>Supply ship</td>\n      <td>9648025</td>\n      <td>In port area</td>\n      <td>8° 44.40' S</td>\n      <td>13° 17.20' E</td>\n      <td>Unauthorised persons boarded an anchored offsh...</td>\n      <td>Ship’s store stolen</td>\n      <td>Search light switched on</td>\n      <td>True</td>\n      <td>Port control</td>\n      <td>NaN</td>\n    </tr>\n  </tbody>\n</table>\n<p>8556 rows × 13 columns</p>\n</div>"
     },
     "execution_count": 51,
     "metadata": {},
     "output_type": "execute_result"
    }
   ],
   "source": [
    "piracy_df_imo"
   ],
   "metadata": {
    "collapsed": false,
    "ExecuteTime": {
     "end_time": "2024-03-17T21:38:27.285127Z",
     "start_time": "2024-03-17T21:38:27.257461Z"
    }
   },
   "id": "b4afabdcc310f34e",
   "execution_count": 51
  },
  {
   "cell_type": "code",
   "outputs": [
    {
     "name": "stdout",
     "output_type": "stream",
     "text": [
      "True\n"
     ]
    },
    {
     "data": {
      "text/plain": "           Date          Ship Name             Ship Type  IMO No.  \\\n0    1994-07-22  PAVELS STERNBERGS                Reefer  7362366   \n1    1994-09-09           BONSELLA                   NaN      NaN   \n2    1994-10-23            SIBOELF  Ore/Bulk/oil carrier  9011935   \n3    1994-10-26       TROPICAL SUN                   NaN      NaN   \n4    1994-11-17             ANOMIS                   NaN  7233711   \n...         ...                ...                   ...      ...   \n8551 2024-01-09        CMB Chikako          Bulk carrier  9701190   \n8552 2024-01-12         Solar Roma        Product tanker  9887372   \n8553 2024-01-14      Name Withheld            Oil tanker      NaN   \n8554 2024-01-14      Name Withheld           Supply ship      NaN   \n8555 2024-01-25     Aurora Diamond           Supply ship  9648025   \n\n                       Area      Latitude      Longitude  \\\n0     In territorial waters           NaN            NaN   \n1     In territorial waters           NaN            NaN   \n2              In port area           NaN            NaN   \n3              In port area           NaN            NaN   \n4     In territorial waters           NaN            NaN   \n...                     ...           ...            ...   \n8551  In territorial waters   1° 03.00' N  103° 39.59' E   \n8552           In port area   1° 43.29' N  101° 25.72' E   \n8553           In port area  21° 50.84' N   91° 41.84' E   \n8554           In port area   6° 05.00' S   12° 15.00' E   \n8555           In port area   8° 44.40' S   13° 17.20' E   \n\n                                       Incident details  \\\n0     Ship boarded by seven men armed with big cable...   \n1     Twenty-six bandits posing as Coast Guard hijac...   \n2     6-7 pirates wearing masks, armed with pistols ...   \n3     Ship attacked with mortar shells which fell ab...   \n4     Boat opened fire on ship after trying unsucces...   \n...                                                 ...   \n8551  Five robbers armed with a knife, boarded a shi...   \n8552  Duty security patrol onboard an anchored tanke...   \n8553  D/O onboard an anchored tanker noticed a small...   \n8554  Unnoticed, thieves boarded an anchored offshor...   \n8555  Unauthorised persons boarded an anchored offsh...   \n\n                              Consequences for crew etc  \\\n0     Deck watchman was slightly wounded and some sh...   \n1                         Ship's cargo and money stolen   \n2         Personal belongings and cash stolen from crew   \n3                                                   NaN   \n4                                                     -   \n...                                                 ...   \n8551  The robbers took hostage and tied up one of th...   \n8552                                                Nil   \n8553                                               Nil    \n8554                           Ship’s properties stolen   \n8555                               Ship’s store stolen    \n\n                            Action taken by master/crew  Reported?  \\\n0     Chief officer and other crew members came to t...       True   \n1                                                     -       True   \n2     The watchman saw the pirates and informed term...       True   \n3                                                     -       True   \n4                                                     -       True   \n...                                                 ...        ...   \n8551                     Alarm raised and crew mustered       True   \n8552                                      Alarm raised        True   \n8553                    Alarm raised, and crew mustered       True   \n8554                                                Nil       True   \n8555                           Search light switched on       True   \n\n                             Reported to... Reporting State  BOARDED  \\\n0     Incident reported to Port Authorities          Latvia        0   \n1                                       Yes   United States        1   \n2                         Terminal informed          Norway        0   \n3                                       Yes   United States        0   \n4                                       Yes   United States        0   \n...                                     ...             ...      ...   \n8551                        VTIS Singapore              NaN        1   \n8552                    Dumai port control              NaN        0   \n8553           Port control and Coast Guard             NaN        0   \n8554                                    NaN             NaN        1   \n8555                          Port control              NaN        1   \n\n      HIJACKED  HOSTAGES_TAKEN  CREW_ASSAULTED  \n0            0               0               0  \n1            1               0               0  \n2            0               0               0  \n3            0               0               0  \n4            0               0               0  \n...        ...             ...             ...  \n8551         0               1               0  \n8552         0               0               0  \n8553         0               0               0  \n8554         0               0               0  \n8555         0               0               0  \n\n[8551 rows x 17 columns]",
      "text/html": "<div>\n<style scoped>\n    .dataframe tbody tr th:only-of-type {\n        vertical-align: middle;\n    }\n\n    .dataframe tbody tr th {\n        vertical-align: top;\n    }\n\n    .dataframe thead th {\n        text-align: right;\n    }\n</style>\n<table border=\"1\" class=\"dataframe\">\n  <thead>\n    <tr style=\"text-align: right;\">\n      <th></th>\n      <th>Date</th>\n      <th>Ship Name</th>\n      <th>Ship Type</th>\n      <th>IMO No.</th>\n      <th>Area</th>\n      <th>Latitude</th>\n      <th>Longitude</th>\n      <th>Incident details</th>\n      <th>Consequences for crew etc</th>\n      <th>Action taken by master/crew</th>\n      <th>Reported?</th>\n      <th>Reported to...</th>\n      <th>Reporting State</th>\n      <th>BOARDED</th>\n      <th>HIJACKED</th>\n      <th>HOSTAGES_TAKEN</th>\n      <th>CREW_ASSAULTED</th>\n    </tr>\n  </thead>\n  <tbody>\n    <tr>\n      <th>0</th>\n      <td>1994-07-22</td>\n      <td>PAVELS STERNBERGS</td>\n      <td>Reefer</td>\n      <td>7362366</td>\n      <td>In territorial waters</td>\n      <td>NaN</td>\n      <td>NaN</td>\n      <td>Ship boarded by seven men armed with big cable...</td>\n      <td>Deck watchman was slightly wounded and some sh...</td>\n      <td>Chief officer and other crew members came to t...</td>\n      <td>True</td>\n      <td>Incident reported to Port Authorities</td>\n      <td>Latvia</td>\n      <td>0</td>\n      <td>0</td>\n      <td>0</td>\n      <td>0</td>\n    </tr>\n    <tr>\n      <th>1</th>\n      <td>1994-09-09</td>\n      <td>BONSELLA</td>\n      <td>NaN</td>\n      <td>NaN</td>\n      <td>In territorial waters</td>\n      <td>NaN</td>\n      <td>NaN</td>\n      <td>Twenty-six bandits posing as Coast Guard hijac...</td>\n      <td>Ship's cargo and money stolen</td>\n      <td>-</td>\n      <td>True</td>\n      <td>Yes</td>\n      <td>United States</td>\n      <td>1</td>\n      <td>1</td>\n      <td>0</td>\n      <td>0</td>\n    </tr>\n    <tr>\n      <th>2</th>\n      <td>1994-10-23</td>\n      <td>SIBOELF</td>\n      <td>Ore/Bulk/oil carrier</td>\n      <td>9011935</td>\n      <td>In port area</td>\n      <td>NaN</td>\n      <td>NaN</td>\n      <td>6-7 pirates wearing masks, armed with pistols ...</td>\n      <td>Personal belongings and cash stolen from crew</td>\n      <td>The watchman saw the pirates and informed term...</td>\n      <td>True</td>\n      <td>Terminal informed</td>\n      <td>Norway</td>\n      <td>0</td>\n      <td>0</td>\n      <td>0</td>\n      <td>0</td>\n    </tr>\n    <tr>\n      <th>3</th>\n      <td>1994-10-26</td>\n      <td>TROPICAL SUN</td>\n      <td>NaN</td>\n      <td>NaN</td>\n      <td>In port area</td>\n      <td>NaN</td>\n      <td>NaN</td>\n      <td>Ship attacked with mortar shells which fell ab...</td>\n      <td>NaN</td>\n      <td>-</td>\n      <td>True</td>\n      <td>Yes</td>\n      <td>United States</td>\n      <td>0</td>\n      <td>0</td>\n      <td>0</td>\n      <td>0</td>\n    </tr>\n    <tr>\n      <th>4</th>\n      <td>1994-11-17</td>\n      <td>ANOMIS</td>\n      <td>NaN</td>\n      <td>7233711</td>\n      <td>In territorial waters</td>\n      <td>NaN</td>\n      <td>NaN</td>\n      <td>Boat opened fire on ship after trying unsucces...</td>\n      <td>-</td>\n      <td>-</td>\n      <td>True</td>\n      <td>Yes</td>\n      <td>United States</td>\n      <td>0</td>\n      <td>0</td>\n      <td>0</td>\n      <td>0</td>\n    </tr>\n    <tr>\n      <th>...</th>\n      <td>...</td>\n      <td>...</td>\n      <td>...</td>\n      <td>...</td>\n      <td>...</td>\n      <td>...</td>\n      <td>...</td>\n      <td>...</td>\n      <td>...</td>\n      <td>...</td>\n      <td>...</td>\n      <td>...</td>\n      <td>...</td>\n      <td>...</td>\n      <td>...</td>\n      <td>...</td>\n      <td>...</td>\n    </tr>\n    <tr>\n      <th>8551</th>\n      <td>2024-01-09</td>\n      <td>CMB Chikako</td>\n      <td>Bulk carrier</td>\n      <td>9701190</td>\n      <td>In territorial waters</td>\n      <td>1° 03.00' N</td>\n      <td>103° 39.59' E</td>\n      <td>Five robbers armed with a knife, boarded a shi...</td>\n      <td>The robbers took hostage and tied up one of th...</td>\n      <td>Alarm raised and crew mustered</td>\n      <td>True</td>\n      <td>VTIS Singapore</td>\n      <td>NaN</td>\n      <td>1</td>\n      <td>0</td>\n      <td>1</td>\n      <td>0</td>\n    </tr>\n    <tr>\n      <th>8552</th>\n      <td>2024-01-12</td>\n      <td>Solar Roma</td>\n      <td>Product tanker</td>\n      <td>9887372</td>\n      <td>In port area</td>\n      <td>1° 43.29' N</td>\n      <td>101° 25.72' E</td>\n      <td>Duty security patrol onboard an anchored tanke...</td>\n      <td>Nil</td>\n      <td>Alarm raised</td>\n      <td>True</td>\n      <td>Dumai port control</td>\n      <td>NaN</td>\n      <td>0</td>\n      <td>0</td>\n      <td>0</td>\n      <td>0</td>\n    </tr>\n    <tr>\n      <th>8553</th>\n      <td>2024-01-14</td>\n      <td>Name Withheld</td>\n      <td>Oil tanker</td>\n      <td>NaN</td>\n      <td>In port area</td>\n      <td>21° 50.84' N</td>\n      <td>91° 41.84' E</td>\n      <td>D/O onboard an anchored tanker noticed a small...</td>\n      <td>Nil</td>\n      <td>Alarm raised, and crew mustered</td>\n      <td>True</td>\n      <td>Port control and Coast Guard</td>\n      <td>NaN</td>\n      <td>0</td>\n      <td>0</td>\n      <td>0</td>\n      <td>0</td>\n    </tr>\n    <tr>\n      <th>8554</th>\n      <td>2024-01-14</td>\n      <td>Name Withheld</td>\n      <td>Supply ship</td>\n      <td>NaN</td>\n      <td>In port area</td>\n      <td>6° 05.00' S</td>\n      <td>12° 15.00' E</td>\n      <td>Unnoticed, thieves boarded an anchored offshor...</td>\n      <td>Ship’s properties stolen</td>\n      <td>Nil</td>\n      <td>True</td>\n      <td>NaN</td>\n      <td>NaN</td>\n      <td>1</td>\n      <td>0</td>\n      <td>0</td>\n      <td>0</td>\n    </tr>\n    <tr>\n      <th>8555</th>\n      <td>2024-01-25</td>\n      <td>Aurora Diamond</td>\n      <td>Supply ship</td>\n      <td>9648025</td>\n      <td>In port area</td>\n      <td>8° 44.40' S</td>\n      <td>13° 17.20' E</td>\n      <td>Unauthorised persons boarded an anchored offsh...</td>\n      <td>Ship’s store stolen</td>\n      <td>Search light switched on</td>\n      <td>True</td>\n      <td>Port control</td>\n      <td>NaN</td>\n      <td>1</td>\n      <td>0</td>\n      <td>0</td>\n      <td>0</td>\n    </tr>\n  </tbody>\n</table>\n<p>8551 rows × 17 columns</p>\n</div>"
     },
     "execution_count": 65,
     "metadata": {},
     "output_type": "execute_result"
    }
   ],
   "source": [
    "# Apply our nlp to the entire dataset\n",
    "piracy_df_imo = model_interpreter(piracy_df_imo, 'Incident details', nlp_custom)\n",
    "piracy_df_imo"
   ],
   "metadata": {
    "collapsed": false,
    "ExecuteTime": {
     "end_time": "2024-03-17T21:56:45.153513Z",
     "start_time": "2024-03-17T21:52:07.642631Z"
    }
   },
   "id": "5509bebf7983bc4a",
   "execution_count": 65
  },
  {
   "cell_type": "code",
   "outputs": [
    {
     "data": {
      "text/plain": "                                       Incident details  BOARDED  HIJACKED  \\\n0     Ship boarded by seven men armed with big cable...        0         0   \n1     Twenty-six bandits posing as Coast Guard hijac...        1         1   \n2     6-7 pirates wearing masks, armed with pistols ...        0         0   \n3     Ship attacked with mortar shells which fell ab...        0         0   \n4     Boat opened fire on ship after trying unsucces...        0         0   \n...                                                 ...      ...       ...   \n8551  Five robbers armed with a knife, boarded a shi...        1         0   \n8552  Duty security patrol onboard an anchored tanke...        0         0   \n8553  D/O onboard an anchored tanker noticed a small...        0         0   \n8554  Unnoticed, thieves boarded an anchored offshor...        1         0   \n8555  Unauthorised persons boarded an anchored offsh...        1         0   \n\n      HOSTAGES_TAKEN  CREW_ASSAULTED  \n0                  0               0  \n1                  0               0  \n2                  0               0  \n3                  0               0  \n4                  0               0  \n...              ...             ...  \n8551               1               0  \n8552               0               0  \n8553               0               0  \n8554               0               0  \n8555               0               0  \n\n[8551 rows x 5 columns]",
      "text/html": "<div>\n<style scoped>\n    .dataframe tbody tr th:only-of-type {\n        vertical-align: middle;\n    }\n\n    .dataframe tbody tr th {\n        vertical-align: top;\n    }\n\n    .dataframe thead th {\n        text-align: right;\n    }\n</style>\n<table border=\"1\" class=\"dataframe\">\n  <thead>\n    <tr style=\"text-align: right;\">\n      <th></th>\n      <th>Incident details</th>\n      <th>BOARDED</th>\n      <th>HIJACKED</th>\n      <th>HOSTAGES_TAKEN</th>\n      <th>CREW_ASSAULTED</th>\n    </tr>\n  </thead>\n  <tbody>\n    <tr>\n      <th>0</th>\n      <td>Ship boarded by seven men armed with big cable...</td>\n      <td>0</td>\n      <td>0</td>\n      <td>0</td>\n      <td>0</td>\n    </tr>\n    <tr>\n      <th>1</th>\n      <td>Twenty-six bandits posing as Coast Guard hijac...</td>\n      <td>1</td>\n      <td>1</td>\n      <td>0</td>\n      <td>0</td>\n    </tr>\n    <tr>\n      <th>2</th>\n      <td>6-7 pirates wearing masks, armed with pistols ...</td>\n      <td>0</td>\n      <td>0</td>\n      <td>0</td>\n      <td>0</td>\n    </tr>\n    <tr>\n      <th>3</th>\n      <td>Ship attacked with mortar shells which fell ab...</td>\n      <td>0</td>\n      <td>0</td>\n      <td>0</td>\n      <td>0</td>\n    </tr>\n    <tr>\n      <th>4</th>\n      <td>Boat opened fire on ship after trying unsucces...</td>\n      <td>0</td>\n      <td>0</td>\n      <td>0</td>\n      <td>0</td>\n    </tr>\n    <tr>\n      <th>...</th>\n      <td>...</td>\n      <td>...</td>\n      <td>...</td>\n      <td>...</td>\n      <td>...</td>\n    </tr>\n    <tr>\n      <th>8551</th>\n      <td>Five robbers armed with a knife, boarded a shi...</td>\n      <td>1</td>\n      <td>0</td>\n      <td>1</td>\n      <td>0</td>\n    </tr>\n    <tr>\n      <th>8552</th>\n      <td>Duty security patrol onboard an anchored tanke...</td>\n      <td>0</td>\n      <td>0</td>\n      <td>0</td>\n      <td>0</td>\n    </tr>\n    <tr>\n      <th>8553</th>\n      <td>D/O onboard an anchored tanker noticed a small...</td>\n      <td>0</td>\n      <td>0</td>\n      <td>0</td>\n      <td>0</td>\n    </tr>\n    <tr>\n      <th>8554</th>\n      <td>Unnoticed, thieves boarded an anchored offshor...</td>\n      <td>1</td>\n      <td>0</td>\n      <td>0</td>\n      <td>0</td>\n    </tr>\n    <tr>\n      <th>8555</th>\n      <td>Unauthorised persons boarded an anchored offsh...</td>\n      <td>1</td>\n      <td>0</td>\n      <td>0</td>\n      <td>0</td>\n    </tr>\n  </tbody>\n</table>\n<p>8551 rows × 5 columns</p>\n</div>"
     },
     "execution_count": 66,
     "metadata": {},
     "output_type": "execute_result"
    }
   ],
   "source": [
    "piracy_df_imo.loc[:, ['Incident details', 'BOARDED', 'HIJACKED', 'HOSTAGES_TAKEN', 'CREW_ASSAULTED']]"
   ],
   "metadata": {
    "collapsed": false,
    "ExecuteTime": {
     "end_time": "2024-03-17T21:58:35.473467Z",
     "start_time": "2024-03-17T21:58:35.448329Z"
    }
   },
   "id": "92166f397871078",
   "execution_count": 66
  },
  {
   "cell_type": "code",
   "outputs": [],
   "source": [
    "hijack_example = \"Twelve pirates armed with rifles and pistols attacked the fishing vessel, while underway.  Five pirates boarded, hijacked the vessel and demanded payment.  Crew managed to overpower the pirates and handed them over to the Philippines National Police\"\n",
    "boarded_example = \"Three robbers armed with long knives boarded an anchored tanker during heavy rain. They entered the engine room, threatened the duty engineer and stole ship's engine spares. Incident reported to the OOW who raised the alarm resulting in the robbers escaping in a waiting boat along with two accomplices. Incident reported to VTS.\"\n",
    "hijack_doc = nlp_custom(hijack_example)\n",
    "boarded_doc = nlp_custom(boarded_example)"
   ],
   "metadata": {
    "collapsed": false,
    "ExecuteTime": {
     "end_time": "2024-03-17T23:20:26.112146Z",
     "start_time": "2024-03-17T23:20:25.998054Z"
    }
   },
   "id": "dff938af58078ef8",
   "execution_count": 68
  },
  {
   "cell_type": "code",
   "outputs": [
    {
     "data": {
      "text/plain": "<IPython.core.display.HTML object>",
      "text/html": "<span class=\"tex2jax_ignore\"><div class=\"spans\" style=\"line-height: 2.5; direction: ltr\">Twelve pirates armed with rifles and pistols attacked the fishing vessel , while underway .   \n<span style=\"font-weight: bold; display: inline-block; position: relative; height: 60px;\">\n    Five\n    \n<span style=\"background: #ddd; top: 40px; height: 4px; left: -1px; width: calc(100% + 2px); position: absolute;\">\n</span>\n\n    \n<span style=\"background: #ddd; top: 40px; height: 4px; border-top-left-radius: 3px; border-bottom-left-radius: 3px; left: -1px; width: calc(100% + 2px); position: absolute;\">\n    <span style=\"background: #ddd; z-index: 10; color: #000; top: -0.5em; padding: 2px 3px; position: absolute; font-size: 0.6em; font-weight: bold; line-height: 1; border-radius: 3px\">\n        BOARDED\n    </span>\n</span>\n\n\n</span>\n\n<span style=\"font-weight: bold; display: inline-block; position: relative; height: 94px;\">\n    pirates\n    \n<span style=\"background: #ddd; top: 40px; height: 4px; left: -1px; width: calc(100% + 2px); position: absolute;\">\n</span>\n\n<span style=\"background: #ddd; top: 57px; height: 4px; left: -1px; width: calc(100% + 2px); position: absolute;\">\n</span>\n\n<span style=\"background: #ddd; top: 74px; height: 4px; left: -1px; width: calc(100% + 2px); position: absolute;\">\n</span>\n\n    \n<span style=\"background: #ddd; top: 57px; height: 4px; border-top-left-radius: 3px; border-bottom-left-radius: 3px; left: -1px; width: calc(100% + 2px); position: absolute;\">\n    <span style=\"background: #ddd; z-index: 10; color: #000; top: -0.5em; padding: 2px 3px; position: absolute; font-size: 0.6em; font-weight: bold; line-height: 1; border-radius: 3px\">\n        BOARDED\n    </span>\n</span>\n\n\n<span style=\"background: #ddd; top: 74px; height: 4px; border-top-left-radius: 3px; border-bottom-left-radius: 3px; left: -1px; width: calc(100% + 2px); position: absolute;\">\n    <span style=\"background: #ddd; z-index: 10; color: #000; top: -0.5em; padding: 2px 3px; position: absolute; font-size: 0.6em; font-weight: bold; line-height: 1; border-radius: 3px\">\n        BOARDED\n    </span>\n</span>\n\n\n</span>\n\n<span style=\"font-weight: bold; display: inline-block; position: relative; height: 94px;\">\n    boarded\n    \n<span style=\"background: #ddd; top: 40px; height: 4px; left: -1px; width: calc(100% + 2px); position: absolute;\">\n</span>\n\n<span style=\"background: #ddd; top: 57px; height: 4px; left: -1px; width: calc(100% + 2px); position: absolute;\">\n</span>\n\n<span style=\"background: #ddd; top: 74px; height: 4px; left: -1px; width: calc(100% + 2px); position: absolute;\">\n</span>\n\n    \n</span>\n\n<span style=\"font-weight: bold; display: inline-block; position: relative; height: 60px;\">\n    ,\n    \n<span style=\"background: #ddd; top: 57px; height: 4px; left: -1px; width: calc(100% + 2px); position: absolute;\">\n</span>\n\n    \n</span>\n\n<span style=\"font-weight: bold; display: inline-block; position: relative; height: 77px;\">\n    hijacked\n    \n<span style=\"background: #ddd; top: 40px; height: 4px; left: -1px; width: calc(100% + 2px); position: absolute;\">\n</span>\n\n<span style=\"background: #ddd; top: 57px; height: 4px; left: -1px; width: calc(100% + 2px); position: absolute;\">\n</span>\n\n    \n<span style=\"background: #ddd; top: 40px; height: 4px; border-top-left-radius: 3px; border-bottom-left-radius: 3px; left: -1px; width: calc(100% + 2px); position: absolute;\">\n    <span style=\"background: #ddd; z-index: 10; color: #000; top: -0.5em; padding: 2px 3px; position: absolute; font-size: 0.6em; font-weight: bold; line-height: 1; border-radius: 3px\">\n        BOARDED\n    </span>\n</span>\n\n\n<span style=\"background: #ddd; top: 57px; height: 4px; border-top-left-radius: 3px; border-bottom-left-radius: 3px; left: -1px; width: calc(100% + 2px); position: absolute;\">\n    <span style=\"background: #ddd; z-index: 10; color: #000; top: -0.5em; padding: 2px 3px; position: absolute; font-size: 0.6em; font-weight: bold; line-height: 1; border-radius: 3px\">\n        HIJACKED\n    </span>\n</span>\n\n\n</span>\nthe vessel and demanded payment .   Crew managed to overpower the pirates and handed them over to the Philippines National Police </div>\n\n<div class=\"spans\" style=\"line-height: 2.5; direction: ltr\">Three robbers armed with \n<span style=\"font-weight: bold; display: inline-block; position: relative; height: 60px;\">\n    long\n    \n<span style=\"background: #ddd; top: 40px; height: 4px; left: -1px; width: calc(100% + 2px); position: absolute;\">\n</span>\n\n    \n<span style=\"background: #ddd; top: 40px; height: 4px; border-top-left-radius: 3px; border-bottom-left-radius: 3px; left: -1px; width: calc(100% + 2px); position: absolute;\">\n    <span style=\"background: #ddd; z-index: 10; color: #000; top: -0.5em; padding: 2px 3px; position: absolute; font-size: 0.6em; font-weight: bold; line-height: 1; border-radius: 3px\">\n        BOARDED\n    </span>\n</span>\n\n\n</span>\n\n<span style=\"font-weight: bold; display: inline-block; position: relative; height: 60px;\">\n    knives\n    \n<span style=\"background: #ddd; top: 40px; height: 4px; left: -1px; width: calc(100% + 2px); position: absolute;\">\n</span>\n\n    \n</span>\n\n<span style=\"font-weight: bold; display: inline-block; position: relative; height: 60px;\">\n    boarded\n    \n<span style=\"background: #ddd; top: 40px; height: 4px; left: -1px; width: calc(100% + 2px); position: absolute;\">\n</span>\n\n    \n</span>\nan anchored tanker during heavy rain . They entered the engine room , threatened the duty engineer and stole ship 's engine spares . Incident reported to the OOW who raised the alarm resulting in the \n<span style=\"font-weight: bold; display: inline-block; position: relative; height: 60px;\">\n    robbers\n    \n<span style=\"background: #ddd; top: 40px; height: 4px; left: -1px; width: calc(100% + 2px); position: absolute;\">\n</span>\n\n    \n<span style=\"background: #ddd; top: 40px; height: 4px; border-top-left-radius: 3px; border-bottom-left-radius: 3px; left: -1px; width: calc(100% + 2px); position: absolute;\">\n    <span style=\"background: #ddd; z-index: 10; color: #000; top: -0.5em; padding: 2px 3px; position: absolute; font-size: 0.6em; font-weight: bold; line-height: 1; border-radius: 3px\">\n        BOARDED\n    </span>\n</span>\n\n\n</span>\n\n<span style=\"font-weight: bold; display: inline-block; position: relative; height: 60px;\">\n    escaping\n    \n<span style=\"background: #ddd; top: 40px; height: 4px; left: -1px; width: calc(100% + 2px); position: absolute;\">\n</span>\n\n    \n</span>\nin a waiting boat along with two accomplices . Incident reported to VTS . </div></span>"
     },
     "metadata": {},
     "output_type": "display_data"
    }
   ],
   "source": [
    "displacy.render([hijack_doc, boarded_doc], style='span')"
   ],
   "metadata": {
    "collapsed": false,
    "ExecuteTime": {
     "end_time": "2024-03-17T23:20:26.270553Z",
     "start_time": "2024-03-17T23:20:26.242016Z"
    }
   },
   "id": "e25507a6d517715d",
   "execution_count": 69
  },
  {
   "cell_type": "code",
   "outputs": [],
   "source": [],
   "metadata": {
    "collapsed": false
   },
   "id": "9d9348c19bbb0d15"
  }
 ],
 "metadata": {
  "kernelspec": {
   "display_name": "Python 3",
   "language": "python",
   "name": "python3"
  },
  "language_info": {
   "codemirror_mode": {
    "name": "ipython",
    "version": 2
   },
   "file_extension": ".py",
   "mimetype": "text/x-python",
   "name": "python",
   "nbconvert_exporter": "python",
   "pygments_lexer": "ipython2",
   "version": "2.7.6"
  }
 },
 "nbformat": 4,
 "nbformat_minor": 5
}
